{
 "cells": [
  {
   "cell_type": "markdown",
   "id": "de9dea28-7115-4827-961f-3dcc2e7ea628",
   "metadata": {
    "tags": []
   },
   "source": [
    "# Debug"
   ]
  },
  {
   "cell_type": "code",
   "execution_count": null,
   "id": "dc60eae4-4666-4538-a587-8dca2e9b716f",
   "metadata": {},
   "outputs": [],
   "source": [
    "# 파이썬 디버깅 방법\n",
    "# 1. 헤더는 주석처리한다.\n",
    "# 2. 로직은 shift + tab으로 땡긴다.\n",
    "# 3. i 값을 위에 선언 후 돌려본다. 하나씩!\n",
    "# 4. 코드 오류를 수정한다"
   ]
  },
  {
   "cell_type": "markdown",
   "id": "fc72856e-2580-4fe9-809f-ef42462ac001",
   "metadata": {
    "tags": []
   },
   "source": [
    "## ex.1 columnList -> newColumnList"
   ]
  },
  {
   "cell_type": "code",
   "execution_count": null,
   "id": "fc7eee09-fcc8-456e-b64f-6fcec3659bc6",
   "metadata": {},
   "outputs": [],
   "source": [
    "# ex.1 columnList -> newColumnList\n",
    "# columnList = ['이%%름', '학번$$', '이메일##@']\n",
    "# newColumnList = ['이름', '학번', '이메일']"
   ]
  },
  {
   "cell_type": "code",
   "execution_count": 22,
   "id": "89f64ed7-2d24-421d-a65c-619cf62ca5df",
   "metadata": {},
   "outputs": [],
   "source": [
    "columnList = ['이%%름', '학번$$', '이메일##@']"
   ]
  },
  {
   "cell_type": "code",
   "execution_count": 25,
   "id": "7efb65d1-cde7-4a5c-8037-cf302cfc59f3",
   "metadata": {},
   "outputs": [],
   "source": [
    "i = 0"
   ]
  },
  {
   "cell_type": "code",
   "execution_count": 26,
   "id": "8a865c87-81cd-42fc-99ec-c628c817844f",
   "metadata": {},
   "outputs": [
    {
     "data": {
      "text/plain": [
       "['이름', '학번$$', '이메일##@']"
      ]
     },
     "execution_count": 26,
     "metadata": {},
     "output_type": "execute_result"
    }
   ],
   "source": [
    "# for i in range (0,len(columnList)):\n",
    "columnList[i] = columnList[i].replace(\"%\",\"\")\n",
    "columnList # ['이름', '학번$$', '이메일##@']"
   ]
  },
  {
   "cell_type": "code",
   "execution_count": 27,
   "id": "7c0f22ce-9121-4de5-82ab-386f9e9a69cf",
   "metadata": {},
   "outputs": [],
   "source": [
    "i = 1"
   ]
  },
  {
   "cell_type": "code",
   "execution_count": 29,
   "id": "8c13569c-e435-45fd-8dac-7dcf51910a9d",
   "metadata": {},
   "outputs": [
    {
     "data": {
      "text/plain": [
       "['이름', '학번', '이메일##@']"
      ]
     },
     "execution_count": 29,
     "metadata": {},
     "output_type": "execute_result"
    }
   ],
   "source": [
    "# for i in range (0,len(columnList)):\n",
    "columnList[i] = columnList[i].replace(\"%\",\"\")\n",
    "columnList[i] = columnList[i].replace(\"$\",\"\")\n",
    "columnList # ['이름', '학번', '이메일##@']"
   ]
  },
  {
   "cell_type": "code",
   "execution_count": 30,
   "id": "ad42fc84-2e68-4faf-9a6c-0e8297ef6e3d",
   "metadata": {},
   "outputs": [],
   "source": [
    "i = 2"
   ]
  },
  {
   "cell_type": "code",
   "execution_count": 31,
   "id": "2e360f82-cff4-4acb-a3f2-157cbe20a47f",
   "metadata": {},
   "outputs": [
    {
     "data": {
      "text/plain": [
       "['이름', '학번', '이메일']"
      ]
     },
     "execution_count": 31,
     "metadata": {},
     "output_type": "execute_result"
    }
   ],
   "source": [
    "# for i in range (0,len(columnList)):\n",
    "columnList[i] = columnList[i].replace(\"%\",\"\")\n",
    "columnList[i] = columnList[i].replace(\"$\",\"\")\n",
    "columnList[i] = columnList[i].replace(\"@\",\"\")\n",
    "columnList[i] = columnList[i].replace(\"#\",\"\")\n",
    "columnList # ['이름', '학번', '이메일']"
   ]
  },
  {
   "cell_type": "markdown",
   "id": "b91f681f-2150-4dff-b1c9-d1fc3a81c486",
   "metadata": {
    "tags": []
   },
   "source": [
    "## ex.1 result"
   ]
  },
  {
   "cell_type": "code",
   "execution_count": 33,
   "id": "5383fa81-fbdf-463a-b5e9-fb5a8ba01419",
   "metadata": {},
   "outputs": [
    {
     "data": {
      "text/plain": [
       "['이름', '학번', '이메일']"
      ]
     },
     "execution_count": 33,
     "metadata": {},
     "output_type": "execute_result"
    }
   ],
   "source": [
    " for i in range (0,len(columnList)):\n",
    "    columnList[i] = columnList[i].replace(\"%\",\"\")\n",
    "    columnList[i] = columnList[i].replace(\"$\",\"\")\n",
    "    columnList[i] = columnList[i].replace(\"@\",\"\")\n",
    "    columnList[i] = columnList[i].replace(\"#\",\"\")\n",
    "columnList # ['이름', '학번', '이메일']"
   ]
  },
  {
   "cell_type": "markdown",
   "id": "dc31cf53-d02c-4a02-890b-00715974e6e0",
   "metadata": {
    "tags": []
   },
   "source": [
    "### ex.2 targetItem에서 특수문자 제거, 문자열 추가"
   ]
  },
  {
   "cell_type": "code",
   "execution_count": null,
   "id": "46ea0999-2bf5-4d69-ac3e-f31e8cbbaf28",
   "metadata": {},
   "outputs": [],
   "source": [
    "# ex.2 columnList -> newColumnList\n",
    "# targetItem = [\"EN00#1\", \"EN0$02\", \"EN%003\"]\n",
    "# newtargetItem = [\"LEDTV_EN00#1\", \"LEDTV_EN0$02\", \"LEDTV_EN%003\"]"
   ]
  },
  {
   "cell_type": "code",
   "execution_count": 46,
   "id": "5e19a94e-df4f-497c-b034-455c549b6949",
   "metadata": {},
   "outputs": [],
   "source": [
    "targetItem = [\"EN00#1\", \"EN0$02\", \"EN%003\"]\n",
    "preFix = \"LEDTV_\""
   ]
  },
  {
   "cell_type": "code",
   "execution_count": 47,
   "id": "ed9038d7-1914-439d-b6f8-1d657c9c2355",
   "metadata": {},
   "outputs": [],
   "source": [
    "i=0"
   ]
  },
  {
   "cell_type": "code",
   "execution_count": 48,
   "id": "45f04042-a75b-4ee4-ba7c-d4f17ac5fdcb",
   "metadata": {},
   "outputs": [],
   "source": [
    "targetItem[i] = preFix + targetItem[i].replace(\"#\",\"\") \n",
    "targetItem # ['LEDTV=LEDTV=EN001', 'EN0$02', 'EN%003']"
   ]
  },
  {
   "cell_type": "code",
   "execution_count": 50,
   "id": "a48af83d-9c92-4be8-94ad-93458a256809",
   "metadata": {},
   "outputs": [],
   "source": [
    "i=1"
   ]
  },
  {
   "cell_type": "code",
   "execution_count": 51,
   "id": "f1a69271-28a9-45ca-be86-56aa7a271d9a",
   "metadata": {},
   "outputs": [
    {
     "data": {
      "text/plain": [
       "['LEDTV_EN001', 'LEDTV_EN002', 'EN%003']"
      ]
     },
     "execution_count": 51,
     "metadata": {},
     "output_type": "execute_result"
    }
   ],
   "source": [
    "targetItem[i] = targetItem[i].replace(\"$\",\"\") \n",
    "targetItem[i] = preFix + targetItem[i].replace(\"#\",\"\") \n",
    "targetItem # ['LEDTV_EN001', 'LEDTV_EN002', 'EN%003']"
   ]
  },
  {
   "cell_type": "code",
   "execution_count": 54,
   "id": "a048ad67-87e5-427c-8ebc-ae7df5daceb4",
   "metadata": {},
   "outputs": [],
   "source": [
    "i=2"
   ]
  },
  {
   "cell_type": "code",
   "execution_count": 55,
   "id": "ba9d1668-2fa9-4e1c-970a-7ea24a282f06",
   "metadata": {},
   "outputs": [
    {
     "data": {
      "text/plain": [
       "['LEDTV_EN001', 'LEDTV_EN002', 'LEDTV_EN003']"
      ]
     },
     "execution_count": 55,
     "metadata": {},
     "output_type": "execute_result"
    }
   ],
   "source": [
    "targetItem[i] = targetItem[i].replace(\"%\",\"\") \n",
    "targetItem[i] = targetItem[i].replace(\"$\",\"\") \n",
    "targetItem[i] = preFix + targetItem[i].replace(\"#\",\"\") \n",
    "targetItem # ['LEDTV_EN001', 'LEDTV_EN002', 'LEDTV_EN003']"
   ]
  },
  {
   "cell_type": "markdown",
   "id": "542776e1-4152-4b7e-96bb-18d233a71e73",
   "metadata": {},
   "source": [
    "## ex.2 result"
   ]
  },
  {
   "cell_type": "code",
   "execution_count": 62,
   "id": "84f966ee-3862-435b-84d5-8a3ffbf961eb",
   "metadata": {},
   "outputs": [
    {
     "data": {
      "text/plain": [
       "['LEDTV_EN001', 'LEDTV_EN002', 'LEDTV_EN003']"
      ]
     },
     "execution_count": 62,
     "metadata": {},
     "output_type": "execute_result"
    }
   ],
   "source": [
    "targetItem = [\"EN00#1\", \"EN0$02\", \"EN%003\"]\n",
    "preFix = \"LEDTV_\"\n",
    "for i in range(0, len(targetItem)):\n",
    "    targetItem[i] = targetItem[i].replace(\"#\",\"\")\n",
    "    targetItem[i] = targetItem[i].replace(\"$\",\"\")\n",
    "    targetItem[i] = targetItem[i].replace(\"%\",\"\")\n",
    "    targetItem[i] = preFix + targetItem[i]\n",
    "targetItem # ['LEDTV_EN001', 'LEDTV_EN002', 'LEDTV_EN003']"
   ]
  },
  {
   "cell_type": "code",
   "execution_count": null,
   "id": "5e4b4d7a-0330-49c5-8fa0-1914d0e59add",
   "metadata": {},
   "outputs": [],
   "source": [
    "# ex.3 columnList -> newColumnList"
   ]
  }
 ],
 "metadata": {
  "kernelspec": {
   "display_name": "Python 3 (ipykernel)",
   "language": "python",
   "name": "python3"
  },
  "language_info": {
   "codemirror_mode": {
    "name": "ipython",
    "version": 3
   },
   "file_extension": ".py",
   "mimetype": "text/x-python",
   "name": "python",
   "nbconvert_exporter": "python",
   "pygments_lexer": "ipython3",
   "version": "3.9.13"
  }
 },
 "nbformat": 4,
 "nbformat_minor": 5
}
