{
 "cells": [
  {
   "cell_type": "markdown",
   "id": "ce10909e-3631-4790-a4bb-de6b50f2d05a",
   "metadata": {
    "tags": []
   },
   "source": [
    "# 디버깅 연습"
   ]
  },
  {
   "cell_type": "code",
   "execution_count": null,
   "id": "d0aaf094-184c-47e1-952a-a19a9ff803c4",
   "metadata": {},
   "outputs": [],
   "source": [
    "# tvList2 = [ 'UN40EN001', 'LEDTV_UN40EN002',\n",
    "#'LEDTV_LEDTV_UN40EN003’, ‘ledtv_UN40EN004’]\n",
    "# 리스트에서 LEDTV_가 한 개만 앞에 붙도록 하세요\n",
    "# (* 대소문자 구분없이 전부 처리!)"
   ]
  },
  {
   "cell_type": "code",
   "execution_count": 283,
   "id": "4d5466ff-3078-48db-a346-ad66b40ddd25",
   "metadata": {},
   "outputs": [
    {
     "data": {
      "text/plain": [
       "['LEDTV_UN40EN001', 'LEDTV_UN40EN002', 'LEDTV_UN40EN003', 'LEDTV_UN40EN004']"
      ]
     },
     "execution_count": 283,
     "metadata": {},
     "output_type": "execute_result"
    }
   ],
   "source": [
    "tvList2 = [\"UN40EN001\", \"LEDTV_UN40EN002\",\"LEDTV_LEDTV_UN40EN003\", \"ledtv_UN40EN004\"]\n",
    "\n",
    "for i in range (0, len(tvList2)):\n",
    "    tvList2[i] = tvList2[i].upper()\n",
    "\n",
    "preFix = \"LEDTV_\"\n",
    "\n",
    "tvList2\n",
    "\n",
    "for i in range(0,len(tvList2)) : \n",
    "    if tvList2[i].count(preFix)==0:\n",
    "        tvList2[i] = preFix+ tvList2[i]\n",
    "    elif tvList2[i].count(preFix) >= 1:\n",
    "        tvList2[i] = preFix + tvList2[i].replace(\"LEDTV_\",\"\")\n",
    "    else :\n",
    "        pass\n",
    "\n",
    "tvList2"
   ]
  },
  {
   "cell_type": "code",
   "execution_count": null,
   "id": "1ccffb65-ae52-4c23-923b-0646906ab87d",
   "metadata": {},
   "outputs": [],
   "source": []
  },
  {
   "cell_type": "code",
   "execution_count": null,
   "id": "df0bb706-31e3-46c2-bba4-8d23f369da08",
   "metadata": {},
   "outputs": [],
   "source": [
    "# 아래는 디버깅 해가면서 결과 찾아가는 과정"
   ]
  },
  {
   "cell_type": "code",
   "execution_count": null,
   "id": "22034ec4-efe1-4cd9-aef5-fe7f73db6d5a",
   "metadata": {},
   "outputs": [],
   "source": []
  },
  {
   "cell_type": "code",
   "execution_count": 267,
   "id": "a48f613c-8432-4550-8a6e-66ce7b549987",
   "metadata": {},
   "outputs": [],
   "source": [
    "tvList2 = [\"UN40EN001\", \"LEDTV_UN40EN002\",\"LEDTV_LEDTV_UN40EN003\", \"ledtv_UN40EN004\"]"
   ]
  },
  {
   "cell_type": "code",
   "execution_count": 268,
   "id": "2c0cd979-8c5f-4855-92f5-a6e722b472f1",
   "metadata": {},
   "outputs": [],
   "source": [
    "for i in range (0, len(tvList2)):\n",
    "    tvList2[i] = tvList2[i].upper()"
   ]
  },
  {
   "cell_type": "code",
   "execution_count": 269,
   "id": "7cbce70a-5255-4840-900d-009cc08586ae",
   "metadata": {},
   "outputs": [],
   "source": [
    "preFix = \"LEDTV_\""
   ]
  },
  {
   "cell_type": "code",
   "execution_count": 270,
   "id": "16762ea0-8643-4f9e-9fe4-04d062f4dae2",
   "metadata": {},
   "outputs": [],
   "source": [
    "i = 0"
   ]
  },
  {
   "cell_type": "code",
   "execution_count": 271,
   "id": "409a9306-39ad-4b0f-94b9-25eb49d04cfb",
   "metadata": {},
   "outputs": [],
   "source": [
    "if tvList2[i].count(\"LEDTV_\")==0:\n",
    "    tvList2[i] = preFix+ tvList2[i]"
   ]
  },
  {
   "cell_type": "code",
   "execution_count": 272,
   "id": "6d8dd243-8afb-4a0c-8501-e231b17da5f5",
   "metadata": {},
   "outputs": [
    {
     "data": {
      "text/plain": [
       "['LEDTV_UN40EN001',\n",
       " 'LEDTV_UN40EN002',\n",
       " 'LEDTV_LEDTV_UN40EN003',\n",
       " 'LEDTV_UN40EN004']"
      ]
     },
     "execution_count": 272,
     "metadata": {},
     "output_type": "execute_result"
    }
   ],
   "source": [
    "tvList2 # ['LEDTV_UN40EN001', 'LEDTV_UN40EN002', 'LEDTV_LEDTV_UN40EN003', 'LEDTV_UN40EN004']"
   ]
  },
  {
   "cell_type": "code",
   "execution_count": 273,
   "id": "51750347-ef52-4f71-ab25-67271a91f504",
   "metadata": {},
   "outputs": [],
   "source": [
    "i = 1"
   ]
  },
  {
   "cell_type": "code",
   "execution_count": 274,
   "id": "0bda379f-039d-40e3-b9ab-5764a6972039",
   "metadata": {},
   "outputs": [],
   "source": [
    "if tvList2[i].count(\"LEDTV_\")==0:\n",
    "    tvList2[i] = preFix+ tvList2[i]"
   ]
  },
  {
   "cell_type": "code",
   "execution_count": 275,
   "id": "3dd8ff71-32eb-46d6-b4e6-299d615ecacb",
   "metadata": {},
   "outputs": [
    {
     "data": {
      "text/plain": [
       "['LEDTV_UN40EN001',\n",
       " 'LEDTV_UN40EN002',\n",
       " 'LEDTV_LEDTV_UN40EN003',\n",
       " 'LEDTV_UN40EN004']"
      ]
     },
     "execution_count": 275,
     "metadata": {},
     "output_type": "execute_result"
    }
   ],
   "source": [
    "tvList2"
   ]
  },
  {
   "cell_type": "code",
   "execution_count": 276,
   "id": "f1c0c79c-be2b-406b-a506-913e118a7939",
   "metadata": {},
   "outputs": [],
   "source": [
    "i = 2 "
   ]
  },
  {
   "cell_type": "code",
   "execution_count": 277,
   "id": "d4552d3b-cedf-4a0c-9448-5eb1b088c711",
   "metadata": {},
   "outputs": [],
   "source": [
    "if tvList2[i].count(\"LEDTV_\")==0:\n",
    "    tvList2[i] = preFix+ tvList2[i]\n",
    "elif tvList2[i].count(\"LEDTV_\") >= 1:\n",
    "    tvList2[i] = tvList2[i].replace(\"LEDTV_\",\"\")\n",
    "    tvList2[i] = preFix + tvList2[i]\n",
    "else :\n",
    "    pass"
   ]
  },
  {
   "cell_type": "code",
   "execution_count": 278,
   "id": "318cba8d-537d-47f1-87c0-d6fe1281c589",
   "metadata": {},
   "outputs": [
    {
     "data": {
      "text/plain": [
       "['LEDTV_UN40EN001', 'LEDTV_UN40EN002', 'LEDTV_UN40EN003', 'LEDTV_UN40EN004']"
      ]
     },
     "execution_count": 278,
     "metadata": {},
     "output_type": "execute_result"
    }
   ],
   "source": [
    "tvList2 # ['LEDTV_UN40EN001', 'LEDTV_UN40EN002', 'LEDTV_UN40EN003', 'LEDTV_UN40EN004']"
   ]
  },
  {
   "cell_type": "code",
   "execution_count": 279,
   "id": "83d7243d-bf92-48a3-b71f-3f63bb5bf3fe",
   "metadata": {},
   "outputs": [],
   "source": [
    "i = 3"
   ]
  },
  {
   "cell_type": "code",
   "execution_count": 280,
   "id": "9bcd87ea-aa75-4545-ac24-36066707cace",
   "metadata": {},
   "outputs": [],
   "source": [
    "if tvList2[i].count(\"LEDTV_\")==0:\n",
    "    tvList2[i] = preFix+ tvList2[i]\n",
    "elif tvList2[i].count(\"LEDTV_\") >= 1:\n",
    "    tvList2[i] = tvList2[i].replace(\"LEDTV_\",\"\")\n",
    "    tvList2[i] = preFix + tvList2[i]\n",
    "else :\n",
    "    pass"
   ]
  },
  {
   "cell_type": "code",
   "execution_count": 281,
   "id": "96724c33-eb58-40c9-8a47-219210623a4d",
   "metadata": {},
   "outputs": [
    {
     "data": {
      "text/plain": [
       "['LEDTV_UN40EN001', 'LEDTV_UN40EN002', 'LEDTV_UN40EN003', 'LEDTV_UN40EN004']"
      ]
     },
     "execution_count": 281,
     "metadata": {},
     "output_type": "execute_result"
    }
   ],
   "source": [
    "tvList2"
   ]
  },
  {
   "cell_type": "code",
   "execution_count": null,
   "id": "40fe8de2-7cb1-495e-a508-5e6a659d0c8d",
   "metadata": {},
   "outputs": [],
   "source": []
  },
  {
   "cell_type": "code",
   "execution_count": 262,
   "id": "e0f26d52-773b-47bd-8989-aa7cdf8c30ba",
   "metadata": {},
   "outputs": [
    {
     "data": {
      "text/plain": [
       "['LEDTV_UN40EN001', 'LEDTV_UN40EN002', 'LEDTV_UN40EN003', 'LEDTV_UN40EN004']"
      ]
     },
     "execution_count": 262,
     "metadata": {},
     "output_type": "execute_result"
    }
   ],
   "source": [
    "tvList2 = [\"UN40EN001\", \"LEDTV_UN40EN002\",\"LEDTV_LEDTV_UN40EN003\", \"ledtv_UN40EN004\"]\n",
    "\n",
    "for i in range (0, len(tvList2)):\n",
    "    tvList2[i] = tvList2[i].upper()\n",
    "\n",
    "preFix = \"LEDTV_\"\n",
    "\n",
    "tvList2\n",
    "\n",
    "for i in range(0,len(tvList2)) : \n",
    "    if tvList2[i].count(preFix)==0:\n",
    "        tvList2[i] = preFix+ tvList2[i]\n",
    "    elif tvList2[i].count(preFix) >= 1:\n",
    "        tvList2[i] = preFix + tvList2[i].replace(\"LEDTV_\",\"\")\n",
    "    else :\n",
    "        pass\n",
    "\n",
    "tvList2"
   ]
  }
 ],
 "metadata": {
  "kernelspec": {
   "display_name": "Python 3 (ipykernel)",
   "language": "python",
   "name": "python3"
  },
  "language_info": {
   "codemirror_mode": {
    "name": "ipython",
    "version": 3
   },
   "file_extension": ".py",
   "mimetype": "text/x-python",
   "name": "python",
   "nbconvert_exporter": "python",
   "pygments_lexer": "ipython3",
   "version": "3.9.13"
  }
 },
 "nbformat": 4,
 "nbformat_minor": 5
}
