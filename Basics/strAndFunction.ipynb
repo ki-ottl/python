{
 "cells": [
  {
   "cell_type": "markdown",
   "id": "887bfa64-13f6-4606-bb90-07587631aa95",
   "metadata": {},
   "source": [
    "# 문자열과 함수"
   ]
  },
  {
   "cell_type": "code",
   "execution_count": null,
   "id": "207bc8c6-f6f7-4874-82b5-29397fda23b0",
   "metadata": {},
   "outputs": [],
   "source": [
    "# s = \"2017W28\"\n",
    "\n",
    "# s.count(\"W\") 문자열 s에 W가 등장하는 횟수 반환\n",
    "# s.index(\"W\") 문자열 s에 W가 있는 인덱스 값을 반환\n",
    "# s.lower() 문자열 s의 내용을 전부 소문자로 바꾼 문자열 반환\n",
    "# s.upper() 문자열 s의 내용을 전부 대문자로 바꾼 문자열 반환\n",
    "# s.replace(old, new) 문자열 s의 old를 new로 교체한 문자열 반환\n",
    "# s.spilt() 문자열 s를 공백을 기준으로 나눠서 리스트에 담아서 반환 cf) s.split('_') : 언더바 기준으로 문자열을 쪼개서 반환\n",
    "\n",
    "#주의 ) 문자열은 수정 자체가 불가능하다는 사실을 잊지 말자.\n",
    "\n",
    "# s.find(\"sub\") 문자열 s에 sub가 있으면 그 위치의 인덱스 값, 없으면 -1 반환\n",
    "# s.rfind(\"sub\") s.find는 앞에서부터 sub를 찾는 반면 s.rfind는 뒤에서부터 찾는다.\n",
    "# s.lstirp() 문자열 s의 앞에 위치한 공백을 모두 제거한 문자열 반환\n",
    "# s.rstrip() 문자열 s의 뒤에 위치한 공백을 모두 제거한 문자열 반환"
   ]
  },
  {
   "cell_type": "code",
   "execution_count": null,
   "id": "1e023187-9137-4705-871e-b90163b88e34",
   "metadata": {},
   "outputs": [],
   "source": []
  },
  {
   "cell_type": "code",
   "execution_count": 1,
   "id": "ad5d15c9-fa81-4ba0-9fc1-261cdba2ca66",
   "metadata": {},
   "outputs": [],
   "source": [
    "s = \"2017W28\""
   ]
  },
  {
   "cell_type": "code",
   "execution_count": 2,
   "id": "a16dd4e2-8862-4239-a3d3-3d68aeb16d3f",
   "metadata": {},
   "outputs": [
    {
     "data": {
      "text/plain": [
       "1"
      ]
     },
     "execution_count": 2,
     "metadata": {},
     "output_type": "execute_result"
    }
   ],
   "source": [
    "s.count(\"W\")"
   ]
  },
  {
   "cell_type": "code",
   "execution_count": 3,
   "id": "6a0d0639-7003-4fb9-be19-3b7742d4deb5",
   "metadata": {},
   "outputs": [
    {
     "data": {
      "text/plain": [
       "4"
      ]
     },
     "execution_count": 3,
     "metadata": {},
     "output_type": "execute_result"
    }
   ],
   "source": [
    "s.index(\"W\")"
   ]
  },
  {
   "cell_type": "code",
   "execution_count": 4,
   "id": "651ad268-ccd0-480e-bd89-0a21cb2e77f1",
   "metadata": {},
   "outputs": [
    {
     "data": {
      "text/plain": [
       "'2017w28'"
      ]
     },
     "execution_count": 4,
     "metadata": {},
     "output_type": "execute_result"
    }
   ],
   "source": [
    "s.lower()"
   ]
  },
  {
   "cell_type": "code",
   "execution_count": 5,
   "id": "39d8c50a-3289-4751-b335-baf18bde6db7",
   "metadata": {},
   "outputs": [
    {
     "data": {
      "text/plain": [
       "'2017W28'"
      ]
     },
     "execution_count": 5,
     "metadata": {},
     "output_type": "execute_result"
    }
   ],
   "source": [
    "s.upper()"
   ]
  },
  {
   "cell_type": "code",
   "execution_count": 6,
   "id": "37d9321b-c1d7-4b32-bdf4-b96f0426b131",
   "metadata": {},
   "outputs": [
    {
     "data": {
      "text/plain": [
       "'2017_28'"
      ]
     },
     "execution_count": 6,
     "metadata": {},
     "output_type": "execute_result"
    }
   ],
   "source": [
    "s.replace(\"W\",\"_\")"
   ]
  },
  {
   "cell_type": "code",
   "execution_count": 7,
   "id": "789cd344-1d07-415b-ac6e-2e5c0666257a",
   "metadata": {},
   "outputs": [
    {
     "data": {
      "text/plain": [
       "['2017', '28']"
      ]
     },
     "execution_count": 7,
     "metadata": {},
     "output_type": "execute_result"
    }
   ],
   "source": [
    "s.split(\"W\")"
   ]
  },
  {
   "cell_type": "code",
   "execution_count": null,
   "id": "97ec603a-2d79-4a95-984c-5e8632fc9c85",
   "metadata": {},
   "outputs": [],
   "source": []
  },
  {
   "cell_type": "code",
   "execution_count": null,
   "id": "9eaf364d-3985-4aaf-9587-cb40bdf4a59d",
   "metadata": {},
   "outputs": [],
   "source": [
    "# 문제 ) 문자열로 표현된 주민등록번호에서 생년월일 정보만 꺼내서 출력하고자 하니, \n",
    "# 이러한 기능을 제공하는 함수를 만들어보자. \n",
    "# 예를 들어서 함수의 이름이 birth_only라 하면\n",
    "# 이 함수를 대상으로 다음과 같은 결과를 보여야 한다.\n",
    "\n",
    "# >>> p1 = \"070609-2011xxx\"\n",
    "# >>> p1 = birth_only(p1)\n",
    "# >>> p1\n",
    "# '070609'"
   ]
  },
  {
   "cell_type": "code",
   "execution_count": 8,
   "id": "7a90378a-6b81-4e34-b7c1-f1b323de2783",
   "metadata": {},
   "outputs": [],
   "source": [
    "def birth_only(p1):\n",
    "    \"\"\"\n",
    "    문자열로 표현된 주민등록번호에서 생년월일 정보만 꺼내서 출력\n",
    "    parameter : string(\"070609-2011xxx\" 형태)\n",
    "    return : 생년월일 값 반환\n",
    "    \"\"\"\n",
    "    # p1 = \"070609-2011xxx\"\n",
    "    \n",
    "    output = p1.split(\"-\")\n",
    "    return output[0]"
   ]
  },
  {
   "cell_type": "code",
   "execution_count": 9,
   "id": "f7161679-8292-441e-a9c4-9fedd73af5aa",
   "metadata": {},
   "outputs": [
    {
     "data": {
      "text/plain": [
       "'070609'"
      ]
     },
     "execution_count": 9,
     "metadata": {},
     "output_type": "execute_result"
    }
   ],
   "source": [
    "p1 = \"070609-2011xxx\"\n",
    "p1 = birth_only(p1)\n",
    "p1"
   ]
  }
 ],
 "metadata": {
  "kernelspec": {
   "display_name": "Python 3 (ipykernel)",
   "language": "python",
   "name": "python3"
  },
  "language_info": {
   "codemirror_mode": {
    "name": "ipython",
    "version": 3
   },
   "file_extension": ".py",
   "mimetype": "text/x-python",
   "name": "python",
   "nbconvert_exporter": "python",
   "pygments_lexer": "ipython3",
   "version": "3.9.13"
  }
 },
 "nbformat": 4,
 "nbformat_minor": 5
}
