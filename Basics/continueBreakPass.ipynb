{
 "cells": [
  {
   "cell_type": "code",
   "execution_count": null,
   "id": "1a07d12c-441e-49ee-b716-815d3a271bb9",
   "metadata": {},
   "outputs": [],
   "source": [
    "# break : 반복문 탈출 (성능 향상 코드로 활용 많이 됨)\n",
    "# 자기를 감싸고 있는 for문 단 한 개만 빠져나온다."
   ]
  },
  {
   "cell_type": "code",
   "execution_count": null,
   "id": "5c8740ba-1b0f-4951-b66c-55bf0e615d5b",
   "metadata": {},
   "outputs": [],
   "source": [
    "# continue :  반복문에서 다음 단계로 넘긴다 (반복대상 스킵)"
   ]
  },
  {
   "cell_type": "code",
   "execution_count": null,
   "id": "0b6b19e6-13c2-4c13-95c7-e29eec2e9b20",
   "metadata": {},
   "outputs": [],
   "source": [
    "# pass : 특정 오류 조건 스킵 시 활용 반복문과 관련 없음 (파이썬에만 있다)"
   ]
  },
  {
   "cell_type": "code",
   "execution_count": null,
   "id": "0982b7b3-27ae-44fb-89e6-a48060f5e2eb",
   "metadata": {},
   "outputs": [],
   "source": []
  },
  {
   "cell_type": "code",
   "execution_count": 1,
   "id": "1a075a98-cea1-45cf-bec5-5c409d34198a",
   "metadata": {},
   "outputs": [
    {
     "name": "stdout",
     "output_type": "stream",
     "text": [
      "[]\n"
     ]
    }
   ],
   "source": [
    "# break : 반복문 탈출 (성능 향상 코드로 활용 많이 됨)\n",
    "# 자기를 감싸고 있는 for문 단 한 개만 빠져나온다.\n",
    "\n",
    "model = [\"MODEL01\",\"MODEL02\"]\n",
    "attatedModel = []\n",
    "\n",
    "for i in range(0, len(model) ):\n",
    "    if( model[i] == \"MODEL01\" ):\n",
    "        break\n",
    "        attatedModel.append(model[i])\n",
    "        print( model[i] )\n",
    "print (attatedModel )"
   ]
  },
  {
   "cell_type": "code",
   "execution_count": null,
   "id": "8ca07a9d-ecdf-45ef-be15-1584c46b7e3f",
   "metadata": {},
   "outputs": [],
   "source": []
  },
  {
   "cell_type": "code",
   "execution_count": 2,
   "id": "bbec663e-8abf-4d3b-beb7-b5a4d36fef5b",
   "metadata": {},
   "outputs": [],
   "source": [
    "recallProduct = \"MODEL02\""
   ]
  },
  {
   "cell_type": "code",
   "execution_count": 3,
   "id": "60e62936-c6e4-4950-b740-107a21aff3b0",
   "metadata": {},
   "outputs": [],
   "source": [
    "productList = [\"MODEL01\", \"MODEL02\", \"MODEL03\"]"
   ]
  },
  {
   "cell_type": "code",
   "execution_count": 4,
   "id": "d254f0c7-d25c-4f2f-8aa1-258377751ff9",
   "metadata": {},
   "outputs": [
    {
     "name": "stdout",
     "output_type": "stream",
     "text": [
      "MODEL02\n"
     ]
    }
   ],
   "source": [
    "for i in range(0, len(productList)):\n",
    "    if productList[i] == recallProduct:\n",
    "        print (productList[i])\n",
    "        break"
   ]
  },
  {
   "cell_type": "code",
   "execution_count": null,
   "id": "65efe1a5-5d68-4f7e-a29c-331ec5debe97",
   "metadata": {},
   "outputs": [],
   "source": []
  },
  {
   "cell_type": "code",
   "execution_count": 5,
   "id": "34f9a651-8d27-45af-a6fc-53eab86f438a",
   "metadata": {},
   "outputs": [
    {
     "name": "stdout",
     "output_type": "stream",
     "text": [
      "MODEL02\n",
      "['MODEL02']\n"
     ]
    }
   ],
   "source": [
    "# continue :  반복문에서 다음 단계로 넘긴다 (반복대상 스킵)\n",
    "\n",
    "model = [\"MODEL01\",\"MODEL02\"]\n",
    "attatedModel = []\n",
    "for i in range(0, len(model) ):\n",
    "    if( model[i] == \"MODEL01\" ):\n",
    "        continue\n",
    "    attatedModel.append(model[i])\n",
    "    print( model[i] )\n",
    "    \n",
    "    print (attatedModel)"
   ]
  },
  {
   "cell_type": "code",
   "execution_count": null,
   "id": "dc217b0e-c5c7-433f-8fc6-9cadd7c6aee3",
   "metadata": {},
   "outputs": [],
   "source": []
  },
  {
   "cell_type": "code",
   "execution_count": 6,
   "id": "c6b7f9cb-1d06-4e02-8ff2-c87a3bff1a32",
   "metadata": {},
   "outputs": [],
   "source": [
    "productList = [\"MODEL01\", \"MODEL02\", \"MODEL03\"]"
   ]
  },
  {
   "cell_type": "code",
   "execution_count": 7,
   "id": "9327fdad-99f9-426e-a4c2-81f4f3240984",
   "metadata": {},
   "outputs": [
    {
     "name": "stdout",
     "output_type": "stream",
     "text": [
      "MODEL01\n",
      "MODEL03\n"
     ]
    }
   ],
   "source": [
    "for i in range(0, len(productList)):\n",
    "    if productList[i] == recallProduct:\n",
    "        continue\n",
    "    print (productList[i])"
   ]
  },
  {
   "cell_type": "code",
   "execution_count": null,
   "id": "d5995f97-a89c-4c8b-ae25-d2f542b6d165",
   "metadata": {},
   "outputs": [],
   "source": []
  },
  {
   "cell_type": "code",
   "execution_count": 8,
   "id": "d1caab76-f200-4358-b575-408b3ed9f349",
   "metadata": {},
   "outputs": [
    {
     "name": "stdout",
     "output_type": "stream",
     "text": [
      "MODEL01\n",
      "MODEL02\n",
      "MODEL03\n"
     ]
    }
   ],
   "source": [
    "# pass : 특정 오류 조건 스킵 시 활용 반복문과 관련 없음 (파이썬에만 있다)\n",
    "# else에 쓸 것이 없을 때 활용되기도 한다\n",
    "\n",
    "for i in range(0, len(productList)):\n",
    "    if productList[i] == recallProduct:\n",
    "        pass\n",
    "    print (productList[i])"
   ]
  }
 ],
 "metadata": {
  "kernelspec": {
   "display_name": "Python 3 (ipykernel)",
   "language": "python",
   "name": "python3"
  },
  "language_info": {
   "codemirror_mode": {
    "name": "ipython",
    "version": 3
   },
   "file_extension": ".py",
   "mimetype": "text/x-python",
   "name": "python",
   "nbconvert_exporter": "python",
   "pygments_lexer": "ipython3",
   "version": "3.9.13"
  }
 },
 "nbformat": 4,
 "nbformat_minor": 5
}
