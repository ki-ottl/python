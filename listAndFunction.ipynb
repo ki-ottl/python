{
 "cells": [
  {
   "cell_type": "markdown",
   "id": "8f86b0fe-5491-4b7d-aab1-43e34ae6d5db",
   "metadata": {},
   "source": [
    "# 리스트와 함수"
   ]
  },
  {
   "cell_type": "code",
   "execution_count": 1,
   "id": "a5fca3b0-7639-4ba3-98f5-2a32c6f8b72e",
   "metadata": {},
   "outputs": [],
   "source": [
    "# len(s) 리스트 s의 길이(저장된 값의 수 (반환))\n",
    "# min(s) 리스트 s에 저장된 값 중에서 가장 작은 값 반환\n",
    "# max(s) 리스트 s에 저장된 값 중에서 가장 큰 값 반환"
   ]
  },
  {
   "cell_type": "code",
   "execution_count": 2,
   "id": "c66c43b2-8188-40d1-9227-ad44b437ec4f",
   "metadata": {},
   "outputs": [],
   "source": [
    "# s.append(x) 리스트 s의 끝에 x를 추가 (하나)\n",
    "# s.extend(t) 리스트 s의 끝에 리스트 t의 내용 전부를 추가 (여러 개)\n",
    "# s.clear() 리스트 s의 내용물 전부 삭제\n",
    "# s.insert(i, x) s[i]에 x를 저장, i번째 인덱스에 x 추가\n",
    "# s.pop(i) s[i]를 반환 및 삭제\n",
    "# s.remove(x) 리스트 s에서 제일 앞에 등장하는 x를 하나만 삭제\n",
    "# s.count(x) 리스트 s에 등장하는 x의 개수 반환\n",
    "# s.index(x) 리스트 s에 처음 등장하는 x의 인덱스 값 반환\n",
    "\n",
    "# s.sort() 리스트 s의 값을 오름차순 정렬\n",
    "# s.sort(reverse = True) 리스트 s의 값을 내림차순 정렬"
   ]
  },
  {
   "cell_type": "code",
   "execution_count": null,
   "id": "838ab023-1958-48d9-bef9-c830d533422f",
   "metadata": {
    "tags": []
   },
   "outputs": [],
   "source": []
  },
  {
   "cell_type": "code",
   "execution_count": 3,
   "id": "0a1ba3c5-e4d5-4d2b-973f-32d84457aa80",
   "metadata": {},
   "outputs": [],
   "source": [
    "# 문제 ) 빈 리스트를 만들어서 그 안에 1부터 10까지 넣었다가, \n",
    "# 다시 1부터 10까지 꺼내는(삭제하는)코드를 만들어보자. (for루프 사용)"
   ]
  },
  {
   "cell_type": "code",
   "execution_count": 4,
   "id": "db1e48f6-46a1-4a11-aab8-cf85bcfc705f",
   "metadata": {},
   "outputs": [],
   "source": [
    "org = []"
   ]
  },
  {
   "cell_type": "code",
   "execution_count": 5,
   "id": "3d1a4773-f68e-42df-82fb-9ad64810cfe3",
   "metadata": {},
   "outputs": [],
   "source": [
    "for i in range(1, 11):\n",
    "    org.append(i)"
   ]
  },
  {
   "cell_type": "code",
   "execution_count": 6,
   "id": "9c01a303-8353-42b2-ae70-5a831a64c761",
   "metadata": {},
   "outputs": [
    {
     "name": "stdout",
     "output_type": "stream",
     "text": [
      "[1, 2, 3, 4, 5, 6, 7, 8, 9, 10]\n"
     ]
    }
   ],
   "source": [
    "print(org)"
   ]
  },
  {
   "cell_type": "code",
   "execution_count": 7,
   "id": "38246c98-dd2d-4ea6-842e-a44ace67f8c2",
   "metadata": {},
   "outputs": [],
   "source": [
    "for i in range(1, 11):\n",
    "    org.remove(i)"
   ]
  },
  {
   "cell_type": "code",
   "execution_count": 8,
   "id": "261f4403-8c7b-42b7-b07e-c74784ae88c0",
   "metadata": {},
   "outputs": [
    {
     "name": "stdout",
     "output_type": "stream",
     "text": [
      "[]\n"
     ]
    }
   ],
   "source": [
    "print(org)"
   ]
  },
  {
   "cell_type": "code",
   "execution_count": null,
   "id": "5da99805-6fcf-40dd-8ed3-5d9880403345",
   "metadata": {},
   "outputs": [],
   "source": []
  },
  {
   "cell_type": "code",
   "execution_count": 9,
   "id": "b68a6a02-7707-4c95-b565-2f8a41277c23",
   "metadata": {},
   "outputs": [],
   "source": [
    "# 문제 ) 다음은 하나의 리스트에 다른 리스트의 값 전부를 추가하는 코드이다.\n",
    "# st = [1, 2]\n",
    "# st.extend([3, 4, 5])\t# 이 문장을 바꾸는 것이 문제!\n",
    "# st\n",
    "# [1, 2, 3, 4, 5]\n",
    "\n",
    "# 위의 예에서는 extend 함수를 사용했는데, 이를 슬라이싱 연산을 이용하는 형태로 수정해보자. 참고로 다음 리스트에는 세번째 값이 없다.\n",
    "# st = [1, 2]\n",
    "# 그러나 다른 리스트의 값 전부를 추가할 때에는 세 번째 값이 있다고 가정하고 슬라이싱 연산을 진행하면 된다. \n",
    "# 즉 세 번째 값을 리스트 [3, 4, 5]의 내용으로 교체하는 슬라이싱 연산문을 작성하면 된다."
   ]
  },
  {
   "cell_type": "code",
   "execution_count": 10,
   "id": "d93e1101-3b99-4ef1-8a79-d4b59e9049d0",
   "metadata": {},
   "outputs": [],
   "source": [
    "# 슬라이싱 방법 사용하는 것이 떠오르지 않아서 insert와 for문 사용해서 풀었다."
   ]
  },
  {
   "cell_type": "code",
   "execution_count": 11,
   "id": "10ee2563-f657-4d3d-b397-119388e7e32f",
   "metadata": {},
   "outputs": [],
   "source": [
    "st = [1, 2]"
   ]
  },
  {
   "cell_type": "code",
   "execution_count": 12,
   "id": "9ed95717-88a5-41a8-a5d9-438ad81545e5",
   "metadata": {},
   "outputs": [],
   "source": [
    "for i in range(3, 6):\n",
    "    st.insert(i-1, i)"
   ]
  },
  {
   "cell_type": "code",
   "execution_count": 13,
   "id": "78f98f32-a764-4f79-80f0-8238619017f2",
   "metadata": {},
   "outputs": [
    {
     "data": {
      "text/plain": [
       "[1, 2, 3, 4, 5]"
      ]
     },
     "execution_count": 13,
     "metadata": {},
     "output_type": "execute_result"
    }
   ],
   "source": [
    "st"
   ]
  },
  {
   "cell_type": "code",
   "execution_count": null,
   "id": "be6f89ef-6365-4376-b0f5-f1e6d4ae769b",
   "metadata": {},
   "outputs": [],
   "source": [
    "# 슬라이싱 연산 사용한 방법"
   ]
  },
  {
   "cell_type": "code",
   "execution_count": 14,
   "id": "ddb3fd84-ea82-4156-95df-5411101a3e1c",
   "metadata": {},
   "outputs": [
    {
     "data": {
      "text/plain": [
       "[1, 2, 3, 4, 5]"
      ]
     },
     "execution_count": 14,
     "metadata": {},
     "output_type": "execute_result"
    }
   ],
   "source": [
    "st = [1, 2]\n",
    "st[2:3] = [3, 4, 5]\n",
    "st"
   ]
  }
 ],
 "metadata": {
  "kernelspec": {
   "display_name": "Python 3 (ipykernel)",
   "language": "python",
   "name": "python3"
  },
  "language_info": {
   "codemirror_mode": {
    "name": "ipython",
    "version": 3
   },
   "file_extension": ".py",
   "mimetype": "text/x-python",
   "name": "python",
   "nbconvert_exporter": "python",
   "pygments_lexer": "ipython3",
   "version": "3.9.13"
  }
 },
 "nbformat": 4,
 "nbformat_minor": 5
}
