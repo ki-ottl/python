{
 "cells": [
  {
   "cell_type": "markdown",
   "id": "901ecb21-22a7-431a-9414-1f709eb9292d",
   "metadata": {
    "tags": []
   },
   "source": [
    "### [데이터타입 통합]\n",
    "kopo_channel_seasonality_new.csv 파일을 불러온 후\n",
    "selloutData 변수에 담으세요 이후\n",
    "QTY컬럼→실수(float), 이외컬럼→문자(str)로 변경하세요"
   ]
  },
  {
   "cell_type": "code",
   "execution_count": 1,
   "id": "f2a1562a-bab4-4b69-89fe-bfab37984f0f",
   "metadata": {},
   "outputs": [],
   "source": [
    "import pandas as pd"
   ]
  },
  {
   "cell_type": "code",
   "execution_count": 2,
   "id": "cbee7fcf-82d8-47af-8acb-72439be2863e",
   "metadata": {},
   "outputs": [],
   "source": [
    "selloutData = pd.read_csv(\"../dataset/kopo_channel_seasonality_new.csv\")"
   ]
  },
  {
   "cell_type": "code",
   "execution_count": 3,
   "id": "c5b8332c-7d3a-4209-86f3-6837fe9322c3",
   "metadata": {},
   "outputs": [
    {
     "data": {
      "text/html": [
       "<div>\n",
       "<style scoped>\n",
       "    .dataframe tbody tr th:only-of-type {\n",
       "        vertical-align: middle;\n",
       "    }\n",
       "\n",
       "    .dataframe tbody tr th {\n",
       "        vertical-align: top;\n",
       "    }\n",
       "\n",
       "    .dataframe thead th {\n",
       "        text-align: right;\n",
       "    }\n",
       "</style>\n",
       "<table border=\"1\" class=\"dataframe\">\n",
       "  <thead>\n",
       "    <tr style=\"text-align: right;\">\n",
       "      <th></th>\n",
       "      <th>REGIONID</th>\n",
       "      <th>PRODUCT</th>\n",
       "      <th>YEARWEEK</th>\n",
       "      <th>QTY</th>\n",
       "    </tr>\n",
       "  </thead>\n",
       "  <tbody>\n",
       "    <tr>\n",
       "      <th>0</th>\n",
       "      <td>A60</td>\n",
       "      <td>PRODUCT4</td>\n",
       "      <td>201402</td>\n",
       "      <td>71.0</td>\n",
       "    </tr>\n",
       "    <tr>\n",
       "      <th>1</th>\n",
       "      <td>A60</td>\n",
       "      <td>PRODUCT59</td>\n",
       "      <td>201402</td>\n",
       "      <td>22275.0</td>\n",
       "    </tr>\n",
       "    <tr>\n",
       "      <th>2</th>\n",
       "      <td>A60</td>\n",
       "      <td>PRODUCT34</td>\n",
       "      <td>201402</td>\n",
       "      <td>4463.0</td>\n",
       "    </tr>\n",
       "    <tr>\n",
       "      <th>3</th>\n",
       "      <td>A60</td>\n",
       "      <td>PRODUCT47</td>\n",
       "      <td>201402</td>\n",
       "      <td>0.0</td>\n",
       "    </tr>\n",
       "    <tr>\n",
       "      <th>4</th>\n",
       "      <td>A60</td>\n",
       "      <td>PRODUCT56</td>\n",
       "      <td>201402</td>\n",
       "      <td>23.0</td>\n",
       "    </tr>\n",
       "    <tr>\n",
       "      <th>...</th>\n",
       "      <td>...</td>\n",
       "      <td>...</td>\n",
       "      <td>...</td>\n",
       "      <td>...</td>\n",
       "    </tr>\n",
       "    <tr>\n",
       "      <th>124653</th>\n",
       "      <td>A10</td>\n",
       "      <td>PRODUCT60</td>\n",
       "      <td>201630</td>\n",
       "      <td>824.0</td>\n",
       "    </tr>\n",
       "    <tr>\n",
       "      <th>124654</th>\n",
       "      <td>A10</td>\n",
       "      <td>PRODUCT56</td>\n",
       "      <td>201630</td>\n",
       "      <td>275.0</td>\n",
       "    </tr>\n",
       "    <tr>\n",
       "      <th>124655</th>\n",
       "      <td>A10</td>\n",
       "      <td>PRODUCT61</td>\n",
       "      <td>201630</td>\n",
       "      <td>0.0</td>\n",
       "    </tr>\n",
       "    <tr>\n",
       "      <th>124656</th>\n",
       "      <td>A10</td>\n",
       "      <td>PRODUCT12</td>\n",
       "      <td>201630</td>\n",
       "      <td>15021.0</td>\n",
       "    </tr>\n",
       "    <tr>\n",
       "      <th>124657</th>\n",
       "      <td>A10</td>\n",
       "      <td>PRODUCT1</td>\n",
       "      <td>201630</td>\n",
       "      <td>568.0</td>\n",
       "    </tr>\n",
       "  </tbody>\n",
       "</table>\n",
       "<p>124658 rows × 4 columns</p>\n",
       "</div>"
      ],
      "text/plain": [
       "       REGIONID    PRODUCT  YEARWEEK      QTY\n",
       "0           A60   PRODUCT4    201402     71.0\n",
       "1           A60  PRODUCT59    201402  22275.0\n",
       "2           A60  PRODUCT34    201402   4463.0\n",
       "3           A60  PRODUCT47    201402      0.0\n",
       "4           A60  PRODUCT56    201402     23.0\n",
       "...         ...        ...       ...      ...\n",
       "124653      A10  PRODUCT60    201630    824.0\n",
       "124654      A10  PRODUCT56    201630    275.0\n",
       "124655      A10  PRODUCT61    201630      0.0\n",
       "124656      A10  PRODUCT12    201630  15021.0\n",
       "124657      A10   PRODUCT1    201630    568.0\n",
       "\n",
       "[124658 rows x 4 columns]"
      ]
     },
     "execution_count": 3,
     "metadata": {},
     "output_type": "execute_result"
    }
   ],
   "source": [
    "selloutData"
   ]
  },
  {
   "cell_type": "code",
   "execution_count": 4,
   "id": "a8bbd62f-f2e3-4f1f-9d63-2c8dc9e2ac1a",
   "metadata": {},
   "outputs": [
    {
     "data": {
      "text/plain": [
       "REGIONID     object\n",
       "PRODUCT      object\n",
       "YEARWEEK      int64\n",
       "QTY         float64\n",
       "dtype: object"
      ]
     },
     "execution_count": 4,
     "metadata": {},
     "output_type": "execute_result"
    }
   ],
   "source": [
    "selloutData.dtypes"
   ]
  },
  {
   "cell_type": "code",
   "execution_count": 5,
   "id": "d4160c9f-6d24-46dc-8725-7810b7bc37b9",
   "metadata": {},
   "outputs": [],
   "source": [
    "Columns = list(selloutData.columns)"
   ]
  },
  {
   "cell_type": "code",
   "execution_count": 6,
   "id": "c9759e5f-445f-4075-a042-88b2f4cdd0ec",
   "metadata": {},
   "outputs": [],
   "source": [
    "for i in range(0, len(Columns)):\n",
    "    try :\n",
    "        selloutData[Columns[i]] = selloutData[ Columns[i] ].astype(str)\n",
    "    except Exception as e :\n",
    "        print(e)"
   ]
  },
  {
   "cell_type": "code",
   "execution_count": 7,
   "id": "451b213c-8c9b-4acf-bbfc-ee354d1b4e48",
   "metadata": {},
   "outputs": [
    {
     "data": {
      "text/plain": [
       "REGIONID    object\n",
       "PRODUCT     object\n",
       "YEARWEEK    object\n",
       "QTY         object\n",
       "dtype: object"
      ]
     },
     "execution_count": 7,
     "metadata": {},
     "output_type": "execute_result"
    }
   ],
   "source": [
    "selloutData.dtypes"
   ]
  },
  {
   "cell_type": "code",
   "execution_count": 8,
   "id": "11b6f488-2d1e-49b3-9e73-a30bf2ecd4ea",
   "metadata": {},
   "outputs": [],
   "source": [
    "selloutData[\"QTY\"] = selloutData.QTY.astype(float)"
   ]
  },
  {
   "cell_type": "code",
   "execution_count": 9,
   "id": "77144511-786f-43a6-bd8e-825c8a4dc0d5",
   "metadata": {},
   "outputs": [
    {
     "data": {
      "text/plain": [
       "REGIONID     object\n",
       "PRODUCT      object\n",
       "YEARWEEK     object\n",
       "QTY         float64\n",
       "dtype: object"
      ]
     },
     "execution_count": 9,
     "metadata": {},
     "output_type": "execute_result"
    }
   ],
   "source": [
    "selloutData.dtypes"
   ]
  }
 ],
 "metadata": {
  "kernelspec": {
   "display_name": "Python 3 (ipykernel)",
   "language": "python",
   "name": "python3"
  },
  "language_info": {
   "codemirror_mode": {
    "name": "ipython",
    "version": 3
   },
   "file_extension": ".py",
   "mimetype": "text/x-python",
   "name": "python",
   "nbconvert_exporter": "python",
   "pygments_lexer": "ipython3",
   "version": "3.9.13"
  }
 },
 "nbformat": 4,
 "nbformat_minor": 5
}
