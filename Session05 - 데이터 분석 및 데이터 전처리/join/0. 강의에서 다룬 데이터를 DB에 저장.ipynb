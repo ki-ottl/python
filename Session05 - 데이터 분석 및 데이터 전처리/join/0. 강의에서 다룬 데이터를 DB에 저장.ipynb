{
 "cells": [
  {
   "cell_type": "markdown",
   "id": "71ff12e1-af92-468f-bc24-19f812b7210c",
   "metadata": {},
   "source": [
    "# 강의에서 다룬 데이터를 DB에 저장"
   ]
  },
  {
   "cell_type": "code",
   "execution_count": null,
   "id": "598b82ef-a4fb-49b1-9e36-3a8de67cdcce",
   "metadata": {},
   "outputs": [],
   "source": []
  },
  {
   "cell_type": "code",
   "execution_count": 2,
   "id": "65f33612-bd77-4808-9ccb-49ffae951033",
   "metadata": {},
   "outputs": [],
   "source": [
    "import pandas as pd"
   ]
  },
  {
   "cell_type": "code",
   "execution_count": 3,
   "id": "992da62a-7f1f-4ed5-b34f-89506bd63e09",
   "metadata": {},
   "outputs": [],
   "source": [
    "joinSellout = pd.read_csv(\"../dataset/join_kopo_product_volume.csv\")"
   ]
  },
  {
   "cell_type": "code",
   "execution_count": 4,
   "id": "5774485e-e8bb-4ea5-ab5d-0f2d7e726822",
   "metadata": {},
   "outputs": [],
   "source": [
    "joinMaster = pd.read_csv(\"../dataset/join_region_master.csv\", encoding = \"ms949\") "
   ]
  },
  {
   "cell_type": "code",
   "execution_count": 5,
   "id": "b7201fcd-dada-4a60-b70c-bb6eb199633c",
   "metadata": {},
   "outputs": [],
   "source": [
    "row1 = [\"A02\", \"ST0001\", 201901 , 2000]\n",
    "row2 = [\"A02\", \"ST0002\", 201902 , 2000]\n",
    "row3 = [\"A02\", \"ST0003\", 201901 , 2000]\n",
    "row4 = [\"A02\", \"ST0005\", 201901 , 2000]"
   ]
  },
  {
   "cell_type": "code",
   "execution_count": 6,
   "id": "b44b2c65-d411-4595-9dcc-e8c62a3e68fc",
   "metadata": {},
   "outputs": [
    {
     "data": {
      "text/html": [
       "<div>\n",
       "<style scoped>\n",
       "    .dataframe tbody tr th:only-of-type {\n",
       "        vertical-align: middle;\n",
       "    }\n",
       "\n",
       "    .dataframe tbody tr th {\n",
       "        vertical-align: top;\n",
       "    }\n",
       "\n",
       "    .dataframe thead th {\n",
       "        text-align: right;\n",
       "    }\n",
       "</style>\n",
       "<table border=\"1\" class=\"dataframe\">\n",
       "  <thead>\n",
       "    <tr style=\"text-align: right;\">\n",
       "      <th></th>\n",
       "      <th>REGIONID</th>\n",
       "      <th>PRODUCT</th>\n",
       "      <th>YEARWEEK</th>\n",
       "      <th>QTY</th>\n",
       "    </tr>\n",
       "  </thead>\n",
       "  <tbody>\n",
       "    <tr>\n",
       "      <th>0</th>\n",
       "      <td>A02</td>\n",
       "      <td>ST0001</td>\n",
       "      <td>201901</td>\n",
       "      <td>2000</td>\n",
       "    </tr>\n",
       "    <tr>\n",
       "      <th>1</th>\n",
       "      <td>A02</td>\n",
       "      <td>ST0002</td>\n",
       "      <td>201902</td>\n",
       "      <td>2000</td>\n",
       "    </tr>\n",
       "    <tr>\n",
       "      <th>2</th>\n",
       "      <td>A02</td>\n",
       "      <td>ST0003</td>\n",
       "      <td>201901</td>\n",
       "      <td>2000</td>\n",
       "    </tr>\n",
       "    <tr>\n",
       "      <th>3</th>\n",
       "      <td>A02</td>\n",
       "      <td>ST0005</td>\n",
       "      <td>201901</td>\n",
       "      <td>2000</td>\n",
       "    </tr>\n",
       "  </tbody>\n",
       "</table>\n",
       "</div>"
      ],
      "text/plain": [
       "  REGIONID PRODUCT  YEARWEEK   QTY\n",
       "0      A02  ST0001    201901  2000\n",
       "1      A02  ST0002    201902  2000\n",
       "2      A02  ST0003    201901  2000\n",
       "3      A02  ST0005    201901  2000"
      ]
     },
     "execution_count": 6,
     "metadata": {},
     "output_type": "execute_result"
    }
   ],
   "source": [
    "newData = pd.DataFrame( [row1, row2, row3, row4], columns = joinSellout.columns )\n",
    "newData"
   ]
  },
  {
   "cell_type": "code",
   "execution_count": 7,
   "id": "44b1ebfe-d0ce-4b36-81fc-0dcd5201f461",
   "metadata": {},
   "outputs": [
    {
     "name": "stderr",
     "output_type": "stream",
     "text": [
      "C:\\Users\\2an_d\\AppData\\Local\\Temp\\ipykernel_13384\\1661070306.py:1: FutureWarning: The frame.append method is deprecated and will be removed from pandas in a future version. Use pandas.concat instead.\n",
      "  unionData = joinSellout.append(newData) # union 개념\n"
     ]
    },
    {
     "data": {
      "text/html": [
       "<div>\n",
       "<style scoped>\n",
       "    .dataframe tbody tr th:only-of-type {\n",
       "        vertical-align: middle;\n",
       "    }\n",
       "\n",
       "    .dataframe tbody tr th {\n",
       "        vertical-align: top;\n",
       "    }\n",
       "\n",
       "    .dataframe thead th {\n",
       "        text-align: right;\n",
       "    }\n",
       "</style>\n",
       "<table border=\"1\" class=\"dataframe\">\n",
       "  <thead>\n",
       "    <tr style=\"text-align: right;\">\n",
       "      <th></th>\n",
       "      <th>REGIONID</th>\n",
       "      <th>PRODUCT</th>\n",
       "      <th>YEARWEEK</th>\n",
       "      <th>QTY</th>\n",
       "    </tr>\n",
       "  </thead>\n",
       "  <tbody>\n",
       "    <tr>\n",
       "      <th>0</th>\n",
       "      <td>A01</td>\n",
       "      <td>ST0001</td>\n",
       "      <td>201901</td>\n",
       "      <td>3000</td>\n",
       "    </tr>\n",
       "    <tr>\n",
       "      <th>1</th>\n",
       "      <td>A01</td>\n",
       "      <td>ST0001</td>\n",
       "      <td>201902</td>\n",
       "      <td>3500</td>\n",
       "    </tr>\n",
       "    <tr>\n",
       "      <th>2</th>\n",
       "      <td>A02</td>\n",
       "      <td>ST0002</td>\n",
       "      <td>201901</td>\n",
       "      <td>4000</td>\n",
       "    </tr>\n",
       "    <tr>\n",
       "      <th>3</th>\n",
       "      <td>A02</td>\n",
       "      <td>ST0003</td>\n",
       "      <td>201902</td>\n",
       "      <td>7000</td>\n",
       "    </tr>\n",
       "    <tr>\n",
       "      <th>4</th>\n",
       "      <td>A02</td>\n",
       "      <td>ST0001</td>\n",
       "      <td>201901</td>\n",
       "      <td>2000</td>\n",
       "    </tr>\n",
       "    <tr>\n",
       "      <th>5</th>\n",
       "      <td>A02</td>\n",
       "      <td>ST0002</td>\n",
       "      <td>201902</td>\n",
       "      <td>2000</td>\n",
       "    </tr>\n",
       "    <tr>\n",
       "      <th>6</th>\n",
       "      <td>A02</td>\n",
       "      <td>ST0003</td>\n",
       "      <td>201901</td>\n",
       "      <td>2000</td>\n",
       "    </tr>\n",
       "    <tr>\n",
       "      <th>7</th>\n",
       "      <td>A02</td>\n",
       "      <td>ST0005</td>\n",
       "      <td>201901</td>\n",
       "      <td>2000</td>\n",
       "    </tr>\n",
       "  </tbody>\n",
       "</table>\n",
       "</div>"
      ],
      "text/plain": [
       "  REGIONID PRODUCT  YEARWEEK   QTY\n",
       "0      A01  ST0001    201901  3000\n",
       "1      A01  ST0001    201902  3500\n",
       "2      A02  ST0002    201901  4000\n",
       "3      A02  ST0003    201902  7000\n",
       "4      A02  ST0001    201901  2000\n",
       "5      A02  ST0002    201902  2000\n",
       "6      A02  ST0003    201901  2000\n",
       "7      A02  ST0005    201901  2000"
      ]
     },
     "execution_count": 7,
     "metadata": {},
     "output_type": "execute_result"
    }
   ],
   "source": [
    "unionData = joinSellout.append(newData)\n",
    "unionData = unionData.reset_index(drop=True)\n",
    "unionData"
   ]
  },
  {
   "cell_type": "code",
   "execution_count": 8,
   "id": "23990622-2ffa-4757-b01e-70861ca9e408",
   "metadata": {},
   "outputs": [
    {
     "data": {
      "text/html": [
       "<div>\n",
       "<style scoped>\n",
       "    .dataframe tbody tr th:only-of-type {\n",
       "        vertical-align: middle;\n",
       "    }\n",
       "\n",
       "    .dataframe tbody tr th {\n",
       "        vertical-align: top;\n",
       "    }\n",
       "\n",
       "    .dataframe thead th {\n",
       "        text-align: right;\n",
       "    }\n",
       "</style>\n",
       "<table border=\"1\" class=\"dataframe\">\n",
       "  <thead>\n",
       "    <tr style=\"text-align: right;\">\n",
       "      <th></th>\n",
       "      <th>REGION</th>\n",
       "      <th>PD</th>\n",
       "      <th>PROMOTION</th>\n",
       "    </tr>\n",
       "  </thead>\n",
       "  <tbody>\n",
       "    <tr>\n",
       "      <th>0</th>\n",
       "      <td>A01</td>\n",
       "      <td>ST0001</td>\n",
       "      <td>0.3</td>\n",
       "    </tr>\n",
       "    <tr>\n",
       "      <th>1</th>\n",
       "      <td>A02</td>\n",
       "      <td>ST0001</td>\n",
       "      <td>0.5</td>\n",
       "    </tr>\n",
       "    <tr>\n",
       "      <th>2</th>\n",
       "      <td>A02</td>\n",
       "      <td>ST0002</td>\n",
       "      <td>0.5</td>\n",
       "    </tr>\n",
       "    <tr>\n",
       "      <th>3</th>\n",
       "      <td>A99</td>\n",
       "      <td>ST0099</td>\n",
       "      <td>0.9</td>\n",
       "    </tr>\n",
       "  </tbody>\n",
       "</table>\n",
       "</div>"
      ],
      "text/plain": [
       "  REGION      PD  PROMOTION\n",
       "0    A01  ST0001        0.3\n",
       "1    A02  ST0001        0.5\n",
       "2    A02  ST0002        0.5\n",
       "3    A99  ST0099        0.9"
      ]
     },
     "execution_count": 8,
     "metadata": {},
     "output_type": "execute_result"
    }
   ],
   "source": [
    "row1 = [\"A01\", \"ST0001\", 0.3]\n",
    "row2 = [\"A02\", \"ST0001\", 0.5]\n",
    "row3 = [\"A02\", \"ST0002\", 0.5]\n",
    "row4 = [\"A99\", \"ST0099\", 0.9]\n",
    "promoData = pd.DataFrame([row1, row2, row3, row4], columns=[\"REGION\", \"PD\", \"PROMOTION\"])\n",
    "promoData"
   ]
  },
  {
   "cell_type": "code",
   "execution_count": null,
   "id": "d2ba1bed-f6a2-45a2-8bc4-cfea4cd5f31e",
   "metadata": {},
   "outputs": [],
   "source": []
  },
  {
   "cell_type": "code",
   "execution_count": 10,
   "id": "5c36fb3b-617c-44be-964c-a6320d25f04a",
   "metadata": {},
   "outputs": [],
   "source": [
    "## 1.메타 데이터베이스 접속 (메타데이터)\n",
    "\n",
    "import pandas as pd\n",
    "from sqlalchemy import create_engine,types\n",
    "id = \"scott\"\n",
    "pw = \"tiger\"\n",
    "ip = \"127.0.0.1\"\n",
    "port = \"1521\"\n",
    "dbName = \"str\"\n",
    "\n",
    "engine = create_engine('oracle+cx_oracle://{}:{}@{}:{}/{}'.format(id,pw,ip,port,dbName)  ) "
   ]
  },
  {
   "cell_type": "code",
   "execution_count": 12,
   "id": "89c757d5-b1bb-4876-acb4-a1365445bb27",
   "metadata": {},
   "outputs": [
    {
     "name": "stderr",
     "output_type": "stream",
     "text": [
      "C:\\Users\\2an_d\\AppData\\Local\\Temp\\ipykernel_13384\\1995137942.py:13: UserWarning: The provided table name 'KOPO_JOIN_PROMODATA' is not found exactly as such in the database after writing the table, possibly due to case sensitivity issues. Consider using lower case table names.\n",
      "  promoData.to_sql(name=resultTable, if_exists=\"replace\", con=engine,\n"
     ]
    },
    {
     "data": {
      "text/plain": [
       "4"
      ]
     },
     "execution_count": 12,
     "metadata": {},
     "output_type": "execute_result"
    }
   ],
   "source": [
    "from sqlalchemy import types\n",
    "\n",
    "#### 문자컬럼에 대해서 varchar (100) 적용 _ 사용시 속도 SpeedUp 50배 \n",
    "objectColumns = list(promoData.columns[promoData.dtypes == 'object'])\n",
    "typeDict={}\n",
    "maxLen = 100\n",
    "\n",
    "for i in range(0, len(objectColumns)):\n",
    "    # sawonData[i].str.len().max() 최대치 사용할 경우\n",
    "    typeDict[ objectColumns[i] ] = types.VARCHAR(100)\n",
    "#### 문자컬럼에 대해서 varchar (100) 적용 _ 사용시 속도 SpeedUp 50배 \n",
    "resultTable = \"KOPO_JOIN_PROMODATA\" \n",
    "promoData.to_sql(name=resultTable, if_exists=\"replace\", con=engine,\n",
    "               dtype=typeDict, index=False)"
   ]
  },
  {
   "cell_type": "code",
   "execution_count": 13,
   "id": "14ba909c-0f4f-4032-8931-1bbff8161885",
   "metadata": {},
   "outputs": [
    {
     "name": "stderr",
     "output_type": "stream",
     "text": [
      "C:\\Users\\2an_d\\AppData\\Local\\Temp\\ipykernel_13384\\2886184652.py:13: UserWarning: The provided table name 'KOPO_JOIN_UNIONDATA' is not found exactly as such in the database after writing the table, possibly due to case sensitivity issues. Consider using lower case table names.\n",
      "  unionData.to_sql(name=resultTable, if_exists=\"replace\", con=engine,\n"
     ]
    },
    {
     "data": {
      "text/plain": [
       "8"
      ]
     },
     "execution_count": 13,
     "metadata": {},
     "output_type": "execute_result"
    }
   ],
   "source": [
    "from sqlalchemy import types\n",
    "\n",
    "#### 문자컬럼에 대해서 varchar (100) 적용 _ 사용시 속도 SpeedUp 50배 \n",
    "objectColumns = list(unionData.columns[unionData.dtypes == 'object'])\n",
    "typeDict={}\n",
    "maxLen = 100\n",
    "\n",
    "for i in range(0, len(objectColumns)):\n",
    "    # sawonData[i].str.len().max() 최대치 사용할 경우\n",
    "    typeDict[ objectColumns[i] ] = types.VARCHAR(100)\n",
    "#### 문자컬럼에 대해서 varchar (100) 적용 _ 사용시 속도 SpeedUp 50배 \n",
    "resultTable = \"KOPO_JOIN_UNIONDATA\" \n",
    "unionData.to_sql(name=resultTable, if_exists=\"replace\", con=engine,\n",
    "               dtype=typeDict, index=False)"
   ]
  },
  {
   "cell_type": "code",
   "execution_count": 14,
   "id": "09cba5c9-f50a-4856-93c5-5db429ccb70f",
   "metadata": {},
   "outputs": [
    {
     "name": "stderr",
     "output_type": "stream",
     "text": [
      "C:\\Users\\2an_d\\AppData\\Local\\Temp\\ipykernel_13384\\2304881760.py:13: UserWarning: The provided table name 'KOPO_JOIN_JOINMASTER' is not found exactly as such in the database after writing the table, possibly due to case sensitivity issues. Consider using lower case table names.\n",
      "  joinMaster.to_sql(name=resultTable, if_exists=\"replace\", con=engine,\n"
     ]
    },
    {
     "data": {
      "text/plain": [
       "4"
      ]
     },
     "execution_count": 14,
     "metadata": {},
     "output_type": "execute_result"
    }
   ],
   "source": [
    "from sqlalchemy import types\n",
    "\n",
    "#### 문자컬럼에 대해서 varchar (100) 적용 _ 사용시 속도 SpeedUp 50배 \n",
    "objectColumns = list(joinMaster.columns[joinMaster.dtypes == 'object'])\n",
    "typeDict={}\n",
    "maxLen = 100\n",
    "\n",
    "for i in range(0, len(objectColumns)):\n",
    "    # sawonData[i].str.len().max() 최대치 사용할 경우\n",
    "    typeDict[ objectColumns[i] ] = types.VARCHAR(100)\n",
    "#### 문자컬럼에 대해서 varchar (100) 적용 _ 사용시 속도 SpeedUp 50배 \n",
    "resultTable = \"KOPO_JOIN_JOINMASTER\" \n",
    "joinMaster.to_sql(name=resultTable, if_exists=\"replace\", con=engine,\n",
    "               dtype=typeDict, index=False)"
   ]
  },
  {
   "cell_type": "code",
   "execution_count": 15,
   "id": "7ce58844-ca04-4e24-84cd-4bc2443ba532",
   "metadata": {},
   "outputs": [
    {
     "name": "stderr",
     "output_type": "stream",
     "text": [
      "C:\\Users\\2an_d\\AppData\\Local\\Temp\\ipykernel_13384\\4205860600.py:13: UserWarning: The provided table name 'KOPO_JOIN_JOINSELLOUT' is not found exactly as such in the database after writing the table, possibly due to case sensitivity issues. Consider using lower case table names.\n",
      "  joinSellout.to_sql(name=resultTable, if_exists=\"replace\", con=engine,\n"
     ]
    },
    {
     "data": {
      "text/plain": [
       "4"
      ]
     },
     "execution_count": 15,
     "metadata": {},
     "output_type": "execute_result"
    }
   ],
   "source": [
    "from sqlalchemy import types\n",
    "\n",
    "#### 문자컬럼에 대해서 varchar (100) 적용 _ 사용시 속도 SpeedUp 50배 \n",
    "objectColumns = list(joinSellout.columns[joinSellout.dtypes == 'object'])\n",
    "typeDict={}\n",
    "maxLen = 100\n",
    "\n",
    "for i in range(0, len(objectColumns)):\n",
    "    # sawonData[i].str.len().max() 최대치 사용할 경우\n",
    "    typeDict[ objectColumns[i] ] = types.VARCHAR(100)\n",
    "#### 문자컬럼에 대해서 varchar (100) 적용 _ 사용시 속도 SpeedUp 50배 \n",
    "resultTable = \"KOPO_JOIN_JOINSELLOUT\" \n",
    "joinSellout.to_sql(name=resultTable, if_exists=\"replace\", con=engine,\n",
    "               dtype=typeDict, index=False)"
   ]
  }
 ],
 "metadata": {
  "kernelspec": {
   "display_name": "Python 3 (ipykernel)",
   "language": "python",
   "name": "python3"
  },
  "language_info": {
   "codemirror_mode": {
    "name": "ipython",
    "version": 3
   },
   "file_extension": ".py",
   "mimetype": "text/x-python",
   "name": "python",
   "nbconvert_exporter": "python",
   "pygments_lexer": "ipython3",
   "version": "3.10.9"
  }
 },
 "nbformat": 4,
 "nbformat_minor": 5
}
