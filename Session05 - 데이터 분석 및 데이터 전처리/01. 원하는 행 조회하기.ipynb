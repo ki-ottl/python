{
 "cells": [
  {
   "cell_type": "markdown",
   "id": "c19ae89a-1bc1-4e87-9ae7-1b99592869d5",
   "metadata": {},
   "source": [
    "## 원하는 행 조회하기 (단순조회)"
   ]
  },
  {
   "cell_type": "code",
   "execution_count": 1,
   "id": "f581413f-81bb-4466-b025-66bb408ec886",
   "metadata": {},
   "outputs": [],
   "source": [
    "import pandas as pd"
   ]
  },
  {
   "cell_type": "code",
   "execution_count": 3,
   "id": "000df05b-9483-4880-892b-4a178d8b0854",
   "metadata": {},
   "outputs": [],
   "source": [
    "# CSV 파일을 읽어 Data Frame 변수에 저장하기\n",
    "customerData = pd.read_csv(\"../dataset/customerdata.csv\")"
   ]
  },
  {
   "cell_type": "code",
   "execution_count": 7,
   "id": "48fb4855-ac1f-4d76-a0cf-4cd10c0d2dd5",
   "metadata": {},
   "outputs": [
    {
     "data": {
      "text/html": [
       "<div>\n",
       "<style scoped>\n",
       "    .dataframe tbody tr th:only-of-type {\n",
       "        vertical-align: middle;\n",
       "    }\n",
       "\n",
       "    .dataframe tbody tr th {\n",
       "        vertical-align: top;\n",
       "    }\n",
       "\n",
       "    .dataframe thead th {\n",
       "        text-align: right;\n",
       "    }\n",
       "</style>\n",
       "<table border=\"1\" class=\"dataframe\">\n",
       "  <thead>\n",
       "    <tr style=\"text-align: right;\">\n",
       "      <th></th>\n",
       "      <th>CUSTID</th>\n",
       "      <th>AVGPRICE</th>\n",
       "      <th>EMI</th>\n",
       "      <th>DEVICECOUNT</th>\n",
       "      <th>PRODUCTAGE</th>\n",
       "      <th>CUSTTYPE</th>\n",
       "    </tr>\n",
       "  </thead>\n",
       "  <tbody>\n",
       "    <tr>\n",
       "      <th>0</th>\n",
       "      <td>A13566</td>\n",
       "      <td>4273.900000</td>\n",
       "      <td>3</td>\n",
       "      <td>6</td>\n",
       "      <td>1.679181</td>\n",
       "      <td>Big-Screen-lover</td>\n",
       "    </tr>\n",
       "    <tr>\n",
       "      <th>1</th>\n",
       "      <td>A14219</td>\n",
       "      <td>3642.441950</td>\n",
       "      <td>2</td>\n",
       "      <td>4</td>\n",
       "      <td>2.682023</td>\n",
       "      <td>Sleeping-dog</td>\n",
       "    </tr>\n",
       "    <tr>\n",
       "      <th>2</th>\n",
       "      <td>A15312</td>\n",
       "      <td>3653.884565</td>\n",
       "      <td>2</td>\n",
       "      <td>5</td>\n",
       "      <td>3.208202</td>\n",
       "      <td>Sleeping-dog</td>\n",
       "    </tr>\n",
       "    <tr>\n",
       "      <th>3</th>\n",
       "      <td>A16605</td>\n",
       "      <td>3713.211107</td>\n",
       "      <td>2</td>\n",
       "      <td>6</td>\n",
       "      <td>0.900000</td>\n",
       "      <td>Early-bird</td>\n",
       "    </tr>\n",
       "    <tr>\n",
       "      <th>4</th>\n",
       "      <td>B10634</td>\n",
       "      <td>3391.074215</td>\n",
       "      <td>2</td>\n",
       "      <td>4</td>\n",
       "      <td>2.453656</td>\n",
       "      <td>Sleeping-dog</td>\n",
       "    </tr>\n",
       "  </tbody>\n",
       "</table>\n",
       "</div>"
      ],
      "text/plain": [
       "   CUSTID     AVGPRICE  EMI  DEVICECOUNT  PRODUCTAGE          CUSTTYPE\n",
       "0  A13566  4273.900000    3            6    1.679181  Big-Screen-lover\n",
       "1  A14219  3642.441950    2            4    2.682023      Sleeping-dog\n",
       "2  A15312  3653.884565    2            5    3.208202      Sleeping-dog\n",
       "3  A16605  3713.211107    2            6    0.900000        Early-bird\n",
       "4  B10634  3391.074215    2            4    2.453656      Sleeping-dog"
      ]
     },
     "execution_count": 7,
     "metadata": {},
     "output_type": "execute_result"
    }
   ],
   "source": [
    "customerData.head()"
   ]
  },
  {
   "cell_type": "code",
   "execution_count": null,
   "id": "c5edceab-0285-487c-ae49-e0338a8051bb",
   "metadata": {},
   "outputs": [],
   "source": [
    "# CUSTID : 고객번호. \n",
    "# AVGPRICE : 평균 구매가격\n",
    "# EMI : 무이자할부 이용건수\n",
    "# DEVICECOUNT : 상품 구매건수\n",
    "# PRODUCTAGE : 평균 상품 지속년도\n",
    "# CUSTTYPE : 고객 타입정보"
   ]
  },
  {
   "cell_type": "code",
   "execution_count": 10,
   "id": "6726e21f-1fde-4f57-99ad-ecbeb56a946e",
   "metadata": {},
   "outputs": [
    {
     "name": "stdout",
     "output_type": "stream",
     "text": [
      "<class 'pandas.core.frame.DataFrame'>\n",
      "RangeIndex: 150 entries, 0 to 149\n",
      "Data columns (total 6 columns):\n",
      " #   Column       Non-Null Count  Dtype  \n",
      "---  ------       --------------  -----  \n",
      " 0   CUSTID       150 non-null    object \n",
      " 1   AVGPRICE     150 non-null    float64\n",
      " 2   EMI          150 non-null    int64  \n",
      " 3   DEVICECOUNT  150 non-null    int64  \n",
      " 4   PRODUCTAGE   150 non-null    float64\n",
      " 5   CUSTTYPE     150 non-null    object \n",
      "dtypes: float64(2), int64(2), object(2)\n",
      "memory usage: 7.2+ KB\n"
     ]
    }
   ],
   "source": [
    "customerData.info()"
   ]
  },
  {
   "cell_type": "code",
   "execution_count": 5,
   "id": "5abd327e-b92a-40f1-ab73-68242386eecb",
   "metadata": {},
   "outputs": [],
   "source": [
    "emiCondition = 3 # info를 통해 int인 것을 확인\n",
    "deviceCondition = 5 # info를 통해 int인 것을 확인"
   ]
  },
  {
   "cell_type": "code",
   "execution_count": null,
   "id": "718c80a4-9cbe-42e4-824a-8b765f9e207d",
   "metadata": {},
   "outputs": [],
   "source": [
    "# 데이터프레임명.loc [조건1 & 조건2]와 같이 조건을 설정하여 조회 가능하다.\n",
    "# 조건이 2개 이상인 경우에는 각각의 조건을 묶어줘야 한다는 점을 유의해야한다."
   ]
  },
  {
   "cell_type": "code",
   "execution_count": 11,
   "id": "08352255-7dc0-45f6-ae54-2ef621522a99",
   "metadata": {},
   "outputs": [],
   "source": [
    "# 조건 설정\n",
    "# 무이자 할부 3건이면서 제품구매건수가 5번 이상인 데이터 조회\n",
    "answer = customerData.loc [(customerData[\"EMI\"]==emiCondition) & (customerData[\"DEVICECOUNT\"] > deviceCondition) ]"
   ]
  },
  {
   "cell_type": "code",
   "execution_count": 15,
   "id": "9c00b23d-8f97-4b2a-a5a6-fa4893315d36",
   "metadata": {},
   "outputs": [
    {
     "data": {
      "text/plain": [
       "(150, 6)"
      ]
     },
     "execution_count": 15,
     "metadata": {},
     "output_type": "execute_result"
    }
   ],
   "source": [
    "customerData.shape"
   ]
  },
  {
   "cell_type": "code",
   "execution_count": 13,
   "id": "32528504-e8a9-4e22-840b-0a046f35625a",
   "metadata": {},
   "outputs": [
    {
     "data": {
      "text/plain": [
       "(19, 6)"
      ]
     },
     "execution_count": 13,
     "metadata": {},
     "output_type": "execute_result"
    }
   ],
   "source": [
    "answer.shape # 원 데이터는 150개의 행, 6개의 열로 구성되었었는데,\n",
    "             # 행이 19개이고, 컬럼이 6개로 정리되었다. "
   ]
  },
  {
   "cell_type": "code",
   "execution_count": 14,
   "id": "ddfddaa6-2969-425b-994e-66f344ff6c3a",
   "metadata": {},
   "outputs": [
    {
     "data": {
      "text/html": [
       "<div>\n",
       "<style scoped>\n",
       "    .dataframe tbody tr th:only-of-type {\n",
       "        vertical-align: middle;\n",
       "    }\n",
       "\n",
       "    .dataframe tbody tr th {\n",
       "        vertical-align: top;\n",
       "    }\n",
       "\n",
       "    .dataframe thead th {\n",
       "        text-align: right;\n",
       "    }\n",
       "</style>\n",
       "<table border=\"1\" class=\"dataframe\">\n",
       "  <thead>\n",
       "    <tr style=\"text-align: right;\">\n",
       "      <th></th>\n",
       "      <th>CUSTID</th>\n",
       "      <th>AVGPRICE</th>\n",
       "      <th>EMI</th>\n",
       "      <th>DEVICECOUNT</th>\n",
       "      <th>PRODUCTAGE</th>\n",
       "      <th>CUSTTYPE</th>\n",
       "    </tr>\n",
       "  </thead>\n",
       "  <tbody>\n",
       "    <tr>\n",
       "      <th>0</th>\n",
       "      <td>A13566</td>\n",
       "      <td>4273.900000</td>\n",
       "      <td>3</td>\n",
       "      <td>6</td>\n",
       "      <td>1.679181</td>\n",
       "      <td>Big-Screen-lover</td>\n",
       "    </tr>\n",
       "    <tr>\n",
       "      <th>27</th>\n",
       "      <td>F17131</td>\n",
       "      <td>3179.708359</td>\n",
       "      <td>3</td>\n",
       "      <td>6</td>\n",
       "      <td>1.100000</td>\n",
       "      <td>Early-bird</td>\n",
       "    </tr>\n",
       "    <tr>\n",
       "      <th>33</th>\n",
       "      <td>G16437</td>\n",
       "      <td>3787.328898</td>\n",
       "      <td>3</td>\n",
       "      <td>6</td>\n",
       "      <td>1.000000</td>\n",
       "      <td>Early-bird</td>\n",
       "    </tr>\n",
       "    <tr>\n",
       "      <th>36</th>\n",
       "      <td>G18402</td>\n",
       "      <td>3402.199381</td>\n",
       "      <td>3</td>\n",
       "      <td>6</td>\n",
       "      <td>1.000000</td>\n",
       "      <td>Early-bird</td>\n",
       "    </tr>\n",
       "    <tr>\n",
       "      <th>40</th>\n",
       "      <td>H16326</td>\n",
       "      <td>3988.935304</td>\n",
       "      <td>3</td>\n",
       "      <td>6</td>\n",
       "      <td>0.900000</td>\n",
       "      <td>Early-bird</td>\n",
       "    </tr>\n",
       "    <tr>\n",
       "      <th>45</th>\n",
       "      <td>I12899</td>\n",
       "      <td>3018.895637</td>\n",
       "      <td>3</td>\n",
       "      <td>6</td>\n",
       "      <td>0.900000</td>\n",
       "      <td>Early-bird</td>\n",
       "    </tr>\n",
       "    <tr>\n",
       "      <th>51</th>\n",
       "      <td>J10809</td>\n",
       "      <td>3676.135627</td>\n",
       "      <td>3</td>\n",
       "      <td>6</td>\n",
       "      <td>0.800000</td>\n",
       "      <td>Early-bird</td>\n",
       "    </tr>\n",
       "    <tr>\n",
       "      <th>52</th>\n",
       "      <td>J15083</td>\n",
       "      <td>2811.265932</td>\n",
       "      <td>3</td>\n",
       "      <td>6</td>\n",
       "      <td>0.900000</td>\n",
       "      <td>Early-bird</td>\n",
       "    </tr>\n",
       "    <tr>\n",
       "      <th>53</th>\n",
       "      <td>J16445</td>\n",
       "      <td>3041.848186</td>\n",
       "      <td>3</td>\n",
       "      <td>6</td>\n",
       "      <td>0.800000</td>\n",
       "      <td>Early-bird</td>\n",
       "    </tr>\n",
       "    <tr>\n",
       "      <th>60</th>\n",
       "      <td>L13892</td>\n",
       "      <td>3263.515145</td>\n",
       "      <td>3</td>\n",
       "      <td>6</td>\n",
       "      <td>1.100000</td>\n",
       "      <td>Early-bird</td>\n",
       "    </tr>\n",
       "    <tr>\n",
       "      <th>67</th>\n",
       "      <td>N13273</td>\n",
       "      <td>3839.694732</td>\n",
       "      <td>3</td>\n",
       "      <td>6</td>\n",
       "      <td>1.100000</td>\n",
       "      <td>Early-bird</td>\n",
       "    </tr>\n",
       "    <tr>\n",
       "      <th>95</th>\n",
       "      <td>R16364</td>\n",
       "      <td>3592.353540</td>\n",
       "      <td>3</td>\n",
       "      <td>6</td>\n",
       "      <td>0.900000</td>\n",
       "      <td>Early-bird</td>\n",
       "    </tr>\n",
       "    <tr>\n",
       "      <th>107</th>\n",
       "      <td>S17396</td>\n",
       "      <td>3895.200000</td>\n",
       "      <td>3</td>\n",
       "      <td>6</td>\n",
       "      <td>2.055707</td>\n",
       "      <td>Big-Screen-lover</td>\n",
       "    </tr>\n",
       "    <tr>\n",
       "      <th>113</th>\n",
       "      <td>T11473</td>\n",
       "      <td>4165.700000</td>\n",
       "      <td>3</td>\n",
       "      <td>6</td>\n",
       "      <td>1.780674</td>\n",
       "      <td>Big-Screen-lover</td>\n",
       "    </tr>\n",
       "    <tr>\n",
       "      <th>126</th>\n",
       "      <td>V18566</td>\n",
       "      <td>3527.701867</td>\n",
       "      <td>3</td>\n",
       "      <td>6</td>\n",
       "      <td>0.900000</td>\n",
       "      <td>Early-bird</td>\n",
       "    </tr>\n",
       "    <tr>\n",
       "      <th>130</th>\n",
       "      <td>W13404</td>\n",
       "      <td>4296.873743</td>\n",
       "      <td>3</td>\n",
       "      <td>6</td>\n",
       "      <td>1.100000</td>\n",
       "      <td>Early-bird</td>\n",
       "    </tr>\n",
       "    <tr>\n",
       "      <th>135</th>\n",
       "      <td>X13390</td>\n",
       "      <td>2947.543982</td>\n",
       "      <td>3</td>\n",
       "      <td>6</td>\n",
       "      <td>1.100000</td>\n",
       "      <td>Early-bird</td>\n",
       "    </tr>\n",
       "    <tr>\n",
       "      <th>142</th>\n",
       "      <td>Z11525</td>\n",
       "      <td>3259.018704</td>\n",
       "      <td>3</td>\n",
       "      <td>6</td>\n",
       "      <td>0.900000</td>\n",
       "      <td>Early-bird</td>\n",
       "    </tr>\n",
       "    <tr>\n",
       "      <th>146</th>\n",
       "      <td>Z13534</td>\n",
       "      <td>3662.437527</td>\n",
       "      <td>3</td>\n",
       "      <td>6</td>\n",
       "      <td>0.900000</td>\n",
       "      <td>Early-bird</td>\n",
       "    </tr>\n",
       "  </tbody>\n",
       "</table>\n",
       "</div>"
      ],
      "text/plain": [
       "     CUSTID     AVGPRICE  EMI  DEVICECOUNT  PRODUCTAGE          CUSTTYPE\n",
       "0    A13566  4273.900000    3            6    1.679181  Big-Screen-lover\n",
       "27   F17131  3179.708359    3            6    1.100000        Early-bird\n",
       "33   G16437  3787.328898    3            6    1.000000        Early-bird\n",
       "36   G18402  3402.199381    3            6    1.000000        Early-bird\n",
       "40   H16326  3988.935304    3            6    0.900000        Early-bird\n",
       "45   I12899  3018.895637    3            6    0.900000        Early-bird\n",
       "51   J10809  3676.135627    3            6    0.800000        Early-bird\n",
       "52   J15083  2811.265932    3            6    0.900000        Early-bird\n",
       "53   J16445  3041.848186    3            6    0.800000        Early-bird\n",
       "60   L13892  3263.515145    3            6    1.100000        Early-bird\n",
       "67   N13273  3839.694732    3            6    1.100000        Early-bird\n",
       "95   R16364  3592.353540    3            6    0.900000        Early-bird\n",
       "107  S17396  3895.200000    3            6    2.055707  Big-Screen-lover\n",
       "113  T11473  4165.700000    3            6    1.780674  Big-Screen-lover\n",
       "126  V18566  3527.701867    3            6    0.900000        Early-bird\n",
       "130  W13404  4296.873743    3            6    1.100000        Early-bird\n",
       "135  X13390  2947.543982    3            6    1.100000        Early-bird\n",
       "142  Z11525  3259.018704    3            6    0.900000        Early-bird\n",
       "146  Z13534  3662.437527    3            6    0.900000        Early-bird"
      ]
     },
     "execution_count": 14,
     "metadata": {},
     "output_type": "execute_result"
    }
   ],
   "source": [
    "answer"
   ]
  },
  {
   "cell_type": "code",
   "execution_count": null,
   "id": "47610b63-49a7-4b53-b0c0-db2099645666",
   "metadata": {},
   "outputs": [],
   "source": [
    "# 실수할 수 있는 포인트\n",
    "# 비교시에는 형태가 일치해야 알맞은 정보를 추출할 수 있다."
   ]
  },
  {
   "cell_type": "code",
   "execution_count": 18,
   "id": "6e0b6135-d9bf-484c-9d13-9ad92ce46f27",
   "metadata": {},
   "outputs": [
    {
     "data": {
      "text/plain": [
       "CUSTID          object\n",
       "AVGPRICE       float64\n",
       "EMI              int64\n",
       "DEVICECOUNT      int64\n",
       "PRODUCTAGE     float64\n",
       "CUSTTYPE        object\n",
       "dtype: object"
      ]
     },
     "execution_count": 18,
     "metadata": {},
     "output_type": "execute_result"
    }
   ],
   "source": [
    "# dtypes를 통해 타입들만 찍어볼 수 있다.\n",
    "customerData.dtypes "
   ]
  },
  {
   "cell_type": "code",
   "execution_count": null,
   "id": "ae31a570-4722-4740-95a7-071890cdfb94",
   "metadata": {},
   "outputs": [],
   "source": [
    "# 타입을 바꿀 땐 .astype을 사용한다\n",
    "# 데이터프레임명[\"컬럼명\"] = 데이터프레임명[\"컬럼명\"].astype(변경할 타입)\n",
    "# 데이터프레임명 = 데이터프레임명.astype({\"컬럼명\":변경할 타입})"
   ]
  },
  {
   "cell_type": "code",
   "execution_count": 19,
   "id": "a332f5e8-30b1-45e7-8b07-b3141c0930fb",
   "metadata": {},
   "outputs": [],
   "source": [
    "customerData[\"EMI\"] = customerData[\"EMI\"].astype(str)\n",
    "# customerData.EMI = customerData[\"EMI\"].astype(str)으로 바꿀 수 있지만 없는 컬럼을 생성할 경우에 오류 발생."
   ]
  },
  {
   "cell_type": "code",
   "execution_count": 20,
   "id": "fdbba747-b2ec-46e0-838e-aa218dd9cb1e",
   "metadata": {},
   "outputs": [
    {
     "data": {
      "text/plain": [
       "CUSTID          object\n",
       "AVGPRICE       float64\n",
       "EMI             object\n",
       "DEVICECOUNT      int64\n",
       "PRODUCTAGE     float64\n",
       "CUSTTYPE        object\n",
       "dtype: object"
      ]
     },
     "execution_count": 20,
     "metadata": {},
     "output_type": "execute_result"
    }
   ],
   "source": [
    "customerData.dtypes"
   ]
  },
  {
   "cell_type": "code",
   "execution_count": 23,
   "id": "86d726eb-7ee4-4f40-8a65-387daf5d97cf",
   "metadata": {},
   "outputs": [],
   "source": [
    "customerData = customerData.astype({\"EMI\":int, \"DEVICECOUNT\":str } )"
   ]
  },
  {
   "cell_type": "code",
   "execution_count": 24,
   "id": "30014582-0d3f-4c98-ae8d-76fd9decae89",
   "metadata": {},
   "outputs": [
    {
     "data": {
      "text/plain": [
       "CUSTID          object\n",
       "AVGPRICE       float64\n",
       "EMI              int32\n",
       "DEVICECOUNT     object\n",
       "PRODUCTAGE     float64\n",
       "CUSTTYPE        object\n",
       "dtype: object"
      ]
     },
     "execution_count": 24,
     "metadata": {},
     "output_type": "execute_result"
    }
   ],
   "source": [
    "customerData.dtypes "
   ]
  },
  {
   "cell_type": "markdown",
   "id": "cf219094-0b00-4324-b3cb-39737f2495fc",
   "metadata": {},
   "source": [
    "## 원하는 행 조회하기 (컬럼 내 다중 포함 값)"
   ]
  },
  {
   "cell_type": "code",
   "execution_count": 25,
   "id": "5586e52c-d65b-4f4d-94ce-03fefba5a89d",
   "metadata": {},
   "outputs": [],
   "source": [
    "# CSV 파일을 읽어 Data Frame 변수에 저장하기\n",
    "customerData = pd.read_csv(\"../dataset/customerdata.csv\")"
   ]
  },
  {
   "cell_type": "code",
   "execution_count": 27,
   "id": "37ab16ef-6e18-4dce-9da2-b910862120f6",
   "metadata": {},
   "outputs": [
    {
     "data": {
      "text/html": [
       "<div>\n",
       "<style scoped>\n",
       "    .dataframe tbody tr th:only-of-type {\n",
       "        vertical-align: middle;\n",
       "    }\n",
       "\n",
       "    .dataframe tbody tr th {\n",
       "        vertical-align: top;\n",
       "    }\n",
       "\n",
       "    .dataframe thead th {\n",
       "        text-align: right;\n",
       "    }\n",
       "</style>\n",
       "<table border=\"1\" class=\"dataframe\">\n",
       "  <thead>\n",
       "    <tr style=\"text-align: right;\">\n",
       "      <th></th>\n",
       "      <th>CUSTID</th>\n",
       "      <th>AVGPRICE</th>\n",
       "      <th>EMI</th>\n",
       "      <th>DEVICECOUNT</th>\n",
       "      <th>PRODUCTAGE</th>\n",
       "      <th>CUSTTYPE</th>\n",
       "    </tr>\n",
       "  </thead>\n",
       "  <tbody>\n",
       "    <tr>\n",
       "      <th>2</th>\n",
       "      <td>A15312</td>\n",
       "      <td>3653.884565</td>\n",
       "      <td>2</td>\n",
       "      <td>5</td>\n",
       "      <td>3.208202</td>\n",
       "      <td>Sleeping-dog</td>\n",
       "    </tr>\n",
       "    <tr>\n",
       "      <th>3</th>\n",
       "      <td>A16605</td>\n",
       "      <td>3713.211107</td>\n",
       "      <td>2</td>\n",
       "      <td>6</td>\n",
       "      <td>0.900000</td>\n",
       "      <td>Early-bird</td>\n",
       "    </tr>\n",
       "  </tbody>\n",
       "</table>\n",
       "</div>"
      ],
      "text/plain": [
       "   CUSTID     AVGPRICE  EMI  DEVICECOUNT  PRODUCTAGE      CUSTTYPE\n",
       "2  A15312  3653.884565    2            5    3.208202  Sleeping-dog\n",
       "3  A16605  3713.211107    2            6    0.900000    Early-bird"
      ]
     },
     "execution_count": 27,
     "metadata": {},
     "output_type": "execute_result"
    }
   ],
   "source": [
    "# 리스트를 이용하여 인덱스에 활용해 원하는 행을 조회할 수 있다. \n",
    "customerData.loc[ [2,3] ]"
   ]
  },
  {
   "cell_type": "code",
   "execution_count": 28,
   "id": "a0fc9728-db4d-4dc4-a2e3-fe1f84955926",
   "metadata": {},
   "outputs": [
    {
     "data": {
      "text/html": [
       "<div>\n",
       "<style scoped>\n",
       "    .dataframe tbody tr th:only-of-type {\n",
       "        vertical-align: middle;\n",
       "    }\n",
       "\n",
       "    .dataframe tbody tr th {\n",
       "        vertical-align: top;\n",
       "    }\n",
       "\n",
       "    .dataframe thead th {\n",
       "        text-align: right;\n",
       "    }\n",
       "</style>\n",
       "<table border=\"1\" class=\"dataframe\">\n",
       "  <thead>\n",
       "    <tr style=\"text-align: right;\">\n",
       "      <th></th>\n",
       "      <th>CUSTID</th>\n",
       "      <th>AVGPRICE</th>\n",
       "      <th>EMI</th>\n",
       "      <th>DEVICECOUNT</th>\n",
       "      <th>PRODUCTAGE</th>\n",
       "      <th>CUSTTYPE</th>\n",
       "    </tr>\n",
       "  </thead>\n",
       "  <tbody>\n",
       "    <tr>\n",
       "      <th>2</th>\n",
       "      <td>A15312</td>\n",
       "      <td>3653.884565</td>\n",
       "      <td>2</td>\n",
       "      <td>5</td>\n",
       "      <td>3.208202</td>\n",
       "      <td>Sleeping-dog</td>\n",
       "    </tr>\n",
       "    <tr>\n",
       "      <th>3</th>\n",
       "      <td>A16605</td>\n",
       "      <td>3713.211107</td>\n",
       "      <td>2</td>\n",
       "      <td>6</td>\n",
       "      <td>0.900000</td>\n",
       "      <td>Early-bird</td>\n",
       "    </tr>\n",
       "    <tr>\n",
       "      <th>4</th>\n",
       "      <td>B10634</td>\n",
       "      <td>3391.074215</td>\n",
       "      <td>2</td>\n",
       "      <td>4</td>\n",
       "      <td>2.453656</td>\n",
       "      <td>Sleeping-dog</td>\n",
       "    </tr>\n",
       "    <tr>\n",
       "      <th>5</th>\n",
       "      <td>B16849</td>\n",
       "      <td>3755.263391</td>\n",
       "      <td>2</td>\n",
       "      <td>4</td>\n",
       "      <td>2.786665</td>\n",
       "      <td>Sleeping-dog</td>\n",
       "    </tr>\n",
       "    <tr>\n",
       "      <th>6</th>\n",
       "      <td>B18816</td>\n",
       "      <td>3213.911446</td>\n",
       "      <td>2</td>\n",
       "      <td>6</td>\n",
       "      <td>0.900000</td>\n",
       "      <td>Early-bird</td>\n",
       "    </tr>\n",
       "    <tr>\n",
       "      <th>...</th>\n",
       "      <td>...</td>\n",
       "      <td>...</td>\n",
       "      <td>...</td>\n",
       "      <td>...</td>\n",
       "      <td>...</td>\n",
       "      <td>...</td>\n",
       "    </tr>\n",
       "    <tr>\n",
       "      <th>145</th>\n",
       "      <td>Z13253</td>\n",
       "      <td>3678.800000</td>\n",
       "      <td>2</td>\n",
       "      <td>5</td>\n",
       "      <td>2.463670</td>\n",
       "      <td>Big-Screen-lover</td>\n",
       "    </tr>\n",
       "    <tr>\n",
       "      <th>146</th>\n",
       "      <td>Z13534</td>\n",
       "      <td>3662.437527</td>\n",
       "      <td>3</td>\n",
       "      <td>6</td>\n",
       "      <td>0.900000</td>\n",
       "      <td>Early-bird</td>\n",
       "    </tr>\n",
       "    <tr>\n",
       "      <th>147</th>\n",
       "      <td>Z16428</td>\n",
       "      <td>3516.500000</td>\n",
       "      <td>2</td>\n",
       "      <td>5</td>\n",
       "      <td>2.371301</td>\n",
       "      <td>Big-Screen-lover</td>\n",
       "    </tr>\n",
       "    <tr>\n",
       "      <th>148</th>\n",
       "      <td>Z16735</td>\n",
       "      <td>3300.100000</td>\n",
       "      <td>2</td>\n",
       "      <td>5</td>\n",
       "      <td>1.704942</td>\n",
       "      <td>Big-Screen-lover</td>\n",
       "    </tr>\n",
       "    <tr>\n",
       "      <th>149</th>\n",
       "      <td>Z19835</td>\n",
       "      <td>3326.526183</td>\n",
       "      <td>2</td>\n",
       "      <td>6</td>\n",
       "      <td>1.200000</td>\n",
       "      <td>Early-bird</td>\n",
       "    </tr>\n",
       "  </tbody>\n",
       "</table>\n",
       "<p>148 rows × 6 columns</p>\n",
       "</div>"
      ],
      "text/plain": [
       "     CUSTID     AVGPRICE  EMI  DEVICECOUNT  PRODUCTAGE          CUSTTYPE\n",
       "2    A15312  3653.884565    2            5    3.208202      Sleeping-dog\n",
       "3    A16605  3713.211107    2            6    0.900000        Early-bird\n",
       "4    B10634  3391.074215    2            4    2.453656      Sleeping-dog\n",
       "5    B16849  3755.263391    2            4    2.786665      Sleeping-dog\n",
       "6    B18816  3213.911446    2            6    0.900000        Early-bird\n",
       "..      ...          ...  ...          ...         ...               ...\n",
       "145  Z13253  3678.800000    2            5    2.463670  Big-Screen-lover\n",
       "146  Z13534  3662.437527    3            6    0.900000        Early-bird\n",
       "147  Z16428  3516.500000    2            5    2.371301  Big-Screen-lover\n",
       "148  Z16735  3300.100000    2            5    1.704942  Big-Screen-lover\n",
       "149  Z19835  3326.526183    2            6    1.200000        Early-bird\n",
       "\n",
       "[148 rows x 6 columns]"
      ]
     },
     "execution_count": 28,
     "metadata": {},
     "output_type": "execute_result"
    }
   ],
   "source": [
    "# 2부터 전부 다 조회\n",
    "customerData.loc[ 2 : ]"
   ]
  },
  {
   "cell_type": "code",
   "execution_count": null,
   "id": "2d8d6676-cf23-41e3-975d-d5b9b2fbf1c9",
   "metadata": {},
   "outputs": [],
   "source": []
  }
 ],
 "metadata": {
  "kernelspec": {
   "display_name": "Python 3 (ipykernel)",
   "language": "python",
   "name": "python3"
  },
  "language_info": {
   "codemirror_mode": {
    "name": "ipython",
    "version": 3
   },
   "file_extension": ".py",
   "mimetype": "text/x-python",
   "name": "python",
   "nbconvert_exporter": "python",
   "pygments_lexer": "ipython3",
   "version": "3.9.13"
  }
 },
 "nbformat": 4,
 "nbformat_minor": 5
}
