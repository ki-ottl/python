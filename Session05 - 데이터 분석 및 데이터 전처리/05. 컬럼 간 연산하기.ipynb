{
 "cells": [
  {
   "cell_type": "markdown",
   "id": "7f92e589-5fde-41d8-864e-56473c4d080d",
   "metadata": {},
   "source": [
    "# 05. 컬럼 간 연산하기"
   ]
  },
  {
   "cell_type": "code",
   "execution_count": null,
   "id": "f2d56bac-dd5a-44e0-b477-5732ce6e333a",
   "metadata": {},
   "outputs": [],
   "source": []
  },
  {
   "cell_type": "markdown",
   "id": "f8b21933-daac-4bd3-9749-14a64c26fae9",
   "metadata": {},
   "source": [
    "### 문자열 연산을 하고싶다면 '.str'을 써준다"
   ]
  },
  {
   "cell_type": "markdown",
   "id": "7527eca9-e253-4c7c-b094-480d7911fcf8",
   "metadata": {},
   "source": [
    "### 타입을 변경해야한다면 '.astype(str)'을 써준다"
   ]
  },
  {
   "cell_type": "code",
   "execution_count": null,
   "id": "4f9a1ee4-73dd-4332-92a7-c6533ce6c2e7",
   "metadata": {},
   "outputs": [],
   "source": []
  },
  {
   "cell_type": "code",
   "execution_count": 1,
   "id": "2a05d30b-fcd4-4d99-896f-196cc909a8d8",
   "metadata": {},
   "outputs": [],
   "source": [
    "import pandas as pd"
   ]
  },
  {
   "cell_type": "code",
   "execution_count": 3,
   "id": "2a7d5c2a-7b37-4a7d-8847-a02387ce78df",
   "metadata": {},
   "outputs": [],
   "source": [
    "customerData = pd.read_csv(\"../dataset/customerdata.csv\")"
   ]
  },
  {
   "cell_type": "code",
   "execution_count": 7,
   "id": "075eb275-95dd-465e-a3fc-df171b8dcee5",
   "metadata": {},
   "outputs": [
    {
     "data": {
      "text/plain": [
       "CUSTID          object\n",
       "AVGPRICE       float64\n",
       "EMI              int64\n",
       "DEVICECOUNT      int64\n",
       "PRODUCTAGE     float64\n",
       "CUSTTYPE        object\n",
       "NEW_COLUMN      object\n",
       "dtype: object"
      ]
     },
     "execution_count": 7,
     "metadata": {},
     "output_type": "execute_result"
    }
   ],
   "source": [
    "customerData.dtypes"
   ]
  },
  {
   "cell_type": "code",
   "execution_count": null,
   "id": "1b20660b-b142-4ebf-8220-40cdc670ba31",
   "metadata": {},
   "outputs": [],
   "source": [
    "# EMI의 형태가 int이기 때문에 문자열 결합을 위해 임시 형변환\n",
    "# customerData.CUSTID.str : 문자열 연산을 하겠다!\n",
    "# customerData.CUSTID.str.replace(\"A\", \"AA\") : 이런 것도 가능하다!"
   ]
  },
  {
   "cell_type": "code",
   "execution_count": 5,
   "id": "b2c797fe-5077-4aa9-90c2-7706e8198931",
   "metadata": {},
   "outputs": [],
   "source": [
    "customerData[\"NEW_COLUMN\"] = customerData.CUSTID.str[1:]+\"_\"+customerData.EMI.astype(str) #astype 안해주면 type error"
   ]
  },
  {
   "cell_type": "code",
   "execution_count": 6,
   "id": "92cc6854-e328-4be1-9296-4b2585e14b4a",
   "metadata": {},
   "outputs": [
    {
     "data": {
      "text/html": [
       "<div>\n",
       "<style scoped>\n",
       "    .dataframe tbody tr th:only-of-type {\n",
       "        vertical-align: middle;\n",
       "    }\n",
       "\n",
       "    .dataframe tbody tr th {\n",
       "        vertical-align: top;\n",
       "    }\n",
       "\n",
       "    .dataframe thead th {\n",
       "        text-align: right;\n",
       "    }\n",
       "</style>\n",
       "<table border=\"1\" class=\"dataframe\">\n",
       "  <thead>\n",
       "    <tr style=\"text-align: right;\">\n",
       "      <th></th>\n",
       "      <th>CUSTID</th>\n",
       "      <th>AVGPRICE</th>\n",
       "      <th>EMI</th>\n",
       "      <th>DEVICECOUNT</th>\n",
       "      <th>PRODUCTAGE</th>\n",
       "      <th>CUSTTYPE</th>\n",
       "      <th>NEW_COLUMN</th>\n",
       "    </tr>\n",
       "  </thead>\n",
       "  <tbody>\n",
       "    <tr>\n",
       "      <th>0</th>\n",
       "      <td>A13566</td>\n",
       "      <td>4273.900000</td>\n",
       "      <td>3</td>\n",
       "      <td>6</td>\n",
       "      <td>1.679181</td>\n",
       "      <td>Big-Screen-lover</td>\n",
       "      <td>13566_3</td>\n",
       "    </tr>\n",
       "    <tr>\n",
       "      <th>1</th>\n",
       "      <td>A14219</td>\n",
       "      <td>3642.441950</td>\n",
       "      <td>2</td>\n",
       "      <td>4</td>\n",
       "      <td>2.682023</td>\n",
       "      <td>Sleeping-dog</td>\n",
       "      <td>14219_2</td>\n",
       "    </tr>\n",
       "    <tr>\n",
       "      <th>2</th>\n",
       "      <td>A15312</td>\n",
       "      <td>3653.884565</td>\n",
       "      <td>2</td>\n",
       "      <td>5</td>\n",
       "      <td>3.208202</td>\n",
       "      <td>Sleeping-dog</td>\n",
       "      <td>15312_2</td>\n",
       "    </tr>\n",
       "    <tr>\n",
       "      <th>3</th>\n",
       "      <td>A16605</td>\n",
       "      <td>3713.211107</td>\n",
       "      <td>2</td>\n",
       "      <td>6</td>\n",
       "      <td>0.900000</td>\n",
       "      <td>Early-bird</td>\n",
       "      <td>16605_2</td>\n",
       "    </tr>\n",
       "    <tr>\n",
       "      <th>4</th>\n",
       "      <td>B10634</td>\n",
       "      <td>3391.074215</td>\n",
       "      <td>2</td>\n",
       "      <td>4</td>\n",
       "      <td>2.453656</td>\n",
       "      <td>Sleeping-dog</td>\n",
       "      <td>10634_2</td>\n",
       "    </tr>\n",
       "  </tbody>\n",
       "</table>\n",
       "</div>"
      ],
      "text/plain": [
       "   CUSTID     AVGPRICE  EMI  DEVICECOUNT  PRODUCTAGE          CUSTTYPE  \\\n",
       "0  A13566  4273.900000    3            6    1.679181  Big-Screen-lover   \n",
       "1  A14219  3642.441950    2            4    2.682023      Sleeping-dog   \n",
       "2  A15312  3653.884565    2            5    3.208202      Sleeping-dog   \n",
       "3  A16605  3713.211107    2            6    0.900000        Early-bird   \n",
       "4  B10634  3391.074215    2            4    2.453656      Sleeping-dog   \n",
       "\n",
       "  NEW_COLUMN  \n",
       "0    13566_3  \n",
       "1    14219_2  \n",
       "2    15312_2  \n",
       "3    16605_2  \n",
       "4    10634_2  "
      ]
     },
     "execution_count": 6,
     "metadata": {},
     "output_type": "execute_result"
    }
   ],
   "source": [
    "customerData.head()"
   ]
  },
  {
   "cell_type": "code",
   "execution_count": null,
   "id": "2e7f93a3-80e2-4195-a2c1-8434d75428bc",
   "metadata": {},
   "outputs": [],
   "source": []
  },
  {
   "cell_type": "markdown",
   "id": "dc22faf2-5ac0-4ad1-bd1a-9635c4f0164c",
   "metadata": {},
   "source": [
    "## 조회한 데이터 가져오기"
   ]
  },
  {
   "cell_type": "code",
   "execution_count": null,
   "id": "6dd377e8-d569-4d11-b7a2-956228c73a5e",
   "metadata": {},
   "outputs": [],
   "source": []
  },
  {
   "cell_type": "code",
   "execution_count": 10,
   "id": "680c77ee-6171-4cfc-833c-cb351dd8af18",
   "metadata": {},
   "outputs": [],
   "source": [
    "customerList = [\"A14219\", \"A13566\"]"
   ]
  },
  {
   "cell_type": "code",
   "execution_count": 14,
   "id": "6ea30972-e6fd-4f1e-96fb-de1632c6a0fc",
   "metadata": {},
   "outputs": [
    {
     "data": {
      "text/html": [
       "<div>\n",
       "<style scoped>\n",
       "    .dataframe tbody tr th:only-of-type {\n",
       "        vertical-align: middle;\n",
       "    }\n",
       "\n",
       "    .dataframe tbody tr th {\n",
       "        vertical-align: top;\n",
       "    }\n",
       "\n",
       "    .dataframe thead th {\n",
       "        text-align: right;\n",
       "    }\n",
       "</style>\n",
       "<table border=\"1\" class=\"dataframe\">\n",
       "  <thead>\n",
       "    <tr style=\"text-align: right;\">\n",
       "      <th></th>\n",
       "      <th>CUSTID</th>\n",
       "      <th>AVGPRICE</th>\n",
       "      <th>EMI</th>\n",
       "      <th>DEVICECOUNT</th>\n",
       "      <th>PRODUCTAGE</th>\n",
       "      <th>CUSTTYPE</th>\n",
       "      <th>NEW_COLUMN</th>\n",
       "    </tr>\n",
       "  </thead>\n",
       "  <tbody>\n",
       "    <tr>\n",
       "      <th>0</th>\n",
       "      <td>A13566</td>\n",
       "      <td>4273.90000</td>\n",
       "      <td>3</td>\n",
       "      <td>6</td>\n",
       "      <td>1.679181</td>\n",
       "      <td>Big-Screen-lover</td>\n",
       "      <td>13566_3</td>\n",
       "    </tr>\n",
       "    <tr>\n",
       "      <th>1</th>\n",
       "      <td>A14219</td>\n",
       "      <td>3642.44195</td>\n",
       "      <td>2</td>\n",
       "      <td>4</td>\n",
       "      <td>2.682023</td>\n",
       "      <td>Sleeping-dog</td>\n",
       "      <td>14219_2</td>\n",
       "    </tr>\n",
       "  </tbody>\n",
       "</table>\n",
       "</div>"
      ],
      "text/plain": [
       "   CUSTID    AVGPRICE  EMI  DEVICECOUNT  PRODUCTAGE          CUSTTYPE  \\\n",
       "0  A13566  4273.90000    3            6    1.679181  Big-Screen-lover   \n",
       "1  A14219  3642.44195    2            4    2.682023      Sleeping-dog   \n",
       "\n",
       "  NEW_COLUMN  \n",
       "0    13566_3  \n",
       "1    14219_2  "
      ]
     },
     "execution_count": 14,
     "metadata": {},
     "output_type": "execute_result"
    }
   ],
   "source": [
    "# customerData 안에 CUSTID 컬럼에 customerList가 있다면 조회하라!\n",
    "customerData.loc[ customerData.CUSTID.isin(customerList) ]"
   ]
  },
  {
   "cell_type": "code",
   "execution_count": 16,
   "id": "c24b8921-0398-414c-a2ed-e5548362129d",
   "metadata": {},
   "outputs": [
    {
     "data": {
      "text/plain": [
       "array([1.67918085, 2.68202302])"
      ]
     },
     "execution_count": 16,
     "metadata": {},
     "output_type": "execute_result"
    }
   ],
   "source": [
    "# customerData 안에 CUSTID 컬럼에 customerList가 있다면 조회하라! 그 중에서 customerList의 PRODUCTAGE를 깂을 변수 안에 넣고 싶다!\n",
    "returnValue = customerData.loc[ customerData.CUSTID.isin(customerList), \"PRODUCTAGE\"].values\n",
    "returnValue "
   ]
  },
  {
   "cell_type": "code",
   "execution_count": 18,
   "id": "7eea1a91-e1b3-4edd-8c8f-a58feacc8fb5",
   "metadata": {},
   "outputs": [
    {
     "data": {
      "text/plain": [
       "1.67918084803969"
      ]
     },
     "execution_count": 18,
     "metadata": {},
     "output_type": "execute_result"
    }
   ],
   "source": [
    "# 배열에 담겨서 인덱스로 확인 가능\n",
    "returnValue[0]"
   ]
  },
  {
   "cell_type": "code",
   "execution_count": null,
   "id": "39f9a366-9c33-4b6f-b453-7a5a4351534b",
   "metadata": {},
   "outputs": [],
   "source": [
    "# for문을 이용해서 값을 하나씩 꺼내오는 것도 가능"
   ]
  }
 ],
 "metadata": {
  "kernelspec": {
   "display_name": "Python 3 (ipykernel)",
   "language": "python",
   "name": "python3"
  },
  "language_info": {
   "codemirror_mode": {
    "name": "ipython",
    "version": 3
   },
   "file_extension": ".py",
   "mimetype": "text/x-python",
   "name": "python",
   "nbconvert_exporter": "python",
   "pygments_lexer": "ipython3",
   "version": "3.9.13"
  }
 },
 "nbformat": 4,
 "nbformat_minor": 5
}
