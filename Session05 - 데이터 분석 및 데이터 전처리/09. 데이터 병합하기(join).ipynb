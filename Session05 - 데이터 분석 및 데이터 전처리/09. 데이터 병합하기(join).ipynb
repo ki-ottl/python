{
 "cells": [
  {
   "cell_type": "markdown",
   "id": "9ea92528-6816-4121-b544-a13551e7d743",
   "metadata": {},
   "source": [
    "# 09. 데이터 병합하기(join)"
   ]
  },
  {
   "cell_type": "code",
   "execution_count": null,
   "id": "0caaf9b7-6f85-426e-8ecc-fc47ef03511e",
   "metadata": {},
   "outputs": [],
   "source": []
  },
  {
   "cell_type": "markdown",
   "id": "af78e680-fb78-410f-8117-1c9a1539fb40",
   "metadata": {},
   "source": [
    "## 1. 속성값을 추가하는 경우"
   ]
  },
  {
   "cell_type": "code",
   "execution_count": null,
   "id": "8cd723a7-7b2f-487c-822d-eba1a4cc48d9",
   "metadata": {},
   "outputs": [],
   "source": [
    "# pd.merge(left = 데이터프레임명1,\n",
    "#          right = 데이터프레임명2,\n",
    "#          left_on=\"데이터프레임1 조인키\",\n",
    "#          right_on = \"데이터프레임2 조인키\",\n",
    "#          how=\"조인방법\") ex) inner, left, right, outer"
   ]
  },
  {
   "cell_type": "code",
   "execution_count": null,
   "id": "974362ac-01c5-49f8-84ac-913903d63015",
   "metadata": {},
   "outputs": [],
   "source": [
    "# 조인방법\n",
    "# INNER JOIN(교집합) : 자료의 공통 속성인 조인키를 정의한 후 키를 기준으로 추가 속성자료 붙임(서로 키 값이 있는 경우만 조인)\n",
    "# LEFT JOIN : 기준이 되는 데이터는 무조건 살린다\n",
    "# RIGHT JOIN : 붙이는 데이터는 무조건 살린다\n",
    "# OUTER JOIN : 기준이 되는 데이터와 붙이는 데이터 둘 다 살린다"
   ]
  },
  {
   "cell_type": "code",
   "execution_count": null,
   "id": "836e91be-d262-4b24-9dc1-24833701b4df",
   "metadata": {},
   "outputs": [],
   "source": [
    "# cf) left_on과 right_on에 명시만 해준다면 컬럼명이 달라도 조인 가능"
   ]
  },
  {
   "cell_type": "code",
   "execution_count": null,
   "id": "7fb1663b-4ca0-43ce-889a-82f0e780fb3e",
   "metadata": {},
   "outputs": [],
   "source": []
  },
  {
   "cell_type": "code",
   "execution_count": 1,
   "id": "c8b93e22-fd24-46c3-9f9c-c9eca9d920cf",
   "metadata": {},
   "outputs": [],
   "source": [
    "import pandas as pd"
   ]
  },
  {
   "cell_type": "code",
   "execution_count": 2,
   "id": "866d0baf-013c-44f5-b95b-14dd72fe1722",
   "metadata": {},
   "outputs": [
    {
     "data": {
      "text/html": [
       "<div>\n",
       "<style scoped>\n",
       "    .dataframe tbody tr th:only-of-type {\n",
       "        vertical-align: middle;\n",
       "    }\n",
       "\n",
       "    .dataframe tbody tr th {\n",
       "        vertical-align: top;\n",
       "    }\n",
       "\n",
       "    .dataframe thead th {\n",
       "        text-align: right;\n",
       "    }\n",
       "</style>\n",
       "<table border=\"1\" class=\"dataframe\">\n",
       "  <thead>\n",
       "    <tr style=\"text-align: right;\">\n",
       "      <th></th>\n",
       "      <th>REGIONID</th>\n",
       "      <th>PRODUCT</th>\n",
       "      <th>YEARWEEK</th>\n",
       "      <th>QTY</th>\n",
       "    </tr>\n",
       "  </thead>\n",
       "  <tbody>\n",
       "    <tr>\n",
       "      <th>0</th>\n",
       "      <td>A01</td>\n",
       "      <td>ST0001</td>\n",
       "      <td>201901</td>\n",
       "      <td>3000</td>\n",
       "    </tr>\n",
       "    <tr>\n",
       "      <th>1</th>\n",
       "      <td>A01</td>\n",
       "      <td>ST0001</td>\n",
       "      <td>201902</td>\n",
       "      <td>3500</td>\n",
       "    </tr>\n",
       "    <tr>\n",
       "      <th>2</th>\n",
       "      <td>A02</td>\n",
       "      <td>ST0002</td>\n",
       "      <td>201901</td>\n",
       "      <td>4000</td>\n",
       "    </tr>\n",
       "    <tr>\n",
       "      <th>3</th>\n",
       "      <td>A02</td>\n",
       "      <td>ST0003</td>\n",
       "      <td>201902</td>\n",
       "      <td>7000</td>\n",
       "    </tr>\n",
       "  </tbody>\n",
       "</table>\n",
       "</div>"
      ],
      "text/plain": [
       "  REGIONID PRODUCT  YEARWEEK   QTY\n",
       "0      A01  ST0001    201901  3000\n",
       "1      A01  ST0001    201902  3500\n",
       "2      A02  ST0002    201901  4000\n",
       "3      A02  ST0003    201902  7000"
      ]
     },
     "execution_count": 2,
     "metadata": {},
     "output_type": "execute_result"
    }
   ],
   "source": [
    "# CSV 파일을 읽어 Data Frame 변수에 저장하기\n",
    "joinSellout = pd.read_csv(\"../dataset/join_kopo_product_volume.csv\")\n",
    "joinSellout.head()"
   ]
  },
  {
   "cell_type": "code",
   "execution_count": 3,
   "id": "8c7e4196-6210-4da9-b7a9-ddd8cc54e057",
   "metadata": {},
   "outputs": [
    {
     "data": {
      "text/html": [
       "<div>\n",
       "<style scoped>\n",
       "    .dataframe tbody tr th:only-of-type {\n",
       "        vertical-align: middle;\n",
       "    }\n",
       "\n",
       "    .dataframe tbody tr th {\n",
       "        vertical-align: top;\n",
       "    }\n",
       "\n",
       "    .dataframe thead th {\n",
       "        text-align: right;\n",
       "    }\n",
       "</style>\n",
       "<table border=\"1\" class=\"dataframe\">\n",
       "  <thead>\n",
       "    <tr style=\"text-align: right;\">\n",
       "      <th></th>\n",
       "      <th>REGIONID</th>\n",
       "      <th>REGIONNAME</th>\n",
       "    </tr>\n",
       "  </thead>\n",
       "  <tbody>\n",
       "    <tr>\n",
       "      <th>0</th>\n",
       "      <td>A01</td>\n",
       "      <td>한국</td>\n",
       "    </tr>\n",
       "    <tr>\n",
       "      <th>1</th>\n",
       "      <td>A02</td>\n",
       "      <td>미국</td>\n",
       "    </tr>\n",
       "    <tr>\n",
       "      <th>2</th>\n",
       "      <td>A03</td>\n",
       "      <td>프랑스</td>\n",
       "    </tr>\n",
       "    <tr>\n",
       "      <th>3</th>\n",
       "      <td>A04</td>\n",
       "      <td>독일</td>\n",
       "    </tr>\n",
       "  </tbody>\n",
       "</table>\n",
       "</div>"
      ],
      "text/plain": [
       "  REGIONID REGIONNAME\n",
       "0      A01         한국\n",
       "1      A02         미국\n",
       "2      A03        프랑스\n",
       "3      A04         독일"
      ]
     },
     "execution_count": 3,
     "metadata": {},
     "output_type": "execute_result"
    }
   ],
   "source": [
    "# CSV 파일을 읽어 Data Frame 변수에 저장하기\n",
    "joinMaster = pd.read_csv(\"../dataset/join_region_master.csv\", encoding = \"ms949\") \n",
    "joinMaster.head()"
   ]
  },
  {
   "cell_type": "code",
   "execution_count": null,
   "id": "20f8c79b-5854-4798-9d63-5250d8b36332",
   "metadata": {},
   "outputs": [],
   "source": []
  },
  {
   "cell_type": "markdown",
   "id": "698301e1-994f-4aae-9c68-6a4303d724a9",
   "metadata": {},
   "source": [
    "## INNER JOIN(교집합)"
   ]
  },
  {
   "cell_type": "code",
   "execution_count": null,
   "id": "d75d49b1-2ba7-40a1-b797-0e46df3e8ef9",
   "metadata": {},
   "outputs": [],
   "source": [
    "# : 자료의 공통 속성인 조인키를 정의한 후 키를 기준으로 추가 속성자료 붙임(서로 키 값이 있는 경우만 조인)"
   ]
  },
  {
   "cell_type": "code",
   "execution_count": 8,
   "id": "cf647fcc-2c42-4c90-b4e6-7d853cc8d036",
   "metadata": {},
   "outputs": [
    {
     "data": {
      "text/html": [
       "<div>\n",
       "<style scoped>\n",
       "    .dataframe tbody tr th:only-of-type {\n",
       "        vertical-align: middle;\n",
       "    }\n",
       "\n",
       "    .dataframe tbody tr th {\n",
       "        vertical-align: top;\n",
       "    }\n",
       "\n",
       "    .dataframe thead th {\n",
       "        text-align: right;\n",
       "    }\n",
       "</style>\n",
       "<table border=\"1\" class=\"dataframe\">\n",
       "  <thead>\n",
       "    <tr style=\"text-align: right;\">\n",
       "      <th></th>\n",
       "      <th>REGIONID</th>\n",
       "      <th>PRODUCT</th>\n",
       "      <th>YEARWEEK</th>\n",
       "      <th>QTY</th>\n",
       "      <th>REGIONNAME</th>\n",
       "    </tr>\n",
       "  </thead>\n",
       "  <tbody>\n",
       "    <tr>\n",
       "      <th>0</th>\n",
       "      <td>A01</td>\n",
       "      <td>ST0001</td>\n",
       "      <td>201901</td>\n",
       "      <td>3000</td>\n",
       "      <td>한국</td>\n",
       "    </tr>\n",
       "    <tr>\n",
       "      <th>1</th>\n",
       "      <td>A01</td>\n",
       "      <td>ST0001</td>\n",
       "      <td>201902</td>\n",
       "      <td>3500</td>\n",
       "      <td>한국</td>\n",
       "    </tr>\n",
       "    <tr>\n",
       "      <th>2</th>\n",
       "      <td>A02</td>\n",
       "      <td>ST0002</td>\n",
       "      <td>201901</td>\n",
       "      <td>4000</td>\n",
       "      <td>미국</td>\n",
       "    </tr>\n",
       "    <tr>\n",
       "      <th>3</th>\n",
       "      <td>A02</td>\n",
       "      <td>ST0003</td>\n",
       "      <td>201902</td>\n",
       "      <td>7000</td>\n",
       "      <td>미국</td>\n",
       "    </tr>\n",
       "  </tbody>\n",
       "</table>\n",
       "</div>"
      ],
      "text/plain": [
       "  REGIONID PRODUCT  YEARWEEK   QTY REGIONNAME\n",
       "0      A01  ST0001    201901  3000         한국\n",
       "1      A01  ST0001    201902  3500         한국\n",
       "2      A02  ST0002    201901  4000         미국\n",
       "3      A02  ST0003    201902  7000         미국"
      ]
     },
     "execution_count": 8,
     "metadata": {},
     "output_type": "execute_result"
    }
   ],
   "source": [
    "mergeResult = pd.merge(left = joinSellout,\n",
    "                       right = joinMaster,\n",
    "                       left_on=\"REGIONID\",\n",
    "                       right_on = \"REGIONID\",\n",
    "                       how=\"inner\")\n",
    "mergeResult.head()"
   ]
  },
  {
   "cell_type": "code",
   "execution_count": 9,
   "id": "4c4e86cf-5d47-4b25-9453-3e3c382c60c0",
   "metadata": {},
   "outputs": [
    {
     "data": {
      "text/html": [
       "<div>\n",
       "<style scoped>\n",
       "    .dataframe tbody tr th:only-of-type {\n",
       "        vertical-align: middle;\n",
       "    }\n",
       "\n",
       "    .dataframe tbody tr th {\n",
       "        vertical-align: top;\n",
       "    }\n",
       "\n",
       "    .dataframe thead th {\n",
       "        text-align: right;\n",
       "    }\n",
       "</style>\n",
       "<table border=\"1\" class=\"dataframe\">\n",
       "  <thead>\n",
       "    <tr style=\"text-align: right;\">\n",
       "      <th></th>\n",
       "      <th>REGIONID</th>\n",
       "      <th>PRODUCT</th>\n",
       "      <th>YEARWEEK</th>\n",
       "      <th>QTY</th>\n",
       "      <th>REGIONNAME</th>\n",
       "    </tr>\n",
       "  </thead>\n",
       "  <tbody>\n",
       "    <tr>\n",
       "      <th>0</th>\n",
       "      <td>A01</td>\n",
       "      <td>ST0001</td>\n",
       "      <td>201901</td>\n",
       "      <td>3000</td>\n",
       "      <td>한국</td>\n",
       "    </tr>\n",
       "    <tr>\n",
       "      <th>1</th>\n",
       "      <td>A01</td>\n",
       "      <td>ST0001</td>\n",
       "      <td>201902</td>\n",
       "      <td>3500</td>\n",
       "      <td>한국</td>\n",
       "    </tr>\n",
       "    <tr>\n",
       "      <th>2</th>\n",
       "      <td>A02</td>\n",
       "      <td>ST0002</td>\n",
       "      <td>201901</td>\n",
       "      <td>4000</td>\n",
       "      <td>미국</td>\n",
       "    </tr>\n",
       "    <tr>\n",
       "      <th>3</th>\n",
       "      <td>A02</td>\n",
       "      <td>ST0003</td>\n",
       "      <td>201902</td>\n",
       "      <td>7000</td>\n",
       "      <td>미국</td>\n",
       "    </tr>\n",
       "  </tbody>\n",
       "</table>\n",
       "</div>"
      ],
      "text/plain": [
       "  REGIONID PRODUCT  YEARWEEK   QTY REGIONNAME\n",
       "0      A01  ST0001    201901  3000         한국\n",
       "1      A01  ST0001    201902  3500         한국\n",
       "2      A02  ST0002    201901  4000         미국\n",
       "3      A02  ST0003    201902  7000         미국"
      ]
     },
     "execution_count": 9,
     "metadata": {},
     "output_type": "execute_result"
    }
   ],
   "source": [
    "mergeResult = pd.merge(left = joinSellout,\n",
    "                       right = joinMaster,\n",
    "                       left_on=\"REGIONID\",\n",
    "                       right_on = \"REGIONID\",\n",
    "                       how=\"inner\")\n",
    "[[\"REGIONID\",\"REGIONNAME\",\"PRODUCT\",\"YEARWEEK\",\"QTY\"]]\n",
    "mergeResult.head()"
   ]
  },
  {
   "cell_type": "code",
   "execution_count": null,
   "id": "f123a546-f8ba-4354-86ce-00aa9f58d070",
   "metadata": {},
   "outputs": [],
   "source": []
  },
  {
   "cell_type": "markdown",
   "id": "165c597e-d7d6-4d0f-a0c3-bb42f5bd9955",
   "metadata": {},
   "source": [
    "## LEFT JOIN"
   ]
  },
  {
   "cell_type": "code",
   "execution_count": null,
   "id": "342a8d86-2097-41e0-812b-98f112fd1da5",
   "metadata": {},
   "outputs": [],
   "source": [
    "# : 기준이 되는 데이터는 무조건 살린다"
   ]
  },
  {
   "cell_type": "code",
   "execution_count": 21,
   "id": "ee5ae367-a9ae-41fa-949b-4743c7e6a437",
   "metadata": {},
   "outputs": [
    {
     "data": {
      "text/html": [
       "<div>\n",
       "<style scoped>\n",
       "    .dataframe tbody tr th:only-of-type {\n",
       "        vertical-align: middle;\n",
       "    }\n",
       "\n",
       "    .dataframe tbody tr th {\n",
       "        vertical-align: top;\n",
       "    }\n",
       "\n",
       "    .dataframe thead th {\n",
       "        text-align: right;\n",
       "    }\n",
       "</style>\n",
       "<table border=\"1\" class=\"dataframe\">\n",
       "  <thead>\n",
       "    <tr style=\"text-align: right;\">\n",
       "      <th></th>\n",
       "      <th>SALESID</th>\n",
       "      <th>SALESNAME</th>\n",
       "    </tr>\n",
       "  </thead>\n",
       "  <tbody>\n",
       "    <tr>\n",
       "      <th>0</th>\n",
       "      <td>A01</td>\n",
       "      <td>미국</td>\n",
       "    </tr>\n",
       "  </tbody>\n",
       "</table>\n",
       "</div>"
      ],
      "text/plain": [
       "  SALESID SALESNAME\n",
       "0     A01        미국"
      ]
     },
     "execution_count": 21,
     "metadata": {},
     "output_type": "execute_result"
    }
   ],
   "source": [
    "testDf = pd.DataFrame( [[ \"A01\", \"미국\" ]], columns=[\"SALESID\", \"SALESNAME\"])\n",
    "# cf) left_on과 right_on에 명시만 해준다면 컬럼명이 달라도 조인 가능\n",
    "testDf"
   ]
  },
  {
   "cell_type": "code",
   "execution_count": 22,
   "id": "906957b4-24cb-430a-b872-6f2bac7a565e",
   "metadata": {},
   "outputs": [],
   "source": [
    "mergeResult2 = pd.merge(left = joinSellout,\n",
    "                       right = testDf,\n",
    "                       left_on=\"REGIONID\",\n",
    "                       right_on = \"SALESID\",\n",
    "                       how=\"left\")"
   ]
  },
  {
   "cell_type": "code",
   "execution_count": 23,
   "id": "b4d56ea2-449b-4bfd-a51e-f471ecc1bca0",
   "metadata": {},
   "outputs": [
    {
     "data": {
      "text/html": [
       "<div>\n",
       "<style scoped>\n",
       "    .dataframe tbody tr th:only-of-type {\n",
       "        vertical-align: middle;\n",
       "    }\n",
       "\n",
       "    .dataframe tbody tr th {\n",
       "        vertical-align: top;\n",
       "    }\n",
       "\n",
       "    .dataframe thead th {\n",
       "        text-align: right;\n",
       "    }\n",
       "</style>\n",
       "<table border=\"1\" class=\"dataframe\">\n",
       "  <thead>\n",
       "    <tr style=\"text-align: right;\">\n",
       "      <th></th>\n",
       "      <th>REGIONID</th>\n",
       "      <th>PRODUCT</th>\n",
       "      <th>YEARWEEK</th>\n",
       "      <th>QTY</th>\n",
       "      <th>SALESID</th>\n",
       "      <th>SALESNAME</th>\n",
       "    </tr>\n",
       "  </thead>\n",
       "  <tbody>\n",
       "    <tr>\n",
       "      <th>0</th>\n",
       "      <td>A01</td>\n",
       "      <td>ST0001</td>\n",
       "      <td>201901</td>\n",
       "      <td>3000</td>\n",
       "      <td>A01</td>\n",
       "      <td>미국</td>\n",
       "    </tr>\n",
       "    <tr>\n",
       "      <th>1</th>\n",
       "      <td>A01</td>\n",
       "      <td>ST0001</td>\n",
       "      <td>201902</td>\n",
       "      <td>3500</td>\n",
       "      <td>A01</td>\n",
       "      <td>미국</td>\n",
       "    </tr>\n",
       "    <tr>\n",
       "      <th>2</th>\n",
       "      <td>A02</td>\n",
       "      <td>ST0002</td>\n",
       "      <td>201901</td>\n",
       "      <td>4000</td>\n",
       "      <td>NaN</td>\n",
       "      <td>NaN</td>\n",
       "    </tr>\n",
       "    <tr>\n",
       "      <th>3</th>\n",
       "      <td>A02</td>\n",
       "      <td>ST0003</td>\n",
       "      <td>201902</td>\n",
       "      <td>7000</td>\n",
       "      <td>NaN</td>\n",
       "      <td>NaN</td>\n",
       "    </tr>\n",
       "  </tbody>\n",
       "</table>\n",
       "</div>"
      ],
      "text/plain": [
       "  REGIONID PRODUCT  YEARWEEK   QTY SALESID SALESNAME\n",
       "0      A01  ST0001    201901  3000     A01        미국\n",
       "1      A01  ST0001    201902  3500     A01        미국\n",
       "2      A02  ST0002    201901  4000     NaN       NaN\n",
       "3      A02  ST0003    201902  7000     NaN       NaN"
      ]
     },
     "execution_count": 23,
     "metadata": {},
     "output_type": "execute_result"
    }
   ],
   "source": [
    "mergeResult2"
   ]
  },
  {
   "cell_type": "code",
   "execution_count": null,
   "id": "05a306af-9e82-4cdf-8551-03714bd1e029",
   "metadata": {},
   "outputs": [],
   "source": []
  },
  {
   "cell_type": "markdown",
   "id": "9b2efa0c-e91b-4a6e-8122-808dc7759cad",
   "metadata": {},
   "source": [
    "# RIGHT JOIN"
   ]
  },
  {
   "cell_type": "code",
   "execution_count": null,
   "id": "3e2c93f0-422d-4f84-a486-2db5ef578570",
   "metadata": {},
   "outputs": [],
   "source": [
    "# : 붙이는 데이터는 무조건 살린다"
   ]
  },
  {
   "cell_type": "code",
   "execution_count": 24,
   "id": "c0200161-2afb-418e-8aba-554cfb4cde50",
   "metadata": {
    "tags": []
   },
   "outputs": [],
   "source": [
    "mergeResult3 = pd.merge(left = joinSellout,\n",
    "                       right = joinMaster,\n",
    "                       left_on=\"REGIONID\",\n",
    "                       right_on = \"REGIONID\",\n",
    "                       how=\"right\")"
   ]
  },
  {
   "cell_type": "code",
   "execution_count": 25,
   "id": "ae2253c0-d79b-49f2-b0d3-d0ff1c3db5fa",
   "metadata": {},
   "outputs": [
    {
     "data": {
      "text/html": [
       "<div>\n",
       "<style scoped>\n",
       "    .dataframe tbody tr th:only-of-type {\n",
       "        vertical-align: middle;\n",
       "    }\n",
       "\n",
       "    .dataframe tbody tr th {\n",
       "        vertical-align: top;\n",
       "    }\n",
       "\n",
       "    .dataframe thead th {\n",
       "        text-align: right;\n",
       "    }\n",
       "</style>\n",
       "<table border=\"1\" class=\"dataframe\">\n",
       "  <thead>\n",
       "    <tr style=\"text-align: right;\">\n",
       "      <th></th>\n",
       "      <th>REGIONID</th>\n",
       "      <th>PRODUCT</th>\n",
       "      <th>YEARWEEK</th>\n",
       "      <th>QTY</th>\n",
       "      <th>REGIONNAME</th>\n",
       "    </tr>\n",
       "  </thead>\n",
       "  <tbody>\n",
       "    <tr>\n",
       "      <th>0</th>\n",
       "      <td>A01</td>\n",
       "      <td>ST0001</td>\n",
       "      <td>201901.0</td>\n",
       "      <td>3000.0</td>\n",
       "      <td>한국</td>\n",
       "    </tr>\n",
       "    <tr>\n",
       "      <th>1</th>\n",
       "      <td>A01</td>\n",
       "      <td>ST0001</td>\n",
       "      <td>201902.0</td>\n",
       "      <td>3500.0</td>\n",
       "      <td>한국</td>\n",
       "    </tr>\n",
       "    <tr>\n",
       "      <th>2</th>\n",
       "      <td>A02</td>\n",
       "      <td>ST0002</td>\n",
       "      <td>201901.0</td>\n",
       "      <td>4000.0</td>\n",
       "      <td>미국</td>\n",
       "    </tr>\n",
       "    <tr>\n",
       "      <th>3</th>\n",
       "      <td>A02</td>\n",
       "      <td>ST0003</td>\n",
       "      <td>201902.0</td>\n",
       "      <td>7000.0</td>\n",
       "      <td>미국</td>\n",
       "    </tr>\n",
       "    <tr>\n",
       "      <th>4</th>\n",
       "      <td>A03</td>\n",
       "      <td>NaN</td>\n",
       "      <td>NaN</td>\n",
       "      <td>NaN</td>\n",
       "      <td>프랑스</td>\n",
       "    </tr>\n",
       "    <tr>\n",
       "      <th>5</th>\n",
       "      <td>A04</td>\n",
       "      <td>NaN</td>\n",
       "      <td>NaN</td>\n",
       "      <td>NaN</td>\n",
       "      <td>독일</td>\n",
       "    </tr>\n",
       "  </tbody>\n",
       "</table>\n",
       "</div>"
      ],
      "text/plain": [
       "  REGIONID PRODUCT  YEARWEEK     QTY REGIONNAME\n",
       "0      A01  ST0001  201901.0  3000.0         한국\n",
       "1      A01  ST0001  201902.0  3500.0         한국\n",
       "2      A02  ST0002  201901.0  4000.0         미국\n",
       "3      A02  ST0003  201902.0  7000.0         미국\n",
       "4      A03     NaN       NaN     NaN        프랑스\n",
       "5      A04     NaN       NaN     NaN         독일"
      ]
     },
     "execution_count": 25,
     "metadata": {},
     "output_type": "execute_result"
    }
   ],
   "source": [
    "mergeResult3"
   ]
  },
  {
   "cell_type": "code",
   "execution_count": null,
   "id": "99de00be-460f-4946-90ce-9617a8b665dd",
   "metadata": {},
   "outputs": [],
   "source": []
  },
  {
   "cell_type": "markdown",
   "id": "e1a4d289-a394-4355-8118-8cb7e02da96e",
   "metadata": {},
   "source": [
    "# OUTER JOIN"
   ]
  },
  {
   "cell_type": "code",
   "execution_count": null,
   "id": "b512f147-62e6-4e7f-b3da-3641af7d1b91",
   "metadata": {},
   "outputs": [],
   "source": [
    "# : 기준이 되는 데이터와 붙이는 데이터 둘 다 살린다"
   ]
  },
  {
   "cell_type": "code",
   "execution_count": null,
   "id": "1a69d1af-1586-46fc-a0ca-35c5f1ee859a",
   "metadata": {},
   "outputs": [],
   "source": []
  },
  {
   "cell_type": "code",
   "execution_count": null,
   "id": "d8442f1c-6e9b-4b7f-9b56-eba23866de54",
   "metadata": {},
   "outputs": [],
   "source": [
    "# step.1 concat 사용해서 새로운 testDf 만들기"
   ]
  },
  {
   "cell_type": "code",
   "execution_count": 32,
   "id": "8d6abb6c-609e-44c2-a5ae-c0a2b7dbe43e",
   "metadata": {},
   "outputs": [
    {
     "data": {
      "text/html": [
       "<div>\n",
       "<style scoped>\n",
       "    .dataframe tbody tr th:only-of-type {\n",
       "        vertical-align: middle;\n",
       "    }\n",
       "\n",
       "    .dataframe tbody tr th {\n",
       "        vertical-align: top;\n",
       "    }\n",
       "\n",
       "    .dataframe thead th {\n",
       "        text-align: right;\n",
       "    }\n",
       "</style>\n",
       "<table border=\"1\" class=\"dataframe\">\n",
       "  <thead>\n",
       "    <tr style=\"text-align: right;\">\n",
       "      <th></th>\n",
       "      <th>REGIONID</th>\n",
       "      <th>PRODUCT</th>\n",
       "      <th>YEARWEEK</th>\n",
       "      <th>QTY</th>\n",
       "    </tr>\n",
       "  </thead>\n",
       "  <tbody>\n",
       "    <tr>\n",
       "      <th>0</th>\n",
       "      <td>A01</td>\n",
       "      <td>ST0001</td>\n",
       "      <td>201901</td>\n",
       "      <td>3000</td>\n",
       "    </tr>\n",
       "    <tr>\n",
       "      <th>1</th>\n",
       "      <td>A01</td>\n",
       "      <td>ST0001</td>\n",
       "      <td>201902</td>\n",
       "      <td>3500</td>\n",
       "    </tr>\n",
       "    <tr>\n",
       "      <th>2</th>\n",
       "      <td>A02</td>\n",
       "      <td>ST0002</td>\n",
       "      <td>201901</td>\n",
       "      <td>4000</td>\n",
       "    </tr>\n",
       "    <tr>\n",
       "      <th>3</th>\n",
       "      <td>A02</td>\n",
       "      <td>ST0003</td>\n",
       "      <td>201902</td>\n",
       "      <td>7000</td>\n",
       "    </tr>\n",
       "  </tbody>\n",
       "</table>\n",
       "</div>"
      ],
      "text/plain": [
       "  REGIONID PRODUCT  YEARWEEK   QTY\n",
       "0      A01  ST0001    201901  3000\n",
       "1      A01  ST0001    201902  3500\n",
       "2      A02  ST0002    201901  4000\n",
       "3      A02  ST0003    201902  7000"
      ]
     },
     "execution_count": 32,
     "metadata": {},
     "output_type": "execute_result"
    }
   ],
   "source": [
    "joinSellout"
   ]
  },
  {
   "cell_type": "code",
   "execution_count": 38,
   "id": "be9b3f46-0609-4022-b40c-18ab2e9e0131",
   "metadata": {},
   "outputs": [
    {
     "data": {
      "text/html": [
       "<div>\n",
       "<style scoped>\n",
       "    .dataframe tbody tr th:only-of-type {\n",
       "        vertical-align: middle;\n",
       "    }\n",
       "\n",
       "    .dataframe tbody tr th {\n",
       "        vertical-align: top;\n",
       "    }\n",
       "\n",
       "    .dataframe thead th {\n",
       "        text-align: right;\n",
       "    }\n",
       "</style>\n",
       "<table border=\"1\" class=\"dataframe\">\n",
       "  <thead>\n",
       "    <tr style=\"text-align: right;\">\n",
       "      <th></th>\n",
       "      <th>REGIONID</th>\n",
       "      <th>PRODUCT</th>\n",
       "      <th>YEARWEEK</th>\n",
       "      <th>QTY</th>\n",
       "    </tr>\n",
       "  </thead>\n",
       "  <tbody>\n",
       "    <tr>\n",
       "      <th>0</th>\n",
       "      <td>A10</td>\n",
       "      <td>ST0009</td>\n",
       "      <td>201903</td>\n",
       "      <td>5000</td>\n",
       "    </tr>\n",
       "  </tbody>\n",
       "</table>\n",
       "</div>"
      ],
      "text/plain": [
       "  REGIONID PRODUCT YEARWEEK   QTY\n",
       "0      A10  ST0009   201903  5000"
      ]
     },
     "execution_count": 38,
     "metadata": {},
     "output_type": "execute_result"
    }
   ],
   "source": [
    "testDf = pd.DataFrame( [[ \"A10\", \"ST0009\",\"201903\", 5000 ]], columns=[\"REGIONID\", \"PRODUCT\", \"YEARWEEK\", \"QTY\"])\n",
    "testDf"
   ]
  },
  {
   "cell_type": "code",
   "execution_count": 39,
   "id": "e4ff78ae-215f-4d75-ba80-99667852be2d",
   "metadata": {},
   "outputs": [
    {
     "data": {
      "text/html": [
       "<div>\n",
       "<style scoped>\n",
       "    .dataframe tbody tr th:only-of-type {\n",
       "        vertical-align: middle;\n",
       "    }\n",
       "\n",
       "    .dataframe tbody tr th {\n",
       "        vertical-align: top;\n",
       "    }\n",
       "\n",
       "    .dataframe thead th {\n",
       "        text-align: right;\n",
       "    }\n",
       "</style>\n",
       "<table border=\"1\" class=\"dataframe\">\n",
       "  <thead>\n",
       "    <tr style=\"text-align: right;\">\n",
       "      <th></th>\n",
       "      <th>REGIONID</th>\n",
       "      <th>PRODUCT</th>\n",
       "      <th>YEARWEEK</th>\n",
       "      <th>QTY</th>\n",
       "    </tr>\n",
       "  </thead>\n",
       "  <tbody>\n",
       "    <tr>\n",
       "      <th>0</th>\n",
       "      <td>A01</td>\n",
       "      <td>ST0001</td>\n",
       "      <td>201901</td>\n",
       "      <td>3000</td>\n",
       "    </tr>\n",
       "    <tr>\n",
       "      <th>1</th>\n",
       "      <td>A01</td>\n",
       "      <td>ST0001</td>\n",
       "      <td>201902</td>\n",
       "      <td>3500</td>\n",
       "    </tr>\n",
       "    <tr>\n",
       "      <th>2</th>\n",
       "      <td>A02</td>\n",
       "      <td>ST0002</td>\n",
       "      <td>201901</td>\n",
       "      <td>4000</td>\n",
       "    </tr>\n",
       "    <tr>\n",
       "      <th>3</th>\n",
       "      <td>A02</td>\n",
       "      <td>ST0003</td>\n",
       "      <td>201902</td>\n",
       "      <td>7000</td>\n",
       "    </tr>\n",
       "    <tr>\n",
       "      <th>0</th>\n",
       "      <td>A10</td>\n",
       "      <td>ST0009</td>\n",
       "      <td>201903</td>\n",
       "      <td>5000</td>\n",
       "    </tr>\n",
       "  </tbody>\n",
       "</table>\n",
       "</div>"
      ],
      "text/plain": [
       "  REGIONID PRODUCT YEARWEEK   QTY\n",
       "0      A01  ST0001   201901  3000\n",
       "1      A01  ST0001   201902  3500\n",
       "2      A02  ST0002   201901  4000\n",
       "3      A02  ST0003   201902  7000\n",
       "0      A10  ST0009   201903  5000"
      ]
     },
     "execution_count": 39,
     "metadata": {},
     "output_type": "execute_result"
    }
   ],
   "source": [
    "testDf2 = pd.concat( [joinSellout, testDf] , axis = 0)\n",
    "testDf2"
   ]
  },
  {
   "cell_type": "code",
   "execution_count": null,
   "id": "6f8de063-0605-4a3d-9080-22b93046577c",
   "metadata": {},
   "outputs": [],
   "source": []
  },
  {
   "cell_type": "code",
   "execution_count": 48,
   "id": "aee1134b-ec2a-46b8-8bb7-ff0e526a1ee4",
   "metadata": {},
   "outputs": [],
   "source": [
    "mergeResult4 = pd.merge(left = testDf2,\n",
    "                       right = joinMaster,\n",
    "                       left_on=\"REGIONID\",\n",
    "                       right_on = \"REGIONID\",\n",
    "                       how=\"outer\")"
   ]
  },
  {
   "cell_type": "code",
   "execution_count": 49,
   "id": "a206c03a-fee8-4ec9-9fd6-5ba6e7c294f1",
   "metadata": {},
   "outputs": [
    {
     "data": {
      "text/html": [
       "<div>\n",
       "<style scoped>\n",
       "    .dataframe tbody tr th:only-of-type {\n",
       "        vertical-align: middle;\n",
       "    }\n",
       "\n",
       "    .dataframe tbody tr th {\n",
       "        vertical-align: top;\n",
       "    }\n",
       "\n",
       "    .dataframe thead th {\n",
       "        text-align: right;\n",
       "    }\n",
       "</style>\n",
       "<table border=\"1\" class=\"dataframe\">\n",
       "  <thead>\n",
       "    <tr style=\"text-align: right;\">\n",
       "      <th></th>\n",
       "      <th>REGIONID</th>\n",
       "      <th>PRODUCT</th>\n",
       "      <th>YEARWEEK</th>\n",
       "      <th>QTY</th>\n",
       "      <th>REGIONNAME</th>\n",
       "    </tr>\n",
       "  </thead>\n",
       "  <tbody>\n",
       "    <tr>\n",
       "      <th>0</th>\n",
       "      <td>A01</td>\n",
       "      <td>ST0001</td>\n",
       "      <td>201901</td>\n",
       "      <td>3000.0</td>\n",
       "      <td>한국</td>\n",
       "    </tr>\n",
       "    <tr>\n",
       "      <th>1</th>\n",
       "      <td>A01</td>\n",
       "      <td>ST0001</td>\n",
       "      <td>201902</td>\n",
       "      <td>3500.0</td>\n",
       "      <td>한국</td>\n",
       "    </tr>\n",
       "    <tr>\n",
       "      <th>2</th>\n",
       "      <td>A02</td>\n",
       "      <td>ST0002</td>\n",
       "      <td>201901</td>\n",
       "      <td>4000.0</td>\n",
       "      <td>미국</td>\n",
       "    </tr>\n",
       "    <tr>\n",
       "      <th>3</th>\n",
       "      <td>A02</td>\n",
       "      <td>ST0003</td>\n",
       "      <td>201902</td>\n",
       "      <td>7000.0</td>\n",
       "      <td>미국</td>\n",
       "    </tr>\n",
       "    <tr>\n",
       "      <th>4</th>\n",
       "      <td>A10</td>\n",
       "      <td>ST0009</td>\n",
       "      <td>201903</td>\n",
       "      <td>5000.0</td>\n",
       "      <td>NaN</td>\n",
       "    </tr>\n",
       "    <tr>\n",
       "      <th>5</th>\n",
       "      <td>A03</td>\n",
       "      <td>NaN</td>\n",
       "      <td>NaN</td>\n",
       "      <td>NaN</td>\n",
       "      <td>프랑스</td>\n",
       "    </tr>\n",
       "    <tr>\n",
       "      <th>6</th>\n",
       "      <td>A04</td>\n",
       "      <td>NaN</td>\n",
       "      <td>NaN</td>\n",
       "      <td>NaN</td>\n",
       "      <td>독일</td>\n",
       "    </tr>\n",
       "  </tbody>\n",
       "</table>\n",
       "</div>"
      ],
      "text/plain": [
       "  REGIONID PRODUCT YEARWEEK     QTY REGIONNAME\n",
       "0      A01  ST0001   201901  3000.0         한국\n",
       "1      A01  ST0001   201902  3500.0         한국\n",
       "2      A02  ST0002   201901  4000.0         미국\n",
       "3      A02  ST0003   201902  7000.0         미국\n",
       "4      A10  ST0009   201903  5000.0        NaN\n",
       "5      A03     NaN      NaN     NaN        프랑스\n",
       "6      A04     NaN      NaN     NaN         독일"
      ]
     },
     "execution_count": 49,
     "metadata": {},
     "output_type": "execute_result"
    }
   ],
   "source": [
    "mergeResult4"
   ]
  }
 ],
 "metadata": {
  "kernelspec": {
   "display_name": "Python 3 (ipykernel)",
   "language": "python",
   "name": "python3"
  },
  "language_info": {
   "codemirror_mode": {
    "name": "ipython",
    "version": 3
   },
   "file_extension": ".py",
   "mimetype": "text/x-python",
   "name": "python",
   "nbconvert_exporter": "python",
   "pygments_lexer": "ipython3",
   "version": "3.9.13"
  }
 },
 "nbformat": 4,
 "nbformat_minor": 5
}
