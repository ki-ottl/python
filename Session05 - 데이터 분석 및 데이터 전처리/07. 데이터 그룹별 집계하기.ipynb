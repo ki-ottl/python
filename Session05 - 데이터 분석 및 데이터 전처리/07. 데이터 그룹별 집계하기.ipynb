{
 "cells": [
  {
   "cell_type": "markdown",
   "id": "ae413c71-2a58-4f6a-8b34-cdfaeb9fe71e",
   "metadata": {},
   "source": [
    "# 07. 데이터 그룹별 집계하기"
   ]
  },
  {
   "cell_type": "code",
   "execution_count": null,
   "id": "b1b57014-ded7-4c6b-96e4-946f8306bbe0",
   "metadata": {},
   "outputs": [],
   "source": []
  },
  {
   "cell_type": "markdown",
   "id": "d8dc5944-2c65-4f56-9814-b2b59da252e6",
   "metadata": {},
   "source": [
    "### 컬럼 값 기준 데이터 정렬"
   ]
  },
  {
   "cell_type": "code",
   "execution_count": 1,
   "id": "fd36ee0d-287d-4a6b-b4de-9a92603f2a73",
   "metadata": {},
   "outputs": [],
   "source": [
    "# 데이터프레임명.groupby(by= [그룹키 컬럼] )\n",
    "#              [집계대상 컬럼].\n",
    "#              agg.([집계함수])"
   ]
  },
  {
   "cell_type": "code",
   "execution_count": null,
   "id": "03d7be67-d12f-485b-a52b-5798c3345d52",
   "metadata": {},
   "outputs": [],
   "source": []
  },
  {
   "cell_type": "code",
   "execution_count": 2,
   "id": "bbc8b00f-3541-4a06-9b10-b7d54169c1b1",
   "metadata": {},
   "outputs": [],
   "source": [
    "import pandas as pd"
   ]
  },
  {
   "cell_type": "code",
   "execution_count": 3,
   "id": "c463edc6-ab67-4a65-ba42-73cb3eed3bbd",
   "metadata": {},
   "outputs": [],
   "source": [
    "customerData = pd.read_csv(\"../dataset/customerdata.csv\")"
   ]
  },
  {
   "cell_type": "code",
   "execution_count": null,
   "id": "ea0d02e7-2e35-4b42-bda0-934973d62d11",
   "metadata": {},
   "outputs": [],
   "source": []
  },
  {
   "cell_type": "code",
   "execution_count": 4,
   "id": "4b8b5051-cea7-4138-b08f-937f4efede00",
   "metadata": {},
   "outputs": [],
   "source": [
    "groupKey = [\"EMI\"]"
   ]
  },
  {
   "cell_type": "code",
   "execution_count": 5,
   "id": "5c91296a-eb99-4be1-90c4-2cfc0a36321c",
   "metadata": {},
   "outputs": [
    {
     "data": {
      "text/html": [
       "<div>\n",
       "<style scoped>\n",
       "    .dataframe tbody tr th:only-of-type {\n",
       "        vertical-align: middle;\n",
       "    }\n",
       "\n",
       "    .dataframe tbody tr th {\n",
       "        vertical-align: top;\n",
       "    }\n",
       "\n",
       "    .dataframe thead th {\n",
       "        text-align: right;\n",
       "    }\n",
       "</style>\n",
       "<table border=\"1\" class=\"dataframe\">\n",
       "  <thead>\n",
       "    <tr style=\"text-align: right;\">\n",
       "      <th></th>\n",
       "      <th>mean</th>\n",
       "    </tr>\n",
       "    <tr>\n",
       "      <th>EMI</th>\n",
       "      <th></th>\n",
       "    </tr>\n",
       "  </thead>\n",
       "  <tbody>\n",
       "    <tr>\n",
       "      <th>1</th>\n",
       "      <td>3119.031810</td>\n",
       "    </tr>\n",
       "    <tr>\n",
       "      <th>2</th>\n",
       "      <td>3441.429664</td>\n",
       "    </tr>\n",
       "    <tr>\n",
       "      <th>3</th>\n",
       "      <td>3559.487188</td>\n",
       "    </tr>\n",
       "  </tbody>\n",
       "</table>\n",
       "</div>"
      ],
      "text/plain": [
       "            mean\n",
       "EMI             \n",
       "1    3119.031810\n",
       "2    3441.429664\n",
       "3    3559.487188"
      ]
     },
     "execution_count": 5,
     "metadata": {},
     "output_type": "execute_result"
    }
   ],
   "source": [
    "customerData.groupby(by=groupKey)[\"AVGPRICE\"].agg([\"mean\"]) \n",
    "# EMI별로 AVGPRICE를 보고싶다. 여기에 내가 적용할 함수는 mean(평균)이다."
   ]
  },
  {
   "cell_type": "code",
   "execution_count": 6,
   "id": "e052de33-54f4-44ac-bd65-91e623197745",
   "metadata": {},
   "outputs": [
    {
     "data": {
      "text/html": [
       "<div>\n",
       "<style scoped>\n",
       "    .dataframe tbody tr th:only-of-type {\n",
       "        vertical-align: middle;\n",
       "    }\n",
       "\n",
       "    .dataframe tbody tr th {\n",
       "        vertical-align: top;\n",
       "    }\n",
       "\n",
       "    .dataframe thead th {\n",
       "        text-align: right;\n",
       "    }\n",
       "</style>\n",
       "<table border=\"1\" class=\"dataframe\">\n",
       "  <thead>\n",
       "    <tr style=\"text-align: right;\">\n",
       "      <th></th>\n",
       "      <th>max</th>\n",
       "    </tr>\n",
       "    <tr>\n",
       "      <th>EMI</th>\n",
       "      <th></th>\n",
       "    </tr>\n",
       "  </thead>\n",
       "  <tbody>\n",
       "    <tr>\n",
       "      <th>1</th>\n",
       "      <td>3419.462596</td>\n",
       "    </tr>\n",
       "    <tr>\n",
       "      <th>2</th>\n",
       "      <td>4166.533130</td>\n",
       "    </tr>\n",
       "    <tr>\n",
       "      <th>3</th>\n",
       "      <td>4296.873743</td>\n",
       "    </tr>\n",
       "  </tbody>\n",
       "</table>\n",
       "</div>"
      ],
      "text/plain": [
       "             max\n",
       "EMI             \n",
       "1    3419.462596\n",
       "2    4166.533130\n",
       "3    4296.873743"
      ]
     },
     "execution_count": 6,
     "metadata": {},
     "output_type": "execute_result"
    }
   ],
   "source": [
    "customerData.groupby(by=groupKey)[\"AVGPRICE\"].agg([\"max\"]) \n",
    "# EMI별로 AVGPRICE를 보고싶다. 여기에 내가 적용할 함수는 max(최대값)이다."
   ]
  },
  {
   "cell_type": "code",
   "execution_count": 7,
   "id": "29fc7cdf-c8c5-4602-b1c9-53cbef9a9d11",
   "metadata": {},
   "outputs": [
    {
     "data": {
      "text/html": [
       "<div>\n",
       "<style scoped>\n",
       "    .dataframe tbody tr th:only-of-type {\n",
       "        vertical-align: middle;\n",
       "    }\n",
       "\n",
       "    .dataframe tbody tr th {\n",
       "        vertical-align: top;\n",
       "    }\n",
       "\n",
       "    .dataframe thead th {\n",
       "        text-align: right;\n",
       "    }\n",
       "</style>\n",
       "<table border=\"1\" class=\"dataframe\">\n",
       "  <thead>\n",
       "    <tr style=\"text-align: right;\">\n",
       "      <th></th>\n",
       "      <th>min</th>\n",
       "    </tr>\n",
       "    <tr>\n",
       "      <th>EMI</th>\n",
       "      <th></th>\n",
       "    </tr>\n",
       "  </thead>\n",
       "  <tbody>\n",
       "    <tr>\n",
       "      <th>1</th>\n",
       "      <td>2390.083736</td>\n",
       "    </tr>\n",
       "    <tr>\n",
       "      <th>2</th>\n",
       "      <td>2411.008838</td>\n",
       "    </tr>\n",
       "    <tr>\n",
       "      <th>3</th>\n",
       "      <td>2811.265932</td>\n",
       "    </tr>\n",
       "  </tbody>\n",
       "</table>\n",
       "</div>"
      ],
      "text/plain": [
       "             min\n",
       "EMI             \n",
       "1    2390.083736\n",
       "2    2411.008838\n",
       "3    2811.265932"
      ]
     },
     "execution_count": 7,
     "metadata": {},
     "output_type": "execute_result"
    }
   ],
   "source": [
    "customerData.groupby(by=groupKey)[\"AVGPRICE\"].agg([\"min\"]) \n",
    "# EMI별로 AVGPRICE를 보고싶다. 여기에 내가 적용할 함수는 min(최소값)이다."
   ]
  },
  {
   "cell_type": "code",
   "execution_count": null,
   "id": "5cd21e88-a4f2-4699-95eb-00693673f0ff",
   "metadata": {},
   "outputs": [],
   "source": []
  },
  {
   "cell_type": "code",
   "execution_count": 8,
   "id": "302f5323-2826-4f60-90a9-5ed2613ef80a",
   "metadata": {},
   "outputs": [],
   "source": [
    "# 이렇게 하게 되면, 그룹키가 인덱스 컬럼으로 설정이 된다.\n",
    "# 인덱스를 리셋하여 인덱스를 재설정할 수 있다."
   ]
  },
  {
   "cell_type": "code",
   "execution_count": 9,
   "id": "46f3b3c2-7a94-4335-96a2-191640d62945",
   "metadata": {},
   "outputs": [],
   "source": [
    "groupData = customerData.groupby(by=groupKey)[\"AVGPRICE\"].agg([\"max\"]) # 데이터를 변수에 넣어주고,"
   ]
  },
  {
   "cell_type": "code",
   "execution_count": 10,
   "id": "70ea26dc-742b-4647-a640-92635a646530",
   "metadata": {},
   "outputs": [],
   "source": [
    "groupData = groupData.reset_index() # 그룹키를 기존 컬럼에 맵핑 시킬 수 있다."
   ]
  },
  {
   "cell_type": "code",
   "execution_count": 11,
   "id": "32c1fd82-984a-4b15-a4eb-a5f3dd393672",
   "metadata": {},
   "outputs": [
    {
     "data": {
      "text/html": [
       "<div>\n",
       "<style scoped>\n",
       "    .dataframe tbody tr th:only-of-type {\n",
       "        vertical-align: middle;\n",
       "    }\n",
       "\n",
       "    .dataframe tbody tr th {\n",
       "        vertical-align: top;\n",
       "    }\n",
       "\n",
       "    .dataframe thead th {\n",
       "        text-align: right;\n",
       "    }\n",
       "</style>\n",
       "<table border=\"1\" class=\"dataframe\">\n",
       "  <thead>\n",
       "    <tr style=\"text-align: right;\">\n",
       "      <th></th>\n",
       "      <th>EMI</th>\n",
       "      <th>max</th>\n",
       "    </tr>\n",
       "  </thead>\n",
       "  <tbody>\n",
       "    <tr>\n",
       "      <th>0</th>\n",
       "      <td>1</td>\n",
       "      <td>3419.462596</td>\n",
       "    </tr>\n",
       "    <tr>\n",
       "      <th>1</th>\n",
       "      <td>2</td>\n",
       "      <td>4166.533130</td>\n",
       "    </tr>\n",
       "    <tr>\n",
       "      <th>2</th>\n",
       "      <td>3</td>\n",
       "      <td>4296.873743</td>\n",
       "    </tr>\n",
       "  </tbody>\n",
       "</table>\n",
       "</div>"
      ],
      "text/plain": [
       "   EMI          max\n",
       "0    1  3419.462596\n",
       "1    2  4166.533130\n",
       "2    3  4296.873743"
      ]
     },
     "execution_count": 11,
     "metadata": {},
     "output_type": "execute_result"
    }
   ],
   "source": [
    "groupData"
   ]
  },
  {
   "cell_type": "code",
   "execution_count": null,
   "id": "c17f6001-bd56-49c2-861a-b65ccf84722e",
   "metadata": {},
   "outputs": [],
   "source": []
  },
  {
   "cell_type": "code",
   "execution_count": 12,
   "id": "86e89a44-9167-45ce-9564-5432d38c5d9d",
   "metadata": {},
   "outputs": [],
   "source": [
    "# 기본적으로 Aggregate라는 함수인 max라는 값으로 컬럼명이 정해진다.\n",
    "# 어떤 값에 대한 max인지 알기 어렵기 때문에 rename 해준다."
   ]
  },
  {
   "cell_type": "code",
   "execution_count": 13,
   "id": "fa8f0dc9-985b-4ca6-93b9-5e45107a8382",
   "metadata": {},
   "outputs": [],
   "source": [
    "groupData.rename(columns = {\"max\" : \"AVGPRICE_MAX\"},\n",
    "                 inplace = True)"
   ]
  },
  {
   "cell_type": "code",
   "execution_count": 14,
   "id": "bad1f6f2-2a82-4f59-b6de-a508da626bfa",
   "metadata": {},
   "outputs": [
    {
     "data": {
      "text/html": [
       "<div>\n",
       "<style scoped>\n",
       "    .dataframe tbody tr th:only-of-type {\n",
       "        vertical-align: middle;\n",
       "    }\n",
       "\n",
       "    .dataframe tbody tr th {\n",
       "        vertical-align: top;\n",
       "    }\n",
       "\n",
       "    .dataframe thead th {\n",
       "        text-align: right;\n",
       "    }\n",
       "</style>\n",
       "<table border=\"1\" class=\"dataframe\">\n",
       "  <thead>\n",
       "    <tr style=\"text-align: right;\">\n",
       "      <th></th>\n",
       "      <th>EMI</th>\n",
       "      <th>AVGPRICE_MAX</th>\n",
       "    </tr>\n",
       "  </thead>\n",
       "  <tbody>\n",
       "    <tr>\n",
       "      <th>0</th>\n",
       "      <td>1</td>\n",
       "      <td>3419.462596</td>\n",
       "    </tr>\n",
       "    <tr>\n",
       "      <th>1</th>\n",
       "      <td>2</td>\n",
       "      <td>4166.533130</td>\n",
       "    </tr>\n",
       "    <tr>\n",
       "      <th>2</th>\n",
       "      <td>3</td>\n",
       "      <td>4296.873743</td>\n",
       "    </tr>\n",
       "  </tbody>\n",
       "</table>\n",
       "</div>"
      ],
      "text/plain": [
       "   EMI  AVGPRICE_MAX\n",
       "0    1   3419.462596\n",
       "1    2   4166.533130\n",
       "2    3   4296.873743"
      ]
     },
     "execution_count": 14,
     "metadata": {},
     "output_type": "execute_result"
    }
   ],
   "source": [
    "groupData # 무이자할부 이용건수 별로 평균 구매가격의 최대값을 알 수 있다."
   ]
  },
  {
   "cell_type": "code",
   "execution_count": null,
   "id": "e6c91abd-a689-4399-8f66-0a0f9b7c3d7a",
   "metadata": {},
   "outputs": [],
   "source": []
  },
  {
   "cell_type": "markdown",
   "id": "3a9e4dd5-c601-41ba-9272-3f02c8ec7642",
   "metadata": {},
   "source": [
    "# 자주 사용되는 집계함수"
   ]
  },
  {
   "cell_type": "code",
   "execution_count": null,
   "id": "ed43de09-e2a3-43d1-9002-e1ff21c7822e",
   "metadata": {},
   "outputs": [],
   "source": []
  },
  {
   "cell_type": "code",
   "execution_count": 15,
   "id": "c531b8f9-1370-4c2c-9821-b454b4ac83ae",
   "metadata": {},
   "outputs": [],
   "source": [
    "# count : 아이템 전체 개수\n",
    "# first, last : 첫 번째 및 마지막 아이템\n",
    "# mean, median : 평균값, 중간값\n",
    "# min, max : 최소값, 최대값\n",
    "# std, var : 표준편차 및 분산\n",
    "# prod : 그룹데이터의 곱\n",
    "# sum : 그룹데이터의 합\n",
    "# quantile : 사분위수"
   ]
  },
  {
   "cell_type": "code",
   "execution_count": null,
   "id": "930d5391-5b74-4255-98ea-1a821f58d1f9",
   "metadata": {},
   "outputs": [],
   "source": []
  },
  {
   "cell_type": "code",
   "execution_count": null,
   "id": "798d8ec7-acef-461f-abe4-c773f52274b0",
   "metadata": {},
   "outputs": [],
   "source": []
  }
 ],
 "metadata": {
  "kernelspec": {
   "display_name": "Python 3 (ipykernel)",
   "language": "python",
   "name": "python3"
  },
  "language_info": {
   "codemirror_mode": {
    "name": "ipython",
    "version": 3
   },
   "file_extension": ".py",
   "mimetype": "text/x-python",
   "name": "python",
   "nbconvert_exporter": "python",
   "pygments_lexer": "ipython3",
   "version": "3.9.13"
  }
 },
 "nbformat": 4,
 "nbformat_minor": 5
}
