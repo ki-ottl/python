{
 "cells": [
  {
   "cell_type": "code",
   "execution_count": 1,
   "id": "d147aebf-09b5-40bf-ad8a-6bedeca25a4d",
   "metadata": {},
   "outputs": [],
   "source": [
    "def avgExceptMaxMin(testList):\n",
    "    \"\"\"\n",
    "    최소, 최대값을 모두 뺀 평균을 구하는 함수(중복 시 모두 삭제)\n",
    "    parameter : list \n",
    "    return : 1. 입력 리스트\n",
    "             2. 최대값, 최소값\n",
    "             3. 최소값 최대값을 뺀 평균값\n",
    "    \"\"\"\n",
    "    # testList = [5, 1, 6, 8, 4, 9, 7, 3, 2, 1, 1, 1, 1, 1, 9, 9, 9, 9, 9, 9]\n",
    "   \n",
    "    print(\"list는 : \",testList)\n",
    "\n",
    "    maxValue = max(testList) # 최대값\n",
    "    minValue = min(testList) # 최소값\n",
    "    maxCount = testList.count(maxValue) # 최대값 개수\n",
    "    minCount = testList.count(minValue) # 최소값 개수\n",
    "    \n",
    "    for i in range(0, maxCount):  # remove 함수가 값을 하나씩만 지우기 때문에 중복 제거를 위해 for문 사용\n",
    "        testList.remove(maxValue) # 최대값 제거\n",
    "\n",
    "    for i in range(0, minCount):\n",
    "        testList.remove(minValue) # 최소값 제거\n",
    "    \n",
    "    processedList = testList # 혼선 방지를 위해 가공된 리스트를 따로 저장\n",
    "    \n",
    "    avg = sum(processedList) / len(processedList)\n",
    "\n",
    "    print(\"최대값{}, 최소값{}\".format(minValue,maxValue))\n",
    "    print(\"최소값 최대값을 뺀 평균은 \",avg)"
   ]
  },
  {
   "cell_type": "code",
   "execution_count": 2,
   "id": "b8578c12-8500-43fa-8507-0c0fd29958a5",
   "metadata": {},
   "outputs": [],
   "source": [
    "testList = [5, 1, 6, 8, 4, 9, 7, 3, 2, 1, 1, 1, 1, 1, 9, 9, 9, 9, 9, 9]"
   ]
  },
  {
   "cell_type": "code",
   "execution_count": 3,
   "id": "4b01aaa6-dc5e-4e34-aba3-17efcf489f5b",
   "metadata": {},
   "outputs": [
    {
     "name": "stdout",
     "output_type": "stream",
     "text": [
      "list는 :  [5, 1, 6, 8, 4, 9, 7, 3, 2, 1, 1, 1, 1, 1, 9, 9, 9, 9, 9, 9]\n",
      "최대값1, 최소값9\n",
      "최소값 최대값을 뺀 평균은  5.0\n"
     ]
    }
   ],
   "source": [
    "avgExceptMaxMin(testList)"
   ]
  },
  {
   "cell_type": "code",
   "execution_count": null,
   "id": "8a0f5d73-a251-4218-97b3-cb1573bf1582",
   "metadata": {},
   "outputs": [],
   "source": []
  },
  {
   "cell_type": "code",
   "execution_count": null,
   "id": "9abd1355-7ed5-4ebb-96f7-65042554df60",
   "metadata": {},
   "outputs": [],
   "source": [
    "# 아래는 함수를 만들어갔던 과정"
   ]
  },
  {
   "cell_type": "code",
   "execution_count": null,
   "id": "933d4066-a02b-4010-9ad7-5d832401fcff",
   "metadata": {},
   "outputs": [],
   "source": []
  },
  {
   "cell_type": "code",
   "execution_count": null,
   "id": "9e29bab7-d676-429e-bf6f-18d07129a5a5",
   "metadata": {},
   "outputs": [],
   "source": [
    "# 문제 10.\n",
    "# 파이썬으로만 작성해보기\n",
    "# 최소, 최대값을 모두 뺀 평균을 구하는 함수를 작성해주세요.\n",
    "# 단, 최소값과 최대값이 여러개 있을때는 모두 빼야 합니다."
   ]
  },
  {
   "cell_type": "code",
   "execution_count": 4,
   "id": "f7a9631e-b6e6-498f-852c-da52bbe7c5d1",
   "metadata": {},
   "outputs": [],
   "source": [
    "testList = [5, 1, 6, 8, 4, 9, 7, 3, 2, 1, 1, 1, 1, 1, 9, 9, 9, 9, 9, 9]\n",
    "# 최대값1, 최소값9\n",
    "# 최소값 최대값을 뺀 평균은 5.0"
   ]
  },
  {
   "cell_type": "code",
   "execution_count": 5,
   "id": "6280f8a7-c4a6-47d0-a403-1f9f69d4e968",
   "metadata": {},
   "outputs": [
    {
     "data": {
      "text/plain": [
       "9"
      ]
     },
     "execution_count": 5,
     "metadata": {},
     "output_type": "execute_result"
    }
   ],
   "source": [
    "maxValue = max(testList)\n",
    "maxValue"
   ]
  },
  {
   "cell_type": "code",
   "execution_count": 6,
   "id": "83eafcae-013b-4623-8f6f-5f0a3b540694",
   "metadata": {},
   "outputs": [
    {
     "data": {
      "text/plain": [
       "1"
      ]
     },
     "execution_count": 6,
     "metadata": {},
     "output_type": "execute_result"
    }
   ],
   "source": [
    "minValue = min(testList)\n",
    "minValue"
   ]
  },
  {
   "cell_type": "code",
   "execution_count": 7,
   "id": "239a9361-17a5-4b2e-95c7-4fe2cb7bd2d2",
   "metadata": {},
   "outputs": [
    {
     "data": {
      "text/plain": [
       "6"
      ]
     },
     "execution_count": 7,
     "metadata": {},
     "output_type": "execute_result"
    }
   ],
   "source": [
    "minCount = testList.count(minValue)\n",
    "minCount"
   ]
  },
  {
   "cell_type": "code",
   "execution_count": 8,
   "id": "4aa9065f-ea66-4cb1-bbef-e2cb3c2c68b7",
   "metadata": {},
   "outputs": [
    {
     "data": {
      "text/plain": [
       "7"
      ]
     },
     "execution_count": 8,
     "metadata": {},
     "output_type": "execute_result"
    }
   ],
   "source": [
    "maxCount = testList.count(maxValue)\n",
    "maxCount"
   ]
  },
  {
   "cell_type": "code",
   "execution_count": 9,
   "id": "0c1244d5-a7f7-45c3-92d0-1c6d108060be",
   "metadata": {},
   "outputs": [],
   "source": [
    "for i in range(0, minCount):\n",
    "    testList.remove(minValue) "
   ]
  },
  {
   "cell_type": "code",
   "execution_count": 10,
   "id": "adf5f819-fa98-4dec-930f-ab040cc7d510",
   "metadata": {},
   "outputs": [
    {
     "data": {
      "text/plain": [
       "[5, 6, 8, 4, 9, 7, 3, 2, 9, 9, 9, 9, 9, 9]"
      ]
     },
     "execution_count": 10,
     "metadata": {},
     "output_type": "execute_result"
    }
   ],
   "source": [
    "testList"
   ]
  },
  {
   "cell_type": "code",
   "execution_count": 11,
   "id": "d0553725-e70d-44c2-b54c-8ffad284b668",
   "metadata": {},
   "outputs": [],
   "source": [
    "for i in range(0, maxCount):\n",
    "    testList.remove(maxValue) "
   ]
  },
  {
   "cell_type": "code",
   "execution_count": 12,
   "id": "6954fdb0-bd53-4767-8dc8-a0a5cd8cb55f",
   "metadata": {},
   "outputs": [
    {
     "data": {
      "text/plain": [
       "[5, 6, 8, 4, 7, 3, 2]"
      ]
     },
     "execution_count": 12,
     "metadata": {},
     "output_type": "execute_result"
    }
   ],
   "source": [
    "testList "
   ]
  },
  {
   "cell_type": "code",
   "execution_count": 13,
   "id": "f1f87600-ee5c-4253-9f2c-014c8d60159e",
   "metadata": {},
   "outputs": [
    {
     "name": "stdout",
     "output_type": "stream",
     "text": [
      "최대값1, 최소값9\n"
     ]
    }
   ],
   "source": [
    "print(\"최대값{}, 최소값{}\".format(minValue,maxValue))"
   ]
  }
 ],
 "metadata": {
  "kernelspec": {
   "display_name": "Python 3 (ipykernel)",
   "language": "python",
   "name": "python3"
  },
  "language_info": {
   "codemirror_mode": {
    "name": "ipython",
    "version": 3
   },
   "file_extension": ".py",
   "mimetype": "text/x-python",
   "name": "python",
   "nbconvert_exporter": "python",
   "pygments_lexer": "ipython3",
   "version": "3.9.13"
  },
  "toc-autonumbering": true
 },
 "nbformat": 4,
 "nbformat_minor": 5
}
