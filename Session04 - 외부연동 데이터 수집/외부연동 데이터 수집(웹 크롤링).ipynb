{
 "cells": [
  {
   "cell_type": "markdown",
   "id": "4f734f2e-963b-455e-9f77-6ab9e3f30d1d",
   "metadata": {
    "tags": []
   },
   "source": [
    "# 웹 크롤링"
   ]
  },
  {
   "cell_type": "code",
   "execution_count": null,
   "id": "20bab904-69cc-479e-a68b-928801a65b3f",
   "metadata": {},
   "outputs": [],
   "source": [
    "# 내부 데이터 (이미 사내에서 접속 가능한 정제 후 활용 가능 데이터)만으로\n",
    "# 분석하는 것이 한계가 있기 때문에 외부 데이터를 수집한다."
   ]
  },
  {
   "cell_type": "code",
   "execution_count": null,
   "id": "489417df-d039-4afe-97b5-99a9c188468b",
   "metadata": {},
   "outputs": [],
   "source": []
  },
  {
   "cell_type": "markdown",
   "id": "55eb3904-dd98-4527-8958-c4c22e96083c",
   "metadata": {},
   "source": [
    "## BeautifulSoup 활용 HTML 추출"
   ]
  },
  {
   "cell_type": "code",
   "execution_count": null,
   "id": "a7ab5e51-3253-419b-a883-c0c6f76dc101",
   "metadata": {},
   "outputs": [],
   "source": [
    "# Mission\n",
    "# sparkkorea.com/퀴즈 사이트에 접속 후 퀴즈 내용을 스크랩"
   ]
  },
  {
   "cell_type": "code",
   "execution_count": null,
   "id": "037b8f8a-0171-4789-b86b-6905f690c772",
   "metadata": {},
   "outputs": [],
   "source": [
    "# HTML DOM tree에 대한 이해\n",
    "# F12 > Sources > index\n",
    "# 태그 안에다가 정보를 저장\n",
    "# head : 페이지 제목, 메타정보 등록\n",
    "# body : 실제 본문 내용, <div>라는 단락이 있고 이 단락 안에는 각각의 퀴즈 정보에 대한 링크 정보가 있다.\n",
    "# 따라서 body 정보를 활용하면 우리가 필요한 정보를 잘 스크랩할 수 있다. \n",
    "# request로 태그값을 가져와서, beautifulSoup 활용하여 예쁘게 정제할 수 있다. "
   ]
  },
  {
   "cell_type": "code",
   "execution_count": 1,
   "id": "b1a770f6-94e3-4c5b-9344-e3c41756840f",
   "metadata": {},
   "outputs": [],
   "source": [
    "# 라이브러리 선언\n",
    "import requests\n",
    "import bs4\n",
    "import pandas as pd"
   ]
  },
  {
   "cell_type": "code",
   "execution_count": 2,
   "id": "d04f1e1f-4340-4c88-9a40-15ddda92e3f4",
   "metadata": {},
   "outputs": [
    {
     "data": {
      "text/plain": [
       "<Response [200]>"
      ]
     },
     "execution_count": 2,
     "metadata": {},
     "output_type": "execute_result"
    }
   ],
   "source": [
    "#웹페이지 html 소스코드 가져오기\n",
    "# request를 찍어봤을 때 200이 찍히면 정상신호\n",
    "requests.get(\"https://sparkkorea.com/퀴즈/\")"
   ]
  },
  {
   "cell_type": "code",
   "execution_count": 3,
   "id": "20fc3108-4768-4438-befc-5808b0f40423",
   "metadata": {},
   "outputs": [],
   "source": [
    "# 추후엔 아래와 같이 로직을 구성하는 것이 안전\n",
    "# if resp.status_code == 200 :"
   ]
  },
  {
   "cell_type": "code",
   "execution_count": 4,
   "id": "95772581-6459-4512-9171-bd5e980a5fac",
   "metadata": {},
   "outputs": [],
   "source": [
    "resp=requests.get(\"https://sparkkorea.com/퀴즈/\") # 정상신호\n",
    "resp.encoding='utf-8' # 한글이 있는 웹페이지\n",
    "html = resp.text # 해당 웹페이지에서 소스코드를 무작위로 가져올 것"
   ]
  },
  {
   "cell_type": "code",
   "execution_count": 5,
   "id": "930ca208-db07-434d-a31a-ec701abddb9e",
   "metadata": {
    "collapsed": true,
    "jupyter": {
     "outputs_hidden": true
    },
    "tags": []
   },
   "outputs": [
    {
     "data": {
      "text/plain": [
       "<!DOCTYPE html>\n",
       "\n",
       "<html lang=\"ko-KR\">\n",
       "<head>\n",
       "<meta charset=\"utf-8\"/>\n",
       "<meta content=\"width=device-width, initial-scale=1\" name=\"viewport\"/>\n",
       "<link href=\"http://gmpg.org/xfn/11\" rel=\"profile\"/>\n",
       "<link href=\"https://sparkkorea.com/xmlrpc.php\" rel=\"pingback\"/>\n",
       "<title>퀴즈 – 스파크 코리아</title>\n",
       "<meta content=\"max-image-preview:large\" name=\"robots\">\n",
       "<meta content=\"QRZVgHsoL23RuwmgmXNuXfO-mUaxCkdvhP2rRvLT270\" name=\"google-site-verification\">\n",
       "<!-- Async WordPress.com Remote Login -->\n",
       "<script id=\"wpcom_remote_login_js\">\n",
       "var wpcom_remote_login_extra_auth = '';\n",
       "function wpcom_remote_login_remove_dom_node_id( element_id ) {\n",
       "\tvar dom_node = document.getElementById( element_id );\n",
       "\tif ( dom_node ) { dom_node.parentNode.removeChild( dom_node ); }\n",
       "}\n",
       "function wpcom_remote_login_remove_dom_node_classes( class_name ) {\n",
       "\tvar dom_nodes = document.querySelectorAll( '.' + class_name );\n",
       "\tfor ( var i = 0; i < dom_nodes.length; i++ ) {\n",
       "\t\tdom_nodes[ i ].parentNode.removeChild( dom_nodes[ i ] );\n",
       "\t}\n",
       "}\n",
       "function wpcom_remote_login_final_cleanup() {\n",
       "\twpcom_remote_login_remove_dom_node_classes( \"wpcom_remote_login_msg\" );\n",
       "\twpcom_remote_login_remove_dom_node_id( \"wpcom_remote_login_key\" );\n",
       "\twpcom_remote_login_remove_dom_node_id( \"wpcom_remote_login_validate\" );\n",
       "\twpcom_remote_login_remove_dom_node_id( \"wpcom_remote_login_js\" );\n",
       "\twpcom_remote_login_remove_dom_node_id( \"wpcom_request_access_iframe\" );\n",
       "\twpcom_remote_login_remove_dom_node_id( \"wpcom_request_access_styles\" );\n",
       "}\n",
       "\n",
       "// Watch for messages back from the remote login\n",
       "window.addEventListener( \"message\", function( e ) {\n",
       "\tif ( e.origin === \"https://r-login.wordpress.com\" ) {\n",
       "\t\tvar data = {};\n",
       "\t\ttry {\n",
       "\t\t\tdata = JSON.parse( e.data );\n",
       "\t\t} catch( e ) {\n",
       "\t\t\twpcom_remote_login_final_cleanup();\n",
       "\t\t\treturn;\n",
       "\t\t}\n",
       "\n",
       "\t\tif ( data.msg === 'LOGIN' ) {\n",
       "\t\t\t// Clean up the login check iframe\n",
       "\t\t\twpcom_remote_login_remove_dom_node_id( \"wpcom_remote_login_key\" );\n",
       "\n",
       "\t\t\tvar id_regex = new RegExp( /^[0-9]+$/ );\n",
       "\t\t\tvar token_regex = new RegExp( /^.*|.*|.*$/ );\n",
       "\t\t\tif (\n",
       "\t\t\t\ttoken_regex.test( data.token )\n",
       "\t\t\t\t&& id_regex.test( data.wpcomid )\n",
       "\t\t\t) {\n",
       "\t\t\t\t// We have everything we need to ask for a login\n",
       "\t\t\t\tvar script = document.createElement( \"script\" );\n",
       "\t\t\t\tscript.setAttribute( \"id\", \"wpcom_remote_login_validate\" );\n",
       "\t\t\t\tscript.src = '/remote-login.php?wpcom_remote_login=validate'\n",
       "\t\t\t\t\t+ '&wpcomid=' + data.wpcomid\n",
       "\t\t\t\t\t+ '&token=' + encodeURIComponent( data.token )\n",
       "\t\t\t\t\t+ '&host=' + window.location.protocol\n",
       "\t\t\t\t\t+ '//' + window.location.hostname\n",
       "\t\t\t\t\t+ '&postid=102'\n",
       "\t\t\t\t\t+ '&is_singular=';\n",
       "\t\t\t\tdocument.body.appendChild( script );\n",
       "\t\t\t}\n",
       "\n",
       "\t\t\treturn;\n",
       "\t\t}\n",
       "\n",
       "\t\t// Safari ITP, not logged in, so redirect\n",
       "\t\tif ( data.msg === 'LOGIN-REDIRECT' ) {\n",
       "\t\t\twindow.location = 'https://wordpress.com/log-in?redirect_to=' + window.location.href;\n",
       "\t\t\treturn;\n",
       "\t\t}\n",
       "\n",
       "\t\t// Safari ITP, storage access failed, remove the request\n",
       "\t\tif ( data.msg === 'LOGIN-REMOVE' ) {\n",
       "\t\t\tvar css_zap = 'html { -webkit-transition: margin-top 1s; transition: margin-top 1s; } /* 9001 */ html { margin-top: 0 !important; } * html body { margin-top: 0 !important; } @media screen and ( max-width: 782px ) { html { margin-top: 0 !important; } * html body { margin-top: 0 !important; } }';\n",
       "\t\t\tvar style_zap = document.createElement( 'style' );\n",
       "\t\t\tstyle_zap.type = 'text/css';\n",
       "\t\t\tstyle_zap.appendChild( document.createTextNode( css_zap ) );\n",
       "\t\t\tdocument.body.appendChild( style_zap );\n",
       "\n",
       "\t\t\tvar e = document.getElementById( 'wpcom_request_access_iframe' );\n",
       "\t\t\te.parentNode.removeChild( e );\n",
       "\n",
       "\t\t\tdocument.cookie = 'wordpress_com_login_access=denied; path=/; max-age=31536000';\n",
       "\n",
       "\t\t\treturn;\n",
       "\t\t}\n",
       "\n",
       "\t\t// Safari ITP\n",
       "\t\tif ( data.msg === 'REQUEST_ACCESS' ) {\n",
       "\t\t\tconsole.log( 'request access: safari' );\n",
       "\n",
       "\t\t\t// Check ITP iframe enable/disable knob\n",
       "\t\t\tif ( wpcom_remote_login_extra_auth !== 'safari_itp_iframe' ) {\n",
       "\t\t\t\treturn;\n",
       "\t\t\t}\n",
       "\n",
       "\t\t\t// If we are in a \"private window\" there is no ITP.\n",
       "\t\t\tvar private_window = false;\n",
       "\t\t\ttry {\n",
       "\t\t\t\tvar opendb = window.openDatabase( null, null, null, null );\n",
       "\t\t\t} catch( e ) {\n",
       "\t\t\t\tprivate_window = true;\n",
       "\t\t\t}\n",
       "\n",
       "\t\t\tif ( private_window ) {\n",
       "\t\t\t\tconsole.log( 'private window' );\n",
       "\t\t\t\treturn;\n",
       "\t\t\t}\n",
       "\n",
       "\t\t\tvar iframe = document.createElement( 'iframe' );\n",
       "\t\t\tiframe.id = 'wpcom_request_access_iframe';\n",
       "\t\t\tiframe.setAttribute( 'scrolling', 'no' );\n",
       "\t\t\tiframe.setAttribute( 'sandbox', 'allow-storage-access-by-user-activation allow-scripts allow-same-origin allow-top-navigation-by-user-activation' );\n",
       "\t\t\tiframe.src = 'https://r-login.wordpress.com/remote-login.php?wpcom_remote_login=request_access&origin=' + encodeURIComponent( data.origin ) + '&wpcomid=' + encodeURIComponent( data.wpcomid );\n",
       "\n",
       "\t\t\tvar css = 'html { -webkit-transition: margin-top 1s; transition: margin-top 1s; } /* 9001 */ html { margin-top: 46px !important; } * html body { margin-top: 46px !important; } @media screen and ( max-width: 660px ) { html { margin-top: 71px !important; } * html body { margin-top: 71px !important; } #wpcom_request_access_iframe { display: block; height: 71px !important; } } #wpcom_request_access_iframe { border: 0px; height: 46px; position: fixed; top: 0; left: 0; width: 100%; min-width: 100%; z-index: 99999; background: #23282d; } ';\n",
       "\n",
       "\t\t\tvar style = document.createElement( 'style' );\n",
       "\t\t\tstyle.type = 'text/css';\n",
       "\t\t\tstyle.id = 'wpcom_request_access_styles';\n",
       "\t\t\tstyle.appendChild( document.createTextNode( css ) );\n",
       "\t\t\tdocument.body.appendChild( style );\n",
       "\n",
       "\t\t\tdocument.body.appendChild( iframe );\n",
       "\t\t}\n",
       "\n",
       "\t\tif ( data.msg === 'DONE' ) {\n",
       "\t\t\twpcom_remote_login_final_cleanup();\n",
       "\t\t}\n",
       "\t}\n",
       "}, false );\n",
       "\n",
       "// Inject the remote login iframe after the page has had a chance to load\n",
       "// more critical resources\n",
       "window.addEventListener( \"DOMContentLoaded\", function( e ) {\n",
       "\tvar iframe = document.createElement( \"iframe\" );\n",
       "\tiframe.style.display = \"none\";\n",
       "\tiframe.setAttribute( \"scrolling\", \"no\" );\n",
       "\tiframe.setAttribute( \"id\", \"wpcom_remote_login_key\" );\n",
       "\tiframe.src = \"https://r-login.wordpress.com/remote-login.php\"\n",
       "\t\t+ \"?wpcom_remote_login=key\"\n",
       "\t\t+ \"&origin=aHR0cHM6Ly9zcGFya2tvcmVhLmNvbQ%3D%3D\"\n",
       "\t\t+ \"&wpcomid=163927570\"\n",
       "\t\t+ \"&time=1680348586\";\n",
       "\tdocument.body.appendChild( iframe );\n",
       "}, false );\n",
       "</script>\n",
       "<link href=\"//s2.wp.com\" rel=\"dns-prefetch\">\n",
       "<link href=\"//s1.wp.com\" rel=\"dns-prefetch\">\n",
       "<link href=\"//sparkkorea.wordpress.com\" rel=\"dns-prefetch\"/>\n",
       "<link href=\"//s0.wp.com\" rel=\"dns-prefetch\"/>\n",
       "<link href=\"//wordpress.com\" rel=\"dns-prefetch\"/>\n",
       "<link href=\"//fonts-api.wp.com\" rel=\"dns-prefetch\"/>\n",
       "<link crossorigin=\"\" href=\"https://fonts.gstatic.com\" rel=\"preconnect\"/>\n",
       "<link href=\"https://sparkkorea.com/feed/\" rel=\"alternate\" title=\"스파크 코리아 » 피드\" type=\"application/rss+xml\"/>\n",
       "<link href=\"https://sparkkorea.com/comments/feed/\" rel=\"alternate\" title=\"스파크 코리아 » 댓글 피드\" type=\"application/rss+xml\"/>\n",
       "<script type=\"text/javascript\">\n",
       "\t\t/* <![CDATA[ */\n",
       "\t\tfunction addLoadEvent(func) {\n",
       "\t\t\tvar oldonload = window.onload;\n",
       "\t\t\tif (typeof window.onload != 'function') {\n",
       "\t\t\t\twindow.onload = func;\n",
       "\t\t\t} else {\n",
       "\t\t\t\twindow.onload = function () {\n",
       "\t\t\t\t\toldonload();\n",
       "\t\t\t\t\tfunc();\n",
       "\t\t\t\t}\n",
       "\t\t\t}\n",
       "\t\t}\n",
       "\t\t/* ]]> */\n",
       "\t</script>\n",
       "<script type=\"text/javascript\">\n",
       "window._wpemojiSettings = {\"baseUrl\":\"https:\\/\\/s0.wp.com\\/wp-content\\/mu-plugins\\/wpcom-smileys\\/twemoji\\/2\\/72x72\\/\",\"ext\":\".png\",\"svgUrl\":\"https:\\/\\/s0.wp.com\\/wp-content\\/mu-plugins\\/wpcom-smileys\\/twemoji\\/2\\/svg\\/\",\"svgExt\":\".svg\",\"source\":{\"concatemoji\":\"https:\\/\\/s0.wp.com\\/wp-includes\\/js\\/wp-emoji-release.min.js?m=1677072837h&ver=6.2-RC2-55570\"}};\n",
       "/*! This file is auto-generated */\n",
       "!function(e,a,t){var n,r,o,i=a.createElement(\"canvas\"),p=i.getContext&&i.getContext(\"2d\");function s(e,t){p.clearRect(0,0,i.width,i.height),p.fillText(e,0,0);e=i.toDataURL();return p.clearRect(0,0,i.width,i.height),p.fillText(t,0,0),e===i.toDataURL()}function c(e){var t=a.createElement(\"script\");t.src=e,t.defer=t.type=\"text/javascript\",a.getElementsByTagName(\"head\")[0].appendChild(t)}for(o=Array(\"flag\",\"emoji\"),t.supports={everything:!0,everythingExceptFlag:!0},r=0;r<o.length;r++)t.supports[o[r]]=function(e){if(p&&p.fillText)switch(p.textBaseline=\"top\",p.font=\"600 32px Arial\",e){case\"flag\":return s(\"\\ud83c\\udff3\\ufe0f\\u200d\\u26a7\\ufe0f\",\"\\ud83c\\udff3\\ufe0f\\u200b\\u26a7\\ufe0f\")?!1:!s(\"\\ud83c\\uddfa\\ud83c\\uddf3\",\"\\ud83c\\uddfa\\u200b\\ud83c\\uddf3\")&&!s(\"\\ud83c\\udff4\\udb40\\udc67\\udb40\\udc62\\udb40\\udc65\\udb40\\udc6e\\udb40\\udc67\\udb40\\udc7f\",\"\\ud83c\\udff4\\u200b\\udb40\\udc67\\u200b\\udb40\\udc62\\u200b\\udb40\\udc65\\u200b\\udb40\\udc6e\\u200b\\udb40\\udc67\\u200b\\udb40\\udc7f\");case\"emoji\":return!s(\"\\ud83e\\udef1\\ud83c\\udffb\\u200d\\ud83e\\udef2\\ud83c\\udfff\",\"\\ud83e\\udef1\\ud83c\\udffb\\u200b\\ud83e\\udef2\\ud83c\\udfff\")}return!1}(o[r]),t.supports.everything=t.supports.everything&&t.supports[o[r]],\"flag\"!==o[r]&&(t.supports.everythingExceptFlag=t.supports.everythingExceptFlag&&t.supports[o[r]]);t.supports.everythingExceptFlag=t.supports.everythingExceptFlag&&!t.supports.flag,t.DOMReady=!1,t.readyCallback=function(){t.DOMReady=!0},t.supports.everything||(n=function(){t.readyCallback()},a.addEventListener?(a.addEventListener(\"DOMContentLoaded\",n,!1),e.addEventListener(\"load\",n,!1)):(e.attachEvent(\"onload\",n),a.attachEvent(\"onreadystatechange\",function(){\"complete\"===a.readyState&&t.readyCallback()})),(e=t.source||{}).concatemoji?c(e.concatemoji):e.wpemoji&&e.twemoji&&(c(e.twemoji),c(e.wpemoji)))}(window,document,window._wpemojiSettings);\n",
       "</script>\n",
       "<style type=\"text/css\">\n",
       "img.wp-smiley,\n",
       "img.emoji {\n",
       "\tdisplay: inline !important;\n",
       "\tborder: none !important;\n",
       "\tbox-shadow: none !important;\n",
       "\theight: 1em !important;\n",
       "\twidth: 1em !important;\n",
       "\tmargin: 0 0.07em !important;\n",
       "\tvertical-align: -0.1em !important;\n",
       "\tbackground: none !important;\n",
       "\tpadding: 0 !important;\n",
       "}\n",
       "</style>\n",
       "<link crossorigin=\"anonymous\" href=\"https://s1.wp.com/_static/??-eJytjMsOwiAQRX9IOiWKxoXxWwpOkHZ4hIE2/L0NiRt16fLknntgS8LEUDAU8FUkqtYFhi2Z6AV7R9g+aDDMB/h9I7cgw4wlTWYRnb70t2vrjhqz3ZeMsEo1nIYRdHX0AE2xB3SecgMujfAfofJE30N3f5Pny1VJOarj/AIz1V8/&amp;cssminify=yes\" id=\"all-css-0-1\" media=\"all\" rel=\"stylesheet\" type=\"text/css\"/>\n",
       "<style id=\"wp-block-library-inline-css\">\n",
       ".has-text-align-justify {\n",
       "\ttext-align:justify;\n",
       "}\n",
       ".wp-block-cover__image-background.has-parallax {\n",
       "\tbackground-size: cover;\n",
       "}\n",
       "</style>\n",
       "<link crossorigin=\"anonymous\" href=\"https://s1.wp.com/_static/??-eJyVj9EKwjAMRX/IrBPU6YP4LV0Ware2K03L2N8bHyZOZeBL4CY5uTdqimADutIRq56Vp85qcuQp5JWITs+UwJHROFfehgqZd2oLl9m7XkE4hvzcia4YG1iZIrKlZKB1Iw5yjHLUOIDYjiWDSbZTnGdH/59IOttg+AN/xZaGQqeZLUK+S1T+mdQXWJxwTCR9H/X3kxvYFIWBto2JmEGqt8UvlsLd/HV/as6Xpq6Ph/4BjgOajA==&amp;cssminify=yes\" id=\"all-css-2-1\" media=\"all\" rel=\"stylesheet\" type=\"text/css\"/>\n",
       "<style id=\"global-styles-inline-css\">\n",
       "body{--wp--preset--color--black: #000000;--wp--preset--color--cyan-bluish-gray: #abb8c3;--wp--preset--color--white: #fff;--wp--preset--color--pale-pink: #f78da7;--wp--preset--color--vivid-red: #cf2e2e;--wp--preset--color--luminous-vivid-orange: #ff6900;--wp--preset--color--luminous-vivid-amber: #fcb900;--wp--preset--color--light-green-cyan: #7bdcb5;--wp--preset--color--vivid-green-cyan: #00d084;--wp--preset--color--pale-cyan-blue: #8ed1fc;--wp--preset--color--vivid-cyan-blue: #0693e3;--wp--preset--color--vivid-purple: #9b51e0;--wp--preset--color--bright-blue: #678db8;--wp--preset--color--yellow: #e7ae01;--wp--preset--color--light-gray-blue: #abb7c3;--wp--preset--color--medium-gray: #6a6c6e;--wp--preset--color--dark-gray: #1a1c1e;--wp--preset--color--dark-gray-blue: #292c2f;--wp--preset--gradient--vivid-cyan-blue-to-vivid-purple: linear-gradient(135deg,rgba(6,147,227,1) 0%,rgb(155,81,224) 100%);--wp--preset--gradient--light-green-cyan-to-vivid-green-cyan: linear-gradient(135deg,rgb(122,220,180) 0%,rgb(0,208,130) 100%);--wp--preset--gradient--luminous-vivid-amber-to-luminous-vivid-orange: linear-gradient(135deg,rgba(252,185,0,1) 0%,rgba(255,105,0,1) 100%);--wp--preset--gradient--luminous-vivid-orange-to-vivid-red: linear-gradient(135deg,rgba(255,105,0,1) 0%,rgb(207,46,46) 100%);--wp--preset--gradient--very-light-gray-to-cyan-bluish-gray: linear-gradient(135deg,rgb(238,238,238) 0%,rgb(169,184,195) 100%);--wp--preset--gradient--cool-to-warm-spectrum: linear-gradient(135deg,rgb(74,234,220) 0%,rgb(151,120,209) 20%,rgb(207,42,186) 40%,rgb(238,44,130) 60%,rgb(251,105,98) 80%,rgb(254,248,76) 100%);--wp--preset--gradient--blush-light-purple: linear-gradient(135deg,rgb(255,206,236) 0%,rgb(152,150,240) 100%);--wp--preset--gradient--blush-bordeaux: linear-gradient(135deg,rgb(254,205,165) 0%,rgb(254,45,45) 50%,rgb(107,0,62) 100%);--wp--preset--gradient--luminous-dusk: linear-gradient(135deg,rgb(255,203,112) 0%,rgb(199,81,192) 50%,rgb(65,88,208) 100%);--wp--preset--gradient--pale-ocean: linear-gradient(135deg,rgb(255,245,203) 0%,rgb(182,227,212) 50%,rgb(51,167,181) 100%);--wp--preset--gradient--electric-grass: linear-gradient(135deg,rgb(202,248,128) 0%,rgb(113,206,126) 100%);--wp--preset--gradient--midnight: linear-gradient(135deg,rgb(2,3,129) 0%,rgb(40,116,252) 100%);--wp--preset--duotone--dark-grayscale: url('#wp-duotone-dark-grayscale');--wp--preset--duotone--grayscale: url('#wp-duotone-grayscale');--wp--preset--duotone--purple-yellow: url('#wp-duotone-purple-yellow');--wp--preset--duotone--blue-red: url('#wp-duotone-blue-red');--wp--preset--duotone--midnight: url('#wp-duotone-midnight');--wp--preset--duotone--magenta-yellow: url('#wp-duotone-magenta-yellow');--wp--preset--duotone--purple-green: url('#wp-duotone-purple-green');--wp--preset--duotone--blue-orange: url('#wp-duotone-blue-orange');--wp--preset--font-size--small: 13px;--wp--preset--font-size--medium: 20px;--wp--preset--font-size--large: 36px;--wp--preset--font-size--x-large: 42px;--wp--preset--font-family--albert-sans: 'Albert Sans';--wp--preset--font-family--alegreya: Alegreya;--wp--preset--font-family--arvo: Arvo;--wp--preset--font-family--bodoni-moda: 'Bodoni Moda';--wp--preset--font-family--cabin: Cabin;--wp--preset--font-family--chivo: Chivo;--wp--preset--font-family--commissioner: Commissioner;--wp--preset--font-family--cormorant: Cormorant;--wp--preset--font-family--courier-prime: 'Courier Prime';--wp--preset--font-family--crimson-pro: 'Crimson Pro';--wp--preset--font-family--dm-mono: 'DM Mono';--wp--preset--font-family--dm-sans: 'DM Sans';--wp--preset--font-family--domine: Domine;--wp--preset--font-family--eb-garamond: 'EB Garamond';--wp--preset--font-family--epilogue: Epilogue;--wp--preset--font-family--figtree: Figtree;--wp--preset--font-family--fira-sans: 'Fira Sans';--wp--preset--font-family--fraunces: Fraunces;--wp--preset--font-family--ibm-plex-mono: 'IBM Plex Mono';--wp--preset--font-family--ibm-plex-sans: 'IBM Plex Sans';--wp--preset--font-family--inter: Inter;--wp--preset--font-family--josefin-sans: 'Josefin Sans';--wp--preset--font-family--jost: Jost;--wp--preset--font-family--libre-baskerville: 'Libre Baskerville';--wp--preset--font-family--libre-franklin: 'Libre Franklin';--wp--preset--font-family--literata: Literata;--wp--preset--font-family--lora: Lora;--wp--preset--font-family--merriweather: Merriweather;--wp--preset--font-family--montserrat: Montserrat;--wp--preset--font-family--newsreader: Newsreader;--wp--preset--font-family--nunito: Nunito;--wp--preset--font-family--open-sans: 'Open Sans';--wp--preset--font-family--overpass: Overpass;--wp--preset--font-family--petrona: Petrona;--wp--preset--font-family--piazzolla: Piazzolla;--wp--preset--font-family--playfair-display: 'Playfair Display';--wp--preset--font-family--plus-jakarta-sans: 'Plus Jakarta Sans';--wp--preset--font-family--poppins: Poppins;--wp--preset--font-family--raleway: Raleway;--wp--preset--font-family--roboto-slab: 'Roboto Slab';--wp--preset--font-family--roboto: Roboto;--wp--preset--font-family--rubik: Rubik;--wp--preset--font-family--sora: Sora;--wp--preset--font-family--source-sans-pro: 'Source Sans Pro';--wp--preset--font-family--source-serif-pro: 'Source Serif Pro';--wp--preset--font-family--space-mono: 'Space Mono';--wp--preset--font-family--texturina: Texturina;--wp--preset--font-family--work-sans: 'Work Sans';--wp--preset--spacing--20: 0.44rem;--wp--preset--spacing--30: 0.67rem;--wp--preset--spacing--40: 1rem;--wp--preset--spacing--50: 1.5rem;--wp--preset--spacing--60: 2.25rem;--wp--preset--spacing--70: 3.38rem;--wp--preset--spacing--80: 5.06rem;--wp--preset--shadow--natural: 6px 6px 9px rgba(0, 0, 0, 0.2);--wp--preset--shadow--deep: 12px 12px 50px rgba(0, 0, 0, 0.4);--wp--preset--shadow--sharp: 6px 6px 0px rgba(0, 0, 0, 0.2);--wp--preset--shadow--outlined: 6px 6px 0px -3px rgba(255, 255, 255, 1), 6px 6px rgba(0, 0, 0, 1);--wp--preset--shadow--crisp: 6px 6px 0px rgba(0, 0, 0, 1);}:where(.is-layout-flex){gap: 0.5em;}body .is-layout-flow > .alignleft{float: left;margin-inline-start: 0;margin-inline-end: 2em;}body .is-layout-flow > .alignright{float: right;margin-inline-start: 2em;margin-inline-end: 0;}body .is-layout-flow > .aligncenter{margin-left: auto !important;margin-right: auto !important;}body .is-layout-constrained > .alignleft{float: left;margin-inline-start: 0;margin-inline-end: 2em;}body .is-layout-constrained > .alignright{float: right;margin-inline-start: 2em;margin-inline-end: 0;}body .is-layout-constrained > .aligncenter{margin-left: auto !important;margin-right: auto !important;}body .is-layout-constrained > :where(:not(.alignleft):not(.alignright):not(.alignfull)){max-width: var(--wp--style--global--content-size);margin-left: auto !important;margin-right: auto !important;}body .is-layout-constrained > .alignwide{max-width: var(--wp--style--global--wide-size);}body .is-layout-flex{display: flex;}body .is-layout-flex{flex-wrap: wrap;align-items: center;}body .is-layout-flex > *{margin: 0;}:where(.wp-block-columns.is-layout-flex){gap: 2em;}.has-black-color{color: var(--wp--preset--color--black) !important;}.has-cyan-bluish-gray-color{color: var(--wp--preset--color--cyan-bluish-gray) !important;}.has-white-color{color: var(--wp--preset--color--white) !important;}.has-pale-pink-color{color: var(--wp--preset--color--pale-pink) !important;}.has-vivid-red-color{color: var(--wp--preset--color--vivid-red) !important;}.has-luminous-vivid-orange-color{color: var(--wp--preset--color--luminous-vivid-orange) !important;}.has-luminous-vivid-amber-color{color: var(--wp--preset--color--luminous-vivid-amber) !important;}.has-light-green-cyan-color{color: var(--wp--preset--color--light-green-cyan) !important;}.has-vivid-green-cyan-color{color: var(--wp--preset--color--vivid-green-cyan) !important;}.has-pale-cyan-blue-color{color: var(--wp--preset--color--pale-cyan-blue) !important;}.has-vivid-cyan-blue-color{color: var(--wp--preset--color--vivid-cyan-blue) !important;}.has-vivid-purple-color{color: var(--wp--preset--color--vivid-purple) !important;}.has-black-background-color{background-color: var(--wp--preset--color--black) !important;}.has-cyan-bluish-gray-background-color{background-color: var(--wp--preset--color--cyan-bluish-gray) !important;}.has-white-background-color{background-color: var(--wp--preset--color--white) !important;}.has-pale-pink-background-color{background-color: var(--wp--preset--color--pale-pink) !important;}.has-vivid-red-background-color{background-color: var(--wp--preset--color--vivid-red) !important;}.has-luminous-vivid-orange-background-color{background-color: var(--wp--preset--color--luminous-vivid-orange) !important;}.has-luminous-vivid-amber-background-color{background-color: var(--wp--preset--color--luminous-vivid-amber) !important;}.has-light-green-cyan-background-color{background-color: var(--wp--preset--color--light-green-cyan) !important;}.has-vivid-green-cyan-background-color{background-color: var(--wp--preset--color--vivid-green-cyan) !important;}.has-pale-cyan-blue-background-color{background-color: var(--wp--preset--color--pale-cyan-blue) !important;}.has-vivid-cyan-blue-background-color{background-color: var(--wp--preset--color--vivid-cyan-blue) !important;}.has-vivid-purple-background-color{background-color: var(--wp--preset--color--vivid-purple) !important;}.has-black-border-color{border-color: var(--wp--preset--color--black) !important;}.has-cyan-bluish-gray-border-color{border-color: var(--wp--preset--color--cyan-bluish-gray) !important;}.has-white-border-color{border-color: var(--wp--preset--color--white) !important;}.has-pale-pink-border-color{border-color: var(--wp--preset--color--pale-pink) !important;}.has-vivid-red-border-color{border-color: var(--wp--preset--color--vivid-red) !important;}.has-luminous-vivid-orange-border-color{border-color: var(--wp--preset--color--luminous-vivid-orange) !important;}.has-luminous-vivid-amber-border-color{border-color: var(--wp--preset--color--luminous-vivid-amber) !important;}.has-light-green-cyan-border-color{border-color: var(--wp--preset--color--light-green-cyan) !important;}.has-vivid-green-cyan-border-color{border-color: var(--wp--preset--color--vivid-green-cyan) !important;}.has-pale-cyan-blue-border-color{border-color: var(--wp--preset--color--pale-cyan-blue) !important;}.has-vivid-cyan-blue-border-color{border-color: var(--wp--preset--color--vivid-cyan-blue) !important;}.has-vivid-purple-border-color{border-color: var(--wp--preset--color--vivid-purple) !important;}.has-vivid-cyan-blue-to-vivid-purple-gradient-background{background: var(--wp--preset--gradient--vivid-cyan-blue-to-vivid-purple) !important;}.has-light-green-cyan-to-vivid-green-cyan-gradient-background{background: var(--wp--preset--gradient--light-green-cyan-to-vivid-green-cyan) !important;}.has-luminous-vivid-amber-to-luminous-vivid-orange-gradient-background{background: var(--wp--preset--gradient--luminous-vivid-amber-to-luminous-vivid-orange) !important;}.has-luminous-vivid-orange-to-vivid-red-gradient-background{background: var(--wp--preset--gradient--luminous-vivid-orange-to-vivid-red) !important;}.has-very-light-gray-to-cyan-bluish-gray-gradient-background{background: var(--wp--preset--gradient--very-light-gray-to-cyan-bluish-gray) !important;}.has-cool-to-warm-spectrum-gradient-background{background: var(--wp--preset--gradient--cool-to-warm-spectrum) !important;}.has-blush-light-purple-gradient-background{background: var(--wp--preset--gradient--blush-light-purple) !important;}.has-blush-bordeaux-gradient-background{background: var(--wp--preset--gradient--blush-bordeaux) !important;}.has-luminous-dusk-gradient-background{background: var(--wp--preset--gradient--luminous-dusk) !important;}.has-pale-ocean-gradient-background{background: var(--wp--preset--gradient--pale-ocean) !important;}.has-electric-grass-gradient-background{background: var(--wp--preset--gradient--electric-grass) !important;}.has-midnight-gradient-background{background: var(--wp--preset--gradient--midnight) !important;}.has-small-font-size{font-size: var(--wp--preset--font-size--small) !important;}.has-medium-font-size{font-size: var(--wp--preset--font-size--medium) !important;}.has-large-font-size{font-size: var(--wp--preset--font-size--large) !important;}.has-x-large-font-size{font-size: var(--wp--preset--font-size--x-large) !important;}\n",
       ":where(.wp-block-columns.is-layout-flex){gap: 2em;}\n",
       ".wp-block-pullquote{font-size: 1.5em;line-height: 1.6;}\n",
       ".wp-block-navigation a:where(:not(.wp-element-button)){color: inherit;}\n",
       "</style>\n",
       "<link crossorigin=\"anonymous\" href=\"https://s1.wp.com/_static/??/wp-content/mu-plugins/comment-likes/css/comment-likes.css,/i/noticons/noticons.css?m=1436783281j&amp;cssminify=yes\" id=\"all-css-4-1\" media=\"all\" rel=\"stylesheet\" type=\"text/css\"/>\n",
       "<link href=\"https://fonts-api.wp.com/css?family=Lato%3A400%2C400italic%2C700%2C700italic%7CNoto+Serif%3A400%2C400italic%2C700%2C700italic&amp;subset=latin%2Clatin-ext\" id=\"dyad-2-fonts-css\" media=\"all\" rel=\"stylesheet\"/>\n",
       "<link crossorigin=\"anonymous\" href=\"https://s0.wp.com/_static/??-eJyNj9kKwjAURH/IeGtx6Yv4KZLeXGPabGSh9O9Ng2BBkb7NwJxhBibP0NlENoHJzOsslY0wUPIcx7cHH5zImJSzcFcWQZKloAoXf8s9xriDVXV6kqEIPvcgZi5YCzHNmjbkSgJ67XDcUrpsq8Vs8ujMF7F6KMmxUsvrqbVhD81V+IcGKoNkkbKu+9gFupnr4Xy6dF3THpvhBfZwgjk=&amp;cssminify=yes\" id=\"all-css-6-1\" media=\"all\" rel=\"stylesheet\" type=\"text/css\"/>\n",
       "<link crossorigin=\"anonymous\" href=\"https://s2.wp.com/wp-content/mu-plugins/global-print/global-print.css?m=1465851035h&amp;cssminify=yes\" id=\"print-css-7-1\" media=\"print\" rel=\"stylesheet\" type=\"text/css\"/>\n",
       "<style id=\"jetpack-global-styles-frontend-style-inline-css\">\n",
       ":root { --font-headings: unset; --font-base: unset; --font-headings-default: -apple-system,BlinkMacSystemFont,\"Segoe UI\",Roboto,Oxygen-Sans,Ubuntu,Cantarell,\"Helvetica Neue\",sans-serif; --font-base-default: -apple-system,BlinkMacSystemFont,\"Segoe UI\",Roboto,Oxygen-Sans,Ubuntu,Cantarell,\"Helvetica Neue\",sans-serif;}\n",
       "</style>\n",
       "<link crossorigin=\"anonymous\" href=\"https://s0.wp.com/_static/??-eJyVjUEKwjAQRS9kHAVb60I8isRJSFInM6GTULx9W3Ejrty9B5/3YS4GhavnCrmZQi0kVhh9LRafH4cyiWtYkzDklcgraLSTd9a51xsThz2q7uDf3j0xggomS4YkiH7JT7NGn9f3eIJA8rC0DW75euzPl+7QDUM/Lj+0TlE=&amp;cssminify=yes\" id=\"all-css-10-1\" media=\"all\" rel=\"stylesheet\" type=\"text/css\"/>\n",
       "<script id=\"wpcom-actionbar-placeholder-js-extra\">\n",
       "var actionbardata = {\"siteID\":\"163927570\",\"siteURL\":\"https:\\/\\/sparkkorea.com\",\"xhrURL\":\"https:\\/\\/sparkkorea.com\\/wp-admin\\/admin-ajax.php\",\"nonce\":\"07ff9ea899\",\"isLoggedIn\":\"\",\"statusMessage\":\"\",\"subsEmailDefault\":\"instantly\",\"proxyScriptUrl\":\"https:\\/\\/s0.wp.com\\/wp-content\\/js\\/wpcom-proxy-request.js?ver=20211021\",\"shortlink\":\"https:\\/\\/wp.me\\/Pb5P34-1E\",\"i18n\":{\"followedText\":\"\\uc774 \\uc0ac\\uc774\\ud2b8\\uc758 \\uc0c8 \\uae00\\uc774 \\uc774\\uc81c <a href=\\\"https:\\/\\/wordpress.com\\/read\\\">\\ub9ac\\ub354(Reader)<\\/a>\\uc5d0 \\ud45c\\uc2dc\\ub429\\ub2c8\\ub2e4\",\"foldBar\":\"\\uc774 \\ud45c\\uc2dc\\uc904 \\ucd95\\uc18c\",\"unfoldBar\":\"\\uc774 \\ud45c\\uc2dc\\uc904 \\ud655\\uc7a5\"}};\n",
       "</script>\n",
       "<script crossorigin=\"anonymous\" src=\"https://s1.wp.com/_static/??-eJzTLy/QTc7PK0nNK9HPKtbPzU/KzEnVLS1OLUpMB4rpZual5etlFevoo6oryinRLSjKr6iEyWXmJeeUpqQWgySzCktTiyqhlF5uZh5BRbq5melFiSWpUMX2ubaGZuYWlhYGlhaGWQCPrjue\" type=\"text/javascript\"></script>\n",
       "<script type=\"text/javascript\">\n",
       "\twindow.addEventListener( 'DOMContentLoaded', function() {\n",
       "\t\trltInitialize( {\"token\":null,\"iframeOrigins\":[\"https:\\/\\/widgets.wp.com\"]} );\n",
       "\t} );\n",
       "</script>\n",
       "<link href=\"https://sparkkorea.wordpress.com/xmlrpc.php?rsd\" rel=\"EditURI\" title=\"RSD\" type=\"application/rsd+xml\"/>\n",
       "<link href=\"https://s1.wp.com/wp-includes/wlwmanifest.xml\" rel=\"wlwmanifest\" type=\"application/wlwmanifest+xml\"/>\n",
       "<meta content=\"WordPress.com\" name=\"generator\"/>\n",
       "<link href=\"https://sparkkorea.com/%ed%80%b4%ec%a6%88/\" rel=\"canonical\"/>\n",
       "<link href=\"https://wp.me/Pb5P34-1E\" rel=\"shortlink\"/>\n",
       "<link href=\"https://public-api.wordpress.com/oembed/?format=json&amp;url=https%3A%2F%2Fsparkkorea.com%2F%25ed%2580%25b4%25ec%25a6%2588%2F&amp;for=wpcom-auto-discovery\" rel=\"alternate\" type=\"application/json+oembed\"/><link href=\"https://public-api.wordpress.com/oembed/?format=xml&amp;url=https%3A%2F%2Fsparkkorea.com%2F%25ed%2580%25b4%25ec%25a6%2588%2F&amp;for=wpcom-auto-discovery\" rel=\"alternate\" type=\"application/xml+oembed\"/>\n",
       "<!-- Jetpack Open Graph Tags -->\n",
       "<meta content=\"article\" property=\"og:type\"/>\n",
       "<meta content=\"퀴즈\" property=\"og:title\"/>\n",
       "<meta content=\"https://sparkkorea.com/%ed%80%b4%ec%a6%88/\" property=\"og:url\"/>\n",
       "<meta content=\"메인 설문 준비중 Spark 퀴즈 6/13 Spark 심화과정 6/13 Spark 기본과정 6/18 Spark [MAP_FILTER] 6/18 Spark GroupBy 심화 6/25 Spark RDD 실전 분석 6/27 Spark RDD 실전 분석2\" property=\"og:description\"/>\n",
       "<meta content=\"2019-07-08T09:35:27+00:00\" property=\"article:published_time\"/>\n",
       "<meta content=\"2020-03-20T09:42:15+00:00\" property=\"article:modified_time\"/>\n",
       "<meta content=\"스파크 코리아\" property=\"og:site_name\"/>\n",
       "<meta content=\"https://s0.wp.com/i/blank.jpg\" property=\"og:image\"/>\n",
       "<meta content=\"\" property=\"og:image:alt\"/>\n",
       "<meta content=\"ko_KR\" property=\"og:locale\"/>\n",
       "<meta content=\"https://www.facebook.com/WordPresscom\" property=\"article:publisher\"/>\n",
       "<meta content=\"퀴즈\" name=\"twitter:text:title\"/>\n",
       "<meta content=\"summary\" name=\"twitter:card\"/>\n",
       "<!-- End Jetpack Open Graph Tags -->\n",
       "<link href=\"https://s1.wp.com/i/favicon.ico\" rel=\"shortcut icon\" sizes=\"16x16 24x24 32x32 48x48\" type=\"image/x-icon\"/>\n",
       "<link href=\"https://s1.wp.com/i/favicon.ico\" rel=\"icon\" sizes=\"16x16 24x24 32x32 48x48\" type=\"image/x-icon\"/>\n",
       "<link href=\"https://s2.wp.com/i/webclip.png\" rel=\"apple-touch-icon\"/>\n",
       "<link href=\"https://sparkkorea.com/osd.xml\" rel=\"search\" title=\"스파크 코리아\" type=\"application/opensearchdescription+xml\"/>\n",
       "<link href=\"https://s1.wp.com/opensearch.xml\" rel=\"search\" title=\"WordPress.com\" type=\"application/opensearchdescription+xml\"/>\n",
       "<meta content=\"스파크 코리아\" name=\"application-name\"/><meta content=\"width=device-width;height=device-height\" name=\"msapplication-window\"/><meta content=\"스파크코리아 자료공유\" name=\"msapplication-tooltip\"/><meta content=\"name=구독;action-uri=https://sparkkorea.com/feed/;icon-uri=https://s1.wp.com/i/favicon.ico\" name=\"msapplication-task\"/><meta content=\"name=무료 블로그 등록;action-uri=http://wordpress.com/signup/;icon-uri=https://s1.wp.com/i/favicon.ico\" name=\"msapplication-task\"/><meta content=\"name=WordPress.com 지원;action-uri=http://support.wordpress.com/;icon-uri=https://s1.wp.com/i/favicon.ico\" name=\"msapplication-task\"/><meta content=\"name=WordPress.com 포럼;action-uri=http://forums.wordpress.com/;icon-uri=https://s1.wp.com/i/favicon.ico\" name=\"msapplication-task\"/><meta content=\"메인 설문 준비중 Spark 퀴즈 6/13 Spark 심화과정 6/13 Spark 기본과정 6/18 Spark [MAP_FILTER] 6/18 Spark GroupBy 심화 6/25 Spark RDD 실전 분석 6/27 Spark RDD 실전 분석2\" name=\"description\"/>\n",
       "</link></link></meta></meta></head>\n",
       "<body class=\"page-template-default page page-id-102 wp-embed-responsive customizer-styles-applied is-singular no-js highlander-enabled highlander-light\">\n",
       "<div class=\"hfeed site\" id=\"page\">\n",
       "<a class=\"skip-link screen-reader-text\" href=\"#content\">컨텐츠로 건너뛰기</a>\n",
       "<header class=\"site-header\" id=\"masthead\" role=\"banner\">\n",
       "<div class=\"site-branding\">\n",
       "<h1 class=\"site-title\">\n",
       "<a href=\"https://sparkkorea.com/\" rel=\"home\">\n",
       "\t\t\t\t\t스파크 코리아\t\t\t\t</a>\n",
       "</h1>\n",
       "<p class=\"site-description\">스파크코리아 자료공유</p>\n",
       "</div><!-- .site-branding -->\n",
       "<nav class=\"main-navigation\" id=\"site-navigation\" role=\"navigation\">\n",
       "<button aria-controls=\"primary-menu\" aria-expanded=\"false\" class=\"menu-toggle\">메뉴</button>\n",
       "<div class=\"primary-menu\"><ul class=\"menu\" id=\"primary-menu\"><li class=\"menu-item menu-item-type-post_type menu-item-object-page menu-item-27\" id=\"menu-item-27\"><a href=\"https://sparkkorea.com/%ec%9e%90%eb%a3%8c%ec%8b%a4/\">자료실</a></li>\n",
       "<li class=\"menu-item menu-item-type-post_type menu-item-object-page current-menu-item page_item page-item-102 current_page_item menu-item-382\" id=\"menu-item-382\"><a aria-current=\"page\" href=\"https://sparkkorea.com/%ed%80%b4%ec%a6%88/\">퀴즈</a></li>\n",
       "<li class=\"menu-item menu-item-type-post_type menu-item-object-page menu-item-264\" id=\"menu-item-264\"><a href=\"https://sparkkorea.com/%ec%84%a4%eb%ac%b8-2/\">설문s</a></li>\n",
       "<li class=\"menu-item menu-item-type-post_type menu-item-object-page menu-item-383\" id=\"menu-item-383\"><a href=\"https://sparkkorea.com/%ed%85%8c%ec%8a%a4%ed%8a%b8/\">테스트</a></li>\n",
       "<li class=\"menu-item menu-item-type-post_type menu-item-object-page menu-item-397\" id=\"menu-item-397\"><a href=\"https://sparkkorea.com/%ec%84%a4%eb%ac%b8/\">학생퀴즈</a></li>\n",
       "</ul></div> </nav>\n",
       "</header><!-- #masthead -->\n",
       "<div class=\"site-inner\">\n",
       "<div class=\"site-content\" id=\"content\">\n",
       "<main class=\"content-area\" id=\"primary\" role=\"main\">\n",
       "<article class=\"post-102 page type-page status-publish hentry\" id=\"post-102\">\n",
       "<div class=\"entry-inner\">\n",
       "<header class=\"entry-header\">\n",
       "<h1 class=\"entry-title\">퀴즈</h1> </header><!-- .entry-header -->\n",
       "<div class=\"entry-content\">\n",
       "<div class=\"class_general_main\" id=\"id_general_main\">\n",
       "<h1> 메인 </h1>\n",
       "<a href=\"#\"> 설문 준비중 </a>\n",
       "<p></p>\n",
       "</div>\n",
       "<div class=\"class_spark_quiz\" id=\"id_spark_quiz\">\n",
       "<h1>Spark 퀴즈 </h1>\n",
       "<a href=\"https://forms.gle/Fw49w9GhWQChDcZm7\"> 6/13 Spark 심화과정 </a>\n",
       "<p></p>\n",
       "<a href=\"https://forms.gle/G4TcXm3fKuHLHA6D6\"> 6/13 Spark 기본과정 </a>\n",
       "<p></p>\n",
       "<a href=\"https://forms.gle/M8gr1kC2ubA3UDVp8\"> 6/18 Spark [MAP_FILTER] </a>\n",
       "<p></p>\n",
       "<a href=\"https://forms.gle/h8w5mZ4MNaPLCPbi6\"> 6/18 Spark GroupBy 심화 </a>\n",
       "<p></p>\n",
       "<a href=\"https://forms.gle/q5yL6QHfueDLM5w27\"> 6/25 Spark RDD 실전 분석 </a>\n",
       "<p></p>\n",
       "<a href=\"https://forms.gle/Gxb4y6LfVYiaLu4M7\"> 6/27 Spark RDD 실전 분석2 </a>\n",
       "<p></p>\n",
       "</div>\n",
       "<div class=\"sharedaddy sd-like-enabled sd-sharing-enabled\" id=\"jp-post-flair\"><div class=\"sharedaddy sd-sharing-enabled\"><div class=\"robots-nocontent sd-block sd-social sd-social-icon-text sd-sharing\"><h3 class=\"sd-title\">이 글 공유하기:</h3><div class=\"sd-content\"><ul><li class=\"share-twitter\"><a class=\"share-twitter sd-button share-icon\" data-shared=\"sharing-twitter-102\" href=\"https://sparkkorea.com/%ed%80%b4%ec%a6%88/?share=twitter\" rel=\"nofollow noopener noreferrer\" target=\"_blank\" title=\"트위터로 공유하기\"><span>트위터</span></a></li><li class=\"share-facebook\"><a class=\"share-facebook sd-button share-icon\" data-shared=\"sharing-facebook-102\" href=\"https://sparkkorea.com/%ed%80%b4%ec%a6%88/?share=facebook\" rel=\"nofollow noopener noreferrer\" target=\"_blank\" title=\"페이스북에 공유하려면 클릭하세요.\"><span>Facebook</span></a></li><li class=\"share-end\"></li></ul></div></div></div><div class=\"sharedaddy sd-block sd-like jetpack-likes-widget-wrapper jetpack-likes-widget-unloaded\" data-name=\"like-post-frame-163927570-102-642815aac6a01\" data-src=\"//widgets.wp.com/likes/index.html?ver=20230309#blog_id=163927570&amp;post_id=102&amp;origin=sparkkorea.wordpress.com&amp;obj_id=163927570-102-642815aac6a01&amp;domain=sparkkorea.com\" data-title=\"좋아요 또는 리블로깅\" id=\"like-post-wrapper-163927570-102-642815aac6a01\"><h3 class=\"sd-title\">이것이 좋아요:</h3><div class=\"likes-widget-placeholder post-likes-widget-placeholder\" style=\"height: 55px;\"><span class=\"button\"><span>좋아하기</span></span> <span class=\"loading\">가져오는 중...</span></div><span class=\"sd-text-color\"></span><a class=\"sd-link-color\"></a></div></div> </div><!-- .entry-content -->\n",
       "</div><!-- .entry-inner -->\n",
       "</article><!-- #post-## -->\n",
       "</main><!-- #main -->\n",
       "</div><!-- #content -->\n",
       "<footer class=\"site-footer\" id=\"colophon\" role=\"contentinfo\">\n",
       "<div class=\"footer-bottom-info\">\n",
       "<div class=\"site-info\">\n",
       "<a href=\"https://wordpress.com/?ref=footer_segment_business\" rel=\"nofollow\">워드프레스닷컴 웹사이트.</a>\n",
       "</div><!-- .site-info -->\n",
       "</div><!-- .footer-bottom-info -->\n",
       "</footer><!-- #colophon -->\n",
       "</div><!-- .site-inner -->\n",
       "</div><!-- #page -->\n",
       "<!-- -->\n",
       "<script id=\"grofiles-cards-js\" src=\"//0.gravatar.com/js/gprofiles.js?ver=202313z\"></script>\n",
       "<script id=\"wpgroho-js-extra\">\n",
       "var WPGroHo = {\"my_hash\":\"\"};\n",
       "</script>\n",
       "<script crossorigin=\"anonymous\" src=\"https://s1.wp.com/wp-content/mu-plugins/gravatar-hovercards/wpgroho.js?m=1610363240h\" type=\"text/javascript\"></script>\n",
       "<script>\n",
       "\t\t// Initialize and attach hovercards to all gravatars\n",
       "\t\t( function() {\n",
       "\t\t\tfunction init() {\n",
       "\t\t\t\tif ( typeof Gravatar === 'undefined' ) {\n",
       "\t\t\t\t\treturn;\n",
       "\t\t\t\t}\n",
       "\n",
       "\t\t\t\tif ( typeof Gravatar.init !== 'function' ) {\n",
       "\t\t\t\t\treturn;\n",
       "\t\t\t\t}\n",
       "\n",
       "\t\t\t\tGravatar.profile_cb = function ( hash, id ) {\n",
       "\t\t\t\t\tWPGroHo.syncProfileData( hash, id );\n",
       "\t\t\t\t};\n",
       "\n",
       "\t\t\t\tGravatar.my_hash = WPGroHo.my_hash;\n",
       "\t\t\t\tGravatar.init( 'body', '#wp-admin-bar-my-account' );\n",
       "\t\t\t}\n",
       "\n",
       "\t\t\tif ( document.readyState !== 'loading' ) {\n",
       "\t\t\t\tinit();\n",
       "\t\t\t} else {\n",
       "\t\t\t\tdocument.addEventListener( 'DOMContentLoaded', init );\n",
       "\t\t\t}\n",
       "\t\t} )();\n",
       "\t</script>\n",
       "<div style=\"display:none\">\n",
       "</div>\n",
       "<div class=\"actnbr-pub-dyad-2 actnbr-has-follow\" id=\"actionbar\" style=\"display: none;\">\n",
       "<ul>\n",
       "<li class=\"actnbr-ellipsis actnbr-hidden\">\n",
       "<svg class=\"gridicon gridicons-ellipsis\" height=\"24\" viewbox=\"0 0 24 24\" width=\"24\" xmlns=\"http://www.w3.org/2000/svg\"><g><path d=\"M7 12c0 1.104-.896 2-2 2s-2-.896-2-2 .896-2 2-2 2 .896 2 2zm12-2c-1.104 0-2 .896-2 2s.896 2 2 2 2-.896 2-2-.896-2-2-2zm-7 0c-1.104 0-2 .896-2 2s.896 2 2 2 2-.896 2-2-.896-2-2-2z\"></path></g></svg> <div class=\"actnbr-popover tip tip-top-left actnbr-more\">\n",
       "<div class=\"tip-arrow\"></div>\n",
       "<div class=\"tip-inner\">\n",
       "<ul>\n",
       "<li class=\"actnbr-sitename\">\n",
       "<a href=\"https://sparkkorea.com\">\n",
       "<img alt=\"\" class=\"avatar avatar-50\" height=\"50\" src=\"https://s2.wp.com/i/logo/wpcom-gray-white.png\" width=\"50\"/>\t\t\t\t스파크 코리아\t\t\t</a>\n",
       "</li>\n",
       "<li class=\"actnbr-folded-customize\">\n",
       "<a href=\"https://sparkkorea.wordpress.com/wp-admin/customize.php?url=https%3A%2F%2Fsparkkorea.wordpress.com%2F%25ED%2580%25B4%25EC%25A6%2588%2F\">\n",
       "<svg class=\"gridicon gridicons-customize\" height=\"20\" viewbox=\"0 0 24 24\" width=\"20\" xmlns=\"http://www.w3.org/2000/svg\"><g><path d=\"M2 6c0-1.505.78-3.08 2-4 0 .845.69 2 2 2 1.657 0 3 1.343 3 3 0 .386-.08.752-.212 1.09.74.594 1.476 1.19 2.19 1.81L8.9 11.98c-.62-.716-1.214-1.454-1.807-2.192C6.753 9.92 6.387 10 6 10c-2.21 0-4-1.79-4-4zm12.152 6.848l1.34-1.34c.607.304 1.283.492 2.008.492 2.485 0 4.5-2.015 4.5-4.5 0-.725-.188-1.4-.493-2.007L18 9l-2-2 3.507-3.507C18.9 3.188 18.225 3 17.5 3 15.015 3 13 5.015 13 7.5c0 .725.188 1.4.493 2.007L3 20l2 2 6.848-6.848c1.885 1.928 3.874 3.753 5.977 5.45l1.425 1.148 1.5-1.5-1.15-1.425c-1.695-2.103-3.52-4.092-5.448-5.977z\"></path></g></svg> <span>사용자 정의하기</span>\n",
       "</a>\n",
       "</li>\n",
       "<li class=\"actnbr-signup\"><a href=\"https://wordpress.com/start/\">가입</a></li>\n",
       "<li class=\"actnbr-login\"><a href=\"https://wordpress.com/log-in?redirect_to=https%3A%2F%2Fr-login.wordpress.com%2Fremote-login.php%3Faction%3Dlink%26back%3Dhttps%253A%252F%252Fsparkkorea.com%252F%2525ed%252580%2525b4%2525ec%2525a6%252588%252F\">로그인</a></li>\n",
       "<li class=\"actnbr-shortlink\"><a href=\"https://wp.me/Pb5P34-1E\">단축 링크 복사</a></li>\n",
       "<li class=\"flb-report\"><a href=\"http://en.wordpress.com/abuse/\">이 콘텐츠 신고하기</a></li>\n",
       "<li class=\"actnbr-subs\">\n",
       "<a href=\"https://subscribe.wordpress.com/\">구독 관리</a>\n",
       "</li>\n",
       "</ul>\n",
       "</div>\n",
       "</div>\n",
       "</li>\n",
       "</ul>\n",
       "</div>\n",
       "<script>\n",
       "window.addEventListener( \"load\", function( event ) {\n",
       "\tvar link = document.createElement( \"link\" );\n",
       "\tlink.href = \"https://s0.wp.com/wp-content/mu-plugins/actionbar/actionbar.css?v=20210915\";\n",
       "\tlink.type = \"text/css\";\n",
       "\tlink.rel = \"stylesheet\";\n",
       "\tdocument.head.appendChild( link );\n",
       "\n",
       "\tvar script = document.createElement( \"script\" );\n",
       "\tscript.src = \"https://s0.wp.com/wp-content/mu-plugins/actionbar/actionbar.js?v=20220329\";\n",
       "\tscript.defer = true;\n",
       "\tdocument.body.appendChild( script );\n",
       "} );\n",
       "</script>\n",
       "<script type=\"text/javascript\">\n",
       "\t\twindow.WPCOM_sharing_counts = {\"https:\\/\\/sparkkorea.com\\/%ed%80%b4%ec%a6%88\\/\":102};\n",
       "\t</script>\n",
       "<script id=\"comment-like-js-extra\">\n",
       "var comment_like_text = {\"loading\":\"\\uac00\\uc838\\uc624\\ub294 \\uc911...\",\"swipeUrl\":\"https:\\/\\/s2.wp.com\\/wp-content\\/mu-plugins\\/comment-likes\\/js\\/lib\\/swipe.js?ver=20131008\"};\n",
       "</script>\n",
       "<script id=\"sharing-js-js-extra\">\n",
       "var sharing_js_options = {\"lang\":\"en\",\"counts\":\"1\",\"is_stats_active\":\"1\"};\n",
       "</script>\n",
       "<script crossorigin=\"anonymous\" src=\"https://s2.wp.com/_static/??-eJyNUO1OwzAMfCEya0xi4wfiUZAbe63bxAn5GPTtSdmEqoEq/vnj7nw++IjGBi2sBcYMxBexHD93Y36A1cpXE13tRTM4mTjDe+XKAyo5ThtgG7xvI3MljXeDe2IZ2DdYrB3QjGQeF4biRXosEvRf8DxJbOo6mXOwNZuz/Dwjal2lqw/x2HN2AYlp50X/wnjMQdO8Xm+e7l3o0G2kgdSkTIdpkS6cWmVKQjv9SmJFGrnEBrn1EFOgapc44K2Zha6KI8gDJiYkmr9L0f7m+tW/7J+Op8Pp+XjYj18kXrbD\" type=\"text/javascript\"></script>\n",
       "<script type=\"text/javascript\">\n",
       "var windowOpen;\n",
       "\t\t\t( function () {\n",
       "\t\t\t\tfunction matches( el, sel ) {\n",
       "\t\t\t\t\treturn !! (\n",
       "\t\t\t\t\t\tel.matches && el.matches( sel ) ||\n",
       "\t\t\t\t\t\tel.msMatchesSelector && el.msMatchesSelector( sel )\n",
       "\t\t\t\t\t);\n",
       "\t\t\t\t}\n",
       "\n",
       "\t\t\t\tdocument.body.addEventListener( 'click', function ( event ) {\n",
       "\t\t\t\t\tif ( ! event.target ) {\n",
       "\t\t\t\t\t\treturn;\n",
       "\t\t\t\t\t}\n",
       "\n",
       "\t\t\t\t\tvar el;\n",
       "\t\t\t\t\tif ( matches( event.target, 'a.share-twitter' ) ) {\n",
       "\t\t\t\t\t\tel = event.target;\n",
       "\t\t\t\t\t} else if ( event.target.parentNode && matches( event.target.parentNode, 'a.share-twitter' ) ) {\n",
       "\t\t\t\t\t\tel = event.target.parentNode;\n",
       "\t\t\t\t\t}\n",
       "\n",
       "\t\t\t\t\tif ( el ) {\n",
       "\t\t\t\t\t\tevent.preventDefault();\n",
       "\n",
       "\t\t\t\t\t\t// If there's another sharing window open, close it.\n",
       "\t\t\t\t\t\tif ( typeof windowOpen !== 'undefined' ) {\n",
       "\t\t\t\t\t\t\twindowOpen.close();\n",
       "\t\t\t\t\t\t}\n",
       "\t\t\t\t\t\twindowOpen = window.open( el.getAttribute( 'href' ), 'wpcomtwitter', 'menubar=1,resizable=1,width=600,height=350' );\n",
       "\t\t\t\t\t\treturn false;\n",
       "\t\t\t\t\t}\n",
       "\t\t\t\t} );\n",
       "\t\t\t} )();\n",
       "var windowOpen;\n",
       "\t\t\t( function () {\n",
       "\t\t\t\tfunction matches( el, sel ) {\n",
       "\t\t\t\t\treturn !! (\n",
       "\t\t\t\t\t\tel.matches && el.matches( sel ) ||\n",
       "\t\t\t\t\t\tel.msMatchesSelector && el.msMatchesSelector( sel )\n",
       "\t\t\t\t\t);\n",
       "\t\t\t\t}\n",
       "\n",
       "\t\t\t\tdocument.body.addEventListener( 'click', function ( event ) {\n",
       "\t\t\t\t\tif ( ! event.target ) {\n",
       "\t\t\t\t\t\treturn;\n",
       "\t\t\t\t\t}\n",
       "\n",
       "\t\t\t\t\tvar el;\n",
       "\t\t\t\t\tif ( matches( event.target, 'a.share-facebook' ) ) {\n",
       "\t\t\t\t\t\tel = event.target;\n",
       "\t\t\t\t\t} else if ( event.target.parentNode && matches( event.target.parentNode, 'a.share-facebook' ) ) {\n",
       "\t\t\t\t\t\tel = event.target.parentNode;\n",
       "\t\t\t\t\t}\n",
       "\n",
       "\t\t\t\t\tif ( el ) {\n",
       "\t\t\t\t\t\tevent.preventDefault();\n",
       "\n",
       "\t\t\t\t\t\t// If there's another sharing window open, close it.\n",
       "\t\t\t\t\t\tif ( typeof windowOpen !== 'undefined' ) {\n",
       "\t\t\t\t\t\t\twindowOpen.close();\n",
       "\t\t\t\t\t\t}\n",
       "\t\t\t\t\t\twindowOpen = window.open( el.getAttribute( 'href' ), 'wpcomfacebook', 'menubar=1,resizable=1,width=600,height=400' );\n",
       "\t\t\t\t\t\treturn false;\n",
       "\t\t\t\t\t}\n",
       "\t\t\t\t} );\n",
       "\t\t\t} )();\n",
       "</script>\n",
       "<script type=\"text/javascript\">\n",
       "// <![CDATA[\n",
       "(function() {\n",
       "try{\n",
       "  if ( window.external &&'msIsSiteMode' in window.external) {\n",
       "    if (window.external.msIsSiteMode()) {\n",
       "      var jl = document.createElement('script');\n",
       "      jl.type='text/javascript';\n",
       "      jl.async=true;\n",
       "      jl.src='/wp-content/plugins/ie-sitemode/custom-jumplist.php';\n",
       "      var s = document.getElementsByTagName('script')[0];\n",
       "      s.parentNode.insertBefore(jl, s);\n",
       "    }\n",
       "  }\n",
       "}catch(e){}\n",
       "})();\n",
       "// ]]>\n",
       "</script> <iframe id=\"likes-master\" name=\"likes-master\" scrolling=\"no\" src=\"https://widgets.wp.com/likes/master.html?ver=20230309#ver=20230309&amp;lang=ko&amp;lang_ver=1629891228&amp;origin=https://sparkkorea.com\" style=\"display:none;\"></iframe>\n",
       "<div id=\"likes-other-gravatars\">\n",
       "<div class=\"likes-text\">\n",
       "<span>%d</span> 블로거가 이것을 좋아합니다:\t\t</div>\n",
       "<ul class=\"wpl-avatars sd-like-gravatars\"></ul>\n",
       "</div>\n",
       "<script defer=\"\" src=\"//stats.wp.com/w.js?63\"></script> <script type=\"text/javascript\">\n",
       "_tkq = window._tkq || [];\n",
       "_stq = window._stq || [];\n",
       "_tkq.push(['storeContext', {'blog_id':'163927570','blog_tz':'9','user_lang':'ko','blog_lang':'ko','user_id':'0'}]);\n",
       "_stq.push(['view', {'blog':'163927570','v':'wpcom','tz':'9','user_id':'0','post':'102','subd':'sparkkorea'}]);\n",
       "_stq.push(['extra', {'crypt':'UE40eW5QN0p8M2Y/RE1mNzc2NTVTamdsd0xoLz9RQkM2K298TXY9bERQMXc2MjhEaVZfb2wwakRoSj0mUkp1THptM1NdbkV1WjZIcU9mVWQmPUIvMlN6Jk8wW3NYVEJ3dWZOWExuWD8xeVkmK0dUTXo0Y2Zla35pLTE0dlY2QWxQL01fUWNOQUp6Ui1sbnctaHA1W3JNX1ZKel1BfkIvXVZfM21QWFczZkNONSZ0QjNZTzNOMjUmdnxBRysySGZZd0c/fmlZUTkxS3dZcX56LzVjPU1WdHRsQjFDUEksLD1vVVR1ekdBamw/ZlktTzNZJmh1bXRwXWQ2b3UrWFdTSiZMeDlCdDFdazRYOUc='}]);\n",
       "_stq.push([ 'clickTrackerInit', '163927570', '102' ]);\n",
       "\t</script>\n",
       "<noscript><img alt=\"\" src=\"https://pixel.wp.com/b.gif?v=noscript\" style=\"height:1px;width:1px;overflow:hidden;position:absolute;bottom:1px;\"/></noscript>\n",
       "<script>\n",
       "if ( 'object' === typeof wpcom_mobile_user_agent_info ) {\n",
       "\n",
       "\twpcom_mobile_user_agent_info.init();\n",
       "\tvar mobileStatsQueryString = \"\";\n",
       "\t\n",
       "\tif( false !== wpcom_mobile_user_agent_info.matchedPlatformName )\n",
       "\t\tmobileStatsQueryString += \"&x_\" + 'mobile_platforms' + '=' + wpcom_mobile_user_agent_info.matchedPlatformName;\n",
       "\t\n",
       "\tif( false !== wpcom_mobile_user_agent_info.matchedUserAgentName )\n",
       "\t\tmobileStatsQueryString += \"&x_\" + 'mobile_devices' + '=' + wpcom_mobile_user_agent_info.matchedUserAgentName;\n",
       "\t\n",
       "\tif( wpcom_mobile_user_agent_info.isIPad() )\n",
       "\t\tmobileStatsQueryString += \"&x_\" + 'ipad_views' + '=' + 'views';\n",
       "\n",
       "\tif( \"\" != mobileStatsQueryString ) {\n",
       "\t\tnew Image().src = document.location.protocol + '//pixel.wp.com/g.gif?v=wpcom-no-pv' + mobileStatsQueryString + '&baba=' + Math.random();\n",
       "\t}\n",
       "\t\n",
       "}\n",
       "</script>\n",
       "</body>\n",
       "</html>"
      ]
     },
     "execution_count": 5,
     "metadata": {},
     "output_type": "execute_result"
    }
   ],
   "source": [
    "# 가져온 html 코드를 bs4를 활용해서 html.parser로\n",
    "# 태그 단위로 정제한 정보를 예쁘게 떠오겠다\n",
    "bs = bs4.BeautifulSoup(html, 'html.parser')\n",
    "bs"
   ]
  },
  {
   "cell_type": "code",
   "execution_count": null,
   "id": "2caf5479-05bf-497d-ade4-bf777f70b020",
   "metadata": {},
   "outputs": [],
   "source": []
  },
  {
   "cell_type": "markdown",
   "id": "a90d9ef3-eeb3-4c8e-91db-26eab0a7c36d",
   "metadata": {},
   "source": [
    "## 태그정보 수집하기"
   ]
  },
  {
   "cell_type": "code",
   "execution_count": null,
   "id": "be25a97a-91e4-4391-965b-29c935d04df8",
   "metadata": {},
   "outputs": [],
   "source": [
    "# 원하는 웹페이지 소스를 수집한 후\n",
    "# 필요한 태그 정보 내 소스만 수집"
   ]
  },
  {
   "cell_type": "code",
   "execution_count": null,
   "id": "5b045fc3-357f-4bc1-a4b7-efbb3109b440",
   "metadata": {},
   "outputs": [],
   "source": []
  },
  {
   "cell_type": "markdown",
   "id": "a7b00b0f-c587-4af8-b8c3-8906c75012f5",
   "metadata": {
    "tags": []
   },
   "source": [
    "### (1) 태그명으로 소스 수집하기"
   ]
  },
  {
   "cell_type": "code",
   "execution_count": null,
   "id": "f9f82072-9dd9-4ccf-8abf-9e41e9e4d872",
   "metadata": {},
   "outputs": [],
   "source": [
    "# \"https://sparkkorea.com/퀴즈/\"에서 가져오고 싶은 정보는\n",
    "# a 태그 안에 있기 때문에 a 태그만을 추출 "
   ]
  },
  {
   "cell_type": "code",
   "execution_count": null,
   "id": "0771cb01-fafd-4721-a419-e4b53412c4dc",
   "metadata": {},
   "outputs": [],
   "source": []
  },
  {
   "cell_type": "code",
   "execution_count": 6,
   "id": "9b208f41-9c16-4936-9ae3-5ef8ece647e1",
   "metadata": {},
   "outputs": [
    {
     "name": "stdout",
     "output_type": "stream",
     "text": [
      "<a class=\"skip-link screen-reader-text\" href=\"#content\">컨텐츠로 건너뛰기</a>\n"
     ]
    }
   ],
   "source": [
    "# bs.find(name = \"태그명\") : 태그 찾기(맨 앞 한개)\n",
    "\n",
    "# 코드 내 a 태그 1개만 탐색\n",
    "bs = bs4.BeautifulSoup(html,\"html.parser\")\n",
    "aTag = bs.find(name = \"a\")\n",
    "print(aTag)"
   ]
  },
  {
   "cell_type": "code",
   "execution_count": 7,
   "id": "812b4542-e707-4546-b158-4ac31f155093",
   "metadata": {},
   "outputs": [
    {
     "name": "stdout",
     "output_type": "stream",
     "text": [
      "<class 'bs4.element.Tag'>\n"
     ]
    }
   ],
   "source": [
    "print( type(aTag) )"
   ]
  },
  {
   "cell_type": "code",
   "execution_count": null,
   "id": "7d50fc43-efbe-4e0a-992e-a9f0ce76b292",
   "metadata": {},
   "outputs": [],
   "source": []
  },
  {
   "cell_type": "code",
   "execution_count": 8,
   "id": "0f8ea6a8-de76-4fac-8e41-bde723abd46d",
   "metadata": {},
   "outputs": [
    {
     "name": "stdout",
     "output_type": "stream",
     "text": [
      "[<a class=\"skip-link screen-reader-text\" href=\"#content\">컨텐츠로 건너뛰기</a>, <a href=\"https://sparkkorea.com/\" rel=\"home\">\n",
      "\t\t\t\t\t스파크 코리아\t\t\t\t</a>]\n"
     ]
    }
   ],
   "source": [
    "# bs.findAll(name = \"태그명\") : 태그 찾기(전체)\n",
    "\n",
    "# 코드 내 a 태그 탐색, 상단 2개만\n",
    "aTags = bs.findAll(name = \"a\", limit = 2)\n",
    "print(aTags)"
   ]
  },
  {
   "cell_type": "code",
   "execution_count": 9,
   "id": "0d0dacaa-81ed-4b14-a2ff-d2eda3580d20",
   "metadata": {},
   "outputs": [
    {
     "name": "stdout",
     "output_type": "stream",
     "text": [
      "<class 'bs4.element.ResultSet'>\n"
     ]
    }
   ],
   "source": [
    "print( type(aTags) )"
   ]
  },
  {
   "cell_type": "code",
   "execution_count": 10,
   "id": "8c6107e1-cb5d-44ea-8415-440c9a292970",
   "metadata": {},
   "outputs": [
    {
     "data": {
      "text/plain": [
       "<a class=\"skip-link screen-reader-text\" href=\"#content\">컨텐츠로 건너뛰기</a>"
      ]
     },
     "execution_count": 10,
     "metadata": {},
     "output_type": "execute_result"
    }
   ],
   "source": [
    "# list 형태로 접근할 수 있다\n",
    "aTags[0]"
   ]
  },
  {
   "cell_type": "code",
   "execution_count": 11,
   "id": "09faac4f-65d4-4d3b-9eb6-d218f0d54c1f",
   "metadata": {},
   "outputs": [
    {
     "data": {
      "text/plain": [
       "2"
      ]
     },
     "execution_count": 11,
     "metadata": {},
     "output_type": "execute_result"
    }
   ],
   "source": [
    "len(aTags)"
   ]
  },
  {
   "cell_type": "code",
   "execution_count": null,
   "id": "41945b1f-c9bd-4519-8930-0bb1e6921e4f",
   "metadata": {},
   "outputs": [],
   "source": []
  },
  {
   "cell_type": "markdown",
   "id": "59b5c8c1-fc7f-492f-a9b1-c5df654149e3",
   "metadata": {},
   "source": [
    "### (2) 태그 속성정보로 소스 수집하기"
   ]
  },
  {
   "cell_type": "code",
   "execution_count": null,
   "id": "26b3a3fa-c94d-40e6-a434-32216cc18350",
   "metadata": {},
   "outputs": [],
   "source": [
    "# html에는 단락을 표시하는 div라는 태그가 존재한다. "
   ]
  },
  {
   "cell_type": "code",
   "execution_count": null,
   "id": "d456aecd-4258-4381-b939-f377f4f5fce6",
   "metadata": {},
   "outputs": [],
   "source": []
  },
  {
   "cell_type": "code",
   "execution_count": 12,
   "id": "8a7d8609-c29b-4991-a5dd-7079662eedd5",
   "metadata": {},
   "outputs": [
    {
     "data": {
      "text/plain": [
       "<div class=\"class_spark_quiz\" id=\"id_spark_quiz\">\n",
       "<h1>Spark 퀴즈 </h1>\n",
       "<a href=\"https://forms.gle/Fw49w9GhWQChDcZm7\"> 6/13 Spark 심화과정 </a>\n",
       "<p></p>\n",
       "<a href=\"https://forms.gle/G4TcXm3fKuHLHA6D6\"> 6/13 Spark 기본과정 </a>\n",
       "<p></p>\n",
       "<a href=\"https://forms.gle/M8gr1kC2ubA3UDVp8\"> 6/18 Spark [MAP_FILTER] </a>\n",
       "<p></p>\n",
       "<a href=\"https://forms.gle/h8w5mZ4MNaPLCPbi6\"> 6/18 Spark GroupBy 심화 </a>\n",
       "<p></p>\n",
       "<a href=\"https://forms.gle/q5yL6QHfueDLM5w27\"> 6/25 Spark RDD 실전 분석 </a>\n",
       "<p></p>\n",
       "<a href=\"https://forms.gle/Gxb4y6LfVYiaLu4M7\"> 6/27 Spark RDD 실전 분석2 </a>\n",
       "<p></p>\n",
       "</div>"
      ]
     },
     "execution_count": 12,
     "metadata": {},
     "output_type": "execute_result"
    }
   ],
   "source": [
    "# ID 속성으로 태그 탐색\n",
    "spQuizTag = bs.find(name = \"div\",\n",
    "        attrs = {\"id\":\"id_spark_quiz\"} ) \n",
    "spQuizTag"
   ]
  },
  {
   "cell_type": "code",
   "execution_count": null,
   "id": "8dac8437-2560-40c4-93c2-200ec34ef043",
   "metadata": {},
   "outputs": [],
   "source": []
  },
  {
   "cell_type": "markdown",
   "id": "aaf6d7e8-8dac-4382-8a7e-629060eb33bd",
   "metadata": {},
   "source": [
    "### (3) 태그 내 부분태그 소스 수집하기"
   ]
  },
  {
   "cell_type": "code",
   "execution_count": 13,
   "id": "c864ead6-1761-409c-ae25-4836b1bde1b4",
   "metadata": {},
   "outputs": [
    {
     "data": {
      "text/plain": [
       "<a href=\"https://forms.gle/Fw49w9GhWQChDcZm7\"> 6/13 Spark 심화과정 </a>"
      ]
     },
     "execution_count": 13,
     "metadata": {},
     "output_type": "execute_result"
    }
   ],
   "source": [
    "# html 부분구조 가져오기 (find)\n",
    "spQuizTagLink = spQuizTag.find(name = \"a\")\n",
    "spQuizTagLink"
   ]
  },
  {
   "cell_type": "code",
   "execution_count": 14,
   "id": "aefe05fa-d26d-4837-9ab4-8b55bae95ae3",
   "metadata": {},
   "outputs": [
    {
     "data": {
      "text/plain": [
       "[<a href=\"https://forms.gle/Fw49w9GhWQChDcZm7\"> 6/13 Spark 심화과정 </a>,\n",
       " <a href=\"https://forms.gle/G4TcXm3fKuHLHA6D6\"> 6/13 Spark 기본과정 </a>,\n",
       " <a href=\"https://forms.gle/M8gr1kC2ubA3UDVp8\"> 6/18 Spark [MAP_FILTER] </a>,\n",
       " <a href=\"https://forms.gle/h8w5mZ4MNaPLCPbi6\"> 6/18 Spark GroupBy 심화 </a>,\n",
       " <a href=\"https://forms.gle/q5yL6QHfueDLM5w27\"> 6/25 Spark RDD 실전 분석 </a>,\n",
       " <a href=\"https://forms.gle/Gxb4y6LfVYiaLu4M7\"> 6/27 Spark RDD 실전 분석2 </a>]"
      ]
     },
     "execution_count": 14,
     "metadata": {},
     "output_type": "execute_result"
    }
   ],
   "source": [
    "# html 부분구조 가져오기 (findAll)\n",
    "spQuizTagLinks = spQuizTag.findAll(name = \"a\")\n",
    "spQuizTagLinks"
   ]
  },
  {
   "cell_type": "code",
   "execution_count": null,
   "id": "dfaccde8-0d34-4924-bdca-537f4f622f23",
   "metadata": {},
   "outputs": [],
   "source": []
  },
  {
   "cell_type": "markdown",
   "id": "9e31dc74-b005-45bd-aa30-61c91863a4f0",
   "metadata": {},
   "source": [
    "### (4) 태그 내 속성정보 수집하기 (find)"
   ]
  },
  {
   "cell_type": "code",
   "execution_count": 15,
   "id": "bf74c975-92f6-4736-80c4-12421a757644",
   "metadata": {},
   "outputs": [
    {
     "data": {
      "text/plain": [
       "'https://forms.gle/Fw49w9GhWQChDcZm7'"
      ]
     },
     "execution_count": 15,
     "metadata": {},
     "output_type": "execute_result"
    }
   ],
   "source": [
    "# 링크 속성정보 가져오기\n",
    "# spQuizTagLink의 href 속성을 가져오기\n",
    "spQuizTagLink.attrs['href']"
   ]
  },
  {
   "cell_type": "code",
   "execution_count": 16,
   "id": "990318d9-9ae3-44f0-b245-2482ef067cc2",
   "metadata": {},
   "outputs": [
    {
     "name": "stdout",
     "output_type": "stream",
     "text": [
      "https://forms.gle/Fw49w9GhWQChDcZm7  6/13 Spark 심화과정  a\n"
     ]
    }
   ],
   "source": [
    "linkAttrs = spQuizTagLink.attrs['href']\n",
    "linkText = spQuizTagLink.text\n",
    "linkTag = spQuizTagLink.name\n",
    "print(linkAttrs, linkText, linkTag)"
   ]
  },
  {
   "cell_type": "code",
   "execution_count": null,
   "id": "2a2807cb-d342-46a4-bacb-440fb6e90db7",
   "metadata": {},
   "outputs": [],
   "source": []
  },
  {
   "cell_type": "markdown",
   "id": "37803281-2a9e-40b1-8bcc-1ad5c70ddd64",
   "metadata": {
    "tags": []
   },
   "source": [
    "### (4-1) 태그 내 속성정보 수집하기 (findAll)"
   ]
  },
  {
   "cell_type": "markdown",
   "id": "4ca832e7-fd28-41ec-a77d-8905189ede43",
   "metadata": {
    "tags": []
   },
   "source": [
    "#### 먼저 findAll 디버깅"
   ]
  },
  {
   "cell_type": "code",
   "execution_count": 17,
   "id": "5db42a2c-13ef-4935-b548-955bffcf41d7",
   "metadata": {},
   "outputs": [
    {
     "data": {
      "text/plain": [
       "[<a href=\"https://forms.gle/Fw49w9GhWQChDcZm7\"> 6/13 Spark 심화과정 </a>,\n",
       " <a href=\"https://forms.gle/G4TcXm3fKuHLHA6D6\"> 6/13 Spark 기본과정 </a>,\n",
       " <a href=\"https://forms.gle/M8gr1kC2ubA3UDVp8\"> 6/18 Spark [MAP_FILTER] </a>,\n",
       " <a href=\"https://forms.gle/h8w5mZ4MNaPLCPbi6\"> 6/18 Spark GroupBy 심화 </a>,\n",
       " <a href=\"https://forms.gle/q5yL6QHfueDLM5w27\"> 6/25 Spark RDD 실전 분석 </a>,\n",
       " <a href=\"https://forms.gle/Gxb4y6LfVYiaLu4M7\"> 6/27 Spark RDD 실전 분석2 </a>]"
      ]
     },
     "execution_count": 17,
     "metadata": {},
     "output_type": "execute_result"
    }
   ],
   "source": [
    "# html 부분구조 가져오기\n",
    "spQuizTagLinks = spQuizTag.findAll(name = \"a\") \n",
    "spQuizTagLinks"
   ]
  },
  {
   "cell_type": "code",
   "execution_count": 18,
   "id": "aeed5255-0c40-435d-9489-ebfccc366c81",
   "metadata": {},
   "outputs": [],
   "source": [
    "titleList = [] \n",
    "linkList = []"
   ]
  },
  {
   "cell_type": "code",
   "execution_count": 19,
   "id": "b0d37af6-55d3-467a-8efa-bb05843b4e3b",
   "metadata": {
    "tags": []
   },
   "outputs": [
    {
     "name": "stdout",
     "output_type": "stream",
     "text": [
      "[' 6/13 Spark 심화과정 ']\n",
      "['https://forms.gle/Fw49w9GhWQChDcZm7']\n"
     ]
    }
   ],
   "source": [
    "# 첫 번째 a 태그 정보 수집\n",
    "titleList.append ( spQuizTagLinks[0].text ) \n",
    "linkList.append ( spQuizTagLinks[0].attrs[\"href\"] )\n",
    "print(titleList)\n",
    "print(linkList)"
   ]
  },
  {
   "cell_type": "code",
   "execution_count": 20,
   "id": "2b1ddf6a-7c29-453b-96d3-f0480a5b2104",
   "metadata": {},
   "outputs": [
    {
     "name": "stdout",
     "output_type": "stream",
     "text": [
      "[' 6/13 Spark 심화과정 ', ' 6/13 Spark 기본과정 ']\n",
      "['https://forms.gle/Fw49w9GhWQChDcZm7', 'https://forms.gle/G4TcXm3fKuHLHA6D6']\n"
     ]
    }
   ],
   "source": [
    "# 두 번째 a 태그 정보 수집\n",
    "titleList.append ( spQuizTagLinks[1].text )\n",
    "linkList.append ( spQuizTagLinks[1].attrs[\"href\"] )\n",
    "print(titleList)\n",
    "print(linkList)"
   ]
  },
  {
   "cell_type": "code",
   "execution_count": 21,
   "id": "6aa1bdd1-e2a6-4585-bc30-7fd9784ba531",
   "metadata": {},
   "outputs": [
    {
     "data": {
      "text/plain": [
       "[' 6/13 Spark 심화과정 ',\n",
       " ' 6/13 Spark 기본과정 ',\n",
       " ' 6/18 Spark [MAP_FILTER] ',\n",
       " ' 6/18 Spark GroupBy 심화 ',\n",
       " ' 6/25 Spark RDD 실전 분석 ',\n",
       " ' 6/27 Spark RDD 실전 분석2 ']"
      ]
     },
     "execution_count": 21,
     "metadata": {},
     "output_type": "execute_result"
    }
   ],
   "source": [
    "titleList = [] \n",
    "titleList.append ( spQuizTagLinks[0].text )\n",
    "titleList.append ( spQuizTagLinks[1].text )\n",
    "titleList.append ( spQuizTagLinks[2].text )\n",
    "titleList.append ( spQuizTagLinks[3].text )\n",
    "titleList.append ( spQuizTagLinks[4].text )\n",
    "titleList.append ( spQuizTagLinks[5].text )\n",
    "titleList"
   ]
  },
  {
   "cell_type": "code",
   "execution_count": 22,
   "id": "b119b647-9ad6-458a-bd53-0585dc4f58a7",
   "metadata": {},
   "outputs": [
    {
     "data": {
      "text/plain": [
       "['https://forms.gle/Fw49w9GhWQChDcZm7',\n",
       " 'https://forms.gle/G4TcXm3fKuHLHA6D6',\n",
       " 'https://forms.gle/M8gr1kC2ubA3UDVp8',\n",
       " 'https://forms.gle/h8w5mZ4MNaPLCPbi6',\n",
       " 'https://forms.gle/q5yL6QHfueDLM5w27',\n",
       " 'https://forms.gle/Gxb4y6LfVYiaLu4M7']"
      ]
     },
     "execution_count": 22,
     "metadata": {},
     "output_type": "execute_result"
    }
   ],
   "source": [
    "linkList = []\n",
    "linkList.append ( spQuizTagLinks[0].attrs[\"href\"] )\n",
    "linkList.append ( spQuizTagLinks[1].attrs[\"href\"] )\n",
    "linkList.append ( spQuizTagLinks[2].attrs[\"href\"] )\n",
    "linkList.append ( spQuizTagLinks[3].attrs[\"href\"] )\n",
    "linkList.append ( spQuizTagLinks[4].attrs[\"href\"] )\n",
    "linkList.append ( spQuizTagLinks[5].attrs[\"href\"] )\n",
    "linkList"
   ]
  },
  {
   "cell_type": "code",
   "execution_count": 23,
   "id": "21fabcbf-5dcc-4946-bb0c-a80199a5e656",
   "metadata": {},
   "outputs": [
    {
     "data": {
      "text/plain": [
       "6"
      ]
     },
     "execution_count": 23,
     "metadata": {},
     "output_type": "execute_result"
    }
   ],
   "source": [
    "# 마지막 퀴즈 a 태그 까지 반복:  \n",
    "len(spQuizTagLinks)"
   ]
  },
  {
   "cell_type": "code",
   "execution_count": null,
   "id": "93070515-d75d-4315-bd71-b09eab29aa01",
   "metadata": {
    "tags": []
   },
   "outputs": [],
   "source": []
  },
  {
   "cell_type": "markdown",
   "id": "30b6662e-c1b6-49e9-8a89-4a0331213d93",
   "metadata": {},
   "source": [
    "#### findAll + for문 활용하여 수집"
   ]
  },
  {
   "cell_type": "code",
   "execution_count": 24,
   "id": "a251b454-cc1b-495f-81cb-78b5767f8f05",
   "metadata": {},
   "outputs": [
    {
     "data": {
      "text/plain": [
       "[<a href=\"https://forms.gle/Fw49w9GhWQChDcZm7\"> 6/13 Spark 심화과정 </a>,\n",
       " <a href=\"https://forms.gle/G4TcXm3fKuHLHA6D6\"> 6/13 Spark 기본과정 </a>,\n",
       " <a href=\"https://forms.gle/M8gr1kC2ubA3UDVp8\"> 6/18 Spark [MAP_FILTER] </a>,\n",
       " <a href=\"https://forms.gle/h8w5mZ4MNaPLCPbi6\"> 6/18 Spark GroupBy 심화 </a>,\n",
       " <a href=\"https://forms.gle/q5yL6QHfueDLM5w27\"> 6/25 Spark RDD 실전 분석 </a>,\n",
       " <a href=\"https://forms.gle/Gxb4y6LfVYiaLu4M7\"> 6/27 Spark RDD 실전 분석2 </a>]"
      ]
     },
     "execution_count": 24,
     "metadata": {},
     "output_type": "execute_result"
    }
   ],
   "source": [
    "# html 부분구조 가져오기\n",
    "spQuizTagLinks = spQuizTag.findAll(name = \"a\") \n",
    "spQuizTagLinks"
   ]
  },
  {
   "cell_type": "code",
   "execution_count": 25,
   "id": "435925fa-1903-430b-8496-4fe05da26723",
   "metadata": {},
   "outputs": [],
   "source": [
    "titleList = [] \n",
    "linkList = []\n",
    "# 첫 번째 a 태그 정보 수집\n",
    "for i in range(0, len(spQuizTagLinks)):\n",
    "    titleList.append ( spQuizTagLinks[i].text ) \n",
    "    linkList.append ( spQuizTagLinks[i].attrs[\"href\"] )"
   ]
  },
  {
   "cell_type": "code",
   "execution_count": 26,
   "id": "3c9d4a14-43be-4d49-b8ec-ae0c7c3ac6cb",
   "metadata": {},
   "outputs": [
    {
     "data": {
      "text/plain": [
       "[' 6/13 Spark 심화과정 ',\n",
       " ' 6/13 Spark 기본과정 ',\n",
       " ' 6/18 Spark [MAP_FILTER] ',\n",
       " ' 6/18 Spark GroupBy 심화 ',\n",
       " ' 6/25 Spark RDD 실전 분석 ',\n",
       " ' 6/27 Spark RDD 실전 분석2 ']"
      ]
     },
     "execution_count": 26,
     "metadata": {},
     "output_type": "execute_result"
    }
   ],
   "source": [
    "titleList"
   ]
  },
  {
   "cell_type": "code",
   "execution_count": 27,
   "id": "d8258ce3-e636-4a74-804e-9f6563f20a2f",
   "metadata": {},
   "outputs": [
    {
     "data": {
      "text/plain": [
       "['https://forms.gle/Fw49w9GhWQChDcZm7',\n",
       " 'https://forms.gle/G4TcXm3fKuHLHA6D6',\n",
       " 'https://forms.gle/M8gr1kC2ubA3UDVp8',\n",
       " 'https://forms.gle/h8w5mZ4MNaPLCPbi6',\n",
       " 'https://forms.gle/q5yL6QHfueDLM5w27',\n",
       " 'https://forms.gle/Gxb4y6LfVYiaLu4M7']"
      ]
     },
     "execution_count": 27,
     "metadata": {},
     "output_type": "execute_result"
    }
   ],
   "source": [
    "linkList"
   ]
  },
  {
   "cell_type": "code",
   "execution_count": null,
   "id": "08701b87-71e9-4cc0-a328-adea1d747980",
   "metadata": {},
   "outputs": [],
   "source": []
  },
  {
   "cell_type": "markdown",
   "id": "93ea84cf-27b2-4cb4-8656-da82d61b574b",
   "metadata": {},
   "source": [
    "# 참조. List 활용 데이터프레임 만들기"
   ]
  },
  {
   "cell_type": "code",
   "execution_count": 28,
   "id": "88470ccb-c8a9-49fd-bb8e-18024f8da862",
   "metadata": {},
   "outputs": [
    {
     "data": {
      "text/html": [
       "<div>\n",
       "<style scoped>\n",
       "    .dataframe tbody tr th:only-of-type {\n",
       "        vertical-align: middle;\n",
       "    }\n",
       "\n",
       "    .dataframe tbody tr th {\n",
       "        vertical-align: top;\n",
       "    }\n",
       "\n",
       "    .dataframe thead th {\n",
       "        text-align: right;\n",
       "    }\n",
       "</style>\n",
       "<table border=\"1\" class=\"dataframe\">\n",
       "  <thead>\n",
       "    <tr style=\"text-align: right;\">\n",
       "      <th></th>\n",
       "      <th>링크</th>\n",
       "      <th>타이틀</th>\n",
       "    </tr>\n",
       "  </thead>\n",
       "  <tbody>\n",
       "    <tr>\n",
       "      <th>0</th>\n",
       "      <td>링크1_링크</td>\n",
       "      <td>링크1_타이틀</td>\n",
       "    </tr>\n",
       "    <tr>\n",
       "      <th>1</th>\n",
       "      <td>링크2_링크</td>\n",
       "      <td>링크2_타이틀</td>\n",
       "    </tr>\n",
       "  </tbody>\n",
       "</table>\n",
       "</div>"
      ],
      "text/plain": [
       "       링크      타이틀\n",
       "0  링크1_링크  링크1_타이틀\n",
       "1  링크2_링크  링크2_타이틀"
      ]
     },
     "execution_count": 28,
     "metadata": {},
     "output_type": "execute_result"
    }
   ],
   "source": [
    "import pandas as pd\n",
    "\n",
    "testList = [ [\"링크1_링크\",\"링크1_타이틀\"], \n",
    "             [\"링크2_링크\",\"링크2_타이틀\"]  ]\n",
    "\n",
    "pd.DataFrame(testList, columns = [\"링크\",\"타이틀\"])"
   ]
  },
  {
   "cell_type": "code",
   "execution_count": 29,
   "id": "4eee5ed4-f170-42ba-b223-b3f9bac0f97a",
   "metadata": {},
   "outputs": [
    {
     "data": {
      "text/html": [
       "<div>\n",
       "<style scoped>\n",
       "    .dataframe tbody tr th:only-of-type {\n",
       "        vertical-align: middle;\n",
       "    }\n",
       "\n",
       "    .dataframe tbody tr th {\n",
       "        vertical-align: top;\n",
       "    }\n",
       "\n",
       "    .dataframe thead th {\n",
       "        text-align: right;\n",
       "    }\n",
       "</style>\n",
       "<table border=\"1\" class=\"dataframe\">\n",
       "  <thead>\n",
       "    <tr style=\"text-align: right;\">\n",
       "      <th></th>\n",
       "      <th>링크</th>\n",
       "      <th>제목</th>\n",
       "    </tr>\n",
       "  </thead>\n",
       "  <tbody>\n",
       "    <tr>\n",
       "      <th>0</th>\n",
       "      <td>링크1_링크</td>\n",
       "      <td>링크1_타이틀</td>\n",
       "    </tr>\n",
       "    <tr>\n",
       "      <th>1</th>\n",
       "      <td>링크2_링크</td>\n",
       "      <td>링크2_타이틀</td>\n",
       "    </tr>\n",
       "  </tbody>\n",
       "</table>\n",
       "</div>"
      ],
      "text/plain": [
       "       링크       제목\n",
       "0  링크1_링크  링크1_타이틀\n",
       "1  링크2_링크  링크2_타이틀"
      ]
     },
     "execution_count": 29,
     "metadata": {},
     "output_type": "execute_result"
    }
   ],
   "source": [
    "import pandas as pd\n",
    "\n",
    "linkColumn = [\"링크1_링크\", \"링크2_링크\"]\n",
    "titleColumn = [\"링크1_타이틀\", \"링크2_타이틀\"]\n",
    "pd.DataFrame({\"링크\":linkColumn,\"제목\":titleColumn})\n",
    "pd.DataFrame(zip(linkColumn,titleColumn), \n",
    "             columns = [\"링크\",\"제목\"])"
   ]
  },
  {
   "cell_type": "code",
   "execution_count": null,
   "id": "cf33da35-d623-4a3b-bfe7-678a919309ea",
   "metadata": {},
   "outputs": [],
   "source": []
  },
  {
   "cell_type": "markdown",
   "id": "4a322b10-6dae-4e9d-8880-2f3e1aa71c20",
   "metadata": {},
   "source": [
    "## 활용 예시"
   ]
  },
  {
   "cell_type": "code",
   "execution_count": null,
   "id": "08e8a33f-047b-43bf-8c83-b47559c4011f",
   "metadata": {},
   "outputs": [],
   "source": []
  },
  {
   "cell_type": "markdown",
   "id": "081ccabf-108d-4254-822b-819286366413",
   "metadata": {},
   "source": [
    "### 디버깅"
   ]
  },
  {
   "cell_type": "code",
   "execution_count": 30,
   "id": "809d80b6-7b5f-4e13-994c-525b9d4d87e8",
   "metadata": {},
   "outputs": [],
   "source": [
    "columnList = []"
   ]
  },
  {
   "cell_type": "code",
   "execution_count": 31,
   "id": "e360d5a7-c360-4318-88e0-c52390bd67ca",
   "metadata": {},
   "outputs": [
    {
     "name": "stdout",
     "output_type": "stream",
     "text": [
      " 6/13 Spark 심화과정 \n",
      "https://forms.gle/Fw49w9GhWQChDcZm7\n"
     ]
    }
   ],
   "source": [
    "print(spQuizTagLinks[0].text)\n",
    "print(spQuizTagLinks[0].attrs[\"href\"])"
   ]
  },
  {
   "cell_type": "code",
   "execution_count": 32,
   "id": "076e9855-f8cc-40fd-99ef-811b64ed71ba",
   "metadata": {},
   "outputs": [],
   "source": [
    "# 빈 리스트에 0번째 값들을 담아주면,\n",
    "columnList.append ( spQuizTagLinks[0].text ) \n",
    "columnList.append ( spQuizTagLinks[0].attrs[\"href\"] )"
   ]
  },
  {
   "cell_type": "code",
   "execution_count": 33,
   "id": "ccdc5164-3935-4638-a309-86749322152f",
   "metadata": {},
   "outputs": [
    {
     "data": {
      "text/plain": [
       "[' 6/13 Spark 심화과정 ', 'https://forms.gle/Fw49w9GhWQChDcZm7']"
      ]
     },
     "execution_count": 33,
     "metadata": {},
     "output_type": "execute_result"
    }
   ],
   "source": [
    "# 리스트 안에 두 가지 정보가 한 번에 담긴다\n",
    "columnList"
   ]
  },
  {
   "cell_type": "code",
   "execution_count": 34,
   "id": "086de954-d41d-45dc-bfd5-e34427326c15",
   "metadata": {},
   "outputs": [],
   "source": [
    "rowList = []"
   ]
  },
  {
   "cell_type": "code",
   "execution_count": 35,
   "id": "c336ad80-c1be-4bae-98df-6decfec5f8c1",
   "metadata": {},
   "outputs": [
    {
     "data": {
      "text/plain": [
       "[[' 6/13 Spark 심화과정 ', 'https://forms.gle/Fw49w9GhWQChDcZm7']]"
      ]
     },
     "execution_count": 35,
     "metadata": {},
     "output_type": "execute_result"
    }
   ],
   "source": [
    "# rowList에 columnList에 담아주기\n",
    "rowList.append(columnList)\n",
    "rowList"
   ]
  },
  {
   "cell_type": "code",
   "execution_count": 36,
   "id": "4d10a80b-0aa2-494f-991a-f8e0914abcd5",
   "metadata": {},
   "outputs": [
    {
     "data": {
      "text/html": [
       "<div>\n",
       "<style scoped>\n",
       "    .dataframe tbody tr th:only-of-type {\n",
       "        vertical-align: middle;\n",
       "    }\n",
       "\n",
       "    .dataframe tbody tr th {\n",
       "        vertical-align: top;\n",
       "    }\n",
       "\n",
       "    .dataframe thead th {\n",
       "        text-align: right;\n",
       "    }\n",
       "</style>\n",
       "<table border=\"1\" class=\"dataframe\">\n",
       "  <thead>\n",
       "    <tr style=\"text-align: right;\">\n",
       "      <th></th>\n",
       "      <th>0</th>\n",
       "      <th>1</th>\n",
       "    </tr>\n",
       "  </thead>\n",
       "  <tbody>\n",
       "    <tr>\n",
       "      <th>0</th>\n",
       "      <td>6/13 Spark 심화과정</td>\n",
       "      <td>https://forms.gle/Fw49w9GhWQChDcZm7</td>\n",
       "    </tr>\n",
       "  </tbody>\n",
       "</table>\n",
       "</div>"
      ],
      "text/plain": [
       "                   0                                    1\n",
       "0   6/13 Spark 심화과정   https://forms.gle/Fw49w9GhWQChDcZm7"
      ]
     },
     "execution_count": 36,
     "metadata": {},
     "output_type": "execute_result"
    }
   ],
   "source": [
    "# 한 행이 다 담긴 것을 확인할 수 있다.\n",
    "pd.DataFrame(rowList)"
   ]
  },
  {
   "cell_type": "code",
   "execution_count": null,
   "id": "94e02278-cc26-4acd-ad44-ab7f43de8ec5",
   "metadata": {},
   "outputs": [],
   "source": []
  },
  {
   "cell_type": "markdown",
   "id": "c89839d9-3971-4bfc-8013-543ab67cc8cd",
   "metadata": {
    "tags": []
   },
   "source": [
    "### (방법1) for문 활용하여 수집 후 데이터프레임 생성"
   ]
  },
  {
   "cell_type": "code",
   "execution_count": 37,
   "id": "d3f1e156-a771-4205-8c5f-b9f5dcb73061",
   "metadata": {},
   "outputs": [],
   "source": [
    "columnList = []\n",
    "rowList = []"
   ]
  },
  {
   "cell_type": "code",
   "execution_count": 38,
   "id": "664857d4-4d9c-44aa-a5eb-bd3559f0de78",
   "metadata": {},
   "outputs": [],
   "source": [
    "for i in range(0, len(spQuizTagLinks)):\n",
    "    # 각 행의 컬럼 정보를 columnList에 저장함\n",
    "    columnList.append ( spQuizTagLinks[i].text ) \n",
    "    columnList.append ( spQuizTagLinks[i].attrs[\"href\"] )\n",
    "    # 각 행의 모든 정보를 rowList에 저장함\n",
    "    rowList.append(columnList)\n",
    "    # rowList에 다음 행 값을 담기 위한 columnList 초기화\n",
    "    columnList = []"
   ]
  },
  {
   "cell_type": "code",
   "execution_count": 39,
   "id": "882e8934-9554-40e4-80b0-ebe7b0f09872",
   "metadata": {},
   "outputs": [
    {
     "data": {
      "text/plain": [
       "[[' 6/13 Spark 심화과정 ', 'https://forms.gle/Fw49w9GhWQChDcZm7'],\n",
       " [' 6/13 Spark 기본과정 ', 'https://forms.gle/G4TcXm3fKuHLHA6D6'],\n",
       " [' 6/18 Spark [MAP_FILTER] ', 'https://forms.gle/M8gr1kC2ubA3UDVp8'],\n",
       " [' 6/18 Spark GroupBy 심화 ', 'https://forms.gle/h8w5mZ4MNaPLCPbi6'],\n",
       " [' 6/25 Spark RDD 실전 분석 ', 'https://forms.gle/q5yL6QHfueDLM5w27'],\n",
       " [' 6/27 Spark RDD 실전 분석2 ', 'https://forms.gle/Gxb4y6LfVYiaLu4M7']]"
      ]
     },
     "execution_count": 39,
     "metadata": {},
     "output_type": "execute_result"
    }
   ],
   "source": [
    "rowList"
   ]
  },
  {
   "cell_type": "code",
   "execution_count": 40,
   "id": "a29b4d5d-abfb-4a0b-9e62-17719ac17ce7",
   "metadata": {},
   "outputs": [
    {
     "data": {
      "text/html": [
       "<div>\n",
       "<style scoped>\n",
       "    .dataframe tbody tr th:only-of-type {\n",
       "        vertical-align: middle;\n",
       "    }\n",
       "\n",
       "    .dataframe tbody tr th {\n",
       "        vertical-align: top;\n",
       "    }\n",
       "\n",
       "    .dataframe thead th {\n",
       "        text-align: right;\n",
       "    }\n",
       "</style>\n",
       "<table border=\"1\" class=\"dataframe\">\n",
       "  <thead>\n",
       "    <tr style=\"text-align: right;\">\n",
       "      <th></th>\n",
       "      <th>0</th>\n",
       "      <th>1</th>\n",
       "    </tr>\n",
       "  </thead>\n",
       "  <tbody>\n",
       "    <tr>\n",
       "      <th>0</th>\n",
       "      <td>6/13 Spark 심화과정</td>\n",
       "      <td>https://forms.gle/Fw49w9GhWQChDcZm7</td>\n",
       "    </tr>\n",
       "    <tr>\n",
       "      <th>1</th>\n",
       "      <td>6/13 Spark 기본과정</td>\n",
       "      <td>https://forms.gle/G4TcXm3fKuHLHA6D6</td>\n",
       "    </tr>\n",
       "    <tr>\n",
       "      <th>2</th>\n",
       "      <td>6/18 Spark [MAP_FILTER]</td>\n",
       "      <td>https://forms.gle/M8gr1kC2ubA3UDVp8</td>\n",
       "    </tr>\n",
       "    <tr>\n",
       "      <th>3</th>\n",
       "      <td>6/18 Spark GroupBy 심화</td>\n",
       "      <td>https://forms.gle/h8w5mZ4MNaPLCPbi6</td>\n",
       "    </tr>\n",
       "    <tr>\n",
       "      <th>4</th>\n",
       "      <td>6/25 Spark RDD 실전 분석</td>\n",
       "      <td>https://forms.gle/q5yL6QHfueDLM5w27</td>\n",
       "    </tr>\n",
       "    <tr>\n",
       "      <th>5</th>\n",
       "      <td>6/27 Spark RDD 실전 분석2</td>\n",
       "      <td>https://forms.gle/Gxb4y6LfVYiaLu4M7</td>\n",
       "    </tr>\n",
       "  </tbody>\n",
       "</table>\n",
       "</div>"
      ],
      "text/plain": [
       "                           0                                    1\n",
       "0           6/13 Spark 심화과정   https://forms.gle/Fw49w9GhWQChDcZm7\n",
       "1           6/13 Spark 기본과정   https://forms.gle/G4TcXm3fKuHLHA6D6\n",
       "2   6/18 Spark [MAP_FILTER]   https://forms.gle/M8gr1kC2ubA3UDVp8\n",
       "3     6/18 Spark GroupBy 심화   https://forms.gle/h8w5mZ4MNaPLCPbi6\n",
       "4      6/25 Spark RDD 실전 분석   https://forms.gle/q5yL6QHfueDLM5w27\n",
       "5     6/27 Spark RDD 실전 분석2   https://forms.gle/Gxb4y6LfVYiaLu4M7"
      ]
     },
     "execution_count": 40,
     "metadata": {},
     "output_type": "execute_result"
    }
   ],
   "source": [
    "pd.DataFrame(rowList)"
   ]
  },
  {
   "cell_type": "code",
   "execution_count": 41,
   "id": "ecb46fad-9034-4a1c-949b-a78aa46acc04",
   "metadata": {},
   "outputs": [
    {
     "data": {
      "text/html": [
       "<div>\n",
       "<style scoped>\n",
       "    .dataframe tbody tr th:only-of-type {\n",
       "        vertical-align: middle;\n",
       "    }\n",
       "\n",
       "    .dataframe tbody tr th {\n",
       "        vertical-align: top;\n",
       "    }\n",
       "\n",
       "    .dataframe thead th {\n",
       "        text-align: right;\n",
       "    }\n",
       "</style>\n",
       "<table border=\"1\" class=\"dataframe\">\n",
       "  <thead>\n",
       "    <tr style=\"text-align: right;\">\n",
       "      <th></th>\n",
       "      <th>링크</th>\n",
       "      <th>타이틀</th>\n",
       "    </tr>\n",
       "  </thead>\n",
       "  <tbody>\n",
       "    <tr>\n",
       "      <th>0</th>\n",
       "      <td>6/13 Spark 심화과정</td>\n",
       "      <td>https://forms.gle/Fw49w9GhWQChDcZm7</td>\n",
       "    </tr>\n",
       "    <tr>\n",
       "      <th>1</th>\n",
       "      <td>6/13 Spark 기본과정</td>\n",
       "      <td>https://forms.gle/G4TcXm3fKuHLHA6D6</td>\n",
       "    </tr>\n",
       "    <tr>\n",
       "      <th>2</th>\n",
       "      <td>6/18 Spark [MAP_FILTER]</td>\n",
       "      <td>https://forms.gle/M8gr1kC2ubA3UDVp8</td>\n",
       "    </tr>\n",
       "    <tr>\n",
       "      <th>3</th>\n",
       "      <td>6/18 Spark GroupBy 심화</td>\n",
       "      <td>https://forms.gle/h8w5mZ4MNaPLCPbi6</td>\n",
       "    </tr>\n",
       "    <tr>\n",
       "      <th>4</th>\n",
       "      <td>6/25 Spark RDD 실전 분석</td>\n",
       "      <td>https://forms.gle/q5yL6QHfueDLM5w27</td>\n",
       "    </tr>\n",
       "    <tr>\n",
       "      <th>5</th>\n",
       "      <td>6/27 Spark RDD 실전 분석2</td>\n",
       "      <td>https://forms.gle/Gxb4y6LfVYiaLu4M7</td>\n",
       "    </tr>\n",
       "  </tbody>\n",
       "</table>\n",
       "</div>"
      ],
      "text/plain": [
       "                          링크                                  타이틀\n",
       "0           6/13 Spark 심화과정   https://forms.gle/Fw49w9GhWQChDcZm7\n",
       "1           6/13 Spark 기본과정   https://forms.gle/G4TcXm3fKuHLHA6D6\n",
       "2   6/18 Spark [MAP_FILTER]   https://forms.gle/M8gr1kC2ubA3UDVp8\n",
       "3     6/18 Spark GroupBy 심화   https://forms.gle/h8w5mZ4MNaPLCPbi6\n",
       "4      6/25 Spark RDD 실전 분석   https://forms.gle/q5yL6QHfueDLM5w27\n",
       "5     6/27 Spark RDD 실전 분석2   https://forms.gle/Gxb4y6LfVYiaLu4M7"
      ]
     },
     "execution_count": 41,
     "metadata": {},
     "output_type": "execute_result"
    }
   ],
   "source": [
    "pd.DataFrame(rowList, columns = [\"링크\", \"타이틀\"])"
   ]
  },
  {
   "cell_type": "code",
   "execution_count": null,
   "id": "06b69464-5bfb-4a2e-93f3-e85f071f2f88",
   "metadata": {},
   "outputs": [],
   "source": []
  },
  {
   "cell_type": "markdown",
   "id": "ae25bd90-a410-4fc9-a074-b509a4d950a0",
   "metadata": {},
   "source": [
    "### (방법2) for문 활용하여 수집 후 데이터프레임 생성"
   ]
  },
  {
   "cell_type": "code",
   "execution_count": 42,
   "id": "9a8ca9e6-3dd9-4605-9564-0c3928de2d9b",
   "metadata": {},
   "outputs": [
    {
     "data": {
      "text/html": [
       "<div>\n",
       "<style scoped>\n",
       "    .dataframe tbody tr th:only-of-type {\n",
       "        vertical-align: middle;\n",
       "    }\n",
       "\n",
       "    .dataframe tbody tr th {\n",
       "        vertical-align: top;\n",
       "    }\n",
       "\n",
       "    .dataframe thead th {\n",
       "        text-align: right;\n",
       "    }\n",
       "</style>\n",
       "<table border=\"1\" class=\"dataframe\">\n",
       "  <thead>\n",
       "    <tr style=\"text-align: right;\">\n",
       "      <th></th>\n",
       "      <th>spark퀴즈 타이틀</th>\n",
       "      <th>spark퀴즈 링크</th>\n",
       "    </tr>\n",
       "  </thead>\n",
       "  <tbody>\n",
       "    <tr>\n",
       "      <th>0</th>\n",
       "      <td>6/13 Spark 심화과정</td>\n",
       "      <td>https://forms.gle/Fw49w9GhWQChDcZm7</td>\n",
       "    </tr>\n",
       "    <tr>\n",
       "      <th>1</th>\n",
       "      <td>6/13 Spark 기본과정</td>\n",
       "      <td>https://forms.gle/G4TcXm3fKuHLHA6D6</td>\n",
       "    </tr>\n",
       "    <tr>\n",
       "      <th>2</th>\n",
       "      <td>6/18 Spark [MAP_FILTER]</td>\n",
       "      <td>https://forms.gle/M8gr1kC2ubA3UDVp8</td>\n",
       "    </tr>\n",
       "    <tr>\n",
       "      <th>3</th>\n",
       "      <td>6/18 Spark GroupBy 심화</td>\n",
       "      <td>https://forms.gle/h8w5mZ4MNaPLCPbi6</td>\n",
       "    </tr>\n",
       "    <tr>\n",
       "      <th>4</th>\n",
       "      <td>6/25 Spark RDD 실전 분석</td>\n",
       "      <td>https://forms.gle/q5yL6QHfueDLM5w27</td>\n",
       "    </tr>\n",
       "    <tr>\n",
       "      <th>5</th>\n",
       "      <td>6/27 Spark RDD 실전 분석2</td>\n",
       "      <td>https://forms.gle/Gxb4y6LfVYiaLu4M7</td>\n",
       "    </tr>\n",
       "  </tbody>\n",
       "</table>\n",
       "</div>"
      ],
      "text/plain": [
       "                 spark퀴즈 타이틀                           spark퀴즈 링크\n",
       "0           6/13 Spark 심화과정   https://forms.gle/Fw49w9GhWQChDcZm7\n",
       "1           6/13 Spark 기본과정   https://forms.gle/G4TcXm3fKuHLHA6D6\n",
       "2   6/18 Spark [MAP_FILTER]   https://forms.gle/M8gr1kC2ubA3UDVp8\n",
       "3     6/18 Spark GroupBy 심화   https://forms.gle/h8w5mZ4MNaPLCPbi6\n",
       "4      6/25 Spark RDD 실전 분석   https://forms.gle/q5yL6QHfueDLM5w27\n",
       "5     6/27 Spark RDD 실전 분석2   https://forms.gle/Gxb4y6LfVYiaLu4M7"
      ]
     },
     "execution_count": 42,
     "metadata": {},
     "output_type": "execute_result"
    }
   ],
   "source": [
    "spQuizTag = bs.find(name = \"div\",\n",
    "        attrs = {\"id\":\"id_spark_quiz\"} ) \n",
    "\n",
    "# html 부분구조 가져오기\n",
    "spQuizTagLinks = spQuizTag.findAll(name = \"a\")\n",
    "\n",
    "rowList = []\n",
    "\n",
    "titleList=[]\n",
    "linkList=[]\n",
    "\n",
    "for i in range(0, len(spQuizTagLinks)):\n",
    "    titleList.append(spQuizTagLinks[i].text)\n",
    "    linkList.append(spQuizTagLinks[i].attrs[\"href\"])\n",
    "\n",
    "answer = pd.DataFrame(zip( titleList, linkList), \n",
    "                      columns = [\"spark퀴즈 타이틀\",\"spark퀴즈 링크\"])\n",
    "answer = pd.DataFrame( { \"spark퀴즈 타이틀\": titleList,\n",
    "                         \"spark퀴즈 링크\" : linkList })\n",
    "answer"
   ]
  }
 ],
 "metadata": {
  "kernelspec": {
   "display_name": "Python 3 (ipykernel)",
   "language": "python",
   "name": "python3"
  },
  "language_info": {
   "codemirror_mode": {
    "name": "ipython",
    "version": 3
   },
   "file_extension": ".py",
   "mimetype": "text/x-python",
   "name": "python",
   "nbconvert_exporter": "python",
   "pygments_lexer": "ipython3",
   "version": "3.9.13"
  }
 },
 "nbformat": 4,
 "nbformat_minor": 5
}
