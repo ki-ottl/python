{
 "cells": [
  {
   "cell_type": "code",
   "execution_count": 1,
   "id": "c39388df-36e6-46fa-99bd-2ec1a4a228d5",
   "metadata": {},
   "outputs": [],
   "source": [
    "def theDayBefore(inputDate, days):\n",
    "    \"\"\"\n",
    "    입력한 날짜로부터 일수만큼 이전 날짜를 반환하는 함수\n",
    "    parameter : inputDate-YYYYMMDD(int/str) days-일수(int/str)\n",
    "    return : input 날짜로부터 일수(days)만큼 이전 날짜(str)\n",
    "    \"\"\"\n",
    "    \n",
    "    inputDate = str(inputDate)\n",
    "    days = int(days)\n",
    "    inputYear = inputDate[:4]\n",
    "    inputMonth = inputDate[4:6]\n",
    "    inputDay = inputDate[6:]\n",
    "    \n",
    "    # 1~9일의 정확한 비교를 위해 0을 제거\n",
    "    if inputMonth < '10':\n",
    "         inputMonth = inputMonth[1:]\n",
    "\n",
    "    if inputDay < '10':\n",
    "         inputDay = inputDay[1:]\n",
    "    \n",
    "    for i in range(days):\n",
    "\n",
    "        # 이전 날짜 계산\n",
    "        if inputDay == '1':  # 달이 바뀌는 경우\n",
    "            if inputMonth == '1':  # 달과 연도가 모두 바뀌는 경우 (1월 1일) -> 연도도 마이너스, 월도 12월로 세팅\n",
    "                inputYear = str(int(inputYear) - 1)\n",
    "                inputMonth = '12'\n",
    "                monthDays = 31\n",
    "            else: # 달이 변경, 연도는 그대로 (1월을 제외한 n월 1일) -> 월을 마이너스하고, 해당 월에 맞춰 일자 세팅\n",
    "                inputMonth = str(int(inputMonth) - 1)\n",
    "                if (inputMonth=='4'or inputMonth=='6'or inputMonth=='9'or inputMonth=='11'):\n",
    "                    monthDays = 30\n",
    "                elif inputMonth=='2' :\n",
    "                    if int(inputYear) % 4 == 0 and int(inputYear) % 100 != 0 or int(inputYear) % 400 == 0:\n",
    "                        monthDays = 29  # 윤년인 경우 29일\n",
    "                    else:\n",
    "                        monthDays = 28  # 평년인 경우 28일 \n",
    "                else :\n",
    "                    monthDays = 31\n",
    "            inputDay = str(monthDays)\n",
    "        else:  # 달이 바뀌지 않는 경우 -> 일자만 마이너스\n",
    "            inputDay = str(int(inputDay) - 1)\n",
    "    \n",
    "    # 반복 끝나고 나면, inputMonth와 inputDay에 다시 0을 붙여주기\n",
    "    if int(inputMonth) < 10 :\n",
    "        inputMonth = '0' + str(inputMonth)\n",
    "\n",
    "    if int(inputDay) < 10 :\n",
    "        inputDay = '0' + str(inputDay)\n",
    "\n",
    "    return str(inputYear + inputMonth + inputDay)"
   ]
  },
  {
   "cell_type": "code",
   "execution_count": 2,
   "id": "9444129d-6b3a-44aa-b0f3-db0c5f9751f9",
   "metadata": {},
   "outputs": [
    {
     "data": {
      "text/plain": [
       "'20230319'"
      ]
     },
     "execution_count": 2,
     "metadata": {},
     "output_type": "execute_result"
    }
   ],
   "source": [
    "theDayBefore(\"20230320\", 1)"
   ]
  },
  {
   "cell_type": "code",
   "execution_count": 3,
   "id": "745477b2-281b-474a-89a4-40aca5adbc0d",
   "metadata": {},
   "outputs": [
    {
     "data": {
      "text/plain": [
       "'20230228'"
      ]
     },
     "execution_count": 3,
     "metadata": {},
     "output_type": "execute_result"
    }
   ],
   "source": [
    "theDayBefore(20230301, \"1\")"
   ]
  },
  {
   "cell_type": "code",
   "execution_count": 4,
   "id": "534788a2-a396-4d6b-a58d-86a216b006b9",
   "metadata": {},
   "outputs": [
    {
     "data": {
      "text/plain": [
       "'20221231'"
      ]
     },
     "execution_count": 4,
     "metadata": {},
     "output_type": "execute_result"
    }
   ],
   "source": [
    "theDayBefore(20230101, 1)"
   ]
  },
  {
   "cell_type": "code",
   "execution_count": 5,
   "id": "4f8d7554-3e42-45fc-af14-e81353a1d272",
   "metadata": {},
   "outputs": [
    {
     "data": {
      "text/plain": [
       "'19980712'"
      ]
     },
     "execution_count": 5,
     "metadata": {},
     "output_type": "execute_result"
    }
   ],
   "source": [
    "theDayBefore(20000303, 600)"
   ]
  },
  {
   "cell_type": "code",
   "execution_count": null,
   "id": "0b1dcb48-3952-4328-8677-474acbbc6d2b",
   "metadata": {},
   "outputs": [],
   "source": []
  },
  {
   "cell_type": "markdown",
   "id": "8d42d263-f6bd-46e9-830b-055db1e1e31b",
   "metadata": {
    "tags": []
   },
   "source": [
    "# 과정"
   ]
  },
  {
   "cell_type": "code",
   "execution_count": null,
   "id": "021b8045-5133-468c-ae3e-f250363479be",
   "metadata": {},
   "outputs": [],
   "source": []
  },
  {
   "cell_type": "code",
   "execution_count": 6,
   "id": "d56e7de3-6a11-434e-803a-df0287b9d7e2",
   "metadata": {},
   "outputs": [],
   "source": [
    "# step 0. 입력받은 날짜를 분리\n",
    "# 인덱스를 사용할 것이기 때문에 str 캐스팅\n",
    "\n",
    "# step 1. 1~9일의 정확한 비교를 위해 0을 제거해주기 (추후 붙일 것도 생각) \n",
    "\n",
    "# step 2. 해당 월 일수 계산\n",
    "# case 1) 2월 - 28일, 29일(윤년) (+) 윤년 조건 : int(inputYear) % 4 == 0 and int(inputYear) % 100 != 0 or int(inputYear) % 400 == 0\n",
    "# case 2) 4, 6, 9, 11월 - 30일\n",
    "# case 3) 나머지 - 31일 \n",
    "\n",
    "# step 3. 이전 날짜 계산\n",
    "# case 1-1) 달이 바뀌는 경우, 연도도 바뀌는 경우 (1월 1일) -> 연도도 마이너스, 월도 12월로 세팅\n",
    "# case 1-2) 달이 바뀌는데, 연도는 안 바뀌는 경우 (1월을 제외한 n월 1일) -> 월을 마이너스하고, 일을 해당 월에 맞춰 세팅해야 함\n",
    "# case 1-2-1 ) 2월 - 28일, 29일(윤년)\n",
    "# case 1-2-2 ) 4, 6, 9, 11월 - 30일\n",
    "# case 1-2-3 ) 나머지 - 31일\n",
    "# case 2) 달이 바뀌지 않는 경우 -> 일만 마이너스\n",
    "\n",
    "# step 4. days만큼 반복\n",
    "\n",
    "# step 5. 반복 끝나고 나면, inputMonth와 inputDay에 다시 0을 붙여주기\n",
    "\n",
    "# step 6. 합쳐서 반환"
   ]
  },
  {
   "cell_type": "code",
   "execution_count": 7,
   "id": "96e8c8e3-7987-4617-9c64-9b090659c8ef",
   "metadata": {},
   "outputs": [],
   "source": [
    "    # 해당 월 일수 계산\n",
    "#    if inputMonth == '2': \n",
    "#        if int(inputYear) % 4 == 0 and int(inputYear) % 100 != 0 or int(inputYear) % 400 == 0:\n",
    "#            monthDays = 29  \n",
    "#        else:\n",
    "#            monthDays = 28 \n",
    "#    elif (inputMonth=='4'or inputMonth=='6'or inputMonth=='9'or inputMonth=='11'):\n",
    "#        monthDays = 30\n",
    "#    else: \n",
    "#        monthDays = 31"
   ]
  },
  {
   "cell_type": "code",
   "execution_count": null,
   "id": "2d795615-8353-4704-aa64-e08e329d7888",
   "metadata": {},
   "outputs": [],
   "source": []
  },
  {
   "cell_type": "markdown",
   "id": "7f94b88a-c229-4222-8acb-06a9362e4a76",
   "metadata": {
    "tags": []
   },
   "source": [
    "# 디버깅 (theDayBefore(20230320, 1))"
   ]
  },
  {
   "cell_type": "code",
   "execution_count": 8,
   "id": "6e0a8db6-350f-420b-8af3-86638848b56b",
   "metadata": {},
   "outputs": [],
   "source": [
    "# 달이 바뀌지 않는 경우 -> 일만 마이너스. 테스트 디버깅"
   ]
  },
  {
   "cell_type": "code",
   "execution_count": 9,
   "id": "7a412716-efdf-4aed-a0e9-95183bbaa3a7",
   "metadata": {},
   "outputs": [
    {
     "data": {
      "text/plain": [
       "'20230319'"
      ]
     },
     "execution_count": 9,
     "metadata": {},
     "output_type": "execute_result"
    }
   ],
   "source": [
    "theDayBefore(20230320, 1)"
   ]
  },
  {
   "cell_type": "code",
   "execution_count": null,
   "id": "e4a3d799-a528-4354-bade-3b7d48fef0c3",
   "metadata": {},
   "outputs": [],
   "source": []
  },
  {
   "cell_type": "code",
   "execution_count": 10,
   "id": "9c985a0e-9679-42cc-9f06-230d4b72776b",
   "metadata": {},
   "outputs": [
    {
     "data": {
      "text/plain": [
       "'20230320'"
      ]
     },
     "execution_count": 10,
     "metadata": {},
     "output_type": "execute_result"
    }
   ],
   "source": [
    "inputDate = str(20230320)\n",
    "inputDate"
   ]
  },
  {
   "cell_type": "code",
   "execution_count": 11,
   "id": "6be9f54d-4f26-4252-8374-fb39a2d14bfe",
   "metadata": {},
   "outputs": [
    {
     "name": "stdout",
     "output_type": "stream",
     "text": [
      "2023\n",
      "03\n",
      "20\n"
     ]
    }
   ],
   "source": [
    "inputYear = inputDate[:4]\n",
    "inputMonth = inputDate[4:6]\n",
    "inputDay = inputDate[6:]\n",
    "print(inputYear)\n",
    "print(inputMonth)\n",
    "print(inputDay)"
   ]
  },
  {
   "cell_type": "code",
   "execution_count": 12,
   "id": "ec8c77ac-1cda-4de1-8be6-7773fd9b8608",
   "metadata": {},
   "outputs": [],
   "source": [
    "if inputMonth < '10':\n",
    "    inputMonth = inputMonth[1:]"
   ]
  },
  {
   "cell_type": "code",
   "execution_count": 13,
   "id": "61b24968-100e-4ef4-9df4-0f756af3a114",
   "metadata": {},
   "outputs": [
    {
     "data": {
      "text/plain": [
       "'3'"
      ]
     },
     "execution_count": 13,
     "metadata": {},
     "output_type": "execute_result"
    }
   ],
   "source": [
    "inputMonth"
   ]
  },
  {
   "cell_type": "code",
   "execution_count": 14,
   "id": "919e21be-d5b5-4a36-ab82-1b08bd3d00f6",
   "metadata": {},
   "outputs": [],
   "source": [
    "if inputDay < '10':\n",
    "    inputDay = inputDay[1:]"
   ]
  },
  {
   "cell_type": "code",
   "execution_count": 15,
   "id": "42e35f45-6814-4acd-91ec-2b1983e30bc1",
   "metadata": {},
   "outputs": [
    {
     "data": {
      "text/plain": [
       "'20'"
      ]
     },
     "execution_count": 15,
     "metadata": {},
     "output_type": "execute_result"
    }
   ],
   "source": [
    "inputDay"
   ]
  },
  {
   "cell_type": "code",
   "execution_count": 16,
   "id": "90fdf242-b1b9-4473-b331-fad9c84a8724",
   "metadata": {},
   "outputs": [],
   "source": [
    "#    for i in range(days):\n",
    "# days = 0\n",
    "\n",
    "if inputMonth == '2': \n",
    "    if int(inputYear) % 4 == 0 and int(inputYear) % 100 != 0 or int(inputYear) % 400 == 0:\n",
    "        monthDays = 29 \n",
    "    else:\n",
    "        monthDays = 28 \n",
    "elif (inputMonth=='4'or inputMonth=='6'or inputMonth=='9'or inputMonth=='11'):\n",
    "    monthDays = 30\n",
    "else: \n",
    "    monthDays = 31 "
   ]
  },
  {
   "cell_type": "code",
   "execution_count": 17,
   "id": "4de81254-4499-4974-8f88-426831b08bfd",
   "metadata": {},
   "outputs": [
    {
     "name": "stdout",
     "output_type": "stream",
     "text": [
      "2023\n",
      "3\n",
      "20\n",
      "31\n"
     ]
    }
   ],
   "source": [
    "print(inputYear)\n",
    "print(inputMonth)\n",
    "print(inputDay)\n",
    "print(monthDays)"
   ]
  },
  {
   "cell_type": "code",
   "execution_count": 18,
   "id": "83d95819-4f3d-438f-b883-9be5438c7aa5",
   "metadata": {},
   "outputs": [],
   "source": [
    "if inputDay == '1':  \n",
    "    if inputMonth == '1': \n",
    "        inputYear = str(int(inputYear) - 1)\n",
    "        inputMonth = '12'\n",
    "    else: \n",
    "        inputMonth = str(int(inputMonth) - 1)\n",
    "        if (inputMonth=='4'or inputMonth=='6'or inputMonth=='9'or inputMonth=='11'):\n",
    "            monthDays = 30\n",
    "        elif inputMonth=='2' :\n",
    "            if int(inputYear) % 4 == 0 and int(inputYear) % 100 != 0 or int(inputYear) % 400 == 0:\n",
    "                monthDays = 29 \n",
    "            else:\n",
    "                monthDays = 28 \n",
    "        else :\n",
    "            monthDays = 31 \n",
    "    inputDay = str(monthDays)\n",
    "else:  # 여기!! 이전 날짜가 이전 달로 넘어가지 않을 경우\n",
    "    inputDay = str(int(inputDay) - 1)"
   ]
  },
  {
   "cell_type": "code",
   "execution_count": 19,
   "id": "1a035b3b-ad85-4eb9-a6b6-03b6f732f36e",
   "metadata": {},
   "outputs": [
    {
     "name": "stdout",
     "output_type": "stream",
     "text": [
      "2023\n",
      "3\n",
      "19\n",
      "31\n"
     ]
    }
   ],
   "source": [
    "print(inputYear)\n",
    "print(inputMonth)\n",
    "print(inputDay)\n",
    "print(monthDays)"
   ]
  },
  {
   "cell_type": "code",
   "execution_count": 20,
   "id": "13183033-27cd-40d3-be0d-90ca2f2063ca",
   "metadata": {},
   "outputs": [
    {
     "data": {
      "text/plain": [
       "'03'"
      ]
     },
     "execution_count": 20,
     "metadata": {},
     "output_type": "execute_result"
    }
   ],
   "source": [
    "if int(inputMonth) < 10 :\n",
    "    inputMonth = '0' + str(inputMonth)\n",
    "\n",
    "inputMonth "
   ]
  },
  {
   "cell_type": "code",
   "execution_count": 21,
   "id": "36268d72-bea5-4c65-9f0d-9580e15c1bb6",
   "metadata": {},
   "outputs": [],
   "source": [
    "if int(inputDay) < 10 :\n",
    "    inputDay = '0' + str(inputDay)"
   ]
  },
  {
   "cell_type": "code",
   "execution_count": 22,
   "id": "e2bc4ed9-3536-4f02-823c-86bd32eb1d9b",
   "metadata": {},
   "outputs": [
    {
     "data": {
      "text/plain": [
       "'19'"
      ]
     },
     "execution_count": 22,
     "metadata": {},
     "output_type": "execute_result"
    }
   ],
   "source": [
    "inputDay"
   ]
  },
  {
   "cell_type": "code",
   "execution_count": 23,
   "id": "7b217d83-c43e-4ef7-9b00-6e7de441493c",
   "metadata": {},
   "outputs": [
    {
     "name": "stdout",
     "output_type": "stream",
     "text": [
      "2023\n",
      "03\n",
      "19\n",
      "31\n"
     ]
    }
   ],
   "source": [
    "print(inputYear)\n",
    "print(inputMonth)\n",
    "print(inputDay)\n",
    "print(monthDays)"
   ]
  },
  {
   "cell_type": "code",
   "execution_count": 24,
   "id": "8024b54c-284b-4de5-82b5-e79ef0ac962f",
   "metadata": {},
   "outputs": [
    {
     "data": {
      "text/plain": [
       "20230319"
      ]
     },
     "execution_count": 24,
     "metadata": {},
     "output_type": "execute_result"
    }
   ],
   "source": [
    "int(inputYear + inputMonth + inputDay)"
   ]
  },
  {
   "cell_type": "code",
   "execution_count": null,
   "id": "d4679c6c-9248-4826-9775-d72628a7c6e3",
   "metadata": {},
   "outputs": [],
   "source": []
  },
  {
   "cell_type": "markdown",
   "id": "5efc3578-1c5e-4f4b-9761-08597784dabc",
   "metadata": {},
   "source": [
    "# 디버깅 (theDayBefore(20230301, 1))"
   ]
  },
  {
   "cell_type": "code",
   "execution_count": 25,
   "id": "645a705c-ffcf-4511-8dce-19eeeb1e7643",
   "metadata": {},
   "outputs": [],
   "source": [
    "# 월 변경 O, 연도 변경 X인 날짜 테스트 디버깅"
   ]
  },
  {
   "cell_type": "code",
   "execution_count": 26,
   "id": "bc7d7146-df0c-4c41-95de-0756d86a3aa6",
   "metadata": {},
   "outputs": [
    {
     "data": {
      "text/plain": [
       "'20230228'"
      ]
     },
     "execution_count": 26,
     "metadata": {},
     "output_type": "execute_result"
    }
   ],
   "source": [
    "theDayBefore(20230301, 1)"
   ]
  },
  {
   "cell_type": "code",
   "execution_count": null,
   "id": "1562aff0-87d1-4a4c-b605-49f3066054d8",
   "metadata": {},
   "outputs": [],
   "source": []
  },
  {
   "cell_type": "code",
   "execution_count": 27,
   "id": "5052d3a2-ca77-488a-8a1e-60f5b04566c9",
   "metadata": {},
   "outputs": [],
   "source": [
    "inputDate = str(20230301)\n",
    "inputYear = inputDate[:4]\n",
    "inputMonth = inputDate[4:6]\n",
    "inputDay = inputDate[6:]"
   ]
  },
  {
   "cell_type": "code",
   "execution_count": 28,
   "id": "733887eb-5273-4381-94ff-b7d8076979b7",
   "metadata": {},
   "outputs": [
    {
     "name": "stdout",
     "output_type": "stream",
     "text": [
      "2023\n",
      "03\n",
      "01\n"
     ]
    }
   ],
   "source": [
    "print(inputYear)\n",
    "print(inputMonth)\n",
    "print(inputDay)"
   ]
  },
  {
   "cell_type": "code",
   "execution_count": 29,
   "id": "97bc114a-40dc-4920-8c0c-a06924bba308",
   "metadata": {},
   "outputs": [],
   "source": [
    "# 1~9일의 정확한 비교를 위해 0을 제거\n",
    "if inputMonth < '10':\n",
    "     inputMonth = inputMonth[1:]\n",
    "\n",
    "if inputDay < '10':\n",
    "     inputDay = inputDay[1:]"
   ]
  },
  {
   "cell_type": "code",
   "execution_count": 30,
   "id": "64aff149-1139-48de-8992-9e57d384502b",
   "metadata": {},
   "outputs": [
    {
     "name": "stdout",
     "output_type": "stream",
     "text": [
      "2023\n",
      "3\n",
      "1\n"
     ]
    }
   ],
   "source": [
    "print(inputYear)\n",
    "print(inputMonth)\n",
    "print(inputDay)"
   ]
  },
  {
   "cell_type": "code",
   "execution_count": 31,
   "id": "603ec97a-df57-414d-8928-6927fd87a557",
   "metadata": {},
   "outputs": [],
   "source": [
    "if inputMonth == '2': \n",
    "    if int(inputYear) % 4 == 0 and int(inputYear) % 100 != 0 or int(inputYear) % 400 == 0:\n",
    "        monthDays = 29 \n",
    "    else:\n",
    "        monthDays = 28 \n",
    "elif (inputMonth=='4'or inputMonth=='6'or inputMonth=='9'or inputMonth=='11'):\n",
    "    monthDays = 30\n",
    "else: \n",
    "    monthDays = 31 "
   ]
  },
  {
   "cell_type": "code",
   "execution_count": 32,
   "id": "bf540245-8ffa-47f0-8086-f86d0848b492",
   "metadata": {},
   "outputs": [
    {
     "name": "stdout",
     "output_type": "stream",
     "text": [
      "2023\n",
      "3\n",
      "1\n",
      "31\n"
     ]
    }
   ],
   "source": [
    "print(inputYear)\n",
    "print(inputMonth)\n",
    "print(inputDay)\n",
    "print(monthDays)"
   ]
  },
  {
   "cell_type": "code",
   "execution_count": 33,
   "id": "169d281e-23bd-4472-9640-090cb9785732",
   "metadata": {},
   "outputs": [],
   "source": [
    "if inputDay == '1':  \n",
    "    if inputMonth == '1': \n",
    "        inputYear = str(int(inputYear) - 1)\n",
    "        inputMonth = '12'\n",
    "    else: # 여기!! 달이 변경, 연도는 그대로 (1월을 제외한 n월 1일) -> 월을 마이너스하고, 해당 월에 맞춰 일자 세팅\n",
    "        inputMonth = str(int(inputMonth) - 1)\n",
    "        if (inputMonth=='4'or inputMonth=='6'or inputMonth=='9'or inputMonth=='11'):\n",
    "            monthDays = 30\n",
    "        elif inputMonth=='2' :\n",
    "            if int(inputYear) % 4 == 0 and int(inputYear) % 100 != 0 or int(inputYear) % 400 == 0:\n",
    "                monthDays = 29  \n",
    "            else:\n",
    "                monthDays = 28  \n",
    "        else :\n",
    "            monthDays = 31\n",
    "    inputDay = str(monthDays)\n",
    "else: \n",
    "    inputDay = str(int(inputDay) - 1)"
   ]
  },
  {
   "cell_type": "code",
   "execution_count": 34,
   "id": "7643c49c-99f6-4eb7-bdf8-5acf0105a8b7",
   "metadata": {},
   "outputs": [
    {
     "name": "stdout",
     "output_type": "stream",
     "text": [
      "2023\n",
      "2\n",
      "28\n",
      "28\n"
     ]
    }
   ],
   "source": [
    "print(inputYear)\n",
    "print(inputMonth)\n",
    "print(inputDay)\n",
    "print(monthDays)"
   ]
  },
  {
   "cell_type": "code",
   "execution_count": 35,
   "id": "669cd106-2714-4395-b04d-8600c68f2004",
   "metadata": {},
   "outputs": [],
   "source": [
    "if int(inputMonth) < 10 :\n",
    "    inputMonth = '0' + str(inputMonth)"
   ]
  },
  {
   "cell_type": "code",
   "execution_count": 36,
   "id": "36db6270-c51c-4248-be42-afbbaa14ab5f",
   "metadata": {},
   "outputs": [],
   "source": [
    "if int(inputDay) < 10 :\n",
    "    inputDay = '0' + str(inputDay)"
   ]
  },
  {
   "cell_type": "code",
   "execution_count": 37,
   "id": "db722825-556a-44a9-8421-99756cc261cb",
   "metadata": {},
   "outputs": [
    {
     "name": "stdout",
     "output_type": "stream",
     "text": [
      "2023\n",
      "02\n",
      "28\n",
      "28\n"
     ]
    }
   ],
   "source": [
    "print(inputYear)\n",
    "print(inputMonth)\n",
    "print(inputDay)\n",
    "print(monthDays)"
   ]
  },
  {
   "cell_type": "code",
   "execution_count": 38,
   "id": "fac5d623-d697-4ff3-bf1c-05fc61dd7f69",
   "metadata": {},
   "outputs": [
    {
     "data": {
      "text/plain": [
       "20230228"
      ]
     },
     "execution_count": 38,
     "metadata": {},
     "output_type": "execute_result"
    }
   ],
   "source": [
    "int(inputYear + inputMonth + inputDay) # 잘 넘어갔다!"
   ]
  },
  {
   "cell_type": "code",
   "execution_count": null,
   "id": "0545c2e2-29c9-46db-bfaf-a290c55dfd84",
   "metadata": {},
   "outputs": [],
   "source": []
  },
  {
   "cell_type": "markdown",
   "id": "29cb9e75-a94d-464f-8fb6-7dd38f451189",
   "metadata": {
    "tags": []
   },
   "source": [
    "# 디버깅 (theDayBefore(20230101, 1))"
   ]
  },
  {
   "cell_type": "code",
   "execution_count": 39,
   "id": "e2ba83d1-2cb9-4e23-b462-03ff8783d304",
   "metadata": {},
   "outputs": [],
   "source": [
    "# 월 변경 O, 연도 변경 O인 날짜 테스트 디버깅"
   ]
  },
  {
   "cell_type": "code",
   "execution_count": 40,
   "id": "e592b2af-0b49-40ef-8490-ab0ccf490a8b",
   "metadata": {},
   "outputs": [
    {
     "data": {
      "text/plain": [
       "'20221231'"
      ]
     },
     "execution_count": 40,
     "metadata": {},
     "output_type": "execute_result"
    }
   ],
   "source": [
    "theDayBefore(20230101, 1)"
   ]
  },
  {
   "cell_type": "code",
   "execution_count": null,
   "id": "7c71b6d6-b8cb-4a24-b8ec-d1bee939888d",
   "metadata": {},
   "outputs": [],
   "source": []
  },
  {
   "cell_type": "code",
   "execution_count": 41,
   "id": "58829c87-1c12-484d-8280-88a4fdeb34b6",
   "metadata": {},
   "outputs": [],
   "source": [
    "inputDate = str(20230101)\n",
    "inputYear = inputDate[:4]\n",
    "inputMonth = inputDate[4:6]\n",
    "inputDay = inputDate[6:]"
   ]
  },
  {
   "cell_type": "code",
   "execution_count": 42,
   "id": "53099c34-b563-4aa9-8642-060ede216c96",
   "metadata": {},
   "outputs": [
    {
     "name": "stdout",
     "output_type": "stream",
     "text": [
      "2023\n",
      "01\n",
      "01\n"
     ]
    }
   ],
   "source": [
    "print(inputYear)\n",
    "print(inputMonth)\n",
    "print(inputDay)"
   ]
  },
  {
   "cell_type": "code",
   "execution_count": 43,
   "id": "25528022-d4d7-41ab-affe-3f58c4df284f",
   "metadata": {},
   "outputs": [],
   "source": [
    "# 1~9일의 정확한 비교를 위해 0을 제거\n",
    "if inputMonth < '10':\n",
    "     inputMonth = inputMonth[1:]\n",
    "\n",
    "if inputDay < '10':\n",
    "     inputDay = inputDay[1:]"
   ]
  },
  {
   "cell_type": "code",
   "execution_count": 44,
   "id": "c801b4e4-68cf-4680-b0b9-f8050875a00a",
   "metadata": {},
   "outputs": [
    {
     "name": "stdout",
     "output_type": "stream",
     "text": [
      "2023\n",
      "1\n",
      "1\n"
     ]
    }
   ],
   "source": [
    "print(inputYear)\n",
    "print(inputMonth)\n",
    "print(inputDay)"
   ]
  },
  {
   "cell_type": "code",
   "execution_count": 45,
   "id": "e09032ae-e98b-45ee-8f2c-163f2cfa04d1",
   "metadata": {},
   "outputs": [],
   "source": [
    "if inputMonth == '2': \n",
    "    if int(inputYear) % 4 == 0 and int(inputYear) % 100 != 0 or int(inputYear) % 400 == 0:\n",
    "        monthDays = 29 \n",
    "    else:\n",
    "        monthDays = 28 \n",
    "elif (inputMonth=='4'or inputMonth=='6'or inputMonth=='9'or inputMonth=='11'):\n",
    "    monthDays = 30\n",
    "else: \n",
    "    monthDays = 31 "
   ]
  },
  {
   "cell_type": "code",
   "execution_count": 46,
   "id": "edcd54f8-6c26-4bc9-b657-7046256ee13c",
   "metadata": {},
   "outputs": [
    {
     "name": "stdout",
     "output_type": "stream",
     "text": [
      "2023\n",
      "1\n",
      "1\n",
      "31\n"
     ]
    }
   ],
   "source": [
    "print(inputYear)\n",
    "print(inputMonth)\n",
    "print(inputDay)\n",
    "print(monthDays)"
   ]
  },
  {
   "cell_type": "code",
   "execution_count": 47,
   "id": "3c2f0a09-2436-45c1-91f5-8488254d1fe7",
   "metadata": {},
   "outputs": [],
   "source": [
    "if inputDay == '1':  \n",
    "    if inputMonth == '1': # 여기!! 달과 연도가 모두 바뀌는 경우 (1월 1일) -> 연도도 마이너스, 월도 12월로 세팅\n",
    "        inputYear = str(int(inputYear) - 1)\n",
    "        inputMonth = '12'\n",
    "    else: \n",
    "        inputMonth = str(int(inputMonth) - 1)\n",
    "        if (inputMonth=='4'or inputMonth=='6'or inputMonth=='9'or inputMonth=='11'):\n",
    "            monthDays = 30\n",
    "        elif inputMonth=='2' :\n",
    "            if int(inputYear) % 4 == 0 and int(inputYear) % 100 != 0 or int(inputYear) % 400 == 0:\n",
    "                monthDays = 29  \n",
    "            else:\n",
    "                monthDays = 28  \n",
    "        else :\n",
    "            monthDays = 31\n",
    "    inputDay = str(monthDays)\n",
    "else: \n",
    "    inputDay = str(int(inputDay) - 1)"
   ]
  },
  {
   "cell_type": "code",
   "execution_count": 48,
   "id": "b66840a8-4116-4e6a-a825-2a01420a5f0a",
   "metadata": {},
   "outputs": [
    {
     "name": "stdout",
     "output_type": "stream",
     "text": [
      "2022\n",
      "12\n",
      "31\n",
      "31\n"
     ]
    }
   ],
   "source": [
    "print(inputYear)\n",
    "print(inputMonth)\n",
    "print(inputDay)\n",
    "print(monthDays)"
   ]
  },
  {
   "cell_type": "code",
   "execution_count": 49,
   "id": "0524b981-cf2c-46b8-a067-0b183582e221",
   "metadata": {},
   "outputs": [],
   "source": [
    "if int(inputMonth) < 10 :\n",
    "    inputMonth = '0' + str(inputMonth)"
   ]
  },
  {
   "cell_type": "code",
   "execution_count": 50,
   "id": "889bd41b-172f-4ee6-a3ad-6ffbb31bfed6",
   "metadata": {},
   "outputs": [],
   "source": [
    "if int(inputDay) < 10 :\n",
    "    inputDay = '0' + str(inputDay)"
   ]
  },
  {
   "cell_type": "code",
   "execution_count": 51,
   "id": "c0ee03ce-b7d2-4d5c-891b-7b2d30703d90",
   "metadata": {},
   "outputs": [
    {
     "name": "stdout",
     "output_type": "stream",
     "text": [
      "2022\n",
      "12\n",
      "31\n",
      "31\n"
     ]
    }
   ],
   "source": [
    "print(inputYear)\n",
    "print(inputMonth)\n",
    "print(inputDay)\n",
    "print(monthDays)"
   ]
  },
  {
   "cell_type": "code",
   "execution_count": 52,
   "id": "12f018ea-4cd0-4db9-a81e-1f5017589bd6",
   "metadata": {},
   "outputs": [
    {
     "data": {
      "text/plain": [
       "20221231"
      ]
     },
     "execution_count": 52,
     "metadata": {},
     "output_type": "execute_result"
    }
   ],
   "source": [
    "int(inputYear + inputMonth + inputDay) # 잘 넘어갔다!"
   ]
  }
 ],
 "metadata": {
  "kernelspec": {
   "display_name": "Python 3 (ipykernel)",
   "language": "python",
   "name": "python3"
  },
  "language_info": {
   "codemirror_mode": {
    "name": "ipython",
    "version": 3
   },
   "file_extension": ".py",
   "mimetype": "text/x-python",
   "name": "python",
   "nbconvert_exporter": "python",
   "pygments_lexer": "ipython3",
   "version": "3.9.13"
  }
 },
 "nbformat": 4,
 "nbformat_minor": 5
}
