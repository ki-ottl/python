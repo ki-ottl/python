{
 "cells": [
  {
   "cell_type": "code",
   "execution_count": 1,
   "id": "6de91273-6b54-4591-8ced-ec05a351f771",
   "metadata": {
    "tags": []
   },
   "outputs": [],
   "source": [
    "from isoweek import Week\n",
    "\n",
    "def preWeek(inputYearWeek, weeks):\n",
    "    \"\"\"\n",
    "    입력한 연주차로부터 입력한 수만큼 이전 주차를 반환하는 함수\n",
    "    parameter : inputYearWeek-YYYYWW(int/str) weeks-주수(int/str)\n",
    "    return : inputYearWeek로부터 weeks만큼 이전 주차 반환(str)\n",
    "    \"\"\"\n",
    "    \n",
    "    # 입력된 연도와 주차를 분리해서 저장\n",
    "    inputYear = int(str(inputYearWeek)[:4])\n",
    "    inputWeek = int(str(inputYearWeek)[4:])\n",
    "    \n",
    "    # 연산을 위해 weeks도 int로 캐스팅\n",
    "    weeks = int(weeks)\n",
    "    \n",
    "    # Weeks만큼 주차를 뺀 결과를 resultWeek에 저장\n",
    "    resultWeek = inputWeek - weeks\n",
    "    \n",
    "    # 반복횟수 지정\n",
    "    loopNum = int(((resultWeek)*(-1))/52)+1\n",
    "    \n",
    "    if loopNum > 0 :\n",
    "        for i in range(loopNum):\n",
    "            if resultWeek <= 0:\n",
    "                inputYear = inputYear - 1 \n",
    "                lastWeek = Week.last_week_of_year(inputYear).week # 작년 마지막 주차 추출\n",
    "                resultWeek = resultWeek + lastWeek \n",
    "    else :\n",
    "            if resultWeek <= 0:\n",
    "                inputYear = inputYear - 1 \n",
    "                lastWeek = Week.last_week_of_year(inputYear).week\n",
    "                resultWeek = resultWeek + lastWeek \n",
    "\n",
    "    # 반복 끝나고 나면, inputWeek에 다시 0을 붙여주기\n",
    "    if resultWeek < 10 :\n",
    "        resultWeek = '0' + str(resultWeek)\n",
    "        \n",
    "    return str(inputYear) + str(resultWeek)"
   ]
  },
  {
   "cell_type": "code",
   "execution_count": 2,
   "id": "3ec65a89-7b02-444c-9241-7de689b92ef4",
   "metadata": {},
   "outputs": [],
   "source": [
    "# step 0. 입력된 연도와 주차를 분리해서 저장\n",
    "# 인덱스를 사용할 것이기 때문에 str 캐스팅 후 사칙연산 사용 위해 int 캐스팅\n",
    "\n",
    "# step 1. 연산을 위해 weeks도 int로 캐스팅\n",
    "\n",
    "# step 2. 입력된 수만큼 주차를 뺀 결과를 resultWeek 변수에 저장\n",
    "\n",
    "# step 3.\n",
    "# case 3-1) resultWeek가 음수인 경우, 연도 감소가 필요하기 때문에 반복 필요\n",
    "# case 3-2) resultWeek가 양수인 경우, 연도 감소가 필요하지 않기 때문에 반복 필요 없음\n",
    "# cf) 처음에는 lootNum 없이 weeks로 반복횟수를 정했었다. (weeks보다는 분명히 적게 돌게 되기 때문에)\n",
    "# 코드는 더 간결하지만 resultWeek가 음수인 경우에 반복횟수를 지정할 순 없을까해서 loopNum을 활용해보려고 했다.\n",
    "# loopNum = int(((resultWeek)*(-1))/52)+1\n",
    "\n",
    "    # for i in range(weeks):\n",
    "    #     if resultWeek <= 0:\n",
    "    #         inputYear = inputYear - 1 \n",
    "    #         lastWeek = Week.last_week_of_year(inputYear).week # 작년 마지막 주차 추출\n",
    "    #         resultWeek = resultWeek + lastWeek \n",
    "\n",
    "# step 5. 반복 끝나고 나면, inputWeek에 다시 0을 붙여주기\n",
    "\n",
    "# step 6. 합쳐서 반환"
   ]
  },
  {
   "cell_type": "code",
   "execution_count": null,
   "id": "9568a5a9-0589-44cf-9605-71015b68b9bd",
   "metadata": {},
   "outputs": [],
   "source": []
  },
  {
   "cell_type": "code",
   "execution_count": 3,
   "id": "378435c1-05b9-47e9-980c-6423213322bb",
   "metadata": {},
   "outputs": [
    {
     "data": {
      "text/plain": [
       "'201648'"
      ]
     },
     "execution_count": 3,
     "metadata": {},
     "output_type": "execute_result"
    }
   ],
   "source": [
    "preWeek(\"201701\", 5)"
   ]
  },
  {
   "cell_type": "code",
   "execution_count": 4,
   "id": "e1712bd0-4e68-4d87-858e-f71a2520a84f",
   "metadata": {},
   "outputs": [
    {
     "data": {
      "text/plain": [
       "'201710'"
      ]
     },
     "execution_count": 4,
     "metadata": {},
     "output_type": "execute_result"
    }
   ],
   "source": [
    "preWeek(201720, 10)"
   ]
  },
  {
   "cell_type": "code",
   "execution_count": 5,
   "id": "532107e2-a0f5-47ac-87e0-6b971b32ad0d",
   "metadata": {},
   "outputs": [
    {
     "data": {
      "text/plain": [
       "'201525'"
      ]
     },
     "execution_count": 5,
     "metadata": {},
     "output_type": "execute_result"
    }
   ],
   "source": [
    "preWeek(201720,\"100\")"
   ]
  },
  {
   "cell_type": "code",
   "execution_count": 6,
   "id": "040c1749-993b-4ff9-8a20-28d3f2c1d6a6",
   "metadata": {},
   "outputs": [
    {
     "data": {
      "text/plain": [
       "'199812'"
      ]
     },
     "execution_count": 6,
     "metadata": {},
     "output_type": "execute_result"
    }
   ],
   "source": [
    "preWeek(201720,1000)"
   ]
  },
  {
   "cell_type": "code",
   "execution_count": null,
   "id": "81de08c8-f5b9-40cd-8535-b434d66eea5d",
   "metadata": {},
   "outputs": [],
   "source": []
  },
  {
   "cell_type": "markdown",
   "id": "3cb60c09-ab26-4cd7-92ef-3e817a90b507",
   "metadata": {},
   "source": [
    "# 디버깅"
   ]
  },
  {
   "cell_type": "code",
   "execution_count": null,
   "id": "2187cdce-2741-46dc-bd61-065728bf7f67",
   "metadata": {},
   "outputs": [],
   "source": []
  },
  {
   "cell_type": "markdown",
   "id": "75b0cdec-3a02-423e-aa7c-848f4b7550fe",
   "metadata": {
    "tags": []
   },
   "source": [
    "## preWeek(\"201701\", 5)"
   ]
  },
  {
   "cell_type": "code",
   "execution_count": null,
   "id": "551f942d-53a0-42b1-af1e-109fa9dd6051",
   "metadata": {},
   "outputs": [],
   "source": []
  },
  {
   "cell_type": "code",
   "execution_count": 7,
   "id": "53830b86-7a1f-4ac7-84a0-0b092c05de9a",
   "metadata": {},
   "outputs": [],
   "source": [
    "inputYearWeek = \"201701\"\n",
    "weeks = 5"
   ]
  },
  {
   "cell_type": "code",
   "execution_count": 8,
   "id": "c8593278-4d8b-4639-86a5-f6966109297e",
   "metadata": {},
   "outputs": [
    {
     "name": "stdout",
     "output_type": "stream",
     "text": [
      "2017\n",
      "1\n"
     ]
    }
   ],
   "source": [
    "inputYear = int(str(inputYearWeek)[:4])\n",
    "inputWeek = int(str(inputYearWeek)[4:])\n",
    "print(inputYear)\n",
    "print(inputWeek)"
   ]
  },
  {
   "cell_type": "code",
   "execution_count": 9,
   "id": "43935499-7b79-4c53-b921-5e0c8c0deb2a",
   "metadata": {},
   "outputs": [
    {
     "name": "stdout",
     "output_type": "stream",
     "text": [
      "5\n"
     ]
    }
   ],
   "source": [
    "weeks = int(weeks)\n",
    "print(weeks)"
   ]
  },
  {
   "cell_type": "code",
   "execution_count": 10,
   "id": "646091ec-7b37-4769-b3b6-814f571a934f",
   "metadata": {
    "tags": []
   },
   "outputs": [
    {
     "name": "stdout",
     "output_type": "stream",
     "text": [
      "-4\n"
     ]
    }
   ],
   "source": [
    "resultWeek = inputWeek - weeks\n",
    "print(resultWeek)"
   ]
  },
  {
   "cell_type": "code",
   "execution_count": 11,
   "id": "26abb1de-e3c3-4f88-b56a-3b514e13d704",
   "metadata": {},
   "outputs": [
    {
     "data": {
      "text/plain": [
       "1"
      ]
     },
     "execution_count": 11,
     "metadata": {},
     "output_type": "execute_result"
    }
   ],
   "source": [
    "loopNum = int(((resultWeek)*(-1))/52)+1\n",
    "loopNum"
   ]
  },
  {
   "cell_type": "code",
   "execution_count": 12,
   "id": "e9f02958-6f07-4bea-85fd-39071f971147",
   "metadata": {},
   "outputs": [],
   "source": [
    "if resultWeek <= 0:\n",
    "    inputYear = inputYear - 1 \n",
    "    lastWeek = Week.last_week_of_year(inputYear).week # 작년 마지막 주차 추출\n",
    "    resultWeek = resultWeek + lastWeek "
   ]
  },
  {
   "cell_type": "code",
   "execution_count": 13,
   "id": "66a15124-edaa-4033-b194-b43cc2e11bd2",
   "metadata": {},
   "outputs": [
    {
     "name": "stdout",
     "output_type": "stream",
     "text": [
      "2016\n",
      "52\n",
      "48\n"
     ]
    }
   ],
   "source": [
    "print(inputYear)\n",
    "print(lastWeek)\n",
    "print(resultWeek)"
   ]
  },
  {
   "cell_type": "code",
   "execution_count": 14,
   "id": "0807b74c-0bd9-4ce9-b2d6-7d5b3c3c35ba",
   "metadata": {},
   "outputs": [
    {
     "name": "stdout",
     "output_type": "stream",
     "text": [
      "48\n"
     ]
    }
   ],
   "source": [
    "if resultWeek < 10 :\n",
    "    resultWeek = '0' + str(resultWeek)\n",
    "print(resultWeek)    "
   ]
  },
  {
   "cell_type": "code",
   "execution_count": 15,
   "id": "1a97fd36-7b9c-4330-a9fd-4c6def660fba",
   "metadata": {},
   "outputs": [
    {
     "data": {
      "text/plain": [
       "'201648'"
      ]
     },
     "execution_count": 15,
     "metadata": {},
     "output_type": "execute_result"
    }
   ],
   "source": [
    "str(inputYear) + str(resultWeek)"
   ]
  },
  {
   "cell_type": "code",
   "execution_count": null,
   "id": "2c585bb9-be10-4948-bfa7-3cfd7d015649",
   "metadata": {},
   "outputs": [],
   "source": []
  },
  {
   "cell_type": "markdown",
   "id": "2043f29c-decd-4837-a38a-a46da13aa14b",
   "metadata": {},
   "source": [
    "## preWeek(201720, 10)"
   ]
  },
  {
   "cell_type": "code",
   "execution_count": null,
   "id": "96471cdf-1c63-4f82-9977-33941e155992",
   "metadata": {},
   "outputs": [],
   "source": []
  },
  {
   "cell_type": "code",
   "execution_count": 16,
   "id": "e01ad395-abfb-4c86-9171-9d32c2f00f7a",
   "metadata": {},
   "outputs": [],
   "source": [
    "inputYearWeek = 201720\n",
    "weeks = 10"
   ]
  },
  {
   "cell_type": "code",
   "execution_count": 17,
   "id": "943948b5-b036-465e-b77b-0a99adf4208f",
   "metadata": {},
   "outputs": [
    {
     "name": "stdout",
     "output_type": "stream",
     "text": [
      "2017\n",
      "20\n"
     ]
    }
   ],
   "source": [
    "inputYear = int(str(inputYearWeek)[:4])\n",
    "inputWeek = int(str(inputYearWeek)[4:])\n",
    "print(inputYear)\n",
    "print(inputWeek)"
   ]
  },
  {
   "cell_type": "code",
   "execution_count": 18,
   "id": "f3415e3a-0a7e-4863-898f-7eba9ce32be7",
   "metadata": {},
   "outputs": [
    {
     "name": "stdout",
     "output_type": "stream",
     "text": [
      "10\n"
     ]
    }
   ],
   "source": [
    "weeks = int(weeks)\n",
    "print(weeks)"
   ]
  },
  {
   "cell_type": "code",
   "execution_count": 19,
   "id": "6d026f19-bb12-46a2-9805-fe4268b3ff96",
   "metadata": {},
   "outputs": [
    {
     "name": "stdout",
     "output_type": "stream",
     "text": [
      "10\n"
     ]
    }
   ],
   "source": [
    "resultWeek = inputWeek - weeks\n",
    "print(resultWeek)"
   ]
  },
  {
   "cell_type": "code",
   "execution_count": 20,
   "id": "1f617888-601b-47f8-b6c0-a17eef54c35f",
   "metadata": {},
   "outputs": [
    {
     "data": {
      "text/plain": [
       "1"
      ]
     },
     "execution_count": 20,
     "metadata": {},
     "output_type": "execute_result"
    }
   ],
   "source": [
    "loopNum = int(((resultWeek)*(-1))/52)+1\n",
    "loopNum"
   ]
  },
  {
   "cell_type": "code",
   "execution_count": 21,
   "id": "47e7faf7-43aa-46bf-99fb-5fb32c868f1c",
   "metadata": {},
   "outputs": [],
   "source": [
    "if resultWeek <= 0:\n",
    "    inputYear = inputYear - 1 \n",
    "    lastWeek = Week.last_week_of_year(inputYear).week # 작년 마지막 주차 추출\n",
    "    resultWeek = resultWeek + lastWeek "
   ]
  },
  {
   "cell_type": "code",
   "execution_count": 22,
   "id": "3fe93f23-6077-476d-8a2d-707571d498e9",
   "metadata": {},
   "outputs": [
    {
     "name": "stdout",
     "output_type": "stream",
     "text": [
      "2017\n",
      "52\n",
      "10\n"
     ]
    }
   ],
   "source": [
    "print(inputYear)\n",
    "print(lastWeek)\n",
    "print(resultWeek)"
   ]
  },
  {
   "cell_type": "code",
   "execution_count": 23,
   "id": "b0e2bad8-b7af-4335-b29b-f2e1dad2275c",
   "metadata": {},
   "outputs": [
    {
     "name": "stdout",
     "output_type": "stream",
     "text": [
      "10\n"
     ]
    }
   ],
   "source": [
    "if resultWeek < 10 :\n",
    "    resultWeek = '0' + str(resultWeek)\n",
    "print(resultWeek)  "
   ]
  },
  {
   "cell_type": "code",
   "execution_count": 24,
   "id": "ccfbcb04-acf8-47e6-b056-ba507ae72fca",
   "metadata": {},
   "outputs": [
    {
     "data": {
      "text/plain": [
       "'201710'"
      ]
     },
     "execution_count": 24,
     "metadata": {},
     "output_type": "execute_result"
    }
   ],
   "source": [
    "str(inputYear) + str(resultWeek)"
   ]
  },
  {
   "cell_type": "code",
   "execution_count": null,
   "id": "d2f7e026-1897-44be-8372-e18d50c430f4",
   "metadata": {},
   "outputs": [],
   "source": []
  },
  {
   "cell_type": "markdown",
   "id": "b107699a-be9c-4557-b706-9e3b95c47960",
   "metadata": {},
   "source": [
    "## preWeek(201720,\"100\")"
   ]
  },
  {
   "cell_type": "code",
   "execution_count": null,
   "id": "77f8cbb7-f13a-4764-8d84-75eb5ceed179",
   "metadata": {},
   "outputs": [],
   "source": []
  },
  {
   "cell_type": "code",
   "execution_count": 25,
   "id": "44c11709-46c3-48b4-ad88-c3d0cbd7f77b",
   "metadata": {},
   "outputs": [],
   "source": [
    "inputYearWeek = 201720\n",
    "weeks = \"100\""
   ]
  },
  {
   "cell_type": "code",
   "execution_count": 26,
   "id": "90850f36-fcd8-4f76-b993-ae2511f4f342",
   "metadata": {},
   "outputs": [
    {
     "name": "stdout",
     "output_type": "stream",
     "text": [
      "2017\n",
      "20\n"
     ]
    }
   ],
   "source": [
    "inputYear = int(str(inputYearWeek)[:4])\n",
    "inputWeek = int(str(inputYearWeek)[4:])\n",
    "print(inputYear)\n",
    "print(inputWeek)"
   ]
  },
  {
   "cell_type": "code",
   "execution_count": 27,
   "id": "d3d45e96-0c94-4d31-ac01-d021e0779c07",
   "metadata": {},
   "outputs": [
    {
     "name": "stdout",
     "output_type": "stream",
     "text": [
      "100\n"
     ]
    }
   ],
   "source": [
    "weeks = int(weeks)\n",
    "print(weeks)"
   ]
  },
  {
   "cell_type": "code",
   "execution_count": 28,
   "id": "8fc7dac8-76d5-4b01-ba6c-84dd70af06fc",
   "metadata": {},
   "outputs": [
    {
     "name": "stdout",
     "output_type": "stream",
     "text": [
      "-80\n"
     ]
    }
   ],
   "source": [
    "resultWeek = inputWeek - weeks\n",
    "print(resultWeek)"
   ]
  },
  {
   "cell_type": "code",
   "execution_count": 29,
   "id": "b5f0d439-f4e7-40e4-b8d1-57e9ad5b82eb",
   "metadata": {},
   "outputs": [
    {
     "name": "stdout",
     "output_type": "stream",
     "text": [
      "2\n"
     ]
    }
   ],
   "source": [
    "loopNum = int(((resultWeek)*(-1))/52)+1\n",
    "print(loopNum)"
   ]
  },
  {
   "cell_type": "code",
   "execution_count": 30,
   "id": "76260eb5-d76f-417b-8da8-51b8386c01ac",
   "metadata": {},
   "outputs": [],
   "source": [
    "if resultWeek <= 0:\n",
    "    inputYear = inputYear - 1 \n",
    "    lastWeek = Week.last_week_of_year(inputYear).week # 작년 마지막 주차 추출\n",
    "    resultWeek = resultWeek + lastWeek "
   ]
  },
  {
   "cell_type": "code",
   "execution_count": 31,
   "id": "e1aebf07-e48f-492b-ba84-6cd14a709f47",
   "metadata": {},
   "outputs": [
    {
     "name": "stdout",
     "output_type": "stream",
     "text": [
      "2016\n",
      "52\n",
      "-28\n"
     ]
    }
   ],
   "source": [
    "print(inputYear)\n",
    "print(lastWeek)\n",
    "print(resultWeek)"
   ]
  },
  {
   "cell_type": "code",
   "execution_count": 32,
   "id": "5ac6c0f2-5684-4da4-8b48-62663b98d337",
   "metadata": {},
   "outputs": [],
   "source": [
    "if resultWeek <= 0:\n",
    "    inputYear = inputYear - 1 \n",
    "    lastWeek = Week.last_week_of_year(inputYear).week # 작년 마지막 주차 추출\n",
    "    resultWeek = resultWeek + lastWeek "
   ]
  },
  {
   "cell_type": "code",
   "execution_count": 33,
   "id": "cdc786f0-1079-4351-93ef-2628fa5c2690",
   "metadata": {},
   "outputs": [
    {
     "name": "stdout",
     "output_type": "stream",
     "text": [
      "2015\n",
      "53\n",
      "25\n"
     ]
    }
   ],
   "source": [
    "print(inputYear)\n",
    "print(lastWeek)\n",
    "print(resultWeek)"
   ]
  },
  {
   "cell_type": "code",
   "execution_count": 34,
   "id": "67759107-870d-4612-850f-214beecc7f58",
   "metadata": {},
   "outputs": [
    {
     "name": "stdout",
     "output_type": "stream",
     "text": [
      "25\n"
     ]
    }
   ],
   "source": [
    "if resultWeek < 10 :\n",
    "    resultWeek = '0' + str(resultWeek)\n",
    "print(resultWeek) "
   ]
  },
  {
   "cell_type": "code",
   "execution_count": 35,
   "id": "dda45374-68bd-48d7-8f3c-20ba173d4b69",
   "metadata": {},
   "outputs": [
    {
     "data": {
      "text/plain": [
       "'201525'"
      ]
     },
     "execution_count": 35,
     "metadata": {},
     "output_type": "execute_result"
    }
   ],
   "source": [
    "str(inputYear) + str(resultWeek)"
   ]
  },
  {
   "cell_type": "code",
   "execution_count": null,
   "id": "a4d46b36-14e6-43bd-b6ed-c47fc3ccf669",
   "metadata": {},
   "outputs": [],
   "source": []
  },
  {
   "cell_type": "markdown",
   "id": "57f88757-cd20-4692-a687-2f776b3b05db",
   "metadata": {},
   "source": [
    "## preWeek(201720,1000)"
   ]
  },
  {
   "cell_type": "code",
   "execution_count": null,
   "id": "70ccedfc-2da0-4e0d-82c4-c2215a664825",
   "metadata": {},
   "outputs": [],
   "source": []
  },
  {
   "cell_type": "code",
   "execution_count": 36,
   "id": "5049f324-160e-4860-99d8-0609bef78efc",
   "metadata": {},
   "outputs": [],
   "source": [
    "inputYearWeek = 201720\n",
    "weeks = 1000"
   ]
  },
  {
   "cell_type": "code",
   "execution_count": 37,
   "id": "c13f72a4-8772-4fb3-bad8-edd4506db810",
   "metadata": {},
   "outputs": [
    {
     "name": "stdout",
     "output_type": "stream",
     "text": [
      "2017\n",
      "20\n"
     ]
    }
   ],
   "source": [
    "inputYear = int(str(inputYearWeek)[:4])\n",
    "inputWeek = int(str(inputYearWeek)[4:])\n",
    "print(inputYear)\n",
    "print(inputWeek)"
   ]
  },
  {
   "cell_type": "code",
   "execution_count": 38,
   "id": "966fdd2f-3c4e-4397-b91a-0baca3d7d3d6",
   "metadata": {},
   "outputs": [
    {
     "name": "stdout",
     "output_type": "stream",
     "text": [
      "1000\n"
     ]
    }
   ],
   "source": [
    "weeks = int(weeks)\n",
    "print(weeks)"
   ]
  },
  {
   "cell_type": "code",
   "execution_count": 39,
   "id": "0535d456-ed14-48ec-85ea-0eeb695f2bfb",
   "metadata": {},
   "outputs": [
    {
     "name": "stdout",
     "output_type": "stream",
     "text": [
      "-980\n"
     ]
    }
   ],
   "source": [
    "resultWeek = inputWeek - weeks\n",
    "print(resultWeek)"
   ]
  },
  {
   "cell_type": "code",
   "execution_count": 40,
   "id": "6527b7b4-ddef-44af-939e-7903d04fb364",
   "metadata": {},
   "outputs": [
    {
     "name": "stdout",
     "output_type": "stream",
     "text": [
      "19\n"
     ]
    }
   ],
   "source": [
    "loopNum = int(((resultWeek)*(-1))/52)+1\n",
    "print(loopNum)"
   ]
  },
  {
   "cell_type": "code",
   "execution_count": 41,
   "id": "2e3cc779-f949-4c80-8f91-e15f9cdee8f3",
   "metadata": {},
   "outputs": [],
   "source": [
    "if resultWeek <= 0:\n",
    "    inputYear = inputYear - 1 \n",
    "    lastWeek = Week.last_week_of_year(inputYear).week # 작년 마지막 주차 추출\n",
    "    resultWeek = resultWeek + lastWeek "
   ]
  },
  {
   "cell_type": "code",
   "execution_count": 42,
   "id": "23b59b37-c475-4b61-9fd7-96f85e07fb12",
   "metadata": {},
   "outputs": [
    {
     "name": "stdout",
     "output_type": "stream",
     "text": [
      "2016\n",
      "52\n",
      "-928\n"
     ]
    }
   ],
   "source": [
    "print(inputYear)\n",
    "print(lastWeek)\n",
    "print(resultWeek)"
   ]
  },
  {
   "cell_type": "code",
   "execution_count": 43,
   "id": "814721b2-7954-4511-96c9-8f6af592f744",
   "metadata": {},
   "outputs": [],
   "source": [
    "if resultWeek <= 0:\n",
    "    inputYear = inputYear - 1 \n",
    "    lastWeek = Week.last_week_of_year(inputYear).week # 작년 마지막 주차 추출\n",
    "    resultWeek = resultWeek + lastWeek "
   ]
  },
  {
   "cell_type": "code",
   "execution_count": 44,
   "id": "0cfd50e4-998f-4691-af70-ae2cf01eac24",
   "metadata": {},
   "outputs": [
    {
     "name": "stdout",
     "output_type": "stream",
     "text": [
      "2015\n",
      "53\n",
      "-875\n"
     ]
    }
   ],
   "source": [
    "print(inputYear)\n",
    "print(lastWeek)\n",
    "print(resultWeek)"
   ]
  },
  {
   "cell_type": "code",
   "execution_count": 45,
   "id": "5836ab2d-4aff-427d-8c45-0206a5a1958e",
   "metadata": {},
   "outputs": [],
   "source": [
    "if resultWeek <= 0:\n",
    "    inputYear = inputYear - 1 \n",
    "    lastWeek = Week.last_week_of_year(inputYear).week # 작년 마지막 주차 추출\n",
    "    resultWeek = resultWeek + lastWeek "
   ]
  },
  {
   "cell_type": "code",
   "execution_count": 46,
   "id": "468e5545-7345-4057-a960-559445b2d2c8",
   "metadata": {},
   "outputs": [
    {
     "name": "stdout",
     "output_type": "stream",
     "text": [
      "2014\n",
      "52\n",
      "-823\n"
     ]
    }
   ],
   "source": [
    "print(inputYear)\n",
    "print(lastWeek)\n",
    "print(resultWeek)"
   ]
  },
  {
   "cell_type": "code",
   "execution_count": 47,
   "id": "4bb6a71e-39ef-4475-9ef3-0ad997efb1df",
   "metadata": {},
   "outputs": [],
   "source": [
    "if resultWeek <= 0:\n",
    "    inputYear = inputYear - 1 \n",
    "    lastWeek = Week.last_week_of_year(inputYear).week # 작년 마지막 주차 추출\n",
    "    resultWeek = resultWeek + lastWeek "
   ]
  },
  {
   "cell_type": "code",
   "execution_count": 48,
   "id": "b63c7ce8-69ed-48b2-b77f-d6f9edfdbc2f",
   "metadata": {},
   "outputs": [
    {
     "name": "stdout",
     "output_type": "stream",
     "text": [
      "2013\n",
      "52\n",
      "-771\n"
     ]
    }
   ],
   "source": [
    "print(inputYear)\n",
    "print(lastWeek)\n",
    "print(resultWeek)"
   ]
  },
  {
   "cell_type": "code",
   "execution_count": 49,
   "id": "6f51c8d3-19b9-4ad1-844c-91fa8c77c2c8",
   "metadata": {},
   "outputs": [],
   "source": [
    "if resultWeek <= 0:\n",
    "    inputYear = inputYear - 1 \n",
    "    lastWeek = Week.last_week_of_year(inputYear).week # 작년 마지막 주차 추출\n",
    "    resultWeek = resultWeek + lastWeek "
   ]
  },
  {
   "cell_type": "code",
   "execution_count": 50,
   "id": "88898527-d2e4-453c-92f5-f0beef3dc277",
   "metadata": {},
   "outputs": [
    {
     "name": "stdout",
     "output_type": "stream",
     "text": [
      "2012\n",
      "52\n",
      "-719\n"
     ]
    }
   ],
   "source": [
    "print(inputYear)\n",
    "print(lastWeek)\n",
    "print(resultWeek)"
   ]
  },
  {
   "cell_type": "code",
   "execution_count": 51,
   "id": "01e9e016-e967-466a-9834-1fbc3b14e2be",
   "metadata": {},
   "outputs": [],
   "source": [
    "if resultWeek <= 0:\n",
    "    inputYear = inputYear - 1 \n",
    "    lastWeek = Week.last_week_of_year(inputYear).week # 작년 마지막 주차 추출\n",
    "    resultWeek = resultWeek + lastWeek "
   ]
  },
  {
   "cell_type": "code",
   "execution_count": 52,
   "id": "0d51cd78-720a-4791-b829-814d1891b938",
   "metadata": {},
   "outputs": [
    {
     "name": "stdout",
     "output_type": "stream",
     "text": [
      "2011\n",
      "52\n",
      "-667\n"
     ]
    }
   ],
   "source": [
    "print(inputYear)\n",
    "print(lastWeek)\n",
    "print(resultWeek)"
   ]
  },
  {
   "cell_type": "code",
   "execution_count": 53,
   "id": "41c6dfcc-f5e3-4e37-8993-e68d00b7cd55",
   "metadata": {},
   "outputs": [],
   "source": [
    "if resultWeek <= 0:\n",
    "    inputYear = inputYear - 1 \n",
    "    lastWeek = Week.last_week_of_year(inputYear).week # 작년 마지막 주차 추출\n",
    "    resultWeek = resultWeek + lastWeek "
   ]
  },
  {
   "cell_type": "code",
   "execution_count": 54,
   "id": "f68d5b92-5578-4cd2-a3c4-1feebde7ddc0",
   "metadata": {},
   "outputs": [
    {
     "name": "stdout",
     "output_type": "stream",
     "text": [
      "2010\n",
      "52\n",
      "-615\n"
     ]
    }
   ],
   "source": [
    "print(inputYear)\n",
    "print(lastWeek)\n",
    "print(resultWeek)"
   ]
  },
  {
   "cell_type": "code",
   "execution_count": 55,
   "id": "590126d3-b80a-416f-bd0c-80badcd34c16",
   "metadata": {},
   "outputs": [],
   "source": [
    "if resultWeek <= 0:\n",
    "    inputYear = inputYear - 1 \n",
    "    lastWeek = Week.last_week_of_year(inputYear).week # 작년 마지막 주차 추출\n",
    "    resultWeek = resultWeek + lastWeek "
   ]
  },
  {
   "cell_type": "code",
   "execution_count": 56,
   "id": "79c34585-140f-4272-a93a-81b5994765df",
   "metadata": {},
   "outputs": [
    {
     "name": "stdout",
     "output_type": "stream",
     "text": [
      "2009\n",
      "53\n",
      "-562\n"
     ]
    }
   ],
   "source": [
    "print(inputYear)\n",
    "print(lastWeek)\n",
    "print(resultWeek)"
   ]
  },
  {
   "cell_type": "code",
   "execution_count": 57,
   "id": "f3d54bc0-a644-40f6-b956-041a9d663be7",
   "metadata": {},
   "outputs": [],
   "source": [
    "if resultWeek <= 0:\n",
    "    inputYear = inputYear - 1 \n",
    "    lastWeek = Week.last_week_of_year(inputYear).week # 작년 마지막 주차 추출\n",
    "    resultWeek = resultWeek + lastWeek "
   ]
  },
  {
   "cell_type": "code",
   "execution_count": 58,
   "id": "9d863a30-59f3-4396-bca2-bd687104b4c1",
   "metadata": {},
   "outputs": [
    {
     "name": "stdout",
     "output_type": "stream",
     "text": [
      "2008\n",
      "52\n",
      "-510\n"
     ]
    }
   ],
   "source": [
    "print(inputYear)\n",
    "print(lastWeek)\n",
    "print(resultWeek)"
   ]
  },
  {
   "cell_type": "code",
   "execution_count": 59,
   "id": "38d27c6e-5453-42e6-8cc5-bdc8441325cf",
   "metadata": {},
   "outputs": [],
   "source": [
    "if resultWeek <= 0:\n",
    "    inputYear = inputYear - 1 \n",
    "    lastWeek = Week.last_week_of_year(inputYear).week # 작년 마지막 주차 추출\n",
    "    resultWeek = resultWeek + lastWeek "
   ]
  },
  {
   "cell_type": "code",
   "execution_count": 60,
   "id": "d1e51ded-a1c0-47e5-b1f4-f49692974392",
   "metadata": {},
   "outputs": [
    {
     "name": "stdout",
     "output_type": "stream",
     "text": [
      "2007\n",
      "52\n",
      "-458\n"
     ]
    }
   ],
   "source": [
    "print(inputYear)\n",
    "print(lastWeek)\n",
    "print(resultWeek)"
   ]
  },
  {
   "cell_type": "code",
   "execution_count": 61,
   "id": "05997ddb-45b6-4054-936a-819f13eecbc9",
   "metadata": {},
   "outputs": [],
   "source": [
    "if resultWeek <= 0:\n",
    "    inputYear = inputYear - 1 \n",
    "    lastWeek = Week.last_week_of_year(inputYear).week # 작년 마지막 주차 추출\n",
    "    resultWeek = resultWeek + lastWeek "
   ]
  },
  {
   "cell_type": "code",
   "execution_count": 62,
   "id": "0868b116-62a2-45c1-999b-4f5063448a23",
   "metadata": {},
   "outputs": [
    {
     "name": "stdout",
     "output_type": "stream",
     "text": [
      "2006\n",
      "52\n",
      "-406\n"
     ]
    }
   ],
   "source": [
    "print(inputYear)\n",
    "print(lastWeek)\n",
    "print(resultWeek)"
   ]
  },
  {
   "cell_type": "code",
   "execution_count": 63,
   "id": "6dc3b647-d37c-4618-97f5-94623555683d",
   "metadata": {},
   "outputs": [],
   "source": [
    "if resultWeek <= 0:\n",
    "    inputYear = inputYear - 1 \n",
    "    lastWeek = Week.last_week_of_year(inputYear).week # 작년 마지막 주차 추출\n",
    "    resultWeek = resultWeek + lastWeek "
   ]
  },
  {
   "cell_type": "code",
   "execution_count": 64,
   "id": "1569024f-5258-4a7a-a7b8-da3cb2c9cd92",
   "metadata": {},
   "outputs": [
    {
     "name": "stdout",
     "output_type": "stream",
     "text": [
      "2005\n",
      "52\n",
      "-354\n"
     ]
    }
   ],
   "source": [
    "print(inputYear)\n",
    "print(lastWeek)\n",
    "print(resultWeek)"
   ]
  },
  {
   "cell_type": "code",
   "execution_count": 65,
   "id": "974ba867-3c85-4265-932a-2c66f6065c2c",
   "metadata": {},
   "outputs": [],
   "source": [
    "if resultWeek <= 0:\n",
    "    inputYear = inputYear - 1 \n",
    "    lastWeek = Week.last_week_of_year(inputYear).week # 작년 마지막 주차 추출\n",
    "    resultWeek = resultWeek + lastWeek "
   ]
  },
  {
   "cell_type": "code",
   "execution_count": 66,
   "id": "4fcf43bd-36cc-438f-9143-cbf7e8d91d70",
   "metadata": {},
   "outputs": [
    {
     "name": "stdout",
     "output_type": "stream",
     "text": [
      "2004\n",
      "53\n",
      "-301\n"
     ]
    }
   ],
   "source": [
    "print(inputYear)\n",
    "print(lastWeek)\n",
    "print(resultWeek)"
   ]
  },
  {
   "cell_type": "code",
   "execution_count": 67,
   "id": "b2de0994-3af4-473f-9101-6bf7641c9d65",
   "metadata": {},
   "outputs": [],
   "source": [
    "if resultWeek <= 0:\n",
    "    inputYear = inputYear - 1 \n",
    "    lastWeek = Week.last_week_of_year(inputYear).week # 작년 마지막 주차 추출\n",
    "    resultWeek = resultWeek + lastWeek "
   ]
  },
  {
   "cell_type": "code",
   "execution_count": 68,
   "id": "81db25da-f248-44c7-8cb5-6b64744d89d7",
   "metadata": {},
   "outputs": [
    {
     "name": "stdout",
     "output_type": "stream",
     "text": [
      "2003\n",
      "52\n",
      "-249\n"
     ]
    }
   ],
   "source": [
    "print(inputYear)\n",
    "print(lastWeek)\n",
    "print(resultWeek)"
   ]
  },
  {
   "cell_type": "code",
   "execution_count": 69,
   "id": "2cf9c590-1edc-444f-8480-8b7692b9fdd6",
   "metadata": {},
   "outputs": [],
   "source": [
    "if resultWeek <= 0:\n",
    "    inputYear = inputYear - 1 \n",
    "    lastWeek = Week.last_week_of_year(inputYear).week # 작년 마지막 주차 추출\n",
    "    resultWeek = resultWeek + lastWeek "
   ]
  },
  {
   "cell_type": "code",
   "execution_count": 70,
   "id": "14ade6f0-c6b6-4bfb-9f60-33b1fc471097",
   "metadata": {},
   "outputs": [
    {
     "name": "stdout",
     "output_type": "stream",
     "text": [
      "2002\n",
      "52\n",
      "-197\n"
     ]
    }
   ],
   "source": [
    "print(inputYear)\n",
    "print(lastWeek)\n",
    "print(resultWeek)"
   ]
  },
  {
   "cell_type": "code",
   "execution_count": 71,
   "id": "fd335532-1607-4cf5-add3-01dc77776f8e",
   "metadata": {},
   "outputs": [],
   "source": [
    "if resultWeek <= 0:\n",
    "    inputYear = inputYear - 1 \n",
    "    lastWeek = Week.last_week_of_year(inputYear).week # 작년 마지막 주차 추출\n",
    "    resultWeek = resultWeek + lastWeek "
   ]
  },
  {
   "cell_type": "code",
   "execution_count": 72,
   "id": "d2144f94-923f-4e33-b9c9-87957dece842",
   "metadata": {},
   "outputs": [
    {
     "name": "stdout",
     "output_type": "stream",
     "text": [
      "2001\n",
      "52\n",
      "-145\n"
     ]
    }
   ],
   "source": [
    "print(inputYear)\n",
    "print(lastWeek)\n",
    "print(resultWeek)"
   ]
  },
  {
   "cell_type": "code",
   "execution_count": 73,
   "id": "a9334a8a-1367-4d18-979e-345c336e2971",
   "metadata": {
    "tags": []
   },
   "outputs": [],
   "source": [
    "if resultWeek <= 0:\n",
    "    inputYear = inputYear - 1 \n",
    "    lastWeek = Week.last_week_of_year(inputYear).week # 작년 마지막 주차 추출\n",
    "    resultWeek = resultWeek + lastWeek "
   ]
  },
  {
   "cell_type": "code",
   "execution_count": 74,
   "id": "4fbcb557-2106-4314-a19e-06756bfeb950",
   "metadata": {},
   "outputs": [
    {
     "name": "stdout",
     "output_type": "stream",
     "text": [
      "2000\n",
      "52\n",
      "-93\n"
     ]
    }
   ],
   "source": [
    "print(inputYear)\n",
    "print(lastWeek)\n",
    "print(resultWeek)"
   ]
  },
  {
   "cell_type": "code",
   "execution_count": 75,
   "id": "17b03ddc-fb69-40d1-beb9-0664b6597a1a",
   "metadata": {},
   "outputs": [],
   "source": [
    "if resultWeek <= 0:\n",
    "    inputYear = inputYear - 1 \n",
    "    lastWeek = Week.last_week_of_year(inputYear).week # 작년 마지막 주차 추출\n",
    "    resultWeek = resultWeek + lastWeek "
   ]
  },
  {
   "cell_type": "code",
   "execution_count": 76,
   "id": "fe1e1372-666c-49d2-a108-249716b929a4",
   "metadata": {},
   "outputs": [
    {
     "name": "stdout",
     "output_type": "stream",
     "text": [
      "1999\n",
      "52\n",
      "-41\n"
     ]
    }
   ],
   "source": [
    "print(inputYear)\n",
    "print(lastWeek)\n",
    "print(resultWeek)"
   ]
  },
  {
   "cell_type": "code",
   "execution_count": 77,
   "id": "e1f73217-374f-406e-af7d-ae390b820ffa",
   "metadata": {},
   "outputs": [],
   "source": [
    "if resultWeek <= 0:\n",
    "    inputYear = inputYear - 1 \n",
    "    lastWeek = Week.last_week_of_year(inputYear).week # 작년 마지막 주차 추출\n",
    "    resultWeek = resultWeek + lastWeek "
   ]
  },
  {
   "cell_type": "code",
   "execution_count": 78,
   "id": "f78cd25f-6456-4218-9cba-7f055c6615f9",
   "metadata": {},
   "outputs": [
    {
     "name": "stdout",
     "output_type": "stream",
     "text": [
      "1998\n",
      "53\n",
      "12\n"
     ]
    }
   ],
   "source": [
    "print(inputYear)\n",
    "print(lastWeek)\n",
    "print(resultWeek)"
   ]
  },
  {
   "cell_type": "code",
   "execution_count": 79,
   "id": "8d155bc0-29ab-422c-a45b-2b0368482cbd",
   "metadata": {},
   "outputs": [
    {
     "name": "stdout",
     "output_type": "stream",
     "text": [
      "12\n"
     ]
    }
   ],
   "source": [
    "if resultWeek < 10 :\n",
    "    resultWeek = '0' + str(resultWeek)\n",
    "print(resultWeek)  "
   ]
  },
  {
   "cell_type": "code",
   "execution_count": 80,
   "id": "6381c0e6-84cb-4c72-ac73-05c46a061178",
   "metadata": {},
   "outputs": [
    {
     "data": {
      "text/plain": [
       "'199812'"
      ]
     },
     "execution_count": 80,
     "metadata": {},
     "output_type": "execute_result"
    }
   ],
   "source": [
    "str(inputYear) + str(resultWeek)"
   ]
  }
 ],
 "metadata": {
  "kernelspec": {
   "display_name": "Python 3 (ipykernel)",
   "language": "python",
   "name": "python3"
  },
  "language_info": {
   "codemirror_mode": {
    "name": "ipython",
    "version": 3
   },
   "file_extension": ".py",
   "mimetype": "text/x-python",
   "name": "python",
   "nbconvert_exporter": "python",
   "pygments_lexer": "ipython3",
   "version": "3.9.13"
  }
 },
 "nbformat": 4,
 "nbformat_minor": 5
}
