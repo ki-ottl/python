{
 "cells": [
  {
   "cell_type": "code",
   "execution_count": 7,
   "id": "3bff091c-40bd-4f99-8867-f68dd08b44df",
   "metadata": {},
   "outputs": [],
   "source": [
    "boumo = 0\n",
    "bunja = 300\n",
    "# 나누기를 해보세요."
   ]
  },
  {
   "cell_type": "code",
   "execution_count": 8,
   "id": "05285502-6a72-4eac-97a6-c39bd795e866",
   "metadata": {},
   "outputs": [
    {
     "ename": "ZeroDivisionError",
     "evalue": "division by zero",
     "output_type": "error",
     "traceback": [
      "\u001b[1;31m---------------------------------------------------------------------------\u001b[0m",
      "\u001b[1;31mZeroDivisionError\u001b[0m                         Traceback (most recent call last)",
      "\u001b[1;32m~\\AppData\\Local\\Temp\\ipykernel_2264\\1665348940.py\u001b[0m in \u001b[0;36m<module>\u001b[1;34m\u001b[0m\n\u001b[1;32m----> 1\u001b[1;33m \u001b[0mresult\u001b[0m \u001b[1;33m=\u001b[0m \u001b[0mbunja\u001b[0m\u001b[1;33m/\u001b[0m\u001b[0mboumo\u001b[0m\u001b[1;33m\u001b[0m\u001b[1;33m\u001b[0m\u001b[0m\n\u001b[0m\u001b[0;32m      2\u001b[0m \u001b[0mresult\u001b[0m\u001b[1;33m\u001b[0m\u001b[1;33m\u001b[0m\u001b[0m\n\u001b[0;32m      3\u001b[0m \u001b[1;31m# ZeroDivisionError\u001b[0m\u001b[1;33m\u001b[0m\u001b[1;33m\u001b[0m\u001b[0m\n\u001b[0;32m      4\u001b[0m \u001b[1;31m# ZeroDivisionError                         Traceback (most recent call last)\u001b[0m\u001b[1;33m\u001b[0m\u001b[1;33m\u001b[0m\u001b[0m\n\u001b[0;32m      5\u001b[0m \u001b[1;31m# ~\\AppData\\Local\\Temp\\ipykernel_8836\\3911704163.py in <module>\u001b[0m\u001b[1;33m\u001b[0m\u001b[1;33m\u001b[0m\u001b[0m\n",
      "\u001b[1;31mZeroDivisionError\u001b[0m: division by zero"
     ]
    }
   ],
   "source": [
    "result = bunja/boumo\n",
    "result\n",
    "# ZeroDivisionError  \n",
    "# ZeroDivisionError                         Traceback (most recent call last)\n",
    "# ~\\AppData\\Local\\Temp\\ipykernel_8836\\3911704163.py in <module>\n",
    "# ----> 1 result = bunja/boumo\n",
    "#      2 result"
   ]
  },
  {
   "cell_type": "code",
   "execution_count": 9,
   "id": "d95ce861-dcae-49eb-a1dc-0ab3077f2ea3",
   "metadata": {},
   "outputs": [],
   "source": [
    "# 어떤 집단의 평균 점수를 구하세요\n",
    "# 집단의 인원 3명, 점수합이 120\n",
    "# 120/3 = 40\n",
    "\n",
    "# 모수가 0인 경우를 고려하지 않은 것!"
   ]
  },
  {
   "cell_type": "code",
   "execution_count": 10,
   "id": "05368faa-8f4f-40a2-87ca-9b5f59b2907f",
   "metadata": {},
   "outputs": [],
   "source": [
    "bunmo = 0\n",
    "bunja = 300"
   ]
  },
  {
   "cell_type": "code",
   "execution_count": 11,
   "id": "86168cdd-5f8c-4b73-b01c-782b7abd8c8c",
   "metadata": {},
   "outputs": [],
   "source": [
    "# 분모가 0인 경우\n",
    "if bunmo == 0 :\n",
    "    avgSellout = 0\n",
    "# 분자가 0인 경우\n",
    "if bunmo != 0 :\n",
    "    avgSellout = bunja/bunmo"
   ]
  },
  {
   "cell_type": "code",
   "execution_count": 12,
   "id": "8b320417-3ac5-4196-8fc9-5b7defdccc66",
   "metadata": {},
   "outputs": [
    {
     "data": {
      "text/plain": [
       "0"
      ]
     },
     "execution_count": 12,
     "metadata": {},
     "output_type": "execute_result"
    }
   ],
   "source": [
    "avgSellout # 0"
   ]
  }
 ],
 "metadata": {
  "kernelspec": {
   "display_name": "Python 3 (ipykernel)",
   "language": "python",
   "name": "python3"
  },
  "language_info": {
   "codemirror_mode": {
    "name": "ipython",
    "version": 3
   },
   "file_extension": ".py",
   "mimetype": "text/x-python",
   "name": "python",
   "nbconvert_exporter": "python",
   "pygments_lexer": "ipython3",
   "version": "3.9.13"
  }
 },
 "nbformat": 4,
 "nbformat_minor": 5
}
