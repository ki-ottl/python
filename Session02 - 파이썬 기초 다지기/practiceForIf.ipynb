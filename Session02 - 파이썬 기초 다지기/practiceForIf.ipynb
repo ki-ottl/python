{
 "cells": [
  {
   "cell_type": "markdown",
   "id": "a16c14c6-7ec4-46df-9ef8-2e7f3e014676",
   "metadata": {},
   "source": [
    "# 2-3 파이썬 핵심문법 다루기 내 실습문제"
   ]
  },
  {
   "cell_type": "code",
   "execution_count": null,
   "id": "fd6e296c-09e5-4087-90b8-82b866ca690e",
   "metadata": {},
   "outputs": [],
   "source": []
  },
  {
   "cell_type": "code",
   "execution_count": 1,
   "id": "a7d1a8de-d8fc-4025-b767-95c23a692c25",
   "metadata": {},
   "outputs": [],
   "source": [
    "# tvList2 = [ 'UN40EN001', 'LEDTV_UN40EN002','LEDTV_LEDTV_UN40EN003’, ‘UN40EN004’]\n",
    "# 리스트에서 LEDTV_가 한 개만 앞에 붙도록 하세요\n",
    "# (* 대소문자 구분없이 전부 처리!)"
   ]
  },
  {
   "cell_type": "code",
   "execution_count": 2,
   "id": "7bde2eae-047a-4e3e-b3f2-45fcd02daca0",
   "metadata": {},
   "outputs": [
    {
     "data": {
      "text/plain": [
       "['LEDTV_UN40EN001', 'LEDTV_UN40EN002', 'LEDTV_UN40EN003', 'LEDTV_UN40EN004']"
      ]
     },
     "execution_count": 2,
     "metadata": {},
     "output_type": "execute_result"
    }
   ],
   "source": [
    "tvList = [ 'UN40EN001', 'LEDTV_UN40EN002','LEDTV_LEDTV_UN40EN003', 'UN40EN004']\n",
    "preFix = 'LEDTV_'\n",
    "\n",
    "for i in range(0, len(tvList)):\n",
    "    if tvList[i].count(preFix)==0:\n",
    "        tvList[i] = preFix + tvList[i]\n",
    "    else : \n",
    "        tvList[i] = preFix + tvList[i].replace(preFix, \"\")\n",
    "        \n",
    "tvList"
   ]
  },
  {
   "cell_type": "code",
   "execution_count": null,
   "id": "f896b455-0a05-4ec8-9777-59fafcd51784",
   "metadata": {},
   "outputs": [],
   "source": []
  },
  {
   "cell_type": "code",
   "execution_count": 3,
   "id": "1b5e9d66-0b57-481b-b889-8883624acf86",
   "metadata": {},
   "outputs": [],
   "source": [
    "# nationList [‘A01’ , ‘한국’ , ‘A02’ , ‘미국’ , ‘A03’ , ‘프랑스’]\n",
    "# 국가코드만 출력하세요"
   ]
  },
  {
   "cell_type": "code",
   "execution_count": 4,
   "id": "74d100f9-5cb3-47b4-8ba0-329cc9f51853",
   "metadata": {},
   "outputs": [
    {
     "data": {
      "text/plain": [
       "['한국', '미국', '프랑스']"
      ]
     },
     "execution_count": 4,
     "metadata": {},
     "output_type": "execute_result"
    }
   ],
   "source": [
    "nationList = ['A01','한국','A02', '미국' , 'A03' , '프랑스']\n",
    "nationNameList = []\n",
    "\n",
    "for i in range(0, len(nationList)):\n",
    "    if nationList[i].count(\"A\")!=0:\n",
    "        pass\n",
    "    else :\n",
    "        nationNameList.append(nationList[i])\n",
    "\n",
    "nationNameList"
   ]
  },
  {
   "cell_type": "code",
   "execution_count": null,
   "id": "cd933e62-81a7-4cad-9119-1966ad36e39d",
   "metadata": {},
   "outputs": [],
   "source": []
  },
  {
   "cell_type": "code",
   "execution_count": 5,
   "id": "d6c7b567-e1bb-44a7-bd2f-774af94abb28",
   "metadata": {},
   "outputs": [],
   "source": [
    "# SCORE 변수를 80으로 선언 후\n",
    "# 90점이상 A, 80~90점 B, 이외 C 점수로\n",
    "# GRADE변수에 할당하는 프로그램을 구현하세요"
   ]
  },
  {
   "cell_type": "code",
   "execution_count": 6,
   "id": "d1d2ffe9-4323-4b6d-9672-ae7224901309",
   "metadata": {},
   "outputs": [
    {
     "name": "stdout",
     "output_type": "stream",
     "text": [
      "grade : B\n"
     ]
    }
   ],
   "source": [
    "score = 80\n",
    "\n",
    "if score >= 90 :\n",
    "    grade = \"A\"\n",
    "    print(\"grade :\",grade)\n",
    "elif score >= 80 :\n",
    "    grade = \"B\"\n",
    "    print(\"grade :\",grade)\n",
    "else :\n",
    "    grade = \"C\"\n",
    "    print(\"grade :\",grade)"
   ]
  },
  {
   "cell_type": "code",
   "execution_count": null,
   "id": "b1b72db1-0852-4021-b2d0-dcc824fa116b",
   "metadata": {},
   "outputs": [],
   "source": []
  },
  {
   "cell_type": "code",
   "execution_count": 7,
   "id": "1721e27d-df17-4755-9e0c-e8b66619045d",
   "metadata": {},
   "outputs": [],
   "source": [
    "# tvList2 = [ 'UN40EN001', 'LEDTV_UN40EN002', 'LEDTV_LEDTV_UN40EN003’, ‘ledtv_UN40EN004’]\n",
    "# 리스트에서 LEDTV_가 한 개만 앞에 붙도록 하세요\n",
    "# (* 대소문자 구분없이 전부 처리!)"
   ]
  },
  {
   "cell_type": "code",
   "execution_count": 8,
   "id": "8e1e2f6a-e76a-4600-912a-9b81a883afac",
   "metadata": {},
   "outputs": [
    {
     "data": {
      "text/plain": [
       "['LEDTV_UN40EN001', 'LEDTV_UN40EN002', 'LEDTV_UN40EN003', 'LEDTV_UN40EN004']"
      ]
     },
     "execution_count": 8,
     "metadata": {},
     "output_type": "execute_result"
    }
   ],
   "source": [
    "tvList2 = ['UN40EN001', 'LEDTV_UN40EN002', 'LEDTV_LEDTV_UN40EN003', 'ledtv_UN40EN004']\n",
    "preFix = 'LEDTV_'\n",
    "for i in range(0, len(tvList2)):\n",
    "    tvList2[i]=tvList2[i].upper()\n",
    "    \n",
    "for i in range(0, len(tvList2)):\n",
    "    if tvList2[i].count(preFix)==0:\n",
    "        tvList2[i] = preFix + tvList2[i]\n",
    "    else : \n",
    "        tvList2[i] = preFix + tvList2[i].replace(preFix, \"\")\n",
    "        \n",
    "tvList2"
   ]
  }
 ],
 "metadata": {
  "kernelspec": {
   "display_name": "Python 3 (ipykernel)",
   "language": "python",
   "name": "python3"
  },
  "language_info": {
   "codemirror_mode": {
    "name": "ipython",
    "version": 3
   },
   "file_extension": ".py",
   "mimetype": "text/x-python",
   "name": "python",
   "nbconvert_exporter": "python",
   "pygments_lexer": "ipython3",
   "version": "3.9.13"
  }
 },
 "nbformat": 4,
 "nbformat_minor": 5
}
