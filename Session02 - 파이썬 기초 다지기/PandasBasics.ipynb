{
 "cells": [
  {
   "cell_type": "markdown",
   "id": "2a504f26-cad0-4e3c-b759-22c441bde8fb",
   "metadata": {
    "tags": []
   },
   "source": [
    "# Pandas 라이브러리 기초"
   ]
  },
  {
   "cell_type": "code",
   "execution_count": 1,
   "id": "80f40131-7f5d-436a-8337-8338b275ea3f",
   "metadata": {},
   "outputs": [],
   "source": [
    "# 라이브러리 선언\n",
    "import pandas as pd"
   ]
  },
  {
   "cell_type": "code",
   "execution_count": 2,
   "id": "a271ee70-0ce0-4e30-ae36-28a8684874e2",
   "metadata": {},
   "outputs": [],
   "source": [
    "qtyList = [10, 15, 20, 13, 22]"
   ]
  },
  {
   "cell_type": "code",
   "execution_count": 3,
   "id": "12c99688-542e-403a-b735-19b0df986f7a",
   "metadata": {},
   "outputs": [
    {
     "data": {
      "text/html": [
       "<div>\n",
       "<style scoped>\n",
       "    .dataframe tbody tr th:only-of-type {\n",
       "        vertical-align: middle;\n",
       "    }\n",
       "\n",
       "    .dataframe tbody tr th {\n",
       "        vertical-align: top;\n",
       "    }\n",
       "\n",
       "    .dataframe thead th {\n",
       "        text-align: right;\n",
       "    }\n",
       "</style>\n",
       "<table border=\"1\" class=\"dataframe\">\n",
       "  <thead>\n",
       "    <tr style=\"text-align: right;\">\n",
       "      <th></th>\n",
       "      <th>0</th>\n",
       "    </tr>\n",
       "  </thead>\n",
       "  <tbody>\n",
       "    <tr>\n",
       "      <th>0</th>\n",
       "      <td>10</td>\n",
       "    </tr>\n",
       "    <tr>\n",
       "      <th>1</th>\n",
       "      <td>15</td>\n",
       "    </tr>\n",
       "    <tr>\n",
       "      <th>2</th>\n",
       "      <td>20</td>\n",
       "    </tr>\n",
       "    <tr>\n",
       "      <th>3</th>\n",
       "      <td>13</td>\n",
       "    </tr>\n",
       "    <tr>\n",
       "      <th>4</th>\n",
       "      <td>22</td>\n",
       "    </tr>\n",
       "  </tbody>\n",
       "</table>\n",
       "</div>"
      ],
      "text/plain": [
       "    0\n",
       "0  10\n",
       "1  15\n",
       "2  20\n",
       "3  13\n",
       "4  22"
      ]
     },
     "execution_count": 3,
     "metadata": {},
     "output_type": "execute_result"
    }
   ],
   "source": [
    "pd.DataFrame(qtyList)"
   ]
  },
  {
   "cell_type": "code",
   "execution_count": 4,
   "id": "df3a2ada-d890-4a89-a691-27c9c85ebd89",
   "metadata": {},
   "outputs": [],
   "source": [
    "# 데이터프레임에 이름 붙이기\n",
    "qtyDf = pd.DataFrame(qtyList)"
   ]
  },
  {
   "cell_type": "code",
   "execution_count": 5,
   "id": "198b18b0-04a9-4e89-9209-7146f050be7e",
   "metadata": {},
   "outputs": [],
   "source": [
    "# 컬럼명 붙이기\n",
    "qtyDf.columns = [\"qty\"]"
   ]
  },
  {
   "cell_type": "code",
   "execution_count": 6,
   "id": "e9d575ec-02d6-4222-aebd-bb4f74dd85b0",
   "metadata": {},
   "outputs": [
    {
     "data": {
      "text/html": [
       "<div>\n",
       "<style scoped>\n",
       "    .dataframe tbody tr th:only-of-type {\n",
       "        vertical-align: middle;\n",
       "    }\n",
       "\n",
       "    .dataframe tbody tr th {\n",
       "        vertical-align: top;\n",
       "    }\n",
       "\n",
       "    .dataframe thead th {\n",
       "        text-align: right;\n",
       "    }\n",
       "</style>\n",
       "<table border=\"1\" class=\"dataframe\">\n",
       "  <thead>\n",
       "    <tr style=\"text-align: right;\">\n",
       "      <th></th>\n",
       "      <th>qty</th>\n",
       "    </tr>\n",
       "  </thead>\n",
       "  <tbody>\n",
       "    <tr>\n",
       "      <th>0</th>\n",
       "      <td>10</td>\n",
       "    </tr>\n",
       "    <tr>\n",
       "      <th>1</th>\n",
       "      <td>15</td>\n",
       "    </tr>\n",
       "    <tr>\n",
       "      <th>2</th>\n",
       "      <td>20</td>\n",
       "    </tr>\n",
       "    <tr>\n",
       "      <th>3</th>\n",
       "      <td>13</td>\n",
       "    </tr>\n",
       "    <tr>\n",
       "      <th>4</th>\n",
       "      <td>22</td>\n",
       "    </tr>\n",
       "  </tbody>\n",
       "</table>\n",
       "</div>"
      ],
      "text/plain": [
       "   qty\n",
       "0   10\n",
       "1   15\n",
       "2   20\n",
       "3   13\n",
       "4   22"
      ]
     },
     "execution_count": 6,
     "metadata": {},
     "output_type": "execute_result"
    }
   ],
   "source": [
    "qtyDf"
   ]
  },
  {
   "cell_type": "code",
   "execution_count": 7,
   "id": "6e6bdaed-fb84-4ea1-a634-fbccdd0464db",
   "metadata": {},
   "outputs": [],
   "source": [
    "# 데이터 프레임 생성과 동시에 컬럼명 지정\n",
    "qtyDf = pd.DataFrame(qtyList, columns = [\"qty2\"])"
   ]
  },
  {
   "cell_type": "code",
   "execution_count": null,
   "id": "5ea9af44-fdf9-4937-ab42-3813b4236fb9",
   "metadata": {},
   "outputs": [],
   "source": []
  },
  {
   "cell_type": "markdown",
   "id": "9d939130-ee78-4612-8efc-8cd29098155b",
   "metadata": {},
   "source": [
    "### zip 활용 : 좌우로 병합"
   ]
  },
  {
   "cell_type": "code",
   "execution_count": 8,
   "id": "2a58ed47-ba79-425f-b306-22545cbb7764",
   "metadata": {},
   "outputs": [],
   "source": [
    "yearweekList = [202001, 202002, 202003, 202004, 202005]\n",
    "qtyList = [10, 15, 20, 13, 22]"
   ]
  },
  {
   "cell_type": "code",
   "execution_count": 9,
   "id": "78009418-f5c8-4c93-ac64-48ad3cfb4536",
   "metadata": {},
   "outputs": [
    {
     "data": {
      "text/html": [
       "<div>\n",
       "<style scoped>\n",
       "    .dataframe tbody tr th:only-of-type {\n",
       "        vertical-align: middle;\n",
       "    }\n",
       "\n",
       "    .dataframe tbody tr th {\n",
       "        vertical-align: top;\n",
       "    }\n",
       "\n",
       "    .dataframe thead th {\n",
       "        text-align: right;\n",
       "    }\n",
       "</style>\n",
       "<table border=\"1\" class=\"dataframe\">\n",
       "  <thead>\n",
       "    <tr style=\"text-align: right;\">\n",
       "      <th></th>\n",
       "      <th>0</th>\n",
       "      <th>1</th>\n",
       "    </tr>\n",
       "  </thead>\n",
       "  <tbody>\n",
       "    <tr>\n",
       "      <th>0</th>\n",
       "      <td>202001</td>\n",
       "      <td>10</td>\n",
       "    </tr>\n",
       "    <tr>\n",
       "      <th>1</th>\n",
       "      <td>202002</td>\n",
       "      <td>15</td>\n",
       "    </tr>\n",
       "    <tr>\n",
       "      <th>2</th>\n",
       "      <td>202003</td>\n",
       "      <td>20</td>\n",
       "    </tr>\n",
       "    <tr>\n",
       "      <th>3</th>\n",
       "      <td>202004</td>\n",
       "      <td>13</td>\n",
       "    </tr>\n",
       "    <tr>\n",
       "      <th>4</th>\n",
       "      <td>202005</td>\n",
       "      <td>22</td>\n",
       "    </tr>\n",
       "  </tbody>\n",
       "</table>\n",
       "</div>"
      ],
      "text/plain": [
       "        0   1\n",
       "0  202001  10\n",
       "1  202002  15\n",
       "2  202003  20\n",
       "3  202004  13\n",
       "4  202005  22"
      ]
     },
     "execution_count": 9,
     "metadata": {},
     "output_type": "execute_result"
    }
   ],
   "source": [
    "# zip이라는 함수로 두 리스트를 좌우로 묶어서 데이터 프레임 생성\n",
    "# 각 연주차별로 qty를 볼 수 있다\n",
    "pd.DataFrame( zip(yearweekList, qtyList) )"
   ]
  },
  {
   "cell_type": "code",
   "execution_count": 10,
   "id": "97da9421-fa16-47c1-b375-7e919d504e36",
   "metadata": {},
   "outputs": [
    {
     "data": {
      "text/html": [
       "<div>\n",
       "<style scoped>\n",
       "    .dataframe tbody tr th:only-of-type {\n",
       "        vertical-align: middle;\n",
       "    }\n",
       "\n",
       "    .dataframe tbody tr th {\n",
       "        vertical-align: top;\n",
       "    }\n",
       "\n",
       "    .dataframe thead th {\n",
       "        text-align: right;\n",
       "    }\n",
       "</style>\n",
       "<table border=\"1\" class=\"dataframe\">\n",
       "  <thead>\n",
       "    <tr style=\"text-align: right;\">\n",
       "      <th></th>\n",
       "      <th>yearweek</th>\n",
       "      <th>qty</th>\n",
       "    </tr>\n",
       "  </thead>\n",
       "  <tbody>\n",
       "    <tr>\n",
       "      <th>0</th>\n",
       "      <td>202001</td>\n",
       "      <td>10</td>\n",
       "    </tr>\n",
       "    <tr>\n",
       "      <th>1</th>\n",
       "      <td>202002</td>\n",
       "      <td>15</td>\n",
       "    </tr>\n",
       "    <tr>\n",
       "      <th>2</th>\n",
       "      <td>202003</td>\n",
       "      <td>20</td>\n",
       "    </tr>\n",
       "    <tr>\n",
       "      <th>3</th>\n",
       "      <td>202004</td>\n",
       "      <td>13</td>\n",
       "    </tr>\n",
       "    <tr>\n",
       "      <th>4</th>\n",
       "      <td>202005</td>\n",
       "      <td>22</td>\n",
       "    </tr>\n",
       "  </tbody>\n",
       "</table>\n",
       "</div>"
      ],
      "text/plain": [
       "   yearweek  qty\n",
       "0    202001   10\n",
       "1    202002   15\n",
       "2    202003   20\n",
       "3    202004   13\n",
       "4    202005   22"
      ]
     },
     "execution_count": 10,
     "metadata": {},
     "output_type": "execute_result"
    }
   ],
   "source": [
    "# 데이터 프레임 생성과 동시에 컬럼명 지정 가능\n",
    "pd.DataFrame( zip(yearweekList, qtyList),\n",
    "             columns = [\"yearweek\", \"qty\"])"
   ]
  },
  {
   "cell_type": "code",
   "execution_count": null,
   "id": "5a53609c-3e62-4c20-84fb-0abb5b9e7996",
   "metadata": {},
   "outputs": [],
   "source": []
  },
  {
   "cell_type": "markdown",
   "id": "e886cb12-957f-4155-a18c-4f019a6f9c0b",
   "metadata": {},
   "source": [
    "### concat 활용 : 좌우로 병합"
   ]
  },
  {
   "cell_type": "code",
   "execution_count": 11,
   "id": "41e7591e-bc73-452e-b5d8-43945e41ae4f",
   "metadata": {},
   "outputs": [],
   "source": [
    "yearweekList = [202001, 202002, 202003, 202004, 202005]\n",
    "qtyList = [10, 15, 20, 13, 22]"
   ]
  },
  {
   "cell_type": "code",
   "execution_count": 12,
   "id": "93836095-911f-4769-a930-ca9d7b41422e",
   "metadata": {},
   "outputs": [],
   "source": [
    "# 각각 데이터 프레임 생성\n",
    "yearweekDf = pd.DataFrame(yearweekList)\n",
    "qtyDf = pd.DataFrame(qtyList)"
   ]
  },
  {
   "cell_type": "code",
   "execution_count": 13,
   "id": "3f006d90-44f8-4d56-818c-68fef2e72c16",
   "metadata": {},
   "outputs": [
    {
     "data": {
      "text/html": [
       "<div>\n",
       "<style scoped>\n",
       "    .dataframe tbody tr th:only-of-type {\n",
       "        vertical-align: middle;\n",
       "    }\n",
       "\n",
       "    .dataframe tbody tr th {\n",
       "        vertical-align: top;\n",
       "    }\n",
       "\n",
       "    .dataframe thead th {\n",
       "        text-align: right;\n",
       "    }\n",
       "</style>\n",
       "<table border=\"1\" class=\"dataframe\">\n",
       "  <thead>\n",
       "    <tr style=\"text-align: right;\">\n",
       "      <th></th>\n",
       "      <th>0</th>\n",
       "      <th>0</th>\n",
       "    </tr>\n",
       "  </thead>\n",
       "  <tbody>\n",
       "    <tr>\n",
       "      <th>0</th>\n",
       "      <td>202001</td>\n",
       "      <td>10</td>\n",
       "    </tr>\n",
       "    <tr>\n",
       "      <th>1</th>\n",
       "      <td>202002</td>\n",
       "      <td>15</td>\n",
       "    </tr>\n",
       "    <tr>\n",
       "      <th>2</th>\n",
       "      <td>202003</td>\n",
       "      <td>20</td>\n",
       "    </tr>\n",
       "    <tr>\n",
       "      <th>3</th>\n",
       "      <td>202004</td>\n",
       "      <td>13</td>\n",
       "    </tr>\n",
       "    <tr>\n",
       "      <th>4</th>\n",
       "      <td>202005</td>\n",
       "      <td>22</td>\n",
       "    </tr>\n",
       "  </tbody>\n",
       "</table>\n",
       "</div>"
      ],
      "text/plain": [
       "        0   0\n",
       "0  202001  10\n",
       "1  202002  15\n",
       "2  202003  20\n",
       "3  202004  13\n",
       "4  202005  22"
      ]
     },
     "execution_count": 13,
     "metadata": {},
     "output_type": "execute_result"
    }
   ],
   "source": [
    "# yearweekDf와 qtyDf를 엮겠다 \n",
    "# axis = 1 (x축, 좌우) / axis = 0 (y축, 상하)\n",
    "pd.concat([yearweekDf, qtyDf], axis = 1)"
   ]
  },
  {
   "cell_type": "code",
   "execution_count": 14,
   "id": "c47d7fd6-3dfe-4ed9-85fc-252da662074b",
   "metadata": {},
   "outputs": [],
   "source": [
    "# 이름 붙여주고, 컬럼명 생성\n",
    "mergedDf = pd.concat([yearweekDf, qtyDf], axis = 1)\n",
    "mergedDf.columns = [\"yearweek\", \"qty\"]"
   ]
  },
  {
   "cell_type": "code",
   "execution_count": 15,
   "id": "a7dd78b3-86a5-4f38-b100-2887aae4123d",
   "metadata": {},
   "outputs": [
    {
     "data": {
      "text/html": [
       "<div>\n",
       "<style scoped>\n",
       "    .dataframe tbody tr th:only-of-type {\n",
       "        vertical-align: middle;\n",
       "    }\n",
       "\n",
       "    .dataframe tbody tr th {\n",
       "        vertical-align: top;\n",
       "    }\n",
       "\n",
       "    .dataframe thead th {\n",
       "        text-align: right;\n",
       "    }\n",
       "</style>\n",
       "<table border=\"1\" class=\"dataframe\">\n",
       "  <thead>\n",
       "    <tr style=\"text-align: right;\">\n",
       "      <th></th>\n",
       "      <th>yearweek</th>\n",
       "      <th>qty</th>\n",
       "    </tr>\n",
       "  </thead>\n",
       "  <tbody>\n",
       "    <tr>\n",
       "      <th>0</th>\n",
       "      <td>202001</td>\n",
       "      <td>10</td>\n",
       "    </tr>\n",
       "    <tr>\n",
       "      <th>1</th>\n",
       "      <td>202002</td>\n",
       "      <td>15</td>\n",
       "    </tr>\n",
       "    <tr>\n",
       "      <th>2</th>\n",
       "      <td>202003</td>\n",
       "      <td>20</td>\n",
       "    </tr>\n",
       "    <tr>\n",
       "      <th>3</th>\n",
       "      <td>202004</td>\n",
       "      <td>13</td>\n",
       "    </tr>\n",
       "    <tr>\n",
       "      <th>4</th>\n",
       "      <td>202005</td>\n",
       "      <td>22</td>\n",
       "    </tr>\n",
       "  </tbody>\n",
       "</table>\n",
       "</div>"
      ],
      "text/plain": [
       "   yearweek  qty\n",
       "0    202001   10\n",
       "1    202002   15\n",
       "2    202003   20\n",
       "3    202004   13\n",
       "4    202005   22"
      ]
     },
     "execution_count": 15,
     "metadata": {},
     "output_type": "execute_result"
    }
   ],
   "source": [
    "mergedDf"
   ]
  },
  {
   "cell_type": "code",
   "execution_count": null,
   "id": "dc6165b8-0c3b-42d1-9ebf-ac5f0d1a3593",
   "metadata": {},
   "outputs": [],
   "source": []
  },
  {
   "cell_type": "markdown",
   "id": "604e4775-666f-4300-97f7-f2f82102307b",
   "metadata": {},
   "source": [
    "### Row 단위 병합"
   ]
  },
  {
   "cell_type": "code",
   "execution_count": null,
   "id": "0d32e93a-6906-48d6-b727-8d98daa9af6e",
   "metadata": {},
   "outputs": [],
   "source": [
    "# 크롤링 할 때 위에서 아래로 하나씩 담을 수도 있지만,\n",
    "# 하나의 행씩 담는 것도 가능하다"
   ]
  },
  {
   "cell_type": "code",
   "execution_count": 16,
   "id": "ce3fef7d-c7ab-447c-b5ec-afd870a9593f",
   "metadata": {},
   "outputs": [],
   "source": [
    "firstRow = [202001, 10]\n",
    "secondRow = [202002, 15]"
   ]
  },
  {
   "cell_type": "code",
   "execution_count": 17,
   "id": "66d83a8a-066d-48fe-b118-73adf2f9940e",
   "metadata": {},
   "outputs": [
    {
     "data": {
      "text/html": [
       "<div>\n",
       "<style scoped>\n",
       "    .dataframe tbody tr th:only-of-type {\n",
       "        vertical-align: middle;\n",
       "    }\n",
       "\n",
       "    .dataframe tbody tr th {\n",
       "        vertical-align: top;\n",
       "    }\n",
       "\n",
       "    .dataframe thead th {\n",
       "        text-align: right;\n",
       "    }\n",
       "</style>\n",
       "<table border=\"1\" class=\"dataframe\">\n",
       "  <thead>\n",
       "    <tr style=\"text-align: right;\">\n",
       "      <th></th>\n",
       "      <th>0</th>\n",
       "      <th>1</th>\n",
       "    </tr>\n",
       "  </thead>\n",
       "  <tbody>\n",
       "    <tr>\n",
       "      <th>0</th>\n",
       "      <td>202001</td>\n",
       "      <td>10</td>\n",
       "    </tr>\n",
       "    <tr>\n",
       "      <th>1</th>\n",
       "      <td>202002</td>\n",
       "      <td>15</td>\n",
       "    </tr>\n",
       "  </tbody>\n",
       "</table>\n",
       "</div>"
      ],
      "text/plain": [
       "        0   1\n",
       "0  202001  10\n",
       "1  202002  15"
      ]
     },
     "execution_count": 17,
     "metadata": {},
     "output_type": "execute_result"
    }
   ],
   "source": [
    "# 각각의 리스트를 한 리스트에 넣고\n",
    "# DataFrame으로 캐스팅을 해주면, 하나의 행씩 만들 수 있다 \n",
    "totalRow = pd.DataFrame (  [ firstRow, secondRow ] )\n",
    "totalRow"
   ]
  },
  {
   "cell_type": "code",
   "execution_count": null,
   "id": "e806ce94-e639-42ab-8460-82479debf1bb",
   "metadata": {},
   "outputs": [],
   "source": []
  },
  {
   "cell_type": "markdown",
   "id": "ca06dcb3-b8f2-4729-8bd0-07332e336fb4",
   "metadata": {},
   "source": [
    "### 딕셔너리를 활용한 데이터프레임 생성"
   ]
  },
  {
   "cell_type": "code",
   "execution_count": null,
   "id": "614524ba-2af1-4a1e-b60c-50daeb06787d",
   "metadata": {},
   "outputs": [],
   "source": [
    "# 딕셔너리의 key가 column, value가 값을 의미한다고 생각"
   ]
  },
  {
   "cell_type": "code",
   "execution_count": 18,
   "id": "3337d245-d2fc-4123-8f24-7d357911f273",
   "metadata": {},
   "outputs": [],
   "source": [
    "testDict = { \"yearweek\" : [202001, 202002, 202003],\n",
    "             \"qty\" : [10, 15, 20] }"
   ]
  },
  {
   "cell_type": "code",
   "execution_count": 19,
   "id": "e76a3599-e8af-4b30-858d-702ccbdc0ed7",
   "metadata": {},
   "outputs": [
    {
     "data": {
      "text/html": [
       "<div>\n",
       "<style scoped>\n",
       "    .dataframe tbody tr th:only-of-type {\n",
       "        vertical-align: middle;\n",
       "    }\n",
       "\n",
       "    .dataframe tbody tr th {\n",
       "        vertical-align: top;\n",
       "    }\n",
       "\n",
       "    .dataframe thead th {\n",
       "        text-align: right;\n",
       "    }\n",
       "</style>\n",
       "<table border=\"1\" class=\"dataframe\">\n",
       "  <thead>\n",
       "    <tr style=\"text-align: right;\">\n",
       "      <th></th>\n",
       "      <th>yearweek</th>\n",
       "      <th>qty</th>\n",
       "    </tr>\n",
       "  </thead>\n",
       "  <tbody>\n",
       "    <tr>\n",
       "      <th>0</th>\n",
       "      <td>202001</td>\n",
       "      <td>10</td>\n",
       "    </tr>\n",
       "    <tr>\n",
       "      <th>1</th>\n",
       "      <td>202002</td>\n",
       "      <td>15</td>\n",
       "    </tr>\n",
       "    <tr>\n",
       "      <th>2</th>\n",
       "      <td>202003</td>\n",
       "      <td>20</td>\n",
       "    </tr>\n",
       "  </tbody>\n",
       "</table>\n",
       "</div>"
      ],
      "text/plain": [
       "   yearweek  qty\n",
       "0    202001   10\n",
       "1    202002   15\n",
       "2    202003   20"
      ]
     },
     "execution_count": 19,
     "metadata": {},
     "output_type": "execute_result"
    }
   ],
   "source": [
    "pd.DataFrame(testDict)"
   ]
  },
  {
   "cell_type": "code",
   "execution_count": 20,
   "id": "53356158-3171-4b6a-abd8-b805fdd2f507",
   "metadata": {},
   "outputs": [
    {
     "data": {
      "text/html": [
       "<div>\n",
       "<style scoped>\n",
       "    .dataframe tbody tr th:only-of-type {\n",
       "        vertical-align: middle;\n",
       "    }\n",
       "\n",
       "    .dataframe tbody tr th {\n",
       "        vertical-align: top;\n",
       "    }\n",
       "\n",
       "    .dataframe thead th {\n",
       "        text-align: right;\n",
       "    }\n",
       "</style>\n",
       "<table border=\"1\" class=\"dataframe\">\n",
       "  <thead>\n",
       "    <tr style=\"text-align: right;\">\n",
       "      <th></th>\n",
       "      <th>yearweek</th>\n",
       "      <th>qty</th>\n",
       "    </tr>\n",
       "  </thead>\n",
       "  <tbody>\n",
       "    <tr>\n",
       "      <th>0</th>\n",
       "      <td>202001</td>\n",
       "      <td>10</td>\n",
       "    </tr>\n",
       "    <tr>\n",
       "      <th>1</th>\n",
       "      <td>202002</td>\n",
       "      <td>15</td>\n",
       "    </tr>\n",
       "    <tr>\n",
       "      <th>2</th>\n",
       "      <td>202003</td>\n",
       "      <td>20</td>\n",
       "    </tr>\n",
       "  </tbody>\n",
       "</table>\n",
       "</div>"
      ],
      "text/plain": [
       "   yearweek  qty\n",
       "0    202001   10\n",
       "1    202002   15\n",
       "2    202003   20"
      ]
     },
     "execution_count": 20,
     "metadata": {},
     "output_type": "execute_result"
    }
   ],
   "source": [
    "testDf = pd.DataFrame(testDict)\n",
    "testDf"
   ]
  },
  {
   "cell_type": "code",
   "execution_count": null,
   "id": "0b432914-b229-41f3-b821-7e5b3ddc3618",
   "metadata": {},
   "outputs": [],
   "source": []
  },
  {
   "cell_type": "markdown",
   "id": "86563144-a2a9-4e61-a207-58d1acf6b7ea",
   "metadata": {},
   "source": [
    "### .to_csv()"
   ]
  },
  {
   "cell_type": "code",
   "execution_count": null,
   "id": "058fce3a-a1fa-45f9-92d0-6e0ff575c1a4",
   "metadata": {},
   "outputs": [],
   "source": []
  },
  {
   "cell_type": "code",
   "execution_count": 21,
   "id": "5dab82db-8dbc-46e2-bc74-1b3cac5c72fd",
   "metadata": {
    "tags": []
   },
   "outputs": [
    {
     "data": {
      "text/html": [
       "<div>\n",
       "<style scoped>\n",
       "    .dataframe tbody tr th:only-of-type {\n",
       "        vertical-align: middle;\n",
       "    }\n",
       "\n",
       "    .dataframe tbody tr th {\n",
       "        vertical-align: top;\n",
       "    }\n",
       "\n",
       "    .dataframe thead th {\n",
       "        text-align: right;\n",
       "    }\n",
       "</style>\n",
       "<table border=\"1\" class=\"dataframe\">\n",
       "  <thead>\n",
       "    <tr style=\"text-align: right;\">\n",
       "      <th></th>\n",
       "      <th>yearweek</th>\n",
       "      <th>qty</th>\n",
       "    </tr>\n",
       "  </thead>\n",
       "  <tbody>\n",
       "    <tr>\n",
       "      <th>0</th>\n",
       "      <td>202001</td>\n",
       "      <td>10</td>\n",
       "    </tr>\n",
       "    <tr>\n",
       "      <th>1</th>\n",
       "      <td>202002</td>\n",
       "      <td>15</td>\n",
       "    </tr>\n",
       "    <tr>\n",
       "      <th>2</th>\n",
       "      <td>202003</td>\n",
       "      <td>20</td>\n",
       "    </tr>\n",
       "  </tbody>\n",
       "</table>\n",
       "</div>"
      ],
      "text/plain": [
       "   yearweek  qty\n",
       "0    202001   10\n",
       "1    202002   15\n",
       "2    202003   20"
      ]
     },
     "execution_count": 21,
     "metadata": {},
     "output_type": "execute_result"
    }
   ],
   "source": [
    "testDf = pd.DataFrame(testDict)\n",
    "testDf"
   ]
  },
  {
   "cell_type": "code",
   "execution_count": 22,
   "id": "f17583da-19ab-44cc-8ae8-d14d42e42052",
   "metadata": {},
   "outputs": [],
   "source": [
    "# 현재 폴더에 testdf.csv로 저장해라\n",
    "# index = False를 붙여주면 깔끔하게 값만 추출할 수 있다\n",
    "testDf.to_csv(\"./testdf.csv\", index = False)"
   ]
  },
  {
   "cell_type": "code",
   "execution_count": null,
   "id": "22455ba5-486b-4851-bd9b-d03115329182",
   "metadata": {},
   "outputs": [],
   "source": []
  },
  {
   "cell_type": "markdown",
   "id": "a8c3834b-9809-415e-801b-94c08603b6a4",
   "metadata": {},
   "source": [
    "### 컬럼명 변경 시 rename 활용"
   ]
  },
  {
   "cell_type": "code",
   "execution_count": 23,
   "id": "a0e4fdfc-f323-4769-80be-8f578106d562",
   "metadata": {},
   "outputs": [],
   "source": [
    "testDict = { \"yearweek\" : [202001, 202002, 202003],\n",
    "             \"qty\" : [10, 15, 20] }"
   ]
  },
  {
   "cell_type": "code",
   "execution_count": 24,
   "id": "50792ca3-bddd-428f-9b91-0918a5ee8184",
   "metadata": {},
   "outputs": [
    {
     "data": {
      "text/html": [
       "<div>\n",
       "<style scoped>\n",
       "    .dataframe tbody tr th:only-of-type {\n",
       "        vertical-align: middle;\n",
       "    }\n",
       "\n",
       "    .dataframe tbody tr th {\n",
       "        vertical-align: top;\n",
       "    }\n",
       "\n",
       "    .dataframe thead th {\n",
       "        text-align: right;\n",
       "    }\n",
       "</style>\n",
       "<table border=\"1\" class=\"dataframe\">\n",
       "  <thead>\n",
       "    <tr style=\"text-align: right;\">\n",
       "      <th></th>\n",
       "      <th>yearweek</th>\n",
       "      <th>qty</th>\n",
       "    </tr>\n",
       "  </thead>\n",
       "  <tbody>\n",
       "    <tr>\n",
       "      <th>0</th>\n",
       "      <td>202001</td>\n",
       "      <td>10</td>\n",
       "    </tr>\n",
       "    <tr>\n",
       "      <th>1</th>\n",
       "      <td>202002</td>\n",
       "      <td>15</td>\n",
       "    </tr>\n",
       "    <tr>\n",
       "      <th>2</th>\n",
       "      <td>202003</td>\n",
       "      <td>20</td>\n",
       "    </tr>\n",
       "  </tbody>\n",
       "</table>\n",
       "</div>"
      ],
      "text/plain": [
       "   yearweek  qty\n",
       "0    202001   10\n",
       "1    202002   15\n",
       "2    202003   20"
      ]
     },
     "execution_count": 24,
     "metadata": {},
     "output_type": "execute_result"
    }
   ],
   "source": [
    "testDf = pd.DataFrame(testDict)\n",
    "testDf"
   ]
  },
  {
   "cell_type": "code",
   "execution_count": 25,
   "id": "096e4f81-03cd-4714-8a82-bc25e0c71bfb",
   "metadata": {},
   "outputs": [
    {
     "data": {
      "text/html": [
       "<div>\n",
       "<style scoped>\n",
       "    .dataframe tbody tr th:only-of-type {\n",
       "        vertical-align: middle;\n",
       "    }\n",
       "\n",
       "    .dataframe tbody tr th {\n",
       "        vertical-align: top;\n",
       "    }\n",
       "\n",
       "    .dataframe thead th {\n",
       "        text-align: right;\n",
       "    }\n",
       "</style>\n",
       "<table border=\"1\" class=\"dataframe\">\n",
       "  <thead>\n",
       "    <tr style=\"text-align: right;\">\n",
       "      <th></th>\n",
       "      <th>yw</th>\n",
       "      <th>volume</th>\n",
       "    </tr>\n",
       "  </thead>\n",
       "  <tbody>\n",
       "    <tr>\n",
       "      <th>0</th>\n",
       "      <td>202001</td>\n",
       "      <td>10</td>\n",
       "    </tr>\n",
       "    <tr>\n",
       "      <th>1</th>\n",
       "      <td>202002</td>\n",
       "      <td>15</td>\n",
       "    </tr>\n",
       "    <tr>\n",
       "      <th>2</th>\n",
       "      <td>202003</td>\n",
       "      <td>20</td>\n",
       "    </tr>\n",
       "  </tbody>\n",
       "</table>\n",
       "</div>"
      ],
      "text/plain": [
       "       yw  volume\n",
       "0  202001      10\n",
       "1  202002      15\n",
       "2  202003      20"
      ]
     },
     "execution_count": 25,
     "metadata": {},
     "output_type": "execute_result"
    }
   ],
   "source": [
    "testDf.rename(columns = { \"yearweek\" : \"yw\",\n",
    "                        \"qty\" : \"volume\" } )"
   ]
  }
 ],
 "metadata": {
  "kernelspec": {
   "display_name": "Python 3 (ipykernel)",
   "language": "python",
   "name": "python3"
  },
  "language_info": {
   "codemirror_mode": {
    "name": "ipython",
    "version": 3
   },
   "file_extension": ".py",
   "mimetype": "text/x-python",
   "name": "python",
   "nbconvert_exporter": "python",
   "pygments_lexer": "ipython3",
   "version": "3.9.13"
  }
 },
 "nbformat": 4,
 "nbformat_minor": 5
}
