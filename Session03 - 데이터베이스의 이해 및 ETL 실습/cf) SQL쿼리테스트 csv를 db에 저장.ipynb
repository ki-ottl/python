{
 "cells": [
  {
   "cell_type": "markdown",
   "id": "30fba6a4-4b41-4e30-8cc5-666d0b6f7bfc",
   "metadata": {},
   "source": [
    "# SQL쿼리테스트 csv를 DB에 저장"
   ]
  },
  {
   "cell_type": "code",
   "execution_count": null,
   "id": "b785fc02-50c7-40e8-884c-fc39a67fcbb0",
   "metadata": {},
   "outputs": [],
   "source": []
  },
  {
   "cell_type": "code",
   "execution_count": 1,
   "id": "559d2dd5-7230-4a19-8618-2ce7a2ec29f4",
   "metadata": {},
   "outputs": [],
   "source": [
    "import pandas as pd\n",
    "from sqlalchemy import create_engine,types\n",
    "id = \"scott\"\n",
    "pw = \"tiger\"\n",
    "ip = \"127.0.0.1\"\n",
    "port = \"1521\"\n",
    "dbName = \"str\"\n",
    "\n",
    "engine = create_engine('oracle+cx_oracle://{}:{}@{}:{}/{}'.format(id,pw,ip,port,dbName)  ) "
   ]
  },
  {
   "cell_type": "code",
   "execution_count": 2,
   "id": "b2c3072a-6c00-45b4-bcee-b6eaf8c6abb2",
   "metadata": {},
   "outputs": [],
   "source": [
    "sawonData = pd.read_csv(\"../../Downloads/사원.csv\", encoding = \"ms949\")"
   ]
  },
  {
   "cell_type": "code",
   "execution_count": 3,
   "id": "6a2601d2-f35f-4e5a-8afd-b810702cd167",
   "metadata": {
    "tags": []
   },
   "outputs": [],
   "source": [
    "boosuData = pd.read_csv(\"../../Downloads/부서.csv\", encoding = \"ms949\")"
   ]
  },
  {
   "cell_type": "code",
   "execution_count": 4,
   "id": "7c6ddce0-4521-4189-93eb-20ecd12014df",
   "metadata": {},
   "outputs": [],
   "source": [
    "gunmooData = pd.read_csv(\"../../Downloads/근무지.csv\", encoding = \"ms949\")"
   ]
  },
  {
   "cell_type": "code",
   "execution_count": 5,
   "id": "0e20d3f7-247f-490b-962e-51a3be70d8e1",
   "metadata": {},
   "outputs": [],
   "source": [
    "jikgupData = pd.read_csv(\"../../Downloads/직급.csv\", encoding = \"ms949\")"
   ]
  },
  {
   "cell_type": "code",
   "execution_count": null,
   "id": "209a5cf7-6dd4-4e7b-8fe4-3f88390fd4f9",
   "metadata": {},
   "outputs": [],
   "source": []
  },
  {
   "cell_type": "code",
   "execution_count": null,
   "id": "be11d1c4-ddf2-44f5-a425-7500cf44811d",
   "metadata": {},
   "outputs": [],
   "source": [
    "tableName = \"SAWON_TEST\"\n",
    "\n",
    "#### 문자컬럼에 대해서 varchar (100) 적용 _ 사용시 속도 SpeedUp 50배 \n",
    "objectColumns = list(sawonData.columns[sawonData.dtypes == 'object'])\n",
    "typeDict={}\n",
    "maxLen = 100\n",
    "\n",
    "for i in range(0, len(objectColumns)):\n",
    "    # sawonData[i].str.len().max() 최대치 사용할 경우\n",
    "    typeDict[ objectColumns[i] ] = types.VARCHAR(100)\n",
    "#### 문자컬럼에 대해서 varchar (100) 적용 _ 사용시 속도 SpeedUp 50배 \n",
    "\n",
    "sawonData.to_sql(name=tableName, if_exists=\"replace\", con=engine,dtype=typeDict, index=False)"
   ]
  },
  {
   "cell_type": "code",
   "execution_count": null,
   "id": "449dbdd0-2594-4647-90b6-a6d5f1fc1fdd",
   "metadata": {},
   "outputs": [],
   "source": [
    "tableName = \"BUSEO_TEST\"\n",
    "\n",
    "#### 문자컬럼에 대해서 varchar (100) 적용 _ 사용시 속도 SpeedUp 50배 \n",
    "objectColumns = list(boosuData.columns[boosuData.dtypes == 'object'])\n",
    "typeDict={}\n",
    "maxLen = 100\n",
    "\n",
    "for i in range(0, len(objectColumns)):\n",
    "    # sawonData[i].str.len().max() 최대치 사용할 경우\n",
    "    typeDict[ objectColumns[i] ] = types.VARCHAR(100)\n",
    "#### 문자컬럼에 대해서 varchar (100) 적용 _ 사용시 속도 SpeedUp 50배 \n",
    "\n",
    "boosuData.to_sql(name=tableName, if_exists=\"replace\", con=engine,dtype=typeDict, index=False)"
   ]
  },
  {
   "cell_type": "code",
   "execution_count": null,
   "id": "ab3705ac-1bae-46fb-b96f-5d31f5dcfa37",
   "metadata": {},
   "outputs": [],
   "source": [
    "tableName = \"KNMUJI_TEST\"\n",
    "\n",
    "#### 문자컬럼에 대해서 varchar (100) 적용 _ 사용시 속도 SpeedUp 50배 \n",
    "objectColumns = list(gunmooData.columns[gunmooData.dtypes == 'object'])\n",
    "typeDict={}\n",
    "maxLen = 100\n",
    "\n",
    "for i in range(0, len(objectColumns)):\n",
    "    # sawonData[i].str.len().max() 최대치 사용할 경우\n",
    "    typeDict[ objectColumns[i] ] = types.VARCHAR(100)\n",
    "#### 문자컬럼에 대해서 varchar (100) 적용 _ 사용시 속도 SpeedUp 50배 \n",
    "\n",
    "gunmooData.to_sql(name=tableName, if_exists=\"replace\", con=engine,dtype=typeDict, index=False)"
   ]
  },
  {
   "cell_type": "code",
   "execution_count": null,
   "id": "341bcd0e-7ad0-428c-9355-101fa90e71b9",
   "metadata": {},
   "outputs": [],
   "source": [
    "tableName = \"JIKGB_TEST\"\n",
    "\n",
    "#### 문자컬럼에 대해서 varchar (100) 적용 _ 사용시 속도 SpeedUp 50배 \n",
    "objectColumns = list(jikgupData.columns[jikgupData.dtypes == 'object'])\n",
    "typeDict={}\n",
    "maxLen = 100\n",
    "\n",
    "for i in range(0, len(objectColumns)):\n",
    "    # sawonData[i].str.len().max() 최대치 사용할 경우\n",
    "    typeDict[ objectColumns[i] ] = types.VARCHAR(100)\n",
    "#### 문자컬럼에 대해서 varchar (100) 적용 _ 사용시 속도 SpeedUp 50배 \n",
    "\n",
    "jikgupData.to_sql(name=tableName, if_exists=\"replace\", con=engine,dtype=typeDict, index=False)"
   ]
  }
 ],
 "metadata": {
  "kernelspec": {
   "display_name": "Python 3 (ipykernel)",
   "language": "python",
   "name": "python3"
  },
  "language_info": {
   "codemirror_mode": {
    "name": "ipython",
    "version": 3
   },
   "file_extension": ".py",
   "mimetype": "text/x-python",
   "name": "python",
   "nbconvert_exporter": "python",
   "pygments_lexer": "ipython3",
   "version": "3.10.9"
  }
 },
 "nbformat": 4,
 "nbformat_minor": 5
}
