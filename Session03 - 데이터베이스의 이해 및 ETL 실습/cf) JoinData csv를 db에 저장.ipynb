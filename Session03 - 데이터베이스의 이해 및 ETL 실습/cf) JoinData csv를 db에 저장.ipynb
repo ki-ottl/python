{
 "cells": [
  {
   "cell_type": "markdown",
   "id": "fae23d44-1de9-407e-a170-b938ac4c67f8",
   "metadata": {},
   "source": [
    "# JoinData csv를 db에 저장"
   ]
  },
  {
   "cell_type": "code",
   "execution_count": 2,
   "id": "960ec903-d578-4367-b6d6-cc6cd69afc06",
   "metadata": {},
   "outputs": [],
   "source": [
    "import pandas as pd\n",
    "from sqlalchemy import create_engine,types\n",
    "id = \"scott\"\n",
    "pw = \"tiger\"\n",
    "ip = \"127.0.0.1\"\n",
    "port = \"1521\"\n",
    "dbName = \"str\"\n",
    "\n",
    "engine = create_engine('oracle+cx_oracle://{}:{}@{}:{}/{}'.format(id,pw,ip,port,dbName)  ) "
   ]
  },
  {
   "cell_type": "code",
   "execution_count": 5,
   "id": "c0376f8f-6707-4b30-9eb5-00f938b669eb",
   "metadata": {},
   "outputs": [],
   "source": [
    "joindata1 = pd.read_csv(\"../../Downloads/joindata1.csv\")"
   ]
  },
  {
   "cell_type": "code",
   "execution_count": 8,
   "id": "5c94966c-7da3-4ed4-9d53-fe90d3d63a70",
   "metadata": {},
   "outputs": [],
   "source": [
    "joindata2 = pd.read_csv(\"../../Downloads/joindata2.csv\", encoding = \"ms949\")"
   ]
  },
  {
   "cell_type": "code",
   "execution_count": null,
   "id": "10862f7d-af07-44e4-9178-9c4d0b3b34be",
   "metadata": {},
   "outputs": [],
   "source": []
  },
  {
   "cell_type": "code",
   "execution_count": 9,
   "id": "d889102a-15e9-4ebe-adab-022c6e661c48",
   "metadata": {},
   "outputs": [
    {
     "data": {
      "text/plain": [
       "10"
      ]
     },
     "execution_count": 9,
     "metadata": {},
     "output_type": "execute_result"
    }
   ],
   "source": [
    "tableName = \"joindata1\"\n",
    "\n",
    "#### 문자컬럼에 대해서 varchar (100) 적용 _ 사용시 속도 SpeedUp 50배 \n",
    "objectColumns = list(joindata1.columns[joindata1.dtypes == 'object'])\n",
    "typeDict={}\n",
    "maxLen = 100\n",
    "\n",
    "for i in range(0, len(objectColumns)):\n",
    "    # sawonData[i].str.len().max() 최대치 사용할 경우\n",
    "    typeDict[ objectColumns[i] ] = types.VARCHAR(100)\n",
    "#### 문자컬럼에 대해서 varchar (100) 적용 _ 사용시 속도 SpeedUp 50배 \n",
    "\n",
    "joindata1.to_sql(name=tableName, if_exists=\"replace\", con=engine,dtype=typeDict, index=False)"
   ]
  },
  {
   "cell_type": "code",
   "execution_count": 11,
   "id": "d45ea3e5-cc3f-4f6f-b7a5-3b483087ef72",
   "metadata": {},
   "outputs": [
    {
     "data": {
      "text/plain": [
       "10"
      ]
     },
     "execution_count": 11,
     "metadata": {},
     "output_type": "execute_result"
    }
   ],
   "source": [
    "tableName = \"joindata2\"\n",
    "\n",
    "#### 문자컬럼에 대해서 varchar (100) 적용 _ 사용시 속도 SpeedUp 50배 \n",
    "objectColumns = list(joindata2.columns[joindata2.dtypes == 'object'])\n",
    "typeDict={}\n",
    "maxLen = 100\n",
    "\n",
    "for i in range(0, len(objectColumns)):\n",
    "    # sawonData[i].str.len().max() 최대치 사용할 경우\n",
    "    typeDict[ objectColumns[i] ] = types.VARCHAR(100)\n",
    "#### 문자컬럼에 대해서 varchar (100) 적용 _ 사용시 속도 SpeedUp 50배 \n",
    "\n",
    "joindata2.to_sql(name=tableName, if_exists=\"replace\", con=engine,dtype=typeDict, index=False)"
   ]
  }
 ],
 "metadata": {
  "kernelspec": {
   "display_name": "Python 3 (ipykernel)",
   "language": "python",
   "name": "python3"
  },
  "language_info": {
   "codemirror_mode": {
    "name": "ipython",
    "version": 3
   },
   "file_extension": ".py",
   "mimetype": "text/x-python",
   "name": "python",
   "nbconvert_exporter": "python",
   "pygments_lexer": "ipython3",
   "version": "3.10.9"
  }
 },
 "nbformat": 4,
 "nbformat_minor": 5
}
