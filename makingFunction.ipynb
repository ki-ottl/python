{
 "cells": [
  {
   "cell_type": "markdown",
   "id": "4bc8cf00-c6c8-41de-a74a-7821036dbf07",
   "metadata": {
    "tags": []
   },
   "source": [
    "# 함수"
   ]
  },
  {
   "cell_type": "code",
   "execution_count": null,
   "id": "25212009-5a8d-4d40-a113-4a5b2c4cbe18",
   "metadata": {},
   "outputs": [],
   "source": [
    "# 함수 생성 양식\n",
    "def 함수이름(매개변수):\n",
    "    \"\"\"\n",
    "    함수에 대한 설명\n",
    "    parameter : 매개변수의 type\n",
    "    return : 반환되는 값\n",
    "    \"\"\""
   ]
  },
  {
   "cell_type": "code",
   "execution_count": null,
   "id": "ac8358b6-9351-4416-970e-8b60eda6715e",
   "metadata": {},
   "outputs": [],
   "source": []
  },
  {
   "cell_type": "code",
   "execution_count": 300,
   "id": "26cba24c-d6f4-4912-9b07-30ea36966f1b",
   "metadata": {},
   "outputs": [],
   "source": [
    "testList = [1,5,7,2,6,8,2,5,11]"
   ]
  },
  {
   "cell_type": "code",
   "execution_count": 301,
   "id": "19ac3939-486e-4dfc-93e0-1a264189a143",
   "metadata": {},
   "outputs": [],
   "source": [
    "def minMaxAvg(testList):\n",
    "    \"\"\"\n",
    "    최소최대값을 뺀 평균\n",
    "    parameter : testList = 리스트 (자료형)\n",
    "    return: 리스트에서 리스트내 값에서 최소 최대값을 뺀 평균을 반환한다.\n",
    "    \"\"\"\n",
    "    \n",
    "    # testList = [1,5,7,2,6,8,2,5,11]\n",
    "    minValue = min(testList)\n",
    "    maxValue = max(testList)\n",
    "    print(\"최대값{} 최소값{}\".format(minValue, maxValue) )\n",
    "\n",
    "    testList.remove(minValue)\n",
    "    testList.remove(maxValue)\n",
    "\n",
    "    average = 0 # if문 밖에다가 평균을 담을 변수 선언해주기!\n",
    "    if len(testList) != 0:\n",
    "        average = sum(testList) / len(testList)\n",
    "    else :\n",
    "        pass\n",
    "    \n",
    "    return average"
   ]
  },
  {
   "cell_type": "code",
   "execution_count": 302,
   "id": "c99ff483-42aa-45a5-b90a-67f4110a34f9",
   "metadata": {},
   "outputs": [
    {
     "name": "stdout",
     "output_type": "stream",
     "text": [
      "최대값1 최소값11\n"
     ]
    },
    {
     "data": {
      "text/plain": [
       "5.0"
      ]
     },
     "execution_count": 302,
     "metadata": {},
     "output_type": "execute_result"
    }
   ],
   "source": [
    "minMaxAvg(testList)"
   ]
  },
  {
   "cell_type": "markdown",
   "id": "44b6be9d-ab3b-44b2-9bd9-92b183f4a3da",
   "metadata": {},
   "source": [
    "## 소수점 둘째 자리에서 내림하는 함수"
   ]
  },
  {
   "cell_type": "code",
   "execution_count": null,
   "id": "a29c9d89-e017-4cbb-b4a0-724e4604dce4",
   "metadata": {},
   "outputs": [],
   "source": [
    "# step 1. roundPoint 구해서 입력받은 값에 곱하기\n",
    "# step 2. 곱해준 값을 int로 변환해서 소수점 아래 값 떨구기\n",
    "# step 3. 곱했던 roundPoint만큼 다시 나눠주기"
   ]
  },
  {
   "cell_type": "code",
   "execution_count": 303,
   "id": "408990ec-888b-417d-b32a-b98e82843765",
   "metadata": {},
   "outputs": [],
   "source": [
    "def secondDown(inValue) :\n",
    "    \"\"\"\n",
    "    둘째 자리에서 내림하는 함수\n",
    "    parameter : float\n",
    "    return: 실수의 둘째 자리 뒤의 값을 반환한다.\n",
    "    \"\"\"\n",
    "    # inValue = 10.37829891290\n",
    "    roundPoint = 10**2\n",
    "    step1 = inValue * roundPoint\n",
    "    step2 = int(step1)\n",
    "    step3 = step2 / 10**2\n",
    "    \n",
    "    return step3"
   ]
  },
  {
   "cell_type": "code",
   "execution_count": 304,
   "id": "f8d55c9e-3787-4a41-b4a3-efa9e78b4ec4",
   "metadata": {},
   "outputs": [
    {
     "data": {
      "text/plain": [
       "1000.43"
      ]
     },
     "execution_count": 304,
     "metadata": {},
     "output_type": "execute_result"
    }
   ],
   "source": [
    "secondDown(1000.4343435)"
   ]
  },
  {
   "cell_type": "markdown",
   "id": "8741a555-ca71-4772-9c7e-9524bc4f036b",
   "metadata": {
    "tags": []
   },
   "source": [
    "# 소수점 n번째 자리에서 내림하는 함수"
   ]
  },
  {
   "cell_type": "code",
   "execution_count": 305,
   "id": "ffe30925-4f2d-48b4-92a1-449ad0f18332",
   "metadata": {},
   "outputs": [],
   "source": [
    "# step 1. roundPoint 구해서 입력받은 값에 곱하기\n",
    "# step 2. 곱해준 값을 int로 변환해서 소수점 아래 값 떨구기\n",
    "# step 3. 곱했던 roundPoint만큼 다시 나눠주기"
   ]
  },
  {
   "cell_type": "code",
   "execution_count": 291,
   "id": "0b94309f-1545-4e47-92d7-4ef1942b5464",
   "metadata": {},
   "outputs": [],
   "source": [
    "def down(inValue, inPoint) :\n",
    "    \"\"\"\n",
    "    inPoint 자리에서 내림하는 함수\n",
    "    parameter : inValue(float), inPoint(int)\n",
    "    return: inPoint 자리 뒤의 값들을 지운 값\n",
    "    \"\"\"\n",
    "    roundPoint = 10**inPoint\n",
    "    step1 = inValue * roundPoint\n",
    "    step2 = int(step1)\n",
    "    step3 = step2 / roundPoint\n",
    "    return step3"
   ]
  },
  {
   "cell_type": "code",
   "execution_count": 292,
   "id": "e56d6296-1ece-4321-b0f4-9ac39ab03a81",
   "metadata": {},
   "outputs": [
    {
     "data": {
      "text/plain": [
       "12.1513"
      ]
     },
     "execution_count": 292,
     "metadata": {},
     "output_type": "execute_result"
    }
   ],
   "source": [
    "down (12.1513515, 4)"
   ]
  },
  {
   "cell_type": "markdown",
   "id": "90fd869d-d04d-4200-b394-90469eafc680",
   "metadata": {
    "tags": []
   },
   "source": [
    "### 소수점 n번째 자리에서 내림하는 기본값 설정된 함수"
   ]
  },
  {
   "cell_type": "code",
   "execution_count": 293,
   "id": "50fd5907-7a32-4de5-be22-9a0f9add4176",
   "metadata": {},
   "outputs": [],
   "source": [
    "# step 1. roundPoint가 이미 설정되어있지만 희망하는 값으로 입력\n",
    "# step 2. 곱해준 값을 int로 변환해서 소수점 아래 값 떨구기\n",
    "# step 3. 곱했던 roundPoint만큼 다시 나눠주기"
   ]
  },
  {
   "cell_type": "code",
   "execution_count": 296,
   "id": "40527d3e-ecd8-45b1-9c11-15443e36fcd5",
   "metadata": {},
   "outputs": [],
   "source": [
    "def down(inValue, inPoint=2) :\n",
    "    \"\"\"\n",
    "    inPoint 자리에서 내림하는 함수\n",
    "    parameter : inValue(float), inPoint(int)\n",
    "    return: inPoint 자리 뒤의 값들을 지운다\n",
    "    \"\"\"\n",
    "    roundPoint = 10**inPoint\n",
    "    step1 = inValue * roundPoint\n",
    "    step2 = int(step1)\n",
    "    step3 = step2 / roundPoint\n",
    "    return step3"
   ]
  },
  {
   "cell_type": "code",
   "execution_count": 297,
   "id": "ed3cf3cd-fd5d-42c5-9084-62a7dfd89d8e",
   "metadata": {},
   "outputs": [
    {
     "data": {
      "text/plain": [
       "134853.5641"
      ]
     },
     "execution_count": 297,
     "metadata": {},
     "output_type": "execute_result"
    }
   ],
   "source": [
    "down(134853.56416, 4)"
   ]
  },
  {
   "cell_type": "code",
   "execution_count": 299,
   "id": "27c497d9-9bc8-4c4a-81d0-2da2cc8032dd",
   "metadata": {},
   "outputs": [
    {
     "data": {
      "text/plain": [
       "134853.53"
      ]
     },
     "execution_count": 299,
     "metadata": {},
     "output_type": "execute_result"
    }
   ],
   "source": [
    "down(134853.5355) # 기본값대로 출력하고 싶다면 inPoint 자리 비우기"
   ]
  }
 ],
 "metadata": {
  "kernelspec": {
   "display_name": "Python 3 (ipykernel)",
   "language": "python",
   "name": "python3"
  },
  "language_info": {
   "codemirror_mode": {
    "name": "ipython",
    "version": 3
   },
   "file_extension": ".py",
   "mimetype": "text/x-python",
   "name": "python",
   "nbconvert_exporter": "python",
   "pygments_lexer": "ipython3",
   "version": "3.9.13"
  }
 },
 "nbformat": 4,
 "nbformat_minor": 5
}
