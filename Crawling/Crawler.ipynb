{
 "cells": [
  {
   "cell_type": "markdown",
   "id": "ce3b2beb-b4b7-4602-a738-6bbd75ac8de4",
   "metadata": {},
   "source": [
    "# 웹 크롤링 이해 및 기본기 살펴보기"
   ]
  },
  {
   "cell_type": "code",
   "execution_count": 1,
   "id": "fefbeaae-35dd-49d1-8a98-0621b16367ef",
   "metadata": {},
   "outputs": [],
   "source": [
    "# 행/열 구조의 가장 많이 활용되는 자료구조 형태"
   ]
  },
  {
   "cell_type": "code",
   "execution_count": 1,
   "id": "50652119-ad71-4918-83f0-09b203eccd21",
   "metadata": {},
   "outputs": [],
   "source": [
    "# 데이터 프레임 라이브러리 활용\n",
    "import pandas as pd"
   ]
  },
  {
   "cell_type": "code",
   "execution_count": 2,
   "id": "6f1cb626-5541-4ac0-98b9-8f8a86e0fd63",
   "metadata": {},
   "outputs": [],
   "source": [
    "# 딕셔너리를 활용한 데이터프레임 생성\n",
    "data = {'name': ['A고객','B고객','C고객','D고객'],\n",
    "'age': [27,40,33,29],\n",
    "'stock_age': [2,10,5,1]}\n",
    "dataFrame = pd.DataFrame(data)"
   ]
  },
  {
   "cell_type": "code",
   "execution_count": 3,
   "id": "2eece026-74b4-4b85-a0b5-2fc8c52b2350",
   "metadata": {},
   "outputs": [
    {
     "name": "stdout",
     "output_type": "stream",
     "text": [
      "  name  age  stock_age\n",
      "0  A고객   27          2\n",
      "1  B고객   40         10\n",
      "2  C고객   33          5\n",
      "3  D고객   29          1\n"
     ]
    }
   ],
   "source": [
    "# 데이터 프레임 : 스프레드시트 형태의 자료구조\n",
    "print(dataFrame)"
   ]
  },
  {
   "cell_type": "code",
   "execution_count": null,
   "id": "61d5808b-8a70-449f-9870-72c7176136d1",
   "metadata": {},
   "outputs": [],
   "source": []
  },
  {
   "cell_type": "code",
   "execution_count": null,
   "id": "e4436526-0a34-4e15-b3b0-28622fd058b2",
   "metadata": {},
   "outputs": [],
   "source": [
    "# 리스트를 활용한 데이터 분석을 위한 자료구조 생성"
   ]
  },
  {
   "cell_type": "code",
   "execution_count": 4,
   "id": "834d7d4d-cdfd-416b-a6d9-6d3a3d602255",
   "metadata": {},
   "outputs": [],
   "source": [
    "import pandas as pd"
   ]
  },
  {
   "cell_type": "code",
   "execution_count": 5,
   "id": "4cec95c4-ad2a-4140-962d-43ed79a1cba6",
   "metadata": {},
   "outputs": [],
   "source": [
    "# 리스트 생성\n",
    "test = [10, 100, 1000, 10000]"
   ]
  },
  {
   "cell_type": "code",
   "execution_count": 6,
   "id": "b7b388b7-77c5-4df9-9646-cb4311c964f1",
   "metadata": {},
   "outputs": [
    {
     "data": {
      "text/html": [
       "<div>\n",
       "<style scoped>\n",
       "    .dataframe tbody tr th:only-of-type {\n",
       "        vertical-align: middle;\n",
       "    }\n",
       "\n",
       "    .dataframe tbody tr th {\n",
       "        vertical-align: top;\n",
       "    }\n",
       "\n",
       "    .dataframe thead th {\n",
       "        text-align: right;\n",
       "    }\n",
       "</style>\n",
       "<table border=\"1\" class=\"dataframe\">\n",
       "  <thead>\n",
       "    <tr style=\"text-align: right;\">\n",
       "      <th></th>\n",
       "      <th>0</th>\n",
       "    </tr>\n",
       "  </thead>\n",
       "  <tbody>\n",
       "    <tr>\n",
       "      <th>0</th>\n",
       "      <td>10</td>\n",
       "    </tr>\n",
       "    <tr>\n",
       "      <th>1</th>\n",
       "      <td>100</td>\n",
       "    </tr>\n",
       "    <tr>\n",
       "      <th>2</th>\n",
       "      <td>1000</td>\n",
       "    </tr>\n",
       "    <tr>\n",
       "      <th>3</th>\n",
       "      <td>10000</td>\n",
       "    </tr>\n",
       "  </tbody>\n",
       "</table>\n",
       "</div>"
      ],
      "text/plain": [
       "       0\n",
       "0     10\n",
       "1    100\n",
       "2   1000\n",
       "3  10000"
      ]
     },
     "execution_count": 6,
     "metadata": {},
     "output_type": "execute_result"
    }
   ],
   "source": [
    "# 데이터프레임 변환\n",
    "testDf = pd.DataFrame(test)\n",
    "testDf"
   ]
  },
  {
   "cell_type": "code",
   "execution_count": 7,
   "id": "72ede06e-99d9-4221-b3c7-29600d2c6a0d",
   "metadata": {},
   "outputs": [
    {
     "data": {
      "text/html": [
       "<div>\n",
       "<style scoped>\n",
       "    .dataframe tbody tr th:only-of-type {\n",
       "        vertical-align: middle;\n",
       "    }\n",
       "\n",
       "    .dataframe tbody tr th {\n",
       "        vertical-align: top;\n",
       "    }\n",
       "\n",
       "    .dataframe thead th {\n",
       "        text-align: right;\n",
       "    }\n",
       "</style>\n",
       "<table border=\"1\" class=\"dataframe\">\n",
       "  <thead>\n",
       "    <tr style=\"text-align: right;\">\n",
       "      <th></th>\n",
       "      <th>test</th>\n",
       "    </tr>\n",
       "  </thead>\n",
       "  <tbody>\n",
       "    <tr>\n",
       "      <th>0</th>\n",
       "      <td>10</td>\n",
       "    </tr>\n",
       "    <tr>\n",
       "      <th>1</th>\n",
       "      <td>100</td>\n",
       "    </tr>\n",
       "    <tr>\n",
       "      <th>2</th>\n",
       "      <td>1000</td>\n",
       "    </tr>\n",
       "    <tr>\n",
       "      <th>3</th>\n",
       "      <td>10000</td>\n",
       "    </tr>\n",
       "  </tbody>\n",
       "</table>\n",
       "</div>"
      ],
      "text/plain": [
       "    test\n",
       "0     10\n",
       "1    100\n",
       "2   1000\n",
       "3  10000"
      ]
     },
     "execution_count": 7,
     "metadata": {},
     "output_type": "execute_result"
    }
   ],
   "source": [
    "testDf.columns = [\"test\"]\n",
    "testDf"
   ]
  },
  {
   "cell_type": "code",
   "execution_count": null,
   "id": "3e255850-cc68-410e-93a2-f2c2d8471fba",
   "metadata": {},
   "outputs": [],
   "source": [
    "# 리스트를 활용한 데이터 분석을 위한 자료구조 생성"
   ]
  },
  {
   "cell_type": "code",
   "execution_count": 8,
   "id": "abcb0c90-eeba-44f5-98b3-db9b61d648e9",
   "metadata": {},
   "outputs": [],
   "source": [
    "import pandas as pd"
   ]
  },
  {
   "cell_type": "code",
   "execution_count": 9,
   "id": "3fa1a9ae-b365-4254-a48b-a7dd9b9041b1",
   "metadata": {},
   "outputs": [],
   "source": [
    "date = ['16.02.29', '16.02.26', '16.02.25', '16.02.24', '16.02.23']\n",
    "date2 = ['17.02.29', '17.02.26', '17.02.25', '17.02.24', '17.02.23']"
   ]
  },
  {
   "cell_type": "code",
   "execution_count": 10,
   "id": "91445cd2-563b-4aa9-92ab-5226c2adf26f",
   "metadata": {},
   "outputs": [],
   "source": [
    "date_df = pd.DataFrame(date, columns=['date2'])\n",
    "date_df2 = pd.DataFrame(date2, columns=['date23'])"
   ]
  },
  {
   "cell_type": "code",
   "execution_count": 11,
   "id": "70752f3c-2be9-4169-86ac-027797fcc4d1",
   "metadata": {},
   "outputs": [
    {
     "data": {
      "text/html": [
       "<div>\n",
       "<style scoped>\n",
       "    .dataframe tbody tr th:only-of-type {\n",
       "        vertical-align: middle;\n",
       "    }\n",
       "\n",
       "    .dataframe tbody tr th {\n",
       "        vertical-align: top;\n",
       "    }\n",
       "\n",
       "    .dataframe thead th {\n",
       "        text-align: right;\n",
       "    }\n",
       "</style>\n",
       "<table border=\"1\" class=\"dataframe\">\n",
       "  <thead>\n",
       "    <tr style=\"text-align: right;\">\n",
       "      <th></th>\n",
       "      <th>date2</th>\n",
       "      <th>date23</th>\n",
       "    </tr>\n",
       "  </thead>\n",
       "  <tbody>\n",
       "    <tr>\n",
       "      <th>0</th>\n",
       "      <td>16.02.29</td>\n",
       "      <td>17.02.29</td>\n",
       "    </tr>\n",
       "    <tr>\n",
       "      <th>1</th>\n",
       "      <td>16.02.26</td>\n",
       "      <td>17.02.26</td>\n",
       "    </tr>\n",
       "    <tr>\n",
       "      <th>2</th>\n",
       "      <td>16.02.25</td>\n",
       "      <td>17.02.25</td>\n",
       "    </tr>\n",
       "    <tr>\n",
       "      <th>3</th>\n",
       "      <td>16.02.24</td>\n",
       "      <td>17.02.24</td>\n",
       "    </tr>\n",
       "    <tr>\n",
       "      <th>4</th>\n",
       "      <td>16.02.23</td>\n",
       "      <td>17.02.23</td>\n",
       "    </tr>\n",
       "  </tbody>\n",
       "</table>\n",
       "</div>"
      ],
      "text/plain": [
       "      date2    date23\n",
       "0  16.02.29  17.02.29\n",
       "1  16.02.26  17.02.26\n",
       "2  16.02.25  17.02.25\n",
       "3  16.02.24  17.02.24\n",
       "4  16.02.23  17.02.23"
      ]
     },
     "execution_count": 11,
     "metadata": {},
     "output_type": "execute_result"
    }
   ],
   "source": [
    "final = pd.concat([date_df,date_df2], axis = 1)\n",
    "final\n",
    "# * zip 활용"
   ]
  },
  {
   "cell_type": "code",
   "execution_count": null,
   "id": "1e42bcc7-0047-48e0-9ee3-f0889f29c191",
   "metadata": {},
   "outputs": [],
   "source": []
  },
  {
   "cell_type": "code",
   "execution_count": 12,
   "id": "edb4a768-8588-4bd6-b981-d8fcac6ab5dc",
   "metadata": {},
   "outputs": [],
   "source": [
    "import pandas as pd"
   ]
  },
  {
   "cell_type": "code",
   "execution_count": 13,
   "id": "4671bb80-258a-415e-8305-d92253edaadc",
   "metadata": {},
   "outputs": [],
   "source": [
    "colList1 = [\"한지원1\", \"한지원2\", \"한지원3\"]\n",
    "colList2 = [41, 10, 39]"
   ]
  },
  {
   "cell_type": "code",
   "execution_count": 14,
   "id": "163c7b1e-883a-4ca1-b8e2-f7c21e818075",
   "metadata": {},
   "outputs": [],
   "source": [
    "df1 = pd.DataFrame( zip(colList1, colList2) )"
   ]
  },
  {
   "cell_type": "code",
   "execution_count": 15,
   "id": "a4e229dc-a85c-435a-9ad8-83e426c95219",
   "metadata": {},
   "outputs": [
    {
     "data": {
      "text/html": [
       "<div>\n",
       "<style scoped>\n",
       "    .dataframe tbody tr th:only-of-type {\n",
       "        vertical-align: middle;\n",
       "    }\n",
       "\n",
       "    .dataframe tbody tr th {\n",
       "        vertical-align: top;\n",
       "    }\n",
       "\n",
       "    .dataframe thead th {\n",
       "        text-align: right;\n",
       "    }\n",
       "</style>\n",
       "<table border=\"1\" class=\"dataframe\">\n",
       "  <thead>\n",
       "    <tr style=\"text-align: right;\">\n",
       "      <th></th>\n",
       "      <th>0</th>\n",
       "      <th>1</th>\n",
       "    </tr>\n",
       "  </thead>\n",
       "  <tbody>\n",
       "    <tr>\n",
       "      <th>0</th>\n",
       "      <td>한지원1</td>\n",
       "      <td>41</td>\n",
       "    </tr>\n",
       "    <tr>\n",
       "      <th>1</th>\n",
       "      <td>한지원2</td>\n",
       "      <td>10</td>\n",
       "    </tr>\n",
       "    <tr>\n",
       "      <th>2</th>\n",
       "      <td>한지원3</td>\n",
       "      <td>39</td>\n",
       "    </tr>\n",
       "  </tbody>\n",
       "</table>\n",
       "</div>"
      ],
      "text/plain": [
       "      0   1\n",
       "0  한지원1  41\n",
       "1  한지원2  10\n",
       "2  한지원3  39"
      ]
     },
     "execution_count": 15,
     "metadata": {},
     "output_type": "execute_result"
    }
   ],
   "source": [
    "df1"
   ]
  },
  {
   "cell_type": "code",
   "execution_count": null,
   "id": "75ed74f5-4952-447f-b79a-dd440050ef5d",
   "metadata": {},
   "outputs": [],
   "source": []
  },
  {
   "cell_type": "code",
   "execution_count": 16,
   "id": "4c4c0ece-0017-4729-87da-2ab30b31d55a",
   "metadata": {},
   "outputs": [],
   "source": [
    "rowList1 = [\"김효관\", 41]\n",
    "rowList2 = [\"김어진\", 10]\n",
    "rowList3 = [\"안민정\", 39]"
   ]
  },
  {
   "cell_type": "code",
   "execution_count": 17,
   "id": "48c51c26-65fb-4602-8313-6c7ce3baeaa2",
   "metadata": {},
   "outputs": [],
   "source": [
    "mergedList = [rowList1, rowList2, rowList3] # 2중 리스트 : 리스트 안에 리스트를 넣음"
   ]
  },
  {
   "cell_type": "code",
   "execution_count": 18,
   "id": "6b24713d-b3e3-4f57-826b-570b0bfcbb3d",
   "metadata": {},
   "outputs": [],
   "source": [
    "df2 = pd.DataFrame(mergedList)"
   ]
  },
  {
   "cell_type": "code",
   "execution_count": 19,
   "id": "a053756d-e0eb-4b3f-8ce6-522ef7570510",
   "metadata": {},
   "outputs": [
    {
     "data": {
      "text/html": [
       "<div>\n",
       "<style scoped>\n",
       "    .dataframe tbody tr th:only-of-type {\n",
       "        vertical-align: middle;\n",
       "    }\n",
       "\n",
       "    .dataframe tbody tr th {\n",
       "        vertical-align: top;\n",
       "    }\n",
       "\n",
       "    .dataframe thead th {\n",
       "        text-align: right;\n",
       "    }\n",
       "</style>\n",
       "<table border=\"1\" class=\"dataframe\">\n",
       "  <thead>\n",
       "    <tr style=\"text-align: right;\">\n",
       "      <th></th>\n",
       "      <th>0</th>\n",
       "      <th>1</th>\n",
       "    </tr>\n",
       "  </thead>\n",
       "  <tbody>\n",
       "    <tr>\n",
       "      <th>0</th>\n",
       "      <td>김효관</td>\n",
       "      <td>41</td>\n",
       "    </tr>\n",
       "    <tr>\n",
       "      <th>1</th>\n",
       "      <td>김어진</td>\n",
       "      <td>10</td>\n",
       "    </tr>\n",
       "    <tr>\n",
       "      <th>2</th>\n",
       "      <td>안민정</td>\n",
       "      <td>39</td>\n",
       "    </tr>\n",
       "  </tbody>\n",
       "</table>\n",
       "</div>"
      ],
      "text/plain": [
       "     0   1\n",
       "0  김효관  41\n",
       "1  김어진  10\n",
       "2  안민정  39"
      ]
     },
     "execution_count": 19,
     "metadata": {},
     "output_type": "execute_result"
    }
   ],
   "source": [
    "df2"
   ]
  },
  {
   "cell_type": "code",
   "execution_count": 20,
   "id": "d3b6ce0e-32f0-4eab-9af2-c1e3159dcae5",
   "metadata": {},
   "outputs": [
    {
     "data": {
      "text/html": [
       "<div>\n",
       "<style scoped>\n",
       "    .dataframe tbody tr th:only-of-type {\n",
       "        vertical-align: middle;\n",
       "    }\n",
       "\n",
       "    .dataframe tbody tr th {\n",
       "        vertical-align: top;\n",
       "    }\n",
       "\n",
       "    .dataframe thead th {\n",
       "        text-align: right;\n",
       "    }\n",
       "</style>\n",
       "<table border=\"1\" class=\"dataframe\">\n",
       "  <thead>\n",
       "    <tr style=\"text-align: right;\">\n",
       "      <th></th>\n",
       "      <th>컬럼1</th>\n",
       "      <th>컬럼2</th>\n",
       "    </tr>\n",
       "  </thead>\n",
       "  <tbody>\n",
       "    <tr>\n",
       "      <th>0</th>\n",
       "      <td>김효관</td>\n",
       "      <td>41</td>\n",
       "    </tr>\n",
       "    <tr>\n",
       "      <th>1</th>\n",
       "      <td>김어진</td>\n",
       "      <td>10</td>\n",
       "    </tr>\n",
       "    <tr>\n",
       "      <th>2</th>\n",
       "      <td>안민정</td>\n",
       "      <td>39</td>\n",
       "    </tr>\n",
       "  </tbody>\n",
       "</table>\n",
       "</div>"
      ],
      "text/plain": [
       "   컬럼1  컬럼2\n",
       "0  김효관   41\n",
       "1  김어진   10\n",
       "2  안민정   39"
      ]
     },
     "execution_count": 20,
     "metadata": {},
     "output_type": "execute_result"
    }
   ],
   "source": [
    "df2.columns = [\"컬럼1\", \"컬럼2\"]\n",
    "df2"
   ]
  },
  {
   "cell_type": "code",
   "execution_count": null,
   "id": "01621fcb-f42f-4717-a404-7bc2c08b6205",
   "metadata": {},
   "outputs": [],
   "source": []
  },
  {
   "cell_type": "code",
   "execution_count": 21,
   "id": "b0e4a4b8-782a-4d24-960c-6feeb1b67b7f",
   "metadata": {},
   "outputs": [],
   "source": [
    "nameValue = \"한지원\""
   ]
  },
  {
   "cell_type": "code",
   "execution_count": 22,
   "id": "c641d263-d410-4b74-8421-6cdfc52bd45f",
   "metadata": {},
   "outputs": [
    {
     "data": {
      "text/html": [
       "<div>\n",
       "<style scoped>\n",
       "    .dataframe tbody tr th:only-of-type {\n",
       "        vertical-align: middle;\n",
       "    }\n",
       "\n",
       "    .dataframe tbody tr th {\n",
       "        vertical-align: top;\n",
       "    }\n",
       "\n",
       "    .dataframe thead th {\n",
       "        text-align: right;\n",
       "    }\n",
       "</style>\n",
       "<table border=\"1\" class=\"dataframe\">\n",
       "  <thead>\n",
       "    <tr style=\"text-align: right;\">\n",
       "      <th></th>\n",
       "      <th>0</th>\n",
       "    </tr>\n",
       "  </thead>\n",
       "  <tbody>\n",
       "    <tr>\n",
       "      <th>0</th>\n",
       "      <td>한지원</td>\n",
       "    </tr>\n",
       "  </tbody>\n",
       "</table>\n",
       "</div>"
      ],
      "text/plain": [
       "     0\n",
       "0  한지원"
      ]
     },
     "execution_count": 22,
     "metadata": {},
     "output_type": "execute_result"
    }
   ],
   "source": [
    "pd.DataFrame([nameValue]) # pd.DataFrame(nameValue) 오류가 나기 때문에 리스트 안에 담아주어야 한다."
   ]
  },
  {
   "cell_type": "code",
   "execution_count": null,
   "id": "2c0ab1bb-11b4-46df-a620-fe90b9dfa6a5",
   "metadata": {},
   "outputs": [],
   "source": []
  },
  {
   "cell_type": "markdown",
   "id": "bdb3848e-d268-448e-8eb3-355eed9246d7",
   "metadata": {},
   "source": [
    "# BeautifulSoup 활용 HTML 추출하기"
   ]
  },
  {
   "cell_type": "code",
   "execution_count": 24,
   "id": "6723805c-eaec-4c23-989f-6be4022f9cda",
   "metadata": {},
   "outputs": [],
   "source": [
    "# 라이브러리 선언 \n",
    "# import requests, bs4\n",
    "\n",
    "# 웹페이지 요청 (200 : 정상) 및 소스 가져오기\n",
    "# resp = requests.get(\"url\")\n",
    "# html = resp.text\n",
    "\n",
    "# 태그 정보를 정리된 형태로 추출\n",
    "# bs = bs4.BeautifulSoup(webPageSrc,'html.parser')"
   ]
  },
  {
   "cell_type": "code",
   "execution_count": 23,
   "id": "f04caeb5-fee4-49fa-aa01-0ad7aca69371",
   "metadata": {},
   "outputs": [],
   "source": [
    "import bs4, requests"
   ]
  },
  {
   "cell_type": "code",
   "execution_count": 24,
   "id": "58d2a133-a95b-4dc7-979a-0bcf59660661",
   "metadata": {},
   "outputs": [],
   "source": [
    "targetUrl = \"https://sparkkorea.com/%ED%80%B4%EC%A6%88/\""
   ]
  },
  {
   "cell_type": "code",
   "execution_count": 25,
   "id": "30cf9d2b-d264-4214-8f1e-ca68fd87a1d2",
   "metadata": {},
   "outputs": [],
   "source": [
    "try :\n",
    "    resp = requests.get(targetUrl) # 암기\n",
    "except Exception as e:\n",
    "    print(e)"
   ]
  },
  {
   "cell_type": "code",
   "execution_count": 26,
   "id": "5993682d-0064-4c9f-8c5a-7bca1f26e5e2",
   "metadata": {},
   "outputs": [
    {
     "data": {
      "text/plain": [
       "<Response [200]>"
      ]
     },
     "execution_count": 26,
     "metadata": {},
     "output_type": "execute_result"
    }
   ],
   "source": [
    "resp # 웹 페이지에 요청을 보냈을 때 응답으로 200이 나오면 정상적인 웹 페이지다. "
   ]
  },
  {
   "cell_type": "code",
   "execution_count": 27,
   "id": "1f8076c1-da2a-4c2d-91a0-be2059f512f9",
   "metadata": {},
   "outputs": [],
   "source": [
    "webPageSrc = resp.text # 지저분하기 때문에 변수에 넣어준다."
   ]
  },
  {
   "cell_type": "code",
   "execution_count": 28,
   "id": "b6aa9a16-1bb7-41a9-9766-c6151a420086",
   "metadata": {
    "tags": []
   },
   "outputs": [],
   "source": [
    "htmlObj = bs4.BeautifulSoup(webPageSrc, \"html.parser\") # webPageSrc를 html을 추출하면 정리된 형태로 확인할 수 있다."
   ]
  },
  {
   "cell_type": "code",
   "execution_count": null,
   "id": "db6c5d60-1e09-415d-b200-349994dc1b03",
   "metadata": {},
   "outputs": [],
   "source": []
  },
  {
   "cell_type": "markdown",
   "id": "88abb4bd-dfbb-4638-9f5f-4b9af74f5062",
   "metadata": {},
   "source": [
    "# 태그정보 수집하기 "
   ]
  },
  {
   "cell_type": "code",
   "execution_count": null,
   "id": "c0e6393a-b9d7-4725-bdaa-4e6e43dc1473",
   "metadata": {},
   "outputs": [],
   "source": [
    "# <div> aaa </div> 안의 자료들을 수집할 수 있다. "
   ]
  },
  {
   "cell_type": "code",
   "execution_count": null,
   "id": "8e6db287-0450-420b-b935-8deace85214f",
   "metadata": {},
   "outputs": [],
   "source": [
    "# 태그 찾기 (맨 앞 한 개)\n",
    "# bs.find(name=\"태그명\")\n",
    "# 태그 찾기 (전체)\n",
    "# bs.findAll(name=\"태그명\")"
   ]
  },
  {
   "cell_type": "code",
   "execution_count": 29,
   "id": "2ee09722-ccd9-4350-86c4-47d7ac7d95ca",
   "metadata": {},
   "outputs": [],
   "source": [
    "div = htmlObj.find(name=\"div\") # div의 첫 번째 값을 리턴한다. 딱 하나의 값."
   ]
  },
  {
   "cell_type": "code",
   "execution_count": 30,
   "id": "a2faab7e-7b37-406b-ac1c-4b3442e7b3f3",
   "metadata": {},
   "outputs": [],
   "source": [
    "divs = htmlObj.findAll(name=\"div\") # ★ 리스트는 아니지만 리스트의 형태로 인덱스를 이용할 수 있다 "
   ]
  },
  {
   "cell_type": "code",
   "execution_count": null,
   "id": "7952ad5a-d927-461c-9d92-2602fb222cee",
   "metadata": {},
   "outputs": [],
   "source": []
  },
  {
   "cell_type": "code",
   "execution_count": 31,
   "id": "7d7750ab-c429-4aaa-bd5c-6e427c15072c",
   "metadata": {},
   "outputs": [
    {
     "data": {
      "text/plain": [
       "<a class=\"skip-link screen-reader-text\" href=\"#content\">컨텐츠로 건너뛰기</a>"
      ]
     },
     "execution_count": 31,
     "metadata": {},
     "output_type": "execute_result"
    }
   ],
   "source": [
    "aTagFirst = htmlObj.find(name=\"a\")\n",
    "aTagFirst"
   ]
  },
  {
   "cell_type": "code",
   "execution_count": 32,
   "id": "285c1c77-91b0-406f-820d-30e576d55718",
   "metadata": {},
   "outputs": [
    {
     "data": {
      "text/plain": [
       "'컨텐츠로 건너뛰기'"
      ]
     },
     "execution_count": 32,
     "metadata": {},
     "output_type": "execute_result"
    }
   ],
   "source": [
    "# aTagFirst의 사이사이에 있는 값들을 추출하고 싶다면 텍스트로 추출할 수 있다.\n",
    "aTagFirst.text"
   ]
  },
  {
   "cell_type": "code",
   "execution_count": 33,
   "id": "5c92b622-494c-4e85-9aed-9b687e79befa",
   "metadata": {},
   "outputs": [
    {
     "data": {
      "text/plain": [
       "'#content'"
      ]
     },
     "execution_count": 33,
     "metadata": {},
     "output_type": "execute_result"
    }
   ],
   "source": [
    "# aTagFirst 안의 속성(class, href)에 접근하고 싶다면 / attrs(attribute) 속성값을 가져올 수 있다.\n",
    "aTagFirst.attrs[\"href\"] "
   ]
  },
  {
   "cell_type": "code",
   "execution_count": null,
   "id": "6117488e-b530-4d8b-aadb-9981861fb61d",
   "metadata": {},
   "outputs": [],
   "source": []
  },
  {
   "cell_type": "code",
   "execution_count": 34,
   "id": "3d188135-a5de-4de4-864a-2938dd799d13",
   "metadata": {},
   "outputs": [],
   "source": [
    "aTags=htmlObj.findAll(name=\"a\")"
   ]
  },
  {
   "cell_type": "code",
   "execution_count": 35,
   "id": "c4025a26-c151-4474-a1fb-9bbcd57b5047",
   "metadata": {},
   "outputs": [
    {
     "data": {
      "text/plain": [
       "'#content'"
      ]
     },
     "execution_count": 35,
     "metadata": {},
     "output_type": "execute_result"
    }
   ],
   "source": [
    "aTags[0].attrs[\"href\"]"
   ]
  },
  {
   "cell_type": "code",
   "execution_count": null,
   "id": "b25ec4bf-8be8-44c3-a3d8-a3369b0bb1ca",
   "metadata": {},
   "outputs": [],
   "source": []
  },
  {
   "cell_type": "code",
   "execution_count": 36,
   "id": "cc4a0bc0-99ab-4ecf-8735-946813233ca4",
   "metadata": {},
   "outputs": [],
   "source": [
    "import pandas as pd"
   ]
  },
  {
   "cell_type": "code",
   "execution_count": 37,
   "id": "8401e22e-f4b5-4463-b2d6-2dad6d623f69",
   "metadata": {},
   "outputs": [],
   "source": [
    "linkList = []"
   ]
  },
  {
   "cell_type": "code",
   "execution_count": 38,
   "id": "9a7c1a47-7f83-4aeb-91ef-388df16b998f",
   "metadata": {},
   "outputs": [
    {
     "name": "stdout",
     "output_type": "stream",
     "text": [
      "'href'\n"
     ]
    }
   ],
   "source": [
    "for i in range(0, len(aTags)):\n",
    "    try : # href 속성이 없는 값이 있을 수 있기 때문에 있는 것만 다 수집하겠다.\n",
    "        linkList.append (  aTags[i].attrs[\"href\"] )\n",
    "    except Exception as e :\n",
    "        print (e)"
   ]
  },
  {
   "cell_type": "code",
   "execution_count": 39,
   "id": "09ff613e-94f6-4f87-ab7d-aaa6d804a582",
   "metadata": {
    "collapsed": true,
    "jupyter": {
     "outputs_hidden": true
    },
    "tags": []
   },
   "outputs": [
    {
     "data": {
      "text/plain": [
       "['#content',\n",
       " 'https://sparkkorea.com/',\n",
       " 'https://sparkkorea.com/%ec%9e%90%eb%a3%8c%ec%8b%a4/',\n",
       " 'https://sparkkorea.com/%ed%80%b4%ec%a6%88/',\n",
       " 'https://sparkkorea.com/%ec%84%a4%eb%ac%b8-2/',\n",
       " 'https://sparkkorea.com/%ed%85%8c%ec%8a%a4%ed%8a%b8/',\n",
       " 'https://sparkkorea.com/%ec%84%a4%eb%ac%b8/',\n",
       " '#',\n",
       " 'https://forms.gle/Fw49w9GhWQChDcZm7',\n",
       " 'https://forms.gle/G4TcXm3fKuHLHA6D6',\n",
       " 'https://forms.gle/M8gr1kC2ubA3UDVp8',\n",
       " 'https://forms.gle/h8w5mZ4MNaPLCPbi6',\n",
       " 'https://forms.gle/q5yL6QHfueDLM5w27',\n",
       " 'https://forms.gle/Gxb4y6LfVYiaLu4M7',\n",
       " 'https://sparkkorea.com/%ed%80%b4%ec%a6%88/?share=twitter',\n",
       " 'https://sparkkorea.com/%ed%80%b4%ec%a6%88/?share=facebook',\n",
       " 'https://wordpress.com/?ref=footer_segment_business',\n",
       " 'https://sparkkorea.com',\n",
       " 'https://sparkkorea.wordpress.com/wp-admin/customize.php?url=https%3A%2F%2Fsparkkorea.wordpress.com%2F%25ED%2580%25B4%25EC%25A6%2588%2F',\n",
       " 'https://wordpress.com/start/',\n",
       " 'https://wordpress.com/log-in?redirect_to=https%3A%2F%2Fr-login.wordpress.com%2Fremote-login.php%3Faction%3Dlink%26back%3Dhttps%253A%252F%252Fsparkkorea.com%252F%2525ed%252580%2525b4%2525ec%2525a6%252588%252F',\n",
       " 'https://wp.me/Pb5P34-1E',\n",
       " 'http://en.wordpress.com/abuse/',\n",
       " 'https://subscribe.wordpress.com/']"
      ]
     },
     "execution_count": 39,
     "metadata": {},
     "output_type": "execute_result"
    }
   ],
   "source": [
    "linkList # 웬만한 링크들은 다 수집이 되었다. "
   ]
  },
  {
   "cell_type": "code",
   "execution_count": 40,
   "id": "e7b56530-d298-478d-b3e3-a3dbc342e188",
   "metadata": {
    "tags": []
   },
   "outputs": [
    {
     "data": {
      "text/html": [
       "<div>\n",
       "<style scoped>\n",
       "    .dataframe tbody tr th:only-of-type {\n",
       "        vertical-align: middle;\n",
       "    }\n",
       "\n",
       "    .dataframe tbody tr th {\n",
       "        vertical-align: top;\n",
       "    }\n",
       "\n",
       "    .dataframe thead th {\n",
       "        text-align: right;\n",
       "    }\n",
       "</style>\n",
       "<table border=\"1\" class=\"dataframe\">\n",
       "  <thead>\n",
       "    <tr style=\"text-align: right;\">\n",
       "      <th></th>\n",
       "      <th>0</th>\n",
       "    </tr>\n",
       "  </thead>\n",
       "  <tbody>\n",
       "    <tr>\n",
       "      <th>0</th>\n",
       "      <td>#content</td>\n",
       "    </tr>\n",
       "    <tr>\n",
       "      <th>1</th>\n",
       "      <td>https://sparkkorea.com/</td>\n",
       "    </tr>\n",
       "    <tr>\n",
       "      <th>2</th>\n",
       "      <td>https://sparkkorea.com/%ec%9e%90%eb%a3%8c%ec%8...</td>\n",
       "    </tr>\n",
       "    <tr>\n",
       "      <th>3</th>\n",
       "      <td>https://sparkkorea.com/%ed%80%b4%ec%a6%88/</td>\n",
       "    </tr>\n",
       "    <tr>\n",
       "      <th>4</th>\n",
       "      <td>https://sparkkorea.com/%ec%84%a4%eb%ac%b8-2/</td>\n",
       "    </tr>\n",
       "    <tr>\n",
       "      <th>5</th>\n",
       "      <td>https://sparkkorea.com/%ed%85%8c%ec%8a%a4%ed%8...</td>\n",
       "    </tr>\n",
       "    <tr>\n",
       "      <th>6</th>\n",
       "      <td>https://sparkkorea.com/%ec%84%a4%eb%ac%b8/</td>\n",
       "    </tr>\n",
       "    <tr>\n",
       "      <th>7</th>\n",
       "      <td>#</td>\n",
       "    </tr>\n",
       "    <tr>\n",
       "      <th>8</th>\n",
       "      <td>https://forms.gle/Fw49w9GhWQChDcZm7</td>\n",
       "    </tr>\n",
       "    <tr>\n",
       "      <th>9</th>\n",
       "      <td>https://forms.gle/G4TcXm3fKuHLHA6D6</td>\n",
       "    </tr>\n",
       "    <tr>\n",
       "      <th>10</th>\n",
       "      <td>https://forms.gle/M8gr1kC2ubA3UDVp8</td>\n",
       "    </tr>\n",
       "    <tr>\n",
       "      <th>11</th>\n",
       "      <td>https://forms.gle/h8w5mZ4MNaPLCPbi6</td>\n",
       "    </tr>\n",
       "    <tr>\n",
       "      <th>12</th>\n",
       "      <td>https://forms.gle/q5yL6QHfueDLM5w27</td>\n",
       "    </tr>\n",
       "    <tr>\n",
       "      <th>13</th>\n",
       "      <td>https://forms.gle/Gxb4y6LfVYiaLu4M7</td>\n",
       "    </tr>\n",
       "    <tr>\n",
       "      <th>14</th>\n",
       "      <td>https://sparkkorea.com/%ed%80%b4%ec%a6%88/?sha...</td>\n",
       "    </tr>\n",
       "    <tr>\n",
       "      <th>15</th>\n",
       "      <td>https://sparkkorea.com/%ed%80%b4%ec%a6%88/?sha...</td>\n",
       "    </tr>\n",
       "    <tr>\n",
       "      <th>16</th>\n",
       "      <td>https://wordpress.com/?ref=footer_segment_busi...</td>\n",
       "    </tr>\n",
       "    <tr>\n",
       "      <th>17</th>\n",
       "      <td>https://sparkkorea.com</td>\n",
       "    </tr>\n",
       "    <tr>\n",
       "      <th>18</th>\n",
       "      <td>https://sparkkorea.wordpress.com/wp-admin/cust...</td>\n",
       "    </tr>\n",
       "    <tr>\n",
       "      <th>19</th>\n",
       "      <td>https://wordpress.com/start/</td>\n",
       "    </tr>\n",
       "    <tr>\n",
       "      <th>20</th>\n",
       "      <td>https://wordpress.com/log-in?redirect_to=https...</td>\n",
       "    </tr>\n",
       "    <tr>\n",
       "      <th>21</th>\n",
       "      <td>https://wp.me/Pb5P34-1E</td>\n",
       "    </tr>\n",
       "    <tr>\n",
       "      <th>22</th>\n",
       "      <td>http://en.wordpress.com/abuse/</td>\n",
       "    </tr>\n",
       "    <tr>\n",
       "      <th>23</th>\n",
       "      <td>https://subscribe.wordpress.com/</td>\n",
       "    </tr>\n",
       "  </tbody>\n",
       "</table>\n",
       "</div>"
      ],
      "text/plain": [
       "                                                    0\n",
       "0                                            #content\n",
       "1                             https://sparkkorea.com/\n",
       "2   https://sparkkorea.com/%ec%9e%90%eb%a3%8c%ec%8...\n",
       "3          https://sparkkorea.com/%ed%80%b4%ec%a6%88/\n",
       "4        https://sparkkorea.com/%ec%84%a4%eb%ac%b8-2/\n",
       "5   https://sparkkorea.com/%ed%85%8c%ec%8a%a4%ed%8...\n",
       "6          https://sparkkorea.com/%ec%84%a4%eb%ac%b8/\n",
       "7                                                   #\n",
       "8                 https://forms.gle/Fw49w9GhWQChDcZm7\n",
       "9                 https://forms.gle/G4TcXm3fKuHLHA6D6\n",
       "10                https://forms.gle/M8gr1kC2ubA3UDVp8\n",
       "11                https://forms.gle/h8w5mZ4MNaPLCPbi6\n",
       "12                https://forms.gle/q5yL6QHfueDLM5w27\n",
       "13                https://forms.gle/Gxb4y6LfVYiaLu4M7\n",
       "14  https://sparkkorea.com/%ed%80%b4%ec%a6%88/?sha...\n",
       "15  https://sparkkorea.com/%ed%80%b4%ec%a6%88/?sha...\n",
       "16  https://wordpress.com/?ref=footer_segment_busi...\n",
       "17                             https://sparkkorea.com\n",
       "18  https://sparkkorea.wordpress.com/wp-admin/cust...\n",
       "19                       https://wordpress.com/start/\n",
       "20  https://wordpress.com/log-in?redirect_to=https...\n",
       "21                            https://wp.me/Pb5P34-1E\n",
       "22                     http://en.wordpress.com/abuse/\n",
       "23                   https://subscribe.wordpress.com/"
      ]
     },
     "execution_count": 40,
     "metadata": {},
     "output_type": "execute_result"
    }
   ],
   "source": [
    "pd.DataFrame(linkList) # 수집된 링크를  pandas로 말아주기"
   ]
  },
  {
   "cell_type": "code",
   "execution_count": null,
   "id": "44edd35d-62b9-4748-8228-76227957d87d",
   "metadata": {},
   "outputs": [],
   "source": []
  },
  {
   "cell_type": "markdown",
   "id": "c0b99ad3-7a0d-401c-81ec-111d9246d94e",
   "metadata": {},
   "source": [
    "## 속성값을 활용해서 태그 정보를 수집하기"
   ]
  },
  {
   "cell_type": "code",
   "execution_count": null,
   "id": "c27cd4ee-4de9-4109-998e-0de1fa2cf21e",
   "metadata": {},
   "outputs": [],
   "source": [
    "# 추출하고 싶은 특정 속성값이 있다면 div가 품고있는 id를 이용한다.\n",
    "# id가 다르다는 차별성"
   ]
  },
  {
   "cell_type": "code",
   "execution_count": null,
   "id": "57696cce-7a33-489d-9239-1f5f2d31ae58",
   "metadata": {},
   "outputs": [],
   "source": [
    "# 딕셔너리 { key : value }\n",
    "# 딕셔너리 선언 예시\n",
    "# seasonDict = {\"1\" : 1.5 ,  1주차의 판매량\n",
    "#              \"2\" :  0.8 }  2주차의 판매량\n",
    "# testDict = {\"address\" : \"seoul\" ,\n",
    "#             \"name\" : \"haiteam\" }\n",
    "# 딕셔너리 호출 예시 \n",
    "# seasonDict[\"1\"] -> 1.5 반환 \n",
    "# testDict[\"address\"] -> 'seoul' 반환"
   ]
  },
  {
   "cell_type": "code",
   "execution_count": null,
   "id": "8b5f3112-ac81-42cb-a3bd-1d0294b06a08",
   "metadata": {},
   "outputs": [],
   "source": [
    "# ★ find를 통해서 범위를 점점 좁혀가는 것이 포인트\n",
    "# find를 진행한 후에  find -> find -> find all 가능\n",
    "# find all을 진행한 후에 find 진행 불가"
   ]
  },
  {
   "cell_type": "code",
   "execution_count": 41,
   "id": "9e532e38-bd7e-475c-9f4f-c04599a54b3d",
   "metadata": {},
   "outputs": [],
   "source": [
    "targetDiv = htmlObj.find(name=\"div\", attrs= {\"id\" : \"id_spark_quiz\" } )\n",
    "# key가 id 이고 value가 id_spark_quiz인 속성값을 찾자!\n",
    "# find를 통해서 원하는 데이터를 전부 묶고 있는 태그를 검색한다."
   ]
  },
  {
   "cell_type": "code",
   "execution_count": 42,
   "id": "b052a289-6087-4d52-a028-0372b9a89355",
   "metadata": {},
   "outputs": [],
   "source": [
    "aLinks = targetDiv.findAll(name=\"a\")  # find를 진행한 후에  find -> find -> find all 가능\n",
    "                                     # cf ) 하지만 find all을 진행한 후에 find 진행 불가 (리스트 형태에서 find하는 건 어렵지 않을까?)\n",
    "                                     # 링크 주소와 퀴즈의 타이틀을 추출했다 \n",
    "                                     # 그리고 aLink라는 변수에 담아준다"
   ]
  },
  {
   "cell_type": "code",
   "execution_count": 43,
   "id": "e422d954-f500-4b34-bc89-583781cdd61e",
   "metadata": {},
   "outputs": [
    {
     "data": {
      "text/html": [
       "<div>\n",
       "<style scoped>\n",
       "    .dataframe tbody tr th:only-of-type {\n",
       "        vertical-align: middle;\n",
       "    }\n",
       "\n",
       "    .dataframe tbody tr th {\n",
       "        vertical-align: top;\n",
       "    }\n",
       "\n",
       "    .dataframe thead th {\n",
       "        text-align: right;\n",
       "    }\n",
       "</style>\n",
       "<table border=\"1\" class=\"dataframe\">\n",
       "  <thead>\n",
       "    <tr style=\"text-align: right;\">\n",
       "      <th></th>\n",
       "      <th>0</th>\n",
       "    </tr>\n",
       "  </thead>\n",
       "  <tbody>\n",
       "    <tr>\n",
       "      <th>0</th>\n",
       "      <td>6/13 Spark 심화과정</td>\n",
       "    </tr>\n",
       "    <tr>\n",
       "      <th>1</th>\n",
       "      <td>6/13 Spark 기본과정</td>\n",
       "    </tr>\n",
       "    <tr>\n",
       "      <th>2</th>\n",
       "      <td>6/18 Spark [MAP_FILTER]</td>\n",
       "    </tr>\n",
       "    <tr>\n",
       "      <th>3</th>\n",
       "      <td>6/18 Spark GroupBy 심화</td>\n",
       "    </tr>\n",
       "    <tr>\n",
       "      <th>4</th>\n",
       "      <td>6/25 Spark RDD 실전 분석</td>\n",
       "    </tr>\n",
       "    <tr>\n",
       "      <th>5</th>\n",
       "      <td>6/27 Spark RDD 실전 분석2</td>\n",
       "    </tr>\n",
       "  </tbody>\n",
       "</table>\n",
       "</div>"
      ],
      "text/plain": [
       "                           0\n",
       "0           6/13 Spark 심화과정 \n",
       "1           6/13 Spark 기본과정 \n",
       "2   6/18 Spark [MAP_FILTER] \n",
       "3     6/18 Spark GroupBy 심화 \n",
       "4      6/25 Spark RDD 실전 분석 \n",
       "5     6/27 Spark RDD 실전 분석2 "
      ]
     },
     "execution_count": 43,
     "metadata": {},
     "output_type": "execute_result"
    }
   ],
   "source": [
    "pd.DataFrame(aLinks)"
   ]
  },
  {
   "cell_type": "code",
   "execution_count": null,
   "id": "c12db663-be9f-4b9e-b31d-60b8d437476e",
   "metadata": {},
   "outputs": [],
   "source": [
    "# 아래와 같이 하나씩 찾아가는 과정을 거치면 된다. "
   ]
  },
  {
   "cell_type": "code",
   "execution_count": 44,
   "id": "775c359b-14bb-43c8-b58e-86914188afd9",
   "metadata": {},
   "outputs": [
    {
     "data": {
      "text/plain": [
       "' 6/13 Spark 심화과정 '"
      ]
     },
     "execution_count": 44,
     "metadata": {},
     "output_type": "execute_result"
    }
   ],
   "source": [
    "quizName = aLinks[0].text # aLinks의 텍스트를 가져올 수 있다 \n",
    "quizName"
   ]
  },
  {
   "cell_type": "code",
   "execution_count": 45,
   "id": "a56d6c6c-845d-4cf0-ac6f-437712b02473",
   "metadata": {},
   "outputs": [
    {
     "data": {
      "text/plain": [
       "'https://forms.gle/Fw49w9GhWQChDcZm7'"
      ]
     },
     "execution_count": 45,
     "metadata": {},
     "output_type": "execute_result"
    }
   ],
   "source": [
    "quizLink = aLinks[0].attrs[\"href\"] # aLinks의 href속성 값을 가져올 수 있다 \n",
    "quizLink"
   ]
  },
  {
   "cell_type": "code",
   "execution_count": 46,
   "id": "1d4cb9df-e128-4966-91b0-f2e118a87b76",
   "metadata": {},
   "outputs": [
    {
     "data": {
      "text/plain": [
       "'a'"
      ]
     },
     "execution_count": 46,
     "metadata": {},
     "output_type": "execute_result"
    }
   ],
   "source": [
    "aLinks[0].name # 태그 이름도 알 수 있다. "
   ]
  },
  {
   "cell_type": "code",
   "execution_count": null,
   "id": "965e4a89-cbec-460b-9a6c-d14848c761fc",
   "metadata": {},
   "outputs": [],
   "source": []
  },
  {
   "cell_type": "code",
   "execution_count": null,
   "id": "c10fcdba-8a4c-49c1-88a3-79302c1f5ef4",
   "metadata": {},
   "outputs": [],
   "source": [
    "# 퀴즈 이름을 전부 다 수집한다면"
   ]
  },
  {
   "cell_type": "code",
   "execution_count": 47,
   "id": "f5e818c2-86c7-4e13-b30e-fd1c867c1aed",
   "metadata": {},
   "outputs": [],
   "source": [
    "aLinksLen = len(aLinks) \n",
    "nameList = [] # 내가 수집할 리스트를 선언해준다.\n",
    "linkList = []"
   ]
  },
  {
   "cell_type": "code",
   "execution_count": 48,
   "id": "659b170e-63f2-4ac1-b8ed-4312c9f872da",
   "metadata": {},
   "outputs": [],
   "source": [
    "for i in range (0, aLinksLen) :\n",
    "    # 퀴즈 이름 및 링크 정보 수정\n",
    "    quizName = aLinks[i].text\n",
    "    quizLink = aLinks[i].attrs[\"href\"]\n",
    "    # 리스트에 수집할 값 append \n",
    "    nameList.append(quizName)\n",
    "    linkList.append(quizLink)"
   ]
  },
  {
   "cell_type": "code",
   "execution_count": 49,
   "id": "accb6de3-318b-4e56-8a91-97ea037e2d16",
   "metadata": {},
   "outputs": [],
   "source": [
    "result = pd.DataFrame( zip (nameList , linkList ), columns = [\"퀴즈이름\", \"퀴즈링크\"] )"
   ]
  },
  {
   "cell_type": "code",
   "execution_count": 50,
   "id": "11c1d6f8-9792-4762-9f3c-5bb3aa780ab2",
   "metadata": {},
   "outputs": [
    {
     "data": {
      "text/html": [
       "<div>\n",
       "<style scoped>\n",
       "    .dataframe tbody tr th:only-of-type {\n",
       "        vertical-align: middle;\n",
       "    }\n",
       "\n",
       "    .dataframe tbody tr th {\n",
       "        vertical-align: top;\n",
       "    }\n",
       "\n",
       "    .dataframe thead th {\n",
       "        text-align: right;\n",
       "    }\n",
       "</style>\n",
       "<table border=\"1\" class=\"dataframe\">\n",
       "  <thead>\n",
       "    <tr style=\"text-align: right;\">\n",
       "      <th></th>\n",
       "      <th>퀴즈이름</th>\n",
       "      <th>퀴즈링크</th>\n",
       "    </tr>\n",
       "  </thead>\n",
       "  <tbody>\n",
       "    <tr>\n",
       "      <th>0</th>\n",
       "      <td>6/13 Spark 심화과정</td>\n",
       "      <td>https://forms.gle/Fw49w9GhWQChDcZm7</td>\n",
       "    </tr>\n",
       "    <tr>\n",
       "      <th>1</th>\n",
       "      <td>6/13 Spark 기본과정</td>\n",
       "      <td>https://forms.gle/G4TcXm3fKuHLHA6D6</td>\n",
       "    </tr>\n",
       "    <tr>\n",
       "      <th>2</th>\n",
       "      <td>6/18 Spark [MAP_FILTER]</td>\n",
       "      <td>https://forms.gle/M8gr1kC2ubA3UDVp8</td>\n",
       "    </tr>\n",
       "    <tr>\n",
       "      <th>3</th>\n",
       "      <td>6/18 Spark GroupBy 심화</td>\n",
       "      <td>https://forms.gle/h8w5mZ4MNaPLCPbi6</td>\n",
       "    </tr>\n",
       "    <tr>\n",
       "      <th>4</th>\n",
       "      <td>6/25 Spark RDD 실전 분석</td>\n",
       "      <td>https://forms.gle/q5yL6QHfueDLM5w27</td>\n",
       "    </tr>\n",
       "    <tr>\n",
       "      <th>5</th>\n",
       "      <td>6/27 Spark RDD 실전 분석2</td>\n",
       "      <td>https://forms.gle/Gxb4y6LfVYiaLu4M7</td>\n",
       "    </tr>\n",
       "  </tbody>\n",
       "</table>\n",
       "</div>"
      ],
      "text/plain": [
       "                        퀴즈이름                                 퀴즈링크\n",
       "0           6/13 Spark 심화과정   https://forms.gle/Fw49w9GhWQChDcZm7\n",
       "1           6/13 Spark 기본과정   https://forms.gle/G4TcXm3fKuHLHA6D6\n",
       "2   6/18 Spark [MAP_FILTER]   https://forms.gle/M8gr1kC2ubA3UDVp8\n",
       "3     6/18 Spark GroupBy 심화   https://forms.gle/h8w5mZ4MNaPLCPbi6\n",
       "4      6/25 Spark RDD 실전 분석   https://forms.gle/q5yL6QHfueDLM5w27\n",
       "5     6/27 Spark RDD 실전 분석2   https://forms.gle/Gxb4y6LfVYiaLu4M7"
      ]
     },
     "execution_count": 50,
     "metadata": {},
     "output_type": "execute_result"
    }
   ],
   "source": [
    "result"
   ]
  },
  {
   "cell_type": "code",
   "execution_count": null,
   "id": "8d6e5518-5721-4387-bec2-5374a0c82419",
   "metadata": {},
   "outputs": [],
   "source": []
  },
  {
   "cell_type": "code",
   "execution_count": 51,
   "id": "ad43a82f-7e19-48df-b8dc-9551b18803a0",
   "metadata": {},
   "outputs": [],
   "source": [
    "aLinksLen = len(aLinks) \n",
    "rowList = [] # rowList를 담을 리스트를 선언"
   ]
  },
  {
   "cell_type": "code",
   "execution_count": 52,
   "id": "b77e94f4-93ca-4714-920c-f56bef9e9a82",
   "metadata": {},
   "outputs": [],
   "source": [
    "for i in range(0, len(aLinks)):\n",
    "    eachAtag = aLinks[i]\n",
    "    \n",
    "    quizName = eachAtag.text\n",
    "    linkName = eachAtag.attrs[\"href\"]\n",
    "    \n",
    "    rowList.append ( [quizName, linkName] ) # 한 줄씩 집어넣는 행위. 이중for문에서 바깥 for문 역할. "
   ]
  },
  {
   "cell_type": "code",
   "execution_count": 53,
   "id": "89b1fd52-282d-47be-afce-96b0f37668f7",
   "metadata": {},
   "outputs": [
    {
     "data": {
      "text/plain": [
       "[[' 6/13 Spark 심화과정 ', 'https://forms.gle/Fw49w9GhWQChDcZm7'],\n",
       " [' 6/13 Spark 기본과정 ', 'https://forms.gle/G4TcXm3fKuHLHA6D6'],\n",
       " [' 6/18 Spark [MAP_FILTER] ', 'https://forms.gle/M8gr1kC2ubA3UDVp8'],\n",
       " [' 6/18 Spark GroupBy 심화 ', 'https://forms.gle/h8w5mZ4MNaPLCPbi6'],\n",
       " [' 6/25 Spark RDD 실전 분석 ', 'https://forms.gle/q5yL6QHfueDLM5w27'],\n",
       " [' 6/27 Spark RDD 실전 분석2 ', 'https://forms.gle/Gxb4y6LfVYiaLu4M7']]"
      ]
     },
     "execution_count": 53,
     "metadata": {},
     "output_type": "execute_result"
    }
   ],
   "source": [
    "rowList # 리스트 하나에 하나의 행이 들어간다 "
   ]
  },
  {
   "cell_type": "code",
   "execution_count": 54,
   "id": "edc09616-9664-4b78-ba59-fc36dfac368b",
   "metadata": {
    "tags": []
   },
   "outputs": [
    {
     "data": {
      "text/html": [
       "<div>\n",
       "<style scoped>\n",
       "    .dataframe tbody tr th:only-of-type {\n",
       "        vertical-align: middle;\n",
       "    }\n",
       "\n",
       "    .dataframe tbody tr th {\n",
       "        vertical-align: top;\n",
       "    }\n",
       "\n",
       "    .dataframe thead th {\n",
       "        text-align: right;\n",
       "    }\n",
       "</style>\n",
       "<table border=\"1\" class=\"dataframe\">\n",
       "  <thead>\n",
       "    <tr style=\"text-align: right;\">\n",
       "      <th></th>\n",
       "      <th>0</th>\n",
       "      <th>1</th>\n",
       "    </tr>\n",
       "  </thead>\n",
       "  <tbody>\n",
       "    <tr>\n",
       "      <th>0</th>\n",
       "      <td>6/13 Spark 심화과정</td>\n",
       "      <td>https://forms.gle/Fw49w9GhWQChDcZm7</td>\n",
       "    </tr>\n",
       "    <tr>\n",
       "      <th>1</th>\n",
       "      <td>6/13 Spark 기본과정</td>\n",
       "      <td>https://forms.gle/G4TcXm3fKuHLHA6D6</td>\n",
       "    </tr>\n",
       "    <tr>\n",
       "      <th>2</th>\n",
       "      <td>6/18 Spark [MAP_FILTER]</td>\n",
       "      <td>https://forms.gle/M8gr1kC2ubA3UDVp8</td>\n",
       "    </tr>\n",
       "    <tr>\n",
       "      <th>3</th>\n",
       "      <td>6/18 Spark GroupBy 심화</td>\n",
       "      <td>https://forms.gle/h8w5mZ4MNaPLCPbi6</td>\n",
       "    </tr>\n",
       "    <tr>\n",
       "      <th>4</th>\n",
       "      <td>6/25 Spark RDD 실전 분석</td>\n",
       "      <td>https://forms.gle/q5yL6QHfueDLM5w27</td>\n",
       "    </tr>\n",
       "    <tr>\n",
       "      <th>5</th>\n",
       "      <td>6/27 Spark RDD 실전 분석2</td>\n",
       "      <td>https://forms.gle/Gxb4y6LfVYiaLu4M7</td>\n",
       "    </tr>\n",
       "  </tbody>\n",
       "</table>\n",
       "</div>"
      ],
      "text/plain": [
       "                           0                                    1\n",
       "0           6/13 Spark 심화과정   https://forms.gle/Fw49w9GhWQChDcZm7\n",
       "1           6/13 Spark 기본과정   https://forms.gle/G4TcXm3fKuHLHA6D6\n",
       "2   6/18 Spark [MAP_FILTER]   https://forms.gle/M8gr1kC2ubA3UDVp8\n",
       "3     6/18 Spark GroupBy 심화   https://forms.gle/h8w5mZ4MNaPLCPbi6\n",
       "4      6/25 Spark RDD 실전 분석   https://forms.gle/q5yL6QHfueDLM5w27\n",
       "5     6/27 Spark RDD 실전 분석2   https://forms.gle/Gxb4y6LfVYiaLu4M7"
      ]
     },
     "execution_count": 59,
     "metadata": {},
     "output_type": "execute_result"
    }
   ],
   "source": [
    "resultDf = pd.DataFrame(rowList)\n",
    "resultDf"
   ]
  },
  {
   "cell_type": "code",
   "execution_count": 62,
   "id": "8b35a20e-32c6-40a1-9186-c35a00322563",
   "metadata": {},
   "outputs": [],
   "source": [
    "resultDf.columns = [\"퀴즈제목\", \"퀴즈링크\"]"
   ]
  },
  {
   "cell_type": "code",
   "execution_count": 64,
   "id": "7ab1689e-da6d-4ae8-af78-543488240536",
   "metadata": {},
   "outputs": [
    {
     "data": {
      "text/html": [
       "<div>\n",
       "<style scoped>\n",
       "    .dataframe tbody tr th:only-of-type {\n",
       "        vertical-align: middle;\n",
       "    }\n",
       "\n",
       "    .dataframe tbody tr th {\n",
       "        vertical-align: top;\n",
       "    }\n",
       "\n",
       "    .dataframe thead th {\n",
       "        text-align: right;\n",
       "    }\n",
       "</style>\n",
       "<table border=\"1\" class=\"dataframe\">\n",
       "  <thead>\n",
       "    <tr style=\"text-align: right;\">\n",
       "      <th></th>\n",
       "      <th>퀴즈제목</th>\n",
       "      <th>퀴즈링크</th>\n",
       "    </tr>\n",
       "  </thead>\n",
       "  <tbody>\n",
       "    <tr>\n",
       "      <th>0</th>\n",
       "      <td>6/13 Spark 심화과정</td>\n",
       "      <td>https://forms.gle/Fw49w9GhWQChDcZm7</td>\n",
       "    </tr>\n",
       "    <tr>\n",
       "      <th>1</th>\n",
       "      <td>6/13 Spark 기본과정</td>\n",
       "      <td>https://forms.gle/G4TcXm3fKuHLHA6D6</td>\n",
       "    </tr>\n",
       "    <tr>\n",
       "      <th>2</th>\n",
       "      <td>6/18 Spark [MAP_FILTER]</td>\n",
       "      <td>https://forms.gle/M8gr1kC2ubA3UDVp8</td>\n",
       "    </tr>\n",
       "    <tr>\n",
       "      <th>3</th>\n",
       "      <td>6/18 Spark GroupBy 심화</td>\n",
       "      <td>https://forms.gle/h8w5mZ4MNaPLCPbi6</td>\n",
       "    </tr>\n",
       "    <tr>\n",
       "      <th>4</th>\n",
       "      <td>6/25 Spark RDD 실전 분석</td>\n",
       "      <td>https://forms.gle/q5yL6QHfueDLM5w27</td>\n",
       "    </tr>\n",
       "    <tr>\n",
       "      <th>5</th>\n",
       "      <td>6/27 Spark RDD 실전 분석2</td>\n",
       "      <td>https://forms.gle/Gxb4y6LfVYiaLu4M7</td>\n",
       "    </tr>\n",
       "  </tbody>\n",
       "</table>\n",
       "</div>"
      ],
      "text/plain": [
       "                        퀴즈제목                                 퀴즈링크\n",
       "0           6/13 Spark 심화과정   https://forms.gle/Fw49w9GhWQChDcZm7\n",
       "1           6/13 Spark 기본과정   https://forms.gle/G4TcXm3fKuHLHA6D6\n",
       "2   6/18 Spark [MAP_FILTER]   https://forms.gle/M8gr1kC2ubA3UDVp8\n",
       "3     6/18 Spark GroupBy 심화   https://forms.gle/h8w5mZ4MNaPLCPbi6\n",
       "4      6/25 Spark RDD 실전 분석   https://forms.gle/q5yL6QHfueDLM5w27\n",
       "5     6/27 Spark RDD 실전 분석2   https://forms.gle/Gxb4y6LfVYiaLu4M7"
      ]
     },
     "execution_count": 64,
     "metadata": {},
     "output_type": "execute_result"
    }
   ],
   "source": [
    "resultDf"
   ]
  },
  {
   "cell_type": "code",
   "execution_count": 65,
   "id": "c9f87f27-bc0a-47ac-9146-ddd5d8dd2d12",
   "metadata": {},
   "outputs": [],
   "source": [
    "resultDf.to_csv(\"./result.csv\",index=False,encoding=\"ms949\")\n",
    "# resultDf를 csv에게 전달하겠다. result.csv라는 파일 이름으로. encoding은 ms949로 현재 폴더에 저장이 된다. "
   ]
  },
  {
   "cell_type": "code",
   "execution_count": null,
   "id": "4ff19630-2ab6-437d-ad44-749b6deae3fa",
   "metadata": {},
   "outputs": [],
   "source": [
    "# column단위로 수집하는 것의 단점은 zip할 때 각각 가진 속성값이 달라 잘못된 데이터가 수집될 수 있다.\n",
    "# row단위로 수집을 하게 되면 try, except로 잘못된 데이터를 날릴 수 있기 때문에 권장한다. "
   ]
  }
 ],
 "metadata": {
  "kernelspec": {
   "display_name": "Python 3 (ipykernel)",
   "language": "python",
   "name": "python3"
  },
  "language_info": {
   "codemirror_mode": {
    "name": "ipython",
    "version": 3
   },
   "file_extension": ".py",
   "mimetype": "text/x-python",
   "name": "python",
   "nbconvert_exporter": "python",
   "pygments_lexer": "ipython3",
   "version": "3.9.13"
  }
 },
 "nbformat": 4,
 "nbformat_minor": 5
}
