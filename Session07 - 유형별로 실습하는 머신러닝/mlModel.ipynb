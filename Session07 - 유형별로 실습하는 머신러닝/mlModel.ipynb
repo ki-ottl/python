{
 "cells": [
  {
   "cell_type": "markdown",
   "id": "86a9ba47-c0b7-430d-a515-db6ace6f84ce",
   "metadata": {},
   "source": [
    "# 라이브러리 선언 및 데이터 불러오기"
   ]
  },
  {
   "cell_type": "code",
   "execution_count": 1,
   "id": "2da4116b-bb42-42e5-9050-ebb1b5a2659c",
   "metadata": {},
   "outputs": [],
   "source": [
    "# 데이터 처리 라이브러리\n",
    "import pandas as pd\n",
    "import numpy as np\n",
    "\n",
    "# 머신러닝 라이브러리\n",
    "from sklearn import tree\n",
    "from sklearn import ensemble"
   ]
  },
  {
   "cell_type": "code",
   "execution_count": 2,
   "id": "323544ea-6772-4405-a264-ae98863d6208",
   "metadata": {},
   "outputs": [],
   "source": [
    "featuresData = pd.read_csv(\"../dataset/feature_regression_example.csv\")"
   ]
  },
  {
   "cell_type": "markdown",
   "id": "e28ddf67-2de6-4baa-b4ce-96388073cb41",
   "metadata": {},
   "source": [
    "# A. 데이터 전처리"
   ]
  },
  {
   "cell_type": "markdown",
   "id": "61e8f4a9-47da-4b73-8fc2-331930569df1",
   "metadata": {},
   "source": [
    "### A-1. 타입 통합 / 특성 숫자컬럼 추가"
   ]
  },
  {
   "cell_type": "code",
   "execution_count": 3,
   "id": "fd9ff021-f39d-4188-9c79-ed87fa097500",
   "metadata": {},
   "outputs": [
    {
     "data": {
      "text/html": [
       "<div>\n",
       "<style scoped>\n",
       "    .dataframe tbody tr th:only-of-type {\n",
       "        vertical-align: middle;\n",
       "    }\n",
       "\n",
       "    .dataframe tbody tr th {\n",
       "        vertical-align: top;\n",
       "    }\n",
       "\n",
       "    .dataframe thead th {\n",
       "        text-align: right;\n",
       "    }\n",
       "</style>\n",
       "<table border=\"1\" class=\"dataframe\">\n",
       "  <thead>\n",
       "    <tr style=\"text-align: right;\">\n",
       "      <th></th>\n",
       "      <th>REGIONID</th>\n",
       "      <th>PRODUCTGROUP</th>\n",
       "      <th>PRODUCT</th>\n",
       "      <th>ITEM</th>\n",
       "      <th>YEARWEEK</th>\n",
       "      <th>YEAR</th>\n",
       "      <th>WEEK</th>\n",
       "      <th>QTY</th>\n",
       "      <th>HOLIDAY</th>\n",
       "      <th>HCLUS</th>\n",
       "      <th>PROMOTION</th>\n",
       "      <th>PRO_PERCENT</th>\n",
       "    </tr>\n",
       "  </thead>\n",
       "  <tbody>\n",
       "    <tr>\n",
       "      <th>0</th>\n",
       "      <td>SEOUL_BANK_001</td>\n",
       "      <td>PG02</td>\n",
       "      <td>PRODUCT0010</td>\n",
       "      <td>ITEM0115</td>\n",
       "      <td>201501</td>\n",
       "      <td>2015</td>\n",
       "      <td>1</td>\n",
       "      <td>1225</td>\n",
       "      <td>Y</td>\n",
       "      <td>1</td>\n",
       "      <td>Y</td>\n",
       "      <td>0.209442</td>\n",
       "    </tr>\n",
       "    <tr>\n",
       "      <th>1</th>\n",
       "      <td>SEOUL_BANK_001</td>\n",
       "      <td>PG02</td>\n",
       "      <td>PRODUCT0010</td>\n",
       "      <td>ITEM0115</td>\n",
       "      <td>201502</td>\n",
       "      <td>2015</td>\n",
       "      <td>2</td>\n",
       "      <td>968</td>\n",
       "      <td>N</td>\n",
       "      <td>4</td>\n",
       "      <td>Y</td>\n",
       "      <td>0.209442</td>\n",
       "    </tr>\n",
       "    <tr>\n",
       "      <th>2</th>\n",
       "      <td>SEOUL_BANK_001</td>\n",
       "      <td>PG02</td>\n",
       "      <td>PRODUCT0010</td>\n",
       "      <td>ITEM0115</td>\n",
       "      <td>201503</td>\n",
       "      <td>2015</td>\n",
       "      <td>3</td>\n",
       "      <td>1209</td>\n",
       "      <td>N</td>\n",
       "      <td>4</td>\n",
       "      <td>Y</td>\n",
       "      <td>0.208155</td>\n",
       "    </tr>\n",
       "    <tr>\n",
       "      <th>3</th>\n",
       "      <td>SEOUL_BANK_001</td>\n",
       "      <td>PG02</td>\n",
       "      <td>PRODUCT0010</td>\n",
       "      <td>ITEM0115</td>\n",
       "      <td>201504</td>\n",
       "      <td>2015</td>\n",
       "      <td>4</td>\n",
       "      <td>1810</td>\n",
       "      <td>Y</td>\n",
       "      <td>2</td>\n",
       "      <td>Y</td>\n",
       "      <td>0.208155</td>\n",
       "    </tr>\n",
       "    <tr>\n",
       "      <th>4</th>\n",
       "      <td>SEOUL_BANK_001</td>\n",
       "      <td>PG02</td>\n",
       "      <td>PRODUCT0010</td>\n",
       "      <td>ITEM0115</td>\n",
       "      <td>201505</td>\n",
       "      <td>2015</td>\n",
       "      <td>5</td>\n",
       "      <td>1773</td>\n",
       "      <td>N</td>\n",
       "      <td>4</td>\n",
       "      <td>Y</td>\n",
       "      <td>0.208155</td>\n",
       "    </tr>\n",
       "  </tbody>\n",
       "</table>\n",
       "</div>"
      ],
      "text/plain": [
       "         REGIONID PRODUCTGROUP      PRODUCT      ITEM  YEARWEEK  YEAR  WEEK  \\\n",
       "0  SEOUL_BANK_001         PG02  PRODUCT0010  ITEM0115    201501  2015     1   \n",
       "1  SEOUL_BANK_001         PG02  PRODUCT0010  ITEM0115    201502  2015     2   \n",
       "2  SEOUL_BANK_001         PG02  PRODUCT0010  ITEM0115    201503  2015     3   \n",
       "3  SEOUL_BANK_001         PG02  PRODUCT0010  ITEM0115    201504  2015     4   \n",
       "4  SEOUL_BANK_001         PG02  PRODUCT0010  ITEM0115    201505  2015     5   \n",
       "\n",
       "    QTY HOLIDAY  HCLUS PROMOTION  PRO_PERCENT  \n",
       "0  1225       Y      1         Y     0.209442  \n",
       "1   968       N      4         Y     0.209442  \n",
       "2  1209       N      4         Y     0.208155  \n",
       "3  1810       Y      2         Y     0.208155  \n",
       "4  1773       N      4         Y     0.208155  "
      ]
     },
     "execution_count": 3,
     "metadata": {},
     "output_type": "execute_result"
    }
   ],
   "source": [
    "featuresData.head()"
   ]
  },
  {
   "cell_type": "code",
   "execution_count": 4,
   "id": "5297df85-c293-48f0-be35-b2b50b1ffdce",
   "metadata": {},
   "outputs": [
    {
     "data": {
      "text/plain": [
       "REGIONID         object\n",
       "PRODUCTGROUP     object\n",
       "PRODUCT          object\n",
       "ITEM             object\n",
       "YEARWEEK          int64\n",
       "YEAR              int64\n",
       "WEEK              int64\n",
       "QTY               int64\n",
       "HOLIDAY          object\n",
       "HCLUS             int64\n",
       "PROMOTION        object\n",
       "PRO_PERCENT     float64\n",
       "dtype: object"
      ]
     },
     "execution_count": 4,
     "metadata": {},
     "output_type": "execute_result"
    }
   ],
   "source": [
    "featuresData.dtypes"
   ]
  },
  {
   "cell_type": "code",
   "execution_count": 5,
   "id": "d47d2f35-133c-4aaa-b19a-5bf810a887d0",
   "metadata": {},
   "outputs": [],
   "source": [
    "# 데이터 타입 통합\n",
    "featuresData[\"REGIONID\"] = featuresData[\"REGIONID\"].astype(str)\n",
    "featuresData[\"PRODUCTGROUP\"] = featuresData[\"PRODUCTGROUP\"].astype(str)"
   ]
  },
  {
   "cell_type": "code",
   "execution_count": 6,
   "id": "2a76b159-fbc6-4e3f-af09-a5143441a6e3",
   "metadata": {},
   "outputs": [
    {
     "data": {
      "text/plain": [
       "REGIONID         object\n",
       "PRODUCTGROUP     object\n",
       "PRODUCT          object\n",
       "ITEM             object\n",
       "YEARWEEK          int64\n",
       "YEAR              int64\n",
       "WEEK              int64\n",
       "QTY               int64\n",
       "HOLIDAY          object\n",
       "HCLUS             int64\n",
       "PROMOTION        object\n",
       "PRO_PERCENT     float64\n",
       "dtype: object"
      ]
     },
     "execution_count": 6,
     "metadata": {},
     "output_type": "execute_result"
    }
   ],
   "source": [
    "featuresData.dtypes"
   ]
  },
  {
   "cell_type": "code",
   "execution_count": 7,
   "id": "5d095ec9-f8a8-414a-b550-30f3e93e7dfa",
   "metadata": {},
   "outputs": [],
   "source": [
    "# 특성값 숫자컬럼 변경 (상관관계 파악을 위해서 숫자로 변경)"
   ]
  },
  {
   "cell_type": "code",
   "execution_count": 8,
   "id": "2caeab8f-4c9f-4f88-9da7-4c6151700358",
   "metadata": {},
   "outputs": [],
   "source": [
    "featuresData[\"PROMOTION_LB\"] = np.where(featuresData.PROMOTION == \"Y\", 1, 0)"
   ]
  },
  {
   "cell_type": "code",
   "execution_count": 9,
   "id": "00377757-4fc1-4fab-9b1a-3af8ef327671",
   "metadata": {},
   "outputs": [
    {
     "data": {
      "text/html": [
       "<div>\n",
       "<style scoped>\n",
       "    .dataframe tbody tr th:only-of-type {\n",
       "        vertical-align: middle;\n",
       "    }\n",
       "\n",
       "    .dataframe tbody tr th {\n",
       "        vertical-align: top;\n",
       "    }\n",
       "\n",
       "    .dataframe thead th {\n",
       "        text-align: right;\n",
       "    }\n",
       "</style>\n",
       "<table border=\"1\" class=\"dataframe\">\n",
       "  <thead>\n",
       "    <tr style=\"text-align: right;\">\n",
       "      <th></th>\n",
       "      <th>REGIONID</th>\n",
       "      <th>PRODUCTGROUP</th>\n",
       "      <th>PRODUCT</th>\n",
       "      <th>ITEM</th>\n",
       "      <th>YEARWEEK</th>\n",
       "      <th>YEAR</th>\n",
       "      <th>WEEK</th>\n",
       "      <th>QTY</th>\n",
       "      <th>HOLIDAY</th>\n",
       "      <th>HCLUS</th>\n",
       "      <th>PROMOTION</th>\n",
       "      <th>PRO_PERCENT</th>\n",
       "      <th>PROMOTION_LB</th>\n",
       "    </tr>\n",
       "  </thead>\n",
       "  <tbody>\n",
       "  </tbody>\n",
       "</table>\n",
       "</div>"
      ],
      "text/plain": [
       "Empty DataFrame\n",
       "Columns: [REGIONID, PRODUCTGROUP, PRODUCT, ITEM, YEARWEEK, YEAR, WEEK, QTY, HOLIDAY, HCLUS, PROMOTION, PRO_PERCENT, PROMOTION_LB]\n",
       "Index: []"
      ]
     },
     "execution_count": 9,
     "metadata": {},
     "output_type": "execute_result"
    }
   ],
   "source": [
    "# 검증\n",
    "featuresData.loc [ (featuresData.PROMOTION_LB == 1 ) &\n",
    "                   (featuresData.PROMOTION!= \"Y\") ]"
   ]
  },
  {
   "cell_type": "code",
   "execution_count": 10,
   "id": "aa09e4b8-192a-4c47-a60b-6f2e2683ff73",
   "metadata": {},
   "outputs": [],
   "source": [
    "featuresData[\"HOLIDAY_LB\"] = np.where(featuresData.HOLIDAY == \"Y\", 1, 0)"
   ]
  },
  {
   "cell_type": "code",
   "execution_count": 11,
   "id": "a23b222e-5c2a-49c1-b479-db8d0c1a6f47",
   "metadata": {},
   "outputs": [
    {
     "data": {
      "text/html": [
       "<div>\n",
       "<style scoped>\n",
       "    .dataframe tbody tr th:only-of-type {\n",
       "        vertical-align: middle;\n",
       "    }\n",
       "\n",
       "    .dataframe tbody tr th {\n",
       "        vertical-align: top;\n",
       "    }\n",
       "\n",
       "    .dataframe thead th {\n",
       "        text-align: right;\n",
       "    }\n",
       "</style>\n",
       "<table border=\"1\" class=\"dataframe\">\n",
       "  <thead>\n",
       "    <tr style=\"text-align: right;\">\n",
       "      <th></th>\n",
       "      <th>REGIONID</th>\n",
       "      <th>PRODUCTGROUP</th>\n",
       "      <th>PRODUCT</th>\n",
       "      <th>ITEM</th>\n",
       "      <th>YEARWEEK</th>\n",
       "      <th>YEAR</th>\n",
       "      <th>WEEK</th>\n",
       "      <th>QTY</th>\n",
       "      <th>HOLIDAY</th>\n",
       "      <th>HCLUS</th>\n",
       "      <th>PROMOTION</th>\n",
       "      <th>PRO_PERCENT</th>\n",
       "      <th>PROMOTION_LB</th>\n",
       "      <th>HOLIDAY_LB</th>\n",
       "    </tr>\n",
       "  </thead>\n",
       "  <tbody>\n",
       "  </tbody>\n",
       "</table>\n",
       "</div>"
      ],
      "text/plain": [
       "Empty DataFrame\n",
       "Columns: [REGIONID, PRODUCTGROUP, PRODUCT, ITEM, YEARWEEK, YEAR, WEEK, QTY, HOLIDAY, HCLUS, PROMOTION, PRO_PERCENT, PROMOTION_LB, HOLIDAY_LB]\n",
       "Index: []"
      ]
     },
     "execution_count": 11,
     "metadata": {},
     "output_type": "execute_result"
    }
   ],
   "source": [
    "# 검증\n",
    "featuresData.loc [ (featuresData.HOLIDAY_LB == 1 ) &\n",
    "                   (featuresData.HOLIDAY!= \"Y\") ]"
   ]
  },
  {
   "cell_type": "code",
   "execution_count": 12,
   "id": "de39bd38-919e-46e7-9b0c-3b41e11a8a2c",
   "metadata": {},
   "outputs": [
    {
     "data": {
      "text/plain": [
       "Index(['REGIONID', 'PRODUCTGROUP', 'PRODUCT', 'ITEM', 'YEARWEEK', 'YEAR',\n",
       "       'WEEK', 'QTY', 'HOLIDAY', 'HCLUS', 'PROMOTION', 'PRO_PERCENT',\n",
       "       'PROMOTION_LB', 'HOLIDAY_LB'],\n",
       "      dtype='object')"
      ]
     },
     "execution_count": 12,
     "metadata": {},
     "output_type": "execute_result"
    }
   ],
   "source": [
    "featuresData.columns"
   ]
  },
  {
   "cell_type": "markdown",
   "id": "8b11b3ac-9761-4e28-9cc0-1ab5bbb89a6d",
   "metadata": {},
   "source": [
    "# A-2 특성 선정 / 데이터 분리"
   ]
  },
  {
   "cell_type": "code",
   "execution_count": 13,
   "id": "cc6c0936-7ec1-40a3-bad8-11850490d610",
   "metadata": {},
   "outputs": [
    {
     "data": {
      "text/html": [
       "<div>\n",
       "<style scoped>\n",
       "    .dataframe tbody tr th:only-of-type {\n",
       "        vertical-align: middle;\n",
       "    }\n",
       "\n",
       "    .dataframe tbody tr th {\n",
       "        vertical-align: top;\n",
       "    }\n",
       "\n",
       "    .dataframe thead th {\n",
       "        text-align: right;\n",
       "    }\n",
       "</style>\n",
       "<table border=\"1\" class=\"dataframe\">\n",
       "  <thead>\n",
       "    <tr style=\"text-align: right;\">\n",
       "      <th></th>\n",
       "      <th>YEARWEEK</th>\n",
       "      <th>YEAR</th>\n",
       "      <th>WEEK</th>\n",
       "      <th>QTY</th>\n",
       "      <th>HCLUS</th>\n",
       "      <th>PRO_PERCENT</th>\n",
       "      <th>PROMOTION_LB</th>\n",
       "      <th>HOLIDAY_LB</th>\n",
       "    </tr>\n",
       "  </thead>\n",
       "  <tbody>\n",
       "    <tr>\n",
       "      <th>YEARWEEK</th>\n",
       "      <td>1.000000</td>\n",
       "      <td>0.956598</td>\n",
       "      <td>0.275593</td>\n",
       "      <td>0.112267</td>\n",
       "      <td>-0.071586</td>\n",
       "      <td>0.404889</td>\n",
       "      <td>0.205916</td>\n",
       "      <td>0.049867</td>\n",
       "    </tr>\n",
       "    <tr>\n",
       "      <th>YEAR</th>\n",
       "      <td>0.956598</td>\n",
       "      <td>1.000000</td>\n",
       "      <td>-0.016493</td>\n",
       "      <td>0.028931</td>\n",
       "      <td>0.028593</td>\n",
       "      <td>0.321193</td>\n",
       "      <td>0.195931</td>\n",
       "      <td>-0.031106</td>\n",
       "    </tr>\n",
       "    <tr>\n",
       "      <th>WEEK</th>\n",
       "      <td>0.275593</td>\n",
       "      <td>-0.016493</td>\n",
       "      <td>1.000000</td>\n",
       "      <td>0.289766</td>\n",
       "      <td>-0.339943</td>\n",
       "      <td>0.329705</td>\n",
       "      <td>0.060206</td>\n",
       "      <td>0.273710</td>\n",
       "    </tr>\n",
       "    <tr>\n",
       "      <th>QTY</th>\n",
       "      <td>0.112267</td>\n",
       "      <td>0.028931</td>\n",
       "      <td>0.289766</td>\n",
       "      <td>1.000000</td>\n",
       "      <td>-0.537230</td>\n",
       "      <td>0.700195</td>\n",
       "      <td>0.612451</td>\n",
       "      <td>0.505932</td>\n",
       "    </tr>\n",
       "    <tr>\n",
       "      <th>HCLUS</th>\n",
       "      <td>-0.071586</td>\n",
       "      <td>0.028593</td>\n",
       "      <td>-0.339943</td>\n",
       "      <td>-0.537230</td>\n",
       "      <td>1.000000</td>\n",
       "      <td>-0.545619</td>\n",
       "      <td>-0.374072</td>\n",
       "      <td>-0.974601</td>\n",
       "    </tr>\n",
       "    <tr>\n",
       "      <th>PRO_PERCENT</th>\n",
       "      <td>0.404889</td>\n",
       "      <td>0.321193</td>\n",
       "      <td>0.329705</td>\n",
       "      <td>0.700195</td>\n",
       "      <td>-0.545619</td>\n",
       "      <td>1.000000</td>\n",
       "      <td>0.898554</td>\n",
       "      <td>0.487062</td>\n",
       "    </tr>\n",
       "    <tr>\n",
       "      <th>PROMOTION_LB</th>\n",
       "      <td>0.205916</td>\n",
       "      <td>0.195931</td>\n",
       "      <td>0.060206</td>\n",
       "      <td>0.612451</td>\n",
       "      <td>-0.374072</td>\n",
       "      <td>0.898554</td>\n",
       "      <td>1.000000</td>\n",
       "      <td>0.365148</td>\n",
       "    </tr>\n",
       "    <tr>\n",
       "      <th>HOLIDAY_LB</th>\n",
       "      <td>0.049867</td>\n",
       "      <td>-0.031106</td>\n",
       "      <td>0.273710</td>\n",
       "      <td>0.505932</td>\n",
       "      <td>-0.974601</td>\n",
       "      <td>0.487062</td>\n",
       "      <td>0.365148</td>\n",
       "      <td>1.000000</td>\n",
       "    </tr>\n",
       "  </tbody>\n",
       "</table>\n",
       "</div>"
      ],
      "text/plain": [
       "              YEARWEEK      YEAR      WEEK       QTY     HCLUS  PRO_PERCENT  \\\n",
       "YEARWEEK      1.000000  0.956598  0.275593  0.112267 -0.071586     0.404889   \n",
       "YEAR          0.956598  1.000000 -0.016493  0.028931  0.028593     0.321193   \n",
       "WEEK          0.275593 -0.016493  1.000000  0.289766 -0.339943     0.329705   \n",
       "QTY           0.112267  0.028931  0.289766  1.000000 -0.537230     0.700195   \n",
       "HCLUS        -0.071586  0.028593 -0.339943 -0.537230  1.000000    -0.545619   \n",
       "PRO_PERCENT   0.404889  0.321193  0.329705  0.700195 -0.545619     1.000000   \n",
       "PROMOTION_LB  0.205916  0.195931  0.060206  0.612451 -0.374072     0.898554   \n",
       "HOLIDAY_LB    0.049867 -0.031106  0.273710  0.505932 -0.974601     0.487062   \n",
       "\n",
       "              PROMOTION_LB  HOLIDAY_LB  \n",
       "YEARWEEK          0.205916    0.049867  \n",
       "YEAR              0.195931   -0.031106  \n",
       "WEEK              0.060206    0.273710  \n",
       "QTY               0.612451    0.505932  \n",
       "HCLUS            -0.374072   -0.974601  \n",
       "PRO_PERCENT       0.898554    0.487062  \n",
       "PROMOTION_LB      1.000000    0.365148  \n",
       "HOLIDAY_LB        0.365148    1.000000  "
      ]
     },
     "execution_count": 13,
     "metadata": {},
     "output_type": "execute_result"
    }
   ],
   "source": [
    "featuresData.corr()"
   ]
  },
  {
   "cell_type": "code",
   "execution_count": 14,
   "id": "16483cd9-dbfc-4f6c-99fb-eed3d4829ced",
   "metadata": {},
   "outputs": [],
   "source": [
    "# 특성 선정\n",
    "corrDf = featuresData.corr()\n",
    "stdCorr = 0.5"
   ]
  },
  {
   "cell_type": "code",
   "execution_count": 15,
   "id": "c4eceae9-05cf-4d61-8f3d-60db14d464de",
   "metadata": {},
   "outputs": [
    {
     "data": {
      "text/html": [
       "<div>\n",
       "<style scoped>\n",
       "    .dataframe tbody tr th:only-of-type {\n",
       "        vertical-align: middle;\n",
       "    }\n",
       "\n",
       "    .dataframe tbody tr th {\n",
       "        vertical-align: top;\n",
       "    }\n",
       "\n",
       "    .dataframe thead th {\n",
       "        text-align: right;\n",
       "    }\n",
       "</style>\n",
       "<table border=\"1\" class=\"dataframe\">\n",
       "  <thead>\n",
       "    <tr style=\"text-align: right;\">\n",
       "      <th></th>\n",
       "      <th>YEARWEEK</th>\n",
       "      <th>YEAR</th>\n",
       "      <th>WEEK</th>\n",
       "      <th>QTY</th>\n",
       "      <th>HCLUS</th>\n",
       "      <th>PRO_PERCENT</th>\n",
       "      <th>PROMOTION_LB</th>\n",
       "      <th>HOLIDAY_LB</th>\n",
       "    </tr>\n",
       "  </thead>\n",
       "  <tbody>\n",
       "    <tr>\n",
       "      <th>HCLUS</th>\n",
       "      <td>-0.071586</td>\n",
       "      <td>0.028593</td>\n",
       "      <td>-0.339943</td>\n",
       "      <td>-0.537230</td>\n",
       "      <td>1.000000</td>\n",
       "      <td>-0.545619</td>\n",
       "      <td>-0.374072</td>\n",
       "      <td>-0.974601</td>\n",
       "    </tr>\n",
       "    <tr>\n",
       "      <th>PRO_PERCENT</th>\n",
       "      <td>0.404889</td>\n",
       "      <td>0.321193</td>\n",
       "      <td>0.329705</td>\n",
       "      <td>0.700195</td>\n",
       "      <td>-0.545619</td>\n",
       "      <td>1.000000</td>\n",
       "      <td>0.898554</td>\n",
       "      <td>0.487062</td>\n",
       "    </tr>\n",
       "    <tr>\n",
       "      <th>PROMOTION_LB</th>\n",
       "      <td>0.205916</td>\n",
       "      <td>0.195931</td>\n",
       "      <td>0.060206</td>\n",
       "      <td>0.612451</td>\n",
       "      <td>-0.374072</td>\n",
       "      <td>0.898554</td>\n",
       "      <td>1.000000</td>\n",
       "      <td>0.365148</td>\n",
       "    </tr>\n",
       "    <tr>\n",
       "      <th>HOLIDAY_LB</th>\n",
       "      <td>0.049867</td>\n",
       "      <td>-0.031106</td>\n",
       "      <td>0.273710</td>\n",
       "      <td>0.505932</td>\n",
       "      <td>-0.974601</td>\n",
       "      <td>0.487062</td>\n",
       "      <td>0.365148</td>\n",
       "      <td>1.000000</td>\n",
       "    </tr>\n",
       "  </tbody>\n",
       "</table>\n",
       "</div>"
      ],
      "text/plain": [
       "              YEARWEEK      YEAR      WEEK       QTY     HCLUS  PRO_PERCENT  \\\n",
       "HCLUS        -0.071586  0.028593 -0.339943 -0.537230  1.000000    -0.545619   \n",
       "PRO_PERCENT   0.404889  0.321193  0.329705  0.700195 -0.545619     1.000000   \n",
       "PROMOTION_LB  0.205916  0.195931  0.060206  0.612451 -0.374072     0.898554   \n",
       "HOLIDAY_LB    0.049867 -0.031106  0.273710  0.505932 -0.974601     0.487062   \n",
       "\n",
       "              PROMOTION_LB  HOLIDAY_LB  \n",
       "HCLUS            -0.374072   -0.974601  \n",
       "PRO_PERCENT       0.898554    0.487062  \n",
       "PROMOTION_LB      1.000000    0.365148  \n",
       "HOLIDAY_LB        0.365148    1.000000  "
      ]
     },
     "execution_count": 15,
     "metadata": {},
     "output_type": "execute_result"
    }
   ],
   "source": [
    "corrDf.loc [ ( abs(corrDf.QTY) >= stdCorr) & (corrDf.QTY != 1) ]"
   ]
  },
  {
   "cell_type": "code",
   "execution_count": 16,
   "id": "8ef53b31-f7ed-404f-942b-03d31492fc48",
   "metadata": {},
   "outputs": [
    {
     "data": {
      "text/plain": [
       "['HCLUS', 'PRO_PERCENT', 'PROMOTION_LB', 'HOLIDAY_LB']"
      ]
     },
     "execution_count": 16,
     "metadata": {},
     "output_type": "execute_result"
    }
   ],
   "source": [
    "# 문제 대상 컬럼\n",
    "features = list (corrDf.loc [ ( abs(corrDf.QTY) >= stdCorr) & (corrDf.QTY != 1) ].index )\n",
    "features"
   ]
  },
  {
   "cell_type": "code",
   "execution_count": 17,
   "id": "cf5e8959-677a-45fc-8d9c-06e1f8dcbfb5",
   "metadata": {},
   "outputs": [],
   "source": [
    "# 라벨 세팅\n",
    "label = [\"QTY\"]"
   ]
  },
  {
   "cell_type": "code",
   "execution_count": 18,
   "id": "5c766401-68de-4830-b9cf-8c306555f2c2",
   "metadata": {},
   "outputs": [
    {
     "data": {
      "text/plain": [
       "73"
      ]
     },
     "execution_count": 18,
     "metadata": {},
     "output_type": "execute_result"
    }
   ],
   "source": [
    "# 데이터 분리\n",
    "\n",
    "stdRatio = 0.7\n",
    "stdIndex = int( featuresData.shape[0] * stdRatio )\n",
    "stdIndex # 73 이전은 훈련 데이터, 이후는 테스트 데이터로 분리"
   ]
  },
  {
   "cell_type": "code",
   "execution_count": 19,
   "id": "576a52b0-c59c-4e19-a39e-4bfc2a4e1958",
   "metadata": {},
   "outputs": [
    {
     "data": {
      "text/plain": [
       "201621"
      ]
     },
     "execution_count": 19,
     "metadata": {},
     "output_type": "execute_result"
    }
   ],
   "source": [
    "featuresData.loc[stdIndex].YEARWEEK # 이전은 훈련 데이터, 이후는 테스트 데이터"
   ]
  },
  {
   "cell_type": "code",
   "execution_count": 20,
   "id": "44294e1d-89bb-4fb0-9ea0-a6cb869d7caa",
   "metadata": {},
   "outputs": [],
   "source": [
    "trainingData = featuresData.loc[ 0:stdIndex, : ]\n",
    "testData = featuresData.loc [ stdIndex+1: , : ]"
   ]
  },
  {
   "cell_type": "code",
   "execution_count": 21,
   "id": "99fbf1c7-0e37-435a-bf6c-10bffd097fcb",
   "metadata": {},
   "outputs": [
    {
     "name": "stdout",
     "output_type": "stream",
     "text": [
      "(74, 14)\n",
      "(31, 14)\n"
     ]
    }
   ],
   "source": [
    "print (trainingData.shape)\n",
    "print (testData.shape)"
   ]
  },
  {
   "cell_type": "code",
   "execution_count": 22,
   "id": "9859b308-78a4-4005-9b0c-f31bc31c78d8",
   "metadata": {},
   "outputs": [],
   "source": [
    "trainingDataFeatures = featuresData.loc[ 0:stdIndex, features]\n",
    "trainingDataLabel = featuresData.loc[ 0:stdIndex, label]\n",
    "testDataFeatures = featuresData.loc [ stdIndex+1: , features ]\n",
    "testDataLabel = featuresData.loc [ stdIndex+1: , label ]"
   ]
  },
  {
   "cell_type": "code",
   "execution_count": 23,
   "id": "4fd847a0-c57d-4016-877f-0178cc1cd2d2",
   "metadata": {},
   "outputs": [
    {
     "name": "stdout",
     "output_type": "stream",
     "text": [
      "(74, 4)\n",
      "(74, 1)\n",
      "(31, 4)\n",
      "(31, 1)\n"
     ]
    }
   ],
   "source": [
    "print (trainingDataFeatures.shape) # 문제지\n",
    "print (trainingDataLabel.shape) # 정답지\n",
    "print (testDataFeatures.shape) # 문제지\n",
    "print (testDataLabel.shape) # 정답지"
   ]
  },
  {
   "cell_type": "markdown",
   "id": "adb5e7de-33d7-4860-a0f1-1a1b6861cd8d",
   "metadata": {},
   "source": [
    "# B. 모델 적용"
   ]
  },
  {
   "cell_type": "markdown",
   "id": "7be5f644-5f28-4289-822f-f9115317ff4e",
   "metadata": {},
   "source": [
    "## B-3. 모델적용"
   ]
  },
  {
   "cell_type": "code",
   "execution_count": 24,
   "id": "4f020548-dd1a-4509-b473-63dc903b6c0b",
   "metadata": {},
   "outputs": [],
   "source": [
    "from sklearn import tree"
   ]
  },
  {
   "cell_type": "code",
   "execution_count": 25,
   "id": "c7c6f2e7-9f07-456c-85a2-cd154c43a965",
   "metadata": {},
   "outputs": [],
   "source": [
    "dtModel = tree.DecisionTreeRegressor(random_state=10)"
   ]
  },
  {
   "cell_type": "code",
   "execution_count": 26,
   "id": "8318518e-b9e1-4792-b284-2716f84f5894",
   "metadata": {},
   "outputs": [
    {
     "data": {
      "text/plain": [
       "DecisionTreeRegressor(random_state=10)"
      ]
     },
     "execution_count": 26,
     "metadata": {},
     "output_type": "execute_result"
    }
   ],
   "source": [
    "# 훈련된 결과를 dtModel 안에 저장\n",
    "dtModel.fit(X=trainingDataFeatures, # 문제지\n",
    "            y=trainingDataLabel) # 정답지"
   ]
  },
  {
   "cell_type": "markdown",
   "id": "5e6727d1-f4bf-4ede-bccf-a88ace4855a0",
   "metadata": {
    "tags": []
   },
   "source": [
    "# C. 예측/검증"
   ]
  },
  {
   "cell_type": "markdown",
   "id": "de14d1d9-1dfd-4f45-aa66-830dc94ac56a",
   "metadata": {},
   "source": [
    "## C-4. 예측"
   ]
  },
  {
   "cell_type": "code",
   "execution_count": 27,
   "id": "d5fdff42-3676-45e4-99be-aff91c87eddc",
   "metadata": {},
   "outputs": [],
   "source": [
    "predictValue = dtModel.predict( X = testDataFeatures )  "
   ]
  },
  {
   "cell_type": "code",
   "execution_count": 28,
   "id": "156a8232-7f50-415a-bdef-1125cfb70bd8",
   "metadata": {},
   "outputs": [
    {
     "data": {
      "text/plain": [
       "31"
      ]
     },
     "execution_count": 28,
     "metadata": {},
     "output_type": "execute_result"
    }
   ],
   "source": [
    "len(predictValue)"
   ]
  },
  {
   "cell_type": "markdown",
   "id": "535d84b6-06c7-4e4c-8780-27fbae29bb1a",
   "metadata": {},
   "source": [
    "## C-5. 데이터 정리"
   ]
  },
  {
   "cell_type": "code",
   "execution_count": 29,
   "id": "cbe7d8c2-286c-4359-8e6f-48c9f3d47add",
   "metadata": {},
   "outputs": [],
   "source": [
    "testDataLabel[\"PREDICT_DT\"] = predictValue"
   ]
  },
  {
   "cell_type": "code",
   "execution_count": 30,
   "id": "9b6baf4a-dc07-405b-af00-d6829278f23e",
   "metadata": {},
   "outputs": [
    {
     "data": {
      "text/html": [
       "<div>\n",
       "<style scoped>\n",
       "    .dataframe tbody tr th:only-of-type {\n",
       "        vertical-align: middle;\n",
       "    }\n",
       "\n",
       "    .dataframe tbody tr th {\n",
       "        vertical-align: top;\n",
       "    }\n",
       "\n",
       "    .dataframe thead th {\n",
       "        text-align: right;\n",
       "    }\n",
       "</style>\n",
       "<table border=\"1\" class=\"dataframe\">\n",
       "  <thead>\n",
       "    <tr style=\"text-align: right;\">\n",
       "      <th></th>\n",
       "      <th>QTY</th>\n",
       "      <th>PREDICT_DT</th>\n",
       "    </tr>\n",
       "  </thead>\n",
       "  <tbody>\n",
       "    <tr>\n",
       "      <th>74</th>\n",
       "      <td>2282</td>\n",
       "      <td>2676.833333</td>\n",
       "    </tr>\n",
       "    <tr>\n",
       "      <th>75</th>\n",
       "      <td>973</td>\n",
       "      <td>2676.833333</td>\n",
       "    </tr>\n",
       "    <tr>\n",
       "      <th>76</th>\n",
       "      <td>21</td>\n",
       "      <td>367.200000</td>\n",
       "    </tr>\n",
       "    <tr>\n",
       "      <th>77</th>\n",
       "      <td>968</td>\n",
       "      <td>2676.833333</td>\n",
       "    </tr>\n",
       "    <tr>\n",
       "      <th>78</th>\n",
       "      <td>1685</td>\n",
       "      <td>2676.833333</td>\n",
       "    </tr>\n",
       "  </tbody>\n",
       "</table>\n",
       "</div>"
      ],
      "text/plain": [
       "     QTY   PREDICT_DT\n",
       "74  2282  2676.833333\n",
       "75   973  2676.833333\n",
       "76    21   367.200000\n",
       "77   968  2676.833333\n",
       "78  1685  2676.833333"
      ]
     },
     "execution_count": 30,
     "metadata": {},
     "output_type": "execute_result"
    }
   ],
   "source": [
    "testDataLabel.head()"
   ]
  },
  {
   "cell_type": "markdown",
   "id": "43719d99-5c94-4981-ac85-b50b4e821c97",
   "metadata": {},
   "source": [
    "# 미래는 어떻게 예측할 것이냐"
   ]
  },
  {
   "cell_type": "code",
   "execution_count": 31,
   "id": "d12e6dd1-1b18-4b92-8460-2d9f23a093f5",
   "metadata": {},
   "outputs": [
    {
     "data": {
      "text/plain": [
       "['HCLUS', 'PRO_PERCENT', 'PROMOTION_LB', 'HOLIDAY_LB']"
      ]
     },
     "execution_count": 31,
     "metadata": {},
     "output_type": "execute_result"
    }
   ],
   "source": [
    "features"
   ]
  },
  {
   "cell_type": "code",
   "execution_count": 32,
   "id": "c7552b1a-fae7-4724-b131-8e978b4e6634",
   "metadata": {},
   "outputs": [],
   "source": [
    "inputHclus = 1 # 대휴일 : 1, 소휴일 : 4\n",
    "inputProPercent = 0.5 # 프로모션 비율\n",
    "inputPromotionLb = 1 # 프로모션 적용 Y\n",
    "inputHlb = 1 # 홀리데이 적용 Y"
   ]
  },
  {
   "cell_type": "code",
   "execution_count": 33,
   "id": "056aac68-0842-4f9e-abb7-5ad368f72700",
   "metadata": {},
   "outputs": [],
   "source": [
    "testData = pd.DataFrame([ [inputHclus,inputProPercent, inputPromotionLb, inputHlb] ])"
   ]
  },
  {
   "cell_type": "code",
   "execution_count": 34,
   "id": "4758616b-e7f7-46e3-a481-b8d3ba1fbecb",
   "metadata": {},
   "outputs": [
    {
     "name": "stderr",
     "output_type": "stream",
     "text": [
      "C:\\Users\\SMART20\\anaconda3\\lib\\site-packages\\sklearn\\base.py:450: UserWarning: X does not have valid feature names, but DecisionTreeRegressor was fitted with feature names\n",
      "  warnings.warn(\n"
     ]
    },
    {
     "data": {
      "text/plain": [
       "array([2193.8])"
      ]
     },
     "execution_count": 34,
     "metadata": {},
     "output_type": "execute_result"
    }
   ],
   "source": [
    "dtModel.predict(testData)"
   ]
  },
  {
   "cell_type": "code",
   "execution_count": 35,
   "id": "c49688c1-cdcc-46fd-ac6c-81da83f566e4",
   "metadata": {},
   "outputs": [],
   "source": [
    "inputHclus = 4 # 대휴일 : 1, 소휴일 : 4\n",
    "inputProPercent = 0 # 프로모션 비율\n",
    "inputPromotionLb = 0 # 프로모션 적용 N\n",
    "inputHlb = 0 # 홀리데이 적용 N"
   ]
  },
  {
   "cell_type": "code",
   "execution_count": 36,
   "id": "5cd42936-1b3f-4b85-bba3-16a2acf337b1",
   "metadata": {},
   "outputs": [],
   "source": [
    "testData2 = pd.DataFrame([ [inputHclus,inputProPercent, inputPromotionLb, inputHlb] ])"
   ]
  },
  {
   "cell_type": "code",
   "execution_count": 37,
   "id": "c6a9a06d-d689-456a-8a0b-4f014762065c",
   "metadata": {},
   "outputs": [
    {
     "name": "stderr",
     "output_type": "stream",
     "text": [
      "C:\\Users\\SMART20\\anaconda3\\lib\\site-packages\\sklearn\\base.py:450: UserWarning: X does not have valid feature names, but DecisionTreeRegressor was fitted with feature names\n",
      "  warnings.warn(\n"
     ]
    },
    {
     "data": {
      "text/plain": [
       "array([367.2])"
      ]
     },
     "execution_count": 37,
     "metadata": {},
     "output_type": "execute_result"
    }
   ],
   "source": [
    "dtModel.predict(testData2)"
   ]
  }
 ],
 "metadata": {
  "kernelspec": {
   "display_name": "Python 3 (ipykernel)",
   "language": "python",
   "name": "python3"
  },
  "language_info": {
   "codemirror_mode": {
    "name": "ipython",
    "version": 3
   },
   "file_extension": ".py",
   "mimetype": "text/x-python",
   "name": "python",
   "nbconvert_exporter": "python",
   "pygments_lexer": "ipython3",
   "version": "3.9.13"
  }
 },
 "nbformat": 4,
 "nbformat_minor": 5
}
