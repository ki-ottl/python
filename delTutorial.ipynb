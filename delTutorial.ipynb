{
 "cells": [
  {
   "cell_type": "markdown",
   "id": "0c576e7e-a964-4f40-9dea-3b02d48509c0",
   "metadata": {
    "tags": []
   },
   "source": [
    "# del 명령"
   ]
  },
  {
   "cell_type": "code",
   "execution_count": 1,
   "id": "d4adf9ea-33ff-4adc-b906-6d216917ef80",
   "metadata": {},
   "outputs": [],
   "source": [
    "# 문자열은 수정 자체가 불가능하므로 리스트와 관련이 있다."
   ]
  },
  {
   "cell_type": "code",
   "execution_count": 2,
   "id": "336d621d-1083-4b1b-86c2-32c75b0dc9e2",
   "metadata": {},
   "outputs": [
    {
     "data": {
      "text/plain": [
       "[]"
      ]
     },
     "execution_count": 2,
     "metadata": {},
     "output_type": "execute_result"
    }
   ],
   "source": [
    "st = [1, 2, 3, 4, 5]\n",
    "del st[:] # 리스트에 저장된 값 모두 삭제\n",
    "st"
   ]
  },
  {
   "cell_type": "code",
   "execution_count": 3,
   "id": "5aefab36-5785-4011-ae0d-dad2c598ad4d",
   "metadata": {
    "jupyter": {
     "source_hidden": true
    },
    "tags": []
   },
   "outputs": [
    {
     "data": {
      "text/plain": [
       "[2, 3]"
      ]
     },
     "execution_count": 3,
     "metadata": {},
     "output_type": "execute_result"
    }
   ],
   "source": [
    "st = [1, 2, 3, 4, 5]\n",
    "del st[3:] # st[3]부터 그 뒤까지 모두 삭제\n",
    "del st[0] # st[0] 하나만 삭제\n",
    "st"
   ]
  },
  {
   "cell_type": "code",
   "execution_count": 4,
   "id": "07086f54-e36f-45ef-891c-1d24ca726325",
   "metadata": {},
   "outputs": [],
   "source": [
    "# 리스트 안에 저장된 값 모두를 삭제할 경우 구분 주의  \n",
    "# del st[] != del st[:] : 값을 삭제하는 것! 구별을 잘 하자!"
   ]
  },
  {
   "cell_type": "code",
   "execution_count": 5,
   "id": "96911480-a3bc-43d8-bf2d-9b36e1b864b9",
   "metadata": {},
   "outputs": [
    {
     "ename": "NameError",
     "evalue": "name 'st' is not defined",
     "output_type": "error",
     "traceback": [
      "\u001b[1;31m---------------------------------------------------------------------------\u001b[0m",
      "\u001b[1;31mNameError\u001b[0m                                 Traceback (most recent call last)",
      "\u001b[1;32m~\\AppData\\Local\\Temp\\ipykernel_8596\\3745712897.py\u001b[0m in \u001b[0;36m<module>\u001b[1;34m\u001b[0m\n\u001b[0;32m      1\u001b[0m \u001b[0mst\u001b[0m \u001b[1;33m=\u001b[0m \u001b[1;33m[\u001b[0m\u001b[1;36m1\u001b[0m\u001b[1;33m,\u001b[0m \u001b[1;36m2\u001b[0m\u001b[1;33m,\u001b[0m \u001b[1;36m3\u001b[0m\u001b[1;33m,\u001b[0m \u001b[1;36m4\u001b[0m\u001b[1;33m,\u001b[0m \u001b[1;36m5\u001b[0m\u001b[1;33m]\u001b[0m\u001b[1;33m\u001b[0m\u001b[1;33m\u001b[0m\u001b[0m\n\u001b[0;32m      2\u001b[0m \u001b[1;32mdel\u001b[0m \u001b[0mst\u001b[0m     \u001b[1;31m# 리스트를 통째로 삭제! 리스트 자체를 삭제!\u001b[0m\u001b[1;33m\u001b[0m\u001b[1;33m\u001b[0m\u001b[0m\n\u001b[1;32m----> 3\u001b[1;33m \u001b[0mst\u001b[0m \u001b[1;31m# name 'st' is not defined\u001b[0m\u001b[1;33m\u001b[0m\u001b[1;33m\u001b[0m\u001b[0m\n\u001b[0m",
      "\u001b[1;31mNameError\u001b[0m: name 'st' is not defined"
     ]
    }
   ],
   "source": [
    "st = [1, 2, 3, 4, 5]\n",
    "del st     # 리스트를 통째로 삭제! 리스트 자체를 삭제!\n",
    "st # name 'st' is not defined"
   ]
  },
  {
   "cell_type": "code",
   "execution_count": 6,
   "id": "185be1b0-2e0a-42b4-aa59-81e19068b0d1",
   "metadata": {},
   "outputs": [
    {
     "data": {
      "text/plain": [
       "[]"
      ]
     },
     "execution_count": 6,
     "metadata": {},
     "output_type": "execute_result"
    }
   ],
   "source": [
    "st = [1, 2, 3, 4, 5]\n",
    "del st[:]\n",
    "st"
   ]
  }
 ],
 "metadata": {
  "kernelspec": {
   "display_name": "Python 3 (ipykernel)",
   "language": "python",
   "name": "python3"
  },
  "language_info": {
   "codemirror_mode": {
    "name": "ipython",
    "version": 3
   },
   "file_extension": ".py",
   "mimetype": "text/x-python",
   "name": "python",
   "nbconvert_exporter": "python",
   "pygments_lexer": "ipython3",
   "version": "3.9.13"
  }
 },
 "nbformat": 4,
 "nbformat_minor": 5
}
